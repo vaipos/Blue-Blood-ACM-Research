{
 "cells": [
  {
   "cell_type": "code",
   "execution_count": 1,
   "metadata": {},
   "outputs": [
    {
     "name": "stderr",
     "output_type": "stream",
     "text": [
      "/opt/anaconda3/envs/bb_dev/lib/python3.12/site-packages/pydantic/_internal/_fields.py:192: UserWarning: Field name \"json\" in \"MonitoringDatasetFormat\" shadows an attribute in parent \"Base\"\n",
      "  warnings.warn(\n"
     ]
    },
    {
     "data": {
      "text/html": [
       "<pre style=\"white-space:pre;overflow-x:auto;line-height:normal;font-family:Menlo,'DejaVu Sans Mono',consolas,'Courier New',monospace\"><span style=\"color: #7fbfbf; text-decoration-color: #7fbfbf\">[04/14/25 16:07:35] </span><span style=\"color: #0069ff; text-decoration-color: #0069ff; font-weight: bold\">INFO    </span> Found credentials in shared credentials file: ~<span style=\"color: #e100e1; text-decoration-color: #e100e1\">/.aws/credentials</span>   <a href=\"file:///opt/anaconda3/envs/bb_dev/lib/python3.12/site-packages/botocore/credentials.py\" target=\"_blank\"><span style=\"color: #7f7f7f; text-decoration-color: #7f7f7f\">credentials.py</span></a><span style=\"color: #7f7f7f; text-decoration-color: #7f7f7f\">:</span><a href=\"file:///opt/anaconda3/envs/bb_dev/lib/python3.12/site-packages/botocore/credentials.py#1278\" target=\"_blank\"><span style=\"color: #7f7f7f; text-decoration-color: #7f7f7f\">1278</span></a>\n",
       "</pre>\n"
      ],
      "text/plain": [
       "\u001b[2;36m[04/14/25 16:07:35]\u001b[0m\u001b[2;36m \u001b[0m\u001b[1;38;2;0;105;255mINFO    \u001b[0m Found credentials in shared credentials file: ~\u001b[38;2;225;0;225m/.aws/\u001b[0m\u001b[38;2;225;0;225mcredentials\u001b[0m   \u001b]8;id=502128;file:///opt/anaconda3/envs/bb_dev/lib/python3.12/site-packages/botocore/credentials.py\u001b\\\u001b[2mcredentials.py\u001b[0m\u001b]8;;\u001b\\\u001b[2m:\u001b[0m\u001b]8;id=73795;file:///opt/anaconda3/envs/bb_dev/lib/python3.12/site-packages/botocore/credentials.py#1278\u001b\\\u001b[2m1278\u001b[0m\u001b]8;;\u001b\\\n"
      ]
     },
     "metadata": {},
     "output_type": "display_data"
    },
    {
     "name": "stdout",
     "output_type": "stream",
     "text": [
      "sagemaker.config INFO - Not applying SDK defaults from location: /Library/Application Support/sagemaker/config.yaml\n",
      "sagemaker.config INFO - Not applying SDK defaults from location: /Users/ubaid/Library/Application Support/sagemaker/config.yaml\n"
     ]
    },
    {
     "data": {
      "text/html": [
       "<pre style=\"white-space:pre;overflow-x:auto;line-height:normal;font-family:Menlo,'DejaVu Sans Mono',consolas,'Courier New',monospace\"><span style=\"color: #7fbfbf; text-decoration-color: #7fbfbf\">[04/14/25 16:07:36] </span><span style=\"color: #0069ff; text-decoration-color: #0069ff; font-weight: bold\">INFO    </span> Found credentials in shared credentials file: ~<span style=\"color: #e100e1; text-decoration-color: #e100e1\">/.aws/credentials</span>   <a href=\"file:///opt/anaconda3/envs/bb_dev/lib/python3.12/site-packages/botocore/credentials.py\" target=\"_blank\"><span style=\"color: #7f7f7f; text-decoration-color: #7f7f7f\">credentials.py</span></a><span style=\"color: #7f7f7f; text-decoration-color: #7f7f7f\">:</span><a href=\"file:///opt/anaconda3/envs/bb_dev/lib/python3.12/site-packages/botocore/credentials.py#1278\" target=\"_blank\"><span style=\"color: #7f7f7f; text-decoration-color: #7f7f7f\">1278</span></a>\n",
       "</pre>\n"
      ],
      "text/plain": [
       "\u001b[2;36m[04/14/25 16:07:36]\u001b[0m\u001b[2;36m \u001b[0m\u001b[1;38;2;0;105;255mINFO    \u001b[0m Found credentials in shared credentials file: ~\u001b[38;2;225;0;225m/.aws/\u001b[0m\u001b[38;2;225;0;225mcredentials\u001b[0m   \u001b]8;id=935534;file:///opt/anaconda3/envs/bb_dev/lib/python3.12/site-packages/botocore/credentials.py\u001b\\\u001b[2mcredentials.py\u001b[0m\u001b]8;;\u001b\\\u001b[2m:\u001b[0m\u001b]8;id=907248;file:///opt/anaconda3/envs/bb_dev/lib/python3.12/site-packages/botocore/credentials.py#1278\u001b\\\u001b[2m1278\u001b[0m\u001b]8;;\u001b\\\n"
      ]
     },
     "metadata": {},
     "output_type": "display_data"
    },
    {
     "data": {
      "text/html": [
       "<pre style=\"white-space:pre;overflow-x:auto;line-height:normal;font-family:Menlo,'DejaVu Sans Mono',consolas,'Courier New',monospace\"><span style=\"color: #7fbfbf; text-decoration-color: #7fbfbf\">                    </span><span style=\"color: #0069ff; text-decoration-color: #0069ff; font-weight: bold\">INFO    </span> Found credentials in shared credentials file: ~<span style=\"color: #e100e1; text-decoration-color: #e100e1\">/.aws/credentials</span>   <a href=\"file:///opt/anaconda3/envs/bb_dev/lib/python3.12/site-packages/botocore/credentials.py\" target=\"_blank\"><span style=\"color: #7f7f7f; text-decoration-color: #7f7f7f\">credentials.py</span></a><span style=\"color: #7f7f7f; text-decoration-color: #7f7f7f\">:</span><a href=\"file:///opt/anaconda3/envs/bb_dev/lib/python3.12/site-packages/botocore/credentials.py#1278\" target=\"_blank\"><span style=\"color: #7f7f7f; text-decoration-color: #7f7f7f\">1278</span></a>\n",
       "</pre>\n"
      ],
      "text/plain": [
       "\u001b[2;36m                   \u001b[0m\u001b[2;36m \u001b[0m\u001b[1;38;2;0;105;255mINFO    \u001b[0m Found credentials in shared credentials file: ~\u001b[38;2;225;0;225m/.aws/\u001b[0m\u001b[38;2;225;0;225mcredentials\u001b[0m   \u001b]8;id=39995;file:///opt/anaconda3/envs/bb_dev/lib/python3.12/site-packages/botocore/credentials.py\u001b\\\u001b[2mcredentials.py\u001b[0m\u001b]8;;\u001b\\\u001b[2m:\u001b[0m\u001b]8;id=771594;file:///opt/anaconda3/envs/bb_dev/lib/python3.12/site-packages/botocore/credentials.py#1278\u001b\\\u001b[2m1278\u001b[0m\u001b]8;;\u001b\\\n"
      ]
     },
     "metadata": {},
     "output_type": "display_data"
    },
    {
     "name": "stdout",
     "output_type": "stream",
     "text": [
      "Attached AdministratorAccess policy to role: arn:aws:iam::211125439249:role/service-role/AmazonSageMaker-ExecutionRole-20250314T153928\n"
     ]
    }
   ],
   "source": [
    "from io import StringIO\n",
    "import sagemaker\n",
    "import boto3\n",
    "import pandas as pd\n",
    "import numpy as np\n",
    "import matplotlib.pyplot as plt\n",
    "from sagemaker.pytorch import PyTorch\n",
    "import os\n",
    "\n",
    "boto_session = boto3.Session(region_name='us-east-1')\n",
    "sagemaker_session = sagemaker.Session(boto_session=boto_session)\n",
    "\n",
    "role = \"arn:aws:iam::211125439249:role/service-role/AmazonSageMaker-ExecutionRole-20250314T153928\"\n",
    "role_name = role.split('/')[-1]  # Extract just the role name from the ARN\n",
    "\n",
    "# Attach AdministratorAccess policy to your existing role\n",
    "iam_client = boto3.client('iam')\n",
    "iam_client.attach_role_policy(\n",
    "    RoleName=role_name,\n",
    "    PolicyArn=\"arn:aws:iam::aws:policy/AdministratorAccess\"\n",
    ")\n",
    "print(f\"Attached AdministratorAccess policy to role: {role}\")\n",
    "\n",
    "input_data_s3_uri = \"s3://blue-blood-data/final_df.csv\"\n",
    "\n",
    "# Define your bucket name and file key (file path in S3)\n",
    "BUCKET_NAME = \"blue-blood-data\"\n",
    "FILE_KEY = \"synthetic_data.csv\"  # Change to your actual file path in S3\n",
    "\n",
    "# Create an S3 client\n",
    "s3 = boto3.client(\"s3\")\n",
    "\n",
    "# Fetch the file from S3\n",
    "response = s3.get_object(Bucket=BUCKET_NAME, Key=FILE_KEY)\n",
    "\n",
    "# Read the CSV file into a pandas DataFrame\n",
    "csv_content = response[\"Body\"].read().decode(\"utf-8\")\n",
    "df = pd.read_csv(StringIO(csv_content))"
   ]
  },
  {
   "cell_type": "code",
   "execution_count": 2,
   "metadata": {},
   "outputs": [
    {
     "data": {
      "text/html": [
       "<div>\n",
       "<style scoped>\n",
       "    .dataframe tbody tr th:only-of-type {\n",
       "        vertical-align: middle;\n",
       "    }\n",
       "\n",
       "    .dataframe tbody tr th {\n",
       "        vertical-align: top;\n",
       "    }\n",
       "\n",
       "    .dataframe thead th {\n",
       "        text-align: right;\n",
       "    }\n",
       "</style>\n",
       "<table border=\"1\" class=\"dataframe\">\n",
       "  <thead>\n",
       "    <tr style=\"text-align: right;\">\n",
       "      <th></th>\n",
       "      <th>prescription_dose_val_rx</th>\n",
       "      <th>prescription_dose_unit_rx</th>\n",
       "      <th>pre_ph</th>\n",
       "      <th>pre_pco2</th>\n",
       "      <th>pre_po2</th>\n",
       "      <th>pre_bicarbonate</th>\n",
       "      <th>pre_baseexcess</th>\n",
       "      <th>pre_totalco2</th>\n",
       "      <th>pre_hematocrit</th>\n",
       "      <th>pre_hemoglobin</th>\n",
       "      <th>...</th>\n",
       "      <th>P118</th>\n",
       "      <th>P119</th>\n",
       "      <th>P120</th>\n",
       "      <th>P121</th>\n",
       "      <th>P122</th>\n",
       "      <th>P123</th>\n",
       "      <th>P124</th>\n",
       "      <th>P125</th>\n",
       "      <th>P126</th>\n",
       "      <th>P127</th>\n",
       "    </tr>\n",
       "  </thead>\n",
       "  <tbody>\n",
       "    <tr>\n",
       "      <th>0</th>\n",
       "      <td>0.005328</td>\n",
       "      <td>4</td>\n",
       "      <td>0.640623</td>\n",
       "      <td>0.444230</td>\n",
       "      <td>0.142852</td>\n",
       "      <td>0.000036</td>\n",
       "      <td>0.454737</td>\n",
       "      <td>0.114972</td>\n",
       "      <td>-0.008645</td>\n",
       "      <td>-0.009179</td>\n",
       "      <td>...</td>\n",
       "      <td>-0.202378</td>\n",
       "      <td>0.511646</td>\n",
       "      <td>-0.493158</td>\n",
       "      <td>-0.770388</td>\n",
       "      <td>-0.135687</td>\n",
       "      <td>-0.533410</td>\n",
       "      <td>-0.800806</td>\n",
       "      <td>-2.897656</td>\n",
       "      <td>0.671631</td>\n",
       "      <td>-0.349779</td>\n",
       "    </tr>\n",
       "    <tr>\n",
       "      <th>1</th>\n",
       "      <td>0.005181</td>\n",
       "      <td>3</td>\n",
       "      <td>0.587083</td>\n",
       "      <td>0.219048</td>\n",
       "      <td>0.049375</td>\n",
       "      <td>0.002394</td>\n",
       "      <td>0.463701</td>\n",
       "      <td>0.391629</td>\n",
       "      <td>0.012237</td>\n",
       "      <td>-0.004657</td>\n",
       "      <td>...</td>\n",
       "      <td>-3.433339</td>\n",
       "      <td>-0.893766</td>\n",
       "      <td>1.843868</td>\n",
       "      <td>-0.289809</td>\n",
       "      <td>1.505239</td>\n",
       "      <td>-0.003083</td>\n",
       "      <td>-0.035700</td>\n",
       "      <td>-1.704398</td>\n",
       "      <td>1.108773</td>\n",
       "      <td>0.253392</td>\n",
       "    </tr>\n",
       "    <tr>\n",
       "      <th>2</th>\n",
       "      <td>0.003282</td>\n",
       "      <td>2</td>\n",
       "      <td>0.687024</td>\n",
       "      <td>0.392860</td>\n",
       "      <td>0.126544</td>\n",
       "      <td>0.000037</td>\n",
       "      <td>0.531376</td>\n",
       "      <td>0.110763</td>\n",
       "      <td>-0.002508</td>\n",
       "      <td>-0.000985</td>\n",
       "      <td>...</td>\n",
       "      <td>1.299199</td>\n",
       "      <td>-0.256489</td>\n",
       "      <td>1.052623</td>\n",
       "      <td>0.269009</td>\n",
       "      <td>-0.114862</td>\n",
       "      <td>-0.109867</td>\n",
       "      <td>-0.953661</td>\n",
       "      <td>1.074243</td>\n",
       "      <td>0.978760</td>\n",
       "      <td>-0.476479</td>\n",
       "    </tr>\n",
       "    <tr>\n",
       "      <th>3</th>\n",
       "      <td>-0.003511</td>\n",
       "      <td>10</td>\n",
       "      <td>0.615906</td>\n",
       "      <td>0.533115</td>\n",
       "      <td>0.151793</td>\n",
       "      <td>-0.001240</td>\n",
       "      <td>0.488810</td>\n",
       "      <td>0.516084</td>\n",
       "      <td>-0.004123</td>\n",
       "      <td>0.013007</td>\n",
       "      <td>...</td>\n",
       "      <td>-0.016925</td>\n",
       "      <td>-0.723175</td>\n",
       "      <td>-0.679679</td>\n",
       "      <td>0.046822</td>\n",
       "      <td>-0.200794</td>\n",
       "      <td>-0.258740</td>\n",
       "      <td>-2.700658</td>\n",
       "      <td>0.824595</td>\n",
       "      <td>0.128626</td>\n",
       "      <td>1.317439</td>\n",
       "    </tr>\n",
       "    <tr>\n",
       "      <th>4</th>\n",
       "      <td>0.008858</td>\n",
       "      <td>3</td>\n",
       "      <td>0.664016</td>\n",
       "      <td>0.140030</td>\n",
       "      <td>0.120467</td>\n",
       "      <td>0.003667</td>\n",
       "      <td>0.476179</td>\n",
       "      <td>0.204719</td>\n",
       "      <td>0.003625</td>\n",
       "      <td>0.006369</td>\n",
       "      <td>...</td>\n",
       "      <td>-0.956035</td>\n",
       "      <td>-1.675039</td>\n",
       "      <td>0.179920</td>\n",
       "      <td>-1.134438</td>\n",
       "      <td>0.575927</td>\n",
       "      <td>0.467633</td>\n",
       "      <td>-0.638170</td>\n",
       "      <td>-0.052155</td>\n",
       "      <td>0.880930</td>\n",
       "      <td>-0.600562</td>\n",
       "    </tr>\n",
       "  </tbody>\n",
       "</table>\n",
       "<p>5 rows × 180 columns</p>\n",
       "</div>"
      ],
      "text/plain": [
       "   prescription_dose_val_rx  prescription_dose_unit_rx    pre_ph  pre_pco2  \\\n",
       "0                  0.005328                          4  0.640623  0.444230   \n",
       "1                  0.005181                          3  0.587083  0.219048   \n",
       "2                  0.003282                          2  0.687024  0.392860   \n",
       "3                 -0.003511                         10  0.615906  0.533115   \n",
       "4                  0.008858                          3  0.664016  0.140030   \n",
       "\n",
       "    pre_po2  pre_bicarbonate  pre_baseexcess  pre_totalco2  pre_hematocrit  \\\n",
       "0  0.142852         0.000036        0.454737      0.114972       -0.008645   \n",
       "1  0.049375         0.002394        0.463701      0.391629        0.012237   \n",
       "2  0.126544         0.000037        0.531376      0.110763       -0.002508   \n",
       "3  0.151793        -0.001240        0.488810      0.516084       -0.004123   \n",
       "4  0.120467         0.003667        0.476179      0.204719        0.003625   \n",
       "\n",
       "   pre_hemoglobin  ...      P118      P119      P120      P121      P122  \\\n",
       "0       -0.009179  ... -0.202378  0.511646 -0.493158 -0.770388 -0.135687   \n",
       "1       -0.004657  ... -3.433339 -0.893766  1.843868 -0.289809  1.505239   \n",
       "2       -0.000985  ...  1.299199 -0.256489  1.052623  0.269009 -0.114862   \n",
       "3        0.013007  ... -0.016925 -0.723175 -0.679679  0.046822 -0.200794   \n",
       "4        0.006369  ... -0.956035 -1.675039  0.179920 -1.134438  0.575927   \n",
       "\n",
       "       P123      P124      P125      P126      P127  \n",
       "0 -0.533410 -0.800806 -2.897656  0.671631 -0.349779  \n",
       "1 -0.003083 -0.035700 -1.704398  1.108773  0.253392  \n",
       "2 -0.109867 -0.953661  1.074243  0.978760 -0.476479  \n",
       "3 -0.258740 -2.700658  0.824595  0.128626  1.317439  \n",
       "4  0.467633 -0.638170 -0.052155  0.880930 -0.600562  \n",
       "\n",
       "[5 rows x 180 columns]"
      ]
     },
     "execution_count": 2,
     "metadata": {},
     "output_type": "execute_result"
    }
   ],
   "source": [
    "df.head()"
   ]
  },
  {
   "cell_type": "code",
   "execution_count": 3,
   "metadata": {},
   "outputs": [],
   "source": [
    "def get_presc_cols(df):\n",
    "    presc_cols = []\n",
    "\n",
    "    for col in df.columns:\n",
    "        # check if column starts with 'P'\n",
    "        if col.startswith('P'):\n",
    "            presc_cols.append(col)\n",
    "\n",
    "    presc_cols.append('prescription_dose_val_rx')\n",
    "    presc_cols.append('prescription_dose_unit_rx')\n",
    "\n",
    "    return presc_cols\n",
    "\n"
   ]
  },
  {
   "cell_type": "code",
   "execution_count": 4,
   "metadata": {},
   "outputs": [],
   "source": [
    "# function that gets the prescription array with the proper format\n",
    "def get_presc_input(df):\n",
    "    presc_cols = get_presc_cols(df)\n",
    "    \n",
    "    prescriptions = []\n",
    "        \n",
    "    # Iterate through rows of the DataFrame\n",
    "    for _, row in df.iterrows():\n",
    "        # Extract values from each row\n",
    "        presc = np.array(row[presc_cols].values)\n",
    "        prescriptions.append(presc)\n",
    "    \n",
    "    prescriptions = np.array(prescriptions)\n",
    "    print(prescriptions.shape)\n",
    "\n",
    "    return prescriptions"
   ]
  },
  {
   "cell_type": "code",
   "execution_count": 5,
   "metadata": {},
   "outputs": [],
   "source": [
    "def add_padding(pre_treatment, post_treatment):\n",
    "    # Compute the number of zeros to pad (130 - current length)\n",
    "    pad_width = 130 - pre_treatment.shape[0]\n",
    "    padded_pre_treatment = np.pad(pre_treatment, (0, pad_width), mode='constant')\n",
    "    pad_width = 130 - post_treatment.shape[0]\n",
    "    padded_post_treatment = np.pad(post_treatment, (0, pad_width), mode='constant')\n",
    "    \n",
    "    return padded_pre_treatment, padded_post_treatment"
   ]
  },
  {
   "cell_type": "code",
   "execution_count": 6,
   "metadata": {},
   "outputs": [],
   "source": [
    "def prepare_training_data(df):\n",
    "    presc_cols = get_presc_cols(df)\n",
    "    X_train_list = []\n",
    "    y_train_list = []\n",
    "\n",
    "    # for each row in the df\n",
    "    for _, row in df.iterrows():\n",
    "        # Extract pre_treatment and post_treatment from the current row\n",
    "        pre_cols = [col for col in df.columns if col.startswith('pre_')]\n",
    "        post_cols = [col for col in df.columns if col.startswith('post_')]\n",
    "        \n",
    "        # Get values for the current row\n",
    "        pre_treatment = np.array(row[pre_cols].values)\n",
    "        post_treatment = np.array(row[post_cols].values)\n",
    "        \n",
    "        # Get prescription data for current row (assuming this is already defined elsewhere)\n",
    "        prescriptions = np.array(row[presc_cols].values)\n",
    "        \n",
    "        # Add padding to the inputs\n",
    "        padded_pre_treatment, padded_post_treatment = add_padding(pre_treatment, post_treatment)\n",
    "        \n",
    "        # Create the full sequence (1 patient, 3 time steps, 130 features)\n",
    "        X = np.array([[\n",
    "            padded_pre_treatment,     # Time Step 1: Pre-Treatment\n",
    "            prescriptions,            # Time Step 2: Prescription\n",
    "            padded_post_treatment     # Time Step 3: Post-Treatment\n",
    "        ]])\n",
    "        \n",
    "        y = X[:, -1, :]  # Target is the last time step (Post-Treatment)\n",
    "        \n",
    "        X_train_list.append(X[0])\n",
    "        y_train_list.append(y[0])\n",
    "    \n",
    "    return np.array(X_train_list), np.array(y_train_list)\n"
   ]
  },
  {
   "cell_type": "code",
   "execution_count": 7,
   "metadata": {},
   "outputs": [],
   "source": [
    "from scipy.stats import chi2_contingency\n",
    "from scipy.stats import skew, kurtosis\n",
    "\n",
    "# Function to calculate mean\n",
    "def calculate_mean(df1, df2):\n",
    "    return df1.mean(), df2.mean()\n",
    "\n",
    "# Function to calculate median\n",
    "def calculate_median(df1, df2):\n",
    "    return df1.median(), df2.median()\n",
    "\n",
    "# Function to calculate standard deviation\n",
    "def calculate_std(df1, df2):\n",
    "    return df1.std(), df2.std()\n",
    "\n",
    "# Function to calculate skewness\n",
    "def calculate_skewness(df1, df2):\n",
    "    return df1.apply(lambda x: skew(x, nan_policy='omit')), df2.apply(lambda x: skew(x, nan_policy='omit'))\n",
    "\n",
    "# Function to calculate kurtosis\n",
    "def calculate_kurtosis(df1, df2):\n",
    "    return df1.apply(lambda x: kurtosis(x, nan_policy='omit')), df2.apply(lambda x: kurtosis(x, nan_policy='omit'))\n",
    "\n",
    "# Function to calculate Chi-Square Test for categorical data\n",
    "def calculate_chi_square(df1, df2, cat_column1, cat_column2):\n",
    "    # Create contingency tables for both DataFrames\n",
    "    contingency_table1 = pd.crosstab(df1[cat_column1], df1[cat_column2])\n",
    "    contingency_table2 = pd.crosstab(df2[cat_column1], df2[cat_column2])\n",
    "    \n",
    "    # Perform Chi-Square test for both\n",
    "    chi2_stat1, p_value1, dof1, expected1 = chi2_contingency(contingency_table1)\n",
    "    chi2_stat2, p_value2, dof2, expected2 = chi2_contingency(contingency_table2)\n",
    "    \n",
    "    # Return the results\n",
    "    return {\n",
    "        \"Chi2 Statistic (df)\": chi2_stat1,\n",
    "        \"P-value (df)\": p_value1,\n",
    "        \"Degrees of Freedom (df)\": dof1,\n",
    "        \"Expected Frequencies (df)\": expected1,\n",
    "        \"Chi2 Statistic (new df)\": chi2_stat2,\n",
    "        \"P-value (new df)\": p_value2,\n",
    "        \"Degrees of Freedom (new df)\": dof2,\n",
    "        \"Expected Frequencies (new df)\": expected2\n",
    "    }"
   ]
  },
  {
   "cell_type": "code",
   "execution_count": 8,
   "metadata": {},
   "outputs": [],
   "source": [
    "from sklearn.model_selection import train_test_split\n",
    "from keras.callbacks import EarlyStopping\n",
    "\n",
    "# Update train_model function to use these new functions\n",
    "def train_model(df, model, epochs=10, job_name=None):\n",
    "    X, y = prepare_training_data(df)\n",
    "    X_train, X_val, y_train, y_val = train_test_split(X, y, test_size=0.2, random_state=42)\n",
    "\n",
    "    early_stop = EarlyStopping(\n",
    "        monitor='val_loss',\n",
    "        patience=10,\n",
    "        restore_best_weights=True\n",
    "    )\n",
    "\n",
    "    history = model.fit(\n",
    "        X_train, y_train, \n",
    "        epochs=epochs, \n",
    "        batch_size=1, \n",
    "        validation_data=(X_val, y_val),\n",
    "        callbacks=[early_stop],\n",
    "    )\n",
    "\n",
    "    y_pred = model.predict(X_val)\n",
    "    \n",
    "    print(f\"History: {history.history}\")\n",
    "    \n",
    "    return history.history\n"
   ]
  },
  {
   "cell_type": "code",
   "execution_count": 9,
   "metadata": {},
   "outputs": [
    {
     "name": "stderr",
     "output_type": "stream",
     "text": [
      "/opt/anaconda3/envs/bb_dev/lib/python3.12/site-packages/keras/src/layers/rnn/bidirectional.py:107: UserWarning: Do not pass an `input_shape`/`input_dim` argument to a layer. When using Sequential models, prefer using an `Input(shape)` object as the first layer in the model instead.\n",
      "  super().__init__(**kwargs)\n"
     ]
    },
    {
     "data": {
      "text/html": [
       "<pre style=\"white-space:pre;overflow-x:auto;line-height:normal;font-family:Menlo,'DejaVu Sans Mono',consolas,'Courier New',monospace\"><span style=\"font-weight: bold\">Model: \"sequential\"</span>\n",
       "</pre>\n"
      ],
      "text/plain": [
       "\u001b[1mModel: \"sequential\"\u001b[0m\n"
      ]
     },
     "metadata": {},
     "output_type": "display_data"
    },
    {
     "data": {
      "text/html": [
       "<pre style=\"white-space:pre;overflow-x:auto;line-height:normal;font-family:Menlo,'DejaVu Sans Mono',consolas,'Courier New',monospace\">┏━━━━━━━━━━━━━━━━━━━━━━━━━━━━━━━━━┳━━━━━━━━━━━━━━━━━━━━━━━━┳━━━━━━━━━━━━━━━┓\n",
       "┃<span style=\"font-weight: bold\"> Layer (type)                    </span>┃<span style=\"font-weight: bold\"> Output Shape           </span>┃<span style=\"font-weight: bold\">       Param # </span>┃\n",
       "┡━━━━━━━━━━━━━━━━━━━━━━━━━━━━━━━━━╇━━━━━━━━━━━━━━━━━━━━━━━━╇━━━━━━━━━━━━━━━┩\n",
       "│ bidirectional (<span style=\"color: #0087ff; text-decoration-color: #0087ff\">Bidirectional</span>)   │ (<span style=\"color: #00d7ff; text-decoration-color: #00d7ff\">None</span>, <span style=\"color: #00af00; text-decoration-color: #00af00\">3</span>, <span style=\"color: #00af00; text-decoration-color: #00af00\">128</span>)         │        <span style=\"color: #00af00; text-decoration-color: #00af00\">99,840</span> │\n",
       "├─────────────────────────────────┼────────────────────────┼───────────────┤\n",
       "│ dropout (<span style=\"color: #0087ff; text-decoration-color: #0087ff\">Dropout</span>)               │ (<span style=\"color: #00d7ff; text-decoration-color: #00d7ff\">None</span>, <span style=\"color: #00af00; text-decoration-color: #00af00\">3</span>, <span style=\"color: #00af00; text-decoration-color: #00af00\">128</span>)         │             <span style=\"color: #00af00; text-decoration-color: #00af00\">0</span> │\n",
       "├─────────────────────────────────┼────────────────────────┼───────────────┤\n",
       "│ lstm_1 (<span style=\"color: #0087ff; text-decoration-color: #0087ff\">LSTM</span>)                   │ (<span style=\"color: #00d7ff; text-decoration-color: #00d7ff\">None</span>, <span style=\"color: #00af00; text-decoration-color: #00af00\">32</span>)             │        <span style=\"color: #00af00; text-decoration-color: #00af00\">20,608</span> │\n",
       "├─────────────────────────────────┼────────────────────────┼───────────────┤\n",
       "│ dropout_1 (<span style=\"color: #0087ff; text-decoration-color: #0087ff\">Dropout</span>)             │ (<span style=\"color: #00d7ff; text-decoration-color: #00d7ff\">None</span>, <span style=\"color: #00af00; text-decoration-color: #00af00\">32</span>)             │             <span style=\"color: #00af00; text-decoration-color: #00af00\">0</span> │\n",
       "├─────────────────────────────────┼────────────────────────┼───────────────┤\n",
       "│ dense (<span style=\"color: #0087ff; text-decoration-color: #0087ff\">Dense</span>)                   │ (<span style=\"color: #00d7ff; text-decoration-color: #00d7ff\">None</span>, <span style=\"color: #00af00; text-decoration-color: #00af00\">32</span>)             │         <span style=\"color: #00af00; text-decoration-color: #00af00\">1,056</span> │\n",
       "├─────────────────────────────────┼────────────────────────┼───────────────┤\n",
       "│ dense_1 (<span style=\"color: #0087ff; text-decoration-color: #0087ff\">Dense</span>)                 │ (<span style=\"color: #00d7ff; text-decoration-color: #00d7ff\">None</span>, <span style=\"color: #00af00; text-decoration-color: #00af00\">130</span>)            │         <span style=\"color: #00af00; text-decoration-color: #00af00\">4,290</span> │\n",
       "└─────────────────────────────────┴────────────────────────┴───────────────┘\n",
       "</pre>\n"
      ],
      "text/plain": [
       "┏━━━━━━━━━━━━━━━━━━━━━━━━━━━━━━━━━┳━━━━━━━━━━━━━━━━━━━━━━━━┳━━━━━━━━━━━━━━━┓\n",
       "┃\u001b[1m \u001b[0m\u001b[1mLayer (type)                   \u001b[0m\u001b[1m \u001b[0m┃\u001b[1m \u001b[0m\u001b[1mOutput Shape          \u001b[0m\u001b[1m \u001b[0m┃\u001b[1m \u001b[0m\u001b[1m      Param #\u001b[0m\u001b[1m \u001b[0m┃\n",
       "┡━━━━━━━━━━━━━━━━━━━━━━━━━━━━━━━━━╇━━━━━━━━━━━━━━━━━━━━━━━━╇━━━━━━━━━━━━━━━┩\n",
       "│ bidirectional (\u001b[38;5;33mBidirectional\u001b[0m)   │ (\u001b[38;5;45mNone\u001b[0m, \u001b[38;5;34m3\u001b[0m, \u001b[38;5;34m128\u001b[0m)         │        \u001b[38;5;34m99,840\u001b[0m │\n",
       "├─────────────────────────────────┼────────────────────────┼───────────────┤\n",
       "│ dropout (\u001b[38;5;33mDropout\u001b[0m)               │ (\u001b[38;5;45mNone\u001b[0m, \u001b[38;5;34m3\u001b[0m, \u001b[38;5;34m128\u001b[0m)         │             \u001b[38;5;34m0\u001b[0m │\n",
       "├─────────────────────────────────┼────────────────────────┼───────────────┤\n",
       "│ lstm_1 (\u001b[38;5;33mLSTM\u001b[0m)                   │ (\u001b[38;5;45mNone\u001b[0m, \u001b[38;5;34m32\u001b[0m)             │        \u001b[38;5;34m20,608\u001b[0m │\n",
       "├─────────────────────────────────┼────────────────────────┼───────────────┤\n",
       "│ dropout_1 (\u001b[38;5;33mDropout\u001b[0m)             │ (\u001b[38;5;45mNone\u001b[0m, \u001b[38;5;34m32\u001b[0m)             │             \u001b[38;5;34m0\u001b[0m │\n",
       "├─────────────────────────────────┼────────────────────────┼───────────────┤\n",
       "│ dense (\u001b[38;5;33mDense\u001b[0m)                   │ (\u001b[38;5;45mNone\u001b[0m, \u001b[38;5;34m32\u001b[0m)             │         \u001b[38;5;34m1,056\u001b[0m │\n",
       "├─────────────────────────────────┼────────────────────────┼───────────────┤\n",
       "│ dense_1 (\u001b[38;5;33mDense\u001b[0m)                 │ (\u001b[38;5;45mNone\u001b[0m, \u001b[38;5;34m130\u001b[0m)            │         \u001b[38;5;34m4,290\u001b[0m │\n",
       "└─────────────────────────────────┴────────────────────────┴───────────────┘\n"
      ]
     },
     "metadata": {},
     "output_type": "display_data"
    },
    {
     "data": {
      "text/html": [
       "<pre style=\"white-space:pre;overflow-x:auto;line-height:normal;font-family:Menlo,'DejaVu Sans Mono',consolas,'Courier New',monospace\"><span style=\"font-weight: bold\"> Total params: </span><span style=\"color: #00af00; text-decoration-color: #00af00\">125,794</span> (491.38 KB)\n",
       "</pre>\n"
      ],
      "text/plain": [
       "\u001b[1m Total params: \u001b[0m\u001b[38;5;34m125,794\u001b[0m (491.38 KB)\n"
      ]
     },
     "metadata": {},
     "output_type": "display_data"
    },
    {
     "data": {
      "text/html": [
       "<pre style=\"white-space:pre;overflow-x:auto;line-height:normal;font-family:Menlo,'DejaVu Sans Mono',consolas,'Courier New',monospace\"><span style=\"font-weight: bold\"> Trainable params: </span><span style=\"color: #00af00; text-decoration-color: #00af00\">125,794</span> (491.38 KB)\n",
       "</pre>\n"
      ],
      "text/plain": [
       "\u001b[1m Trainable params: \u001b[0m\u001b[38;5;34m125,794\u001b[0m (491.38 KB)\n"
      ]
     },
     "metadata": {},
     "output_type": "display_data"
    },
    {
     "data": {
      "text/html": [
       "<pre style=\"white-space:pre;overflow-x:auto;line-height:normal;font-family:Menlo,'DejaVu Sans Mono',consolas,'Courier New',monospace\"><span style=\"font-weight: bold\"> Non-trainable params: </span><span style=\"color: #00af00; text-decoration-color: #00af00\">0</span> (0.00 B)\n",
       "</pre>\n"
      ],
      "text/plain": [
       "\u001b[1m Non-trainable params: \u001b[0m\u001b[38;5;34m0\u001b[0m (0.00 B)\n"
      ]
     },
     "metadata": {},
     "output_type": "display_data"
    },
    {
     "name": "stdout",
     "output_type": "stream",
     "text": [
      "Epoch 1/10\n",
      "\u001b[1m1600/1600\u001b[0m \u001b[32m━━━━━━━━━━━━━━━━━━━━\u001b[0m\u001b[37m\u001b[0m \u001b[1m4s\u001b[0m 2ms/step - loss: 0.0133 - val_loss: 0.0075\n",
      "Epoch 2/10\n",
      "\u001b[1m1600/1600\u001b[0m \u001b[32m━━━━━━━━━━━━━━━━━━━━\u001b[0m\u001b[37m\u001b[0m \u001b[1m2s\u001b[0m 2ms/step - loss: 0.0067 - val_loss: 0.0041\n",
      "Epoch 3/10\n",
      "\u001b[1m1600/1600\u001b[0m \u001b[32m━━━━━━━━━━━━━━━━━━━━\u001b[0m\u001b[37m\u001b[0m \u001b[1m2s\u001b[0m 1ms/step - loss: 0.0040 - val_loss: 0.0032\n",
      "Epoch 4/10\n",
      "\u001b[1m1600/1600\u001b[0m \u001b[32m━━━━━━━━━━━━━━━━━━━━\u001b[0m\u001b[37m\u001b[0m \u001b[1m2s\u001b[0m 1ms/step - loss: 0.0031 - val_loss: 0.0024\n",
      "Epoch 5/10\n",
      "\u001b[1m1600/1600\u001b[0m \u001b[32m━━━━━━━━━━━━━━━━━━━━\u001b[0m\u001b[37m\u001b[0m \u001b[1m2s\u001b[0m 1ms/step - loss: 0.0026 - val_loss: 0.0020\n",
      "Epoch 6/10\n",
      "\u001b[1m1600/1600\u001b[0m \u001b[32m━━━━━━━━━━━━━━━━━━━━\u001b[0m\u001b[37m\u001b[0m \u001b[1m2s\u001b[0m 1ms/step - loss: 0.0024 - val_loss: 0.0017\n",
      "Epoch 7/10\n",
      "\u001b[1m1600/1600\u001b[0m \u001b[32m━━━━━━━━━━━━━━━━━━━━\u001b[0m\u001b[37m\u001b[0m \u001b[1m2s\u001b[0m 1ms/step - loss: 0.0021 - val_loss: 0.0016\n",
      "Epoch 8/10\n",
      "\u001b[1m1600/1600\u001b[0m \u001b[32m━━━━━━━━━━━━━━━━━━━━\u001b[0m\u001b[37m\u001b[0m \u001b[1m2s\u001b[0m 1ms/step - loss: 0.0021 - val_loss: 0.0014\n",
      "Epoch 9/10\n",
      "\u001b[1m1600/1600\u001b[0m \u001b[32m━━━━━━━━━━━━━━━━━━━━\u001b[0m\u001b[37m\u001b[0m \u001b[1m2s\u001b[0m 1ms/step - loss: 0.0020 - val_loss: 0.0013\n",
      "Epoch 10/10\n",
      "\u001b[1m1600/1600\u001b[0m \u001b[32m━━━━━━━━━━━━━━━━━━━━\u001b[0m\u001b[37m\u001b[0m \u001b[1m2s\u001b[0m 1ms/step - loss: 0.0017 - val_loss: 0.0011\n",
      "\u001b[1m13/13\u001b[0m \u001b[32m━━━━━━━━━━━━━━━━━━━━\u001b[0m\u001b[37m\u001b[0m \u001b[1m0s\u001b[0m 12ms/step\n",
      "History: {'loss': [0.010845620185136795, 0.005774620920419693, 0.0038153340574353933, 0.003061871509999037, 0.0025617636274546385, 0.0023224283941090107, 0.002126262290403247, 0.0019887140952050686, 0.0019206306897103786, 0.0017156399553641677], 'val_loss': [0.007462077308446169, 0.004111066926270723, 0.0031777715776115656, 0.002369801513850689, 0.0020297698210924864, 0.001666258554905653, 0.0016093759331852198, 0.0013720199931412935, 0.0013299580896273255, 0.0011227827053517103]}\n",
      "{'loss': [0.010845620185136795, 0.005774620920419693, 0.0038153340574353933, 0.003061871509999037, 0.0025617636274546385, 0.0023224283941090107, 0.002126262290403247, 0.0019887140952050686, 0.0019206306897103786, 0.0017156399553641677], 'val_loss': [0.007462077308446169, 0.004111066926270723, 0.0031777715776115656, 0.002369801513850689, 0.0020297698210924864, 0.001666258554905653, 0.0016093759331852198, 0.0013720199931412935, 0.0013299580896273255, 0.0011227827053517103]}\n"
     ]
    }
   ],
   "source": [
    "import tensorflow as tf\n",
    "from keras.models import Sequential\n",
    "from keras.layers import LSTM, Dense, Dropout, Bidirectional, Flatten, Reshape\n",
    "\n",
    "model = Sequential([\n",
    "    Bidirectional(LSTM(64, return_sequences=True), input_shape=(3, 130)),\n",
    "    Dropout(0.2),\n",
    "    LSTM(64 // 2, return_sequences=False),\n",
    "    Dropout(0.2),\n",
    "    Dense(32, activation=\"relu\"),\n",
    "    Dense(130)\n",
    "])\n",
    "\n",
    "# Compile the model\n",
    "model.compile(optimizer='adam', loss='mse')\n",
    "\n",
    "# Print the model summary\n",
    "model.summary()\n",
    "\n",
    "# Uncomment to train the model when ready\n",
    "history = train_model(df, model)\n",
    "print(history)"
   ]
  },
  {
   "cell_type": "code",
   "execution_count": null,
   "metadata": {},
   "outputs": [],
   "source": []
  }
 ],
 "metadata": {
  "kernelspec": {
   "display_name": "bb_dev",
   "language": "python",
   "name": "python3"
  },
  "language_info": {
   "codemirror_mode": {
    "name": "ipython",
    "version": 3
   },
   "file_extension": ".py",
   "mimetype": "text/x-python",
   "name": "python",
   "nbconvert_exporter": "python",
   "pygments_lexer": "ipython3",
   "version": "3.12.0"
  }
 },
 "nbformat": 4,
 "nbformat_minor": 2
}
