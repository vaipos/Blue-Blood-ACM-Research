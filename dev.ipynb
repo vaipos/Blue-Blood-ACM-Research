{
 "cells": [
  {
   "cell_type": "code",
   "execution_count": 1,
   "metadata": {},
   "outputs": [
    {
     "name": "stdout",
     "output_type": "stream",
     "text": [
      "   subject_id   prescription_start     prescription_drug  \\\n",
      "0       10013  2125-10-05T00:00:00     Phenylephrine HCl   \n",
      "1       10013  2125-10-05T00:00:00           Vasopressin   \n",
      "2       10013  2125-10-05T00:00:00  Iso-Osmotic Dextrose   \n",
      "3       10013  2125-10-05T00:00:00            Dobutamine   \n",
      "4       10013  2125-10-05T00:00:00               Aspirin   \n",
      "\n",
      "  prescription_dose_val_rx prescription_dose_unit_rx        pre_charttime  \\\n",
      "0                       60                        mg  2125-10-04T23:59:00   \n",
      "1                      100                      UNIT  2125-10-04T23:59:00   \n",
      "2                       50                        ml  2125-10-04T23:59:00   \n",
      "3                      250                        mg  2125-10-04T23:59:00   \n",
      "4                      325                        mg  2125-10-04T23:59:00   \n",
      "\n",
      "   pre_ph  pre_pco2  pre_po2  pre_bicarbonate  ...  post_fio2_chartevents  \\\n",
      "0     7.3      63.0     60.0              NaN  ...              60.000002   \n",
      "1     7.3      63.0     60.0              NaN  ...              60.000002   \n",
      "2     7.3      63.0     60.0              NaN  ...              60.000002   \n",
      "3     7.3      63.0     60.0              NaN  ...              60.000002   \n",
      "4     7.3      63.0     60.0              NaN  ...              60.000002   \n",
      "\n",
      "   post_aado2_calc  post_pao2fio2  post_temperature  post_fio2  post_aado2  \\\n",
      "0       231.550017     191.666659               NaN        NaN         NaN   \n",
      "1       231.550017     191.666659               NaN        NaN         NaN   \n",
      "2       231.550017     191.666659               NaN        NaN         NaN   \n",
      "3       231.550017     191.666659               NaN        NaN         NaN   \n",
      "4       231.550017     191.666659               NaN        NaN         NaN   \n",
      "\n",
      "   post_carboxyhemoglobin  post_methemoglobin  post_calcium  post_intubated  \n",
      "0                     NaN                 NaN           NaN             NaN  \n",
      "1                     NaN                 NaN           NaN             NaN  \n",
      "2                     NaN                 NaN           NaN             NaN  \n",
      "3                     NaN                 NaN           NaN             NaN  \n",
      "4                     NaN                 NaN           NaN             NaN  \n",
      "\n",
      "[5 rows x 57 columns]\n"
     ]
    }
   ],
   "source": [
    "import boto3\n",
    "import pandas as pd\n",
    "from io import StringIO\n",
    "\n",
    "# Define your bucket name and file key (file path in S3)\n",
    "BUCKET_NAME = \"blue-blood-data\"\n",
    "FILE_KEY = \"BigQuery Blue Blood DB Data.csv\"  # Change to your actual file path in S3\n",
    "\n",
    "# Create an S3 client\n",
    "s3 = boto3.client(\"s3\")\n",
    "\n",
    "# Fetch the file from S3\n",
    "response = s3.get_object(Bucket=BUCKET_NAME, Key=FILE_KEY)\n",
    "\n",
    "# Read the CSV file into a pandas DataFrame\n",
    "csv_content = response[\"Body\"].read().decode(\"utf-8\")\n",
    "df = pd.read_csv(StringIO(csv_content))\n",
    "\n",
    "# Print DataFrame\n",
    "print(df.head())"
   ]
  },
  {
   "cell_type": "code",
   "execution_count": 2,
   "metadata": {},
   "outputs": [
    {
     "data": {
      "text/html": [
       "<div>\n",
       "<style scoped>\n",
       "    .dataframe tbody tr th:only-of-type {\n",
       "        vertical-align: middle;\n",
       "    }\n",
       "\n",
       "    .dataframe tbody tr th {\n",
       "        vertical-align: top;\n",
       "    }\n",
       "\n",
       "    .dataframe thead th {\n",
       "        text-align: right;\n",
       "    }\n",
       "</style>\n",
       "<table border=\"1\" class=\"dataframe\">\n",
       "  <thead>\n",
       "    <tr style=\"text-align: right;\">\n",
       "      <th></th>\n",
       "      <th>subject_id</th>\n",
       "      <th>prescription_start</th>\n",
       "      <th>prescription_drug</th>\n",
       "      <th>prescription_dose_val_rx</th>\n",
       "      <th>prescription_dose_unit_rx</th>\n",
       "      <th>pre_charttime</th>\n",
       "      <th>pre_ph</th>\n",
       "      <th>pre_pco2</th>\n",
       "      <th>pre_po2</th>\n",
       "      <th>pre_bicarbonate</th>\n",
       "      <th>...</th>\n",
       "      <th>post_fio2_chartevents</th>\n",
       "      <th>post_aado2_calc</th>\n",
       "      <th>post_pao2fio2</th>\n",
       "      <th>post_temperature</th>\n",
       "      <th>post_fio2</th>\n",
       "      <th>post_aado2</th>\n",
       "      <th>post_carboxyhemoglobin</th>\n",
       "      <th>post_methemoglobin</th>\n",
       "      <th>post_calcium</th>\n",
       "      <th>post_intubated</th>\n",
       "    </tr>\n",
       "  </thead>\n",
       "  <tbody>\n",
       "    <tr>\n",
       "      <th>0</th>\n",
       "      <td>10013</td>\n",
       "      <td>2125-10-05T00:00:00</td>\n",
       "      <td>Phenylephrine HCl</td>\n",
       "      <td>60</td>\n",
       "      <td>mg</td>\n",
       "      <td>2125-10-04T23:59:00</td>\n",
       "      <td>7.30</td>\n",
       "      <td>63.0</td>\n",
       "      <td>60.0</td>\n",
       "      <td>NaN</td>\n",
       "      <td>...</td>\n",
       "      <td>60.000002</td>\n",
       "      <td>231.550017</td>\n",
       "      <td>191.666659</td>\n",
       "      <td>NaN</td>\n",
       "      <td>NaN</td>\n",
       "      <td>NaN</td>\n",
       "      <td>NaN</td>\n",
       "      <td>NaN</td>\n",
       "      <td>NaN</td>\n",
       "      <td>NaN</td>\n",
       "    </tr>\n",
       "    <tr>\n",
       "      <th>1</th>\n",
       "      <td>10013</td>\n",
       "      <td>2125-10-05T00:00:00</td>\n",
       "      <td>Vasopressin</td>\n",
       "      <td>100</td>\n",
       "      <td>UNIT</td>\n",
       "      <td>2125-10-04T23:59:00</td>\n",
       "      <td>7.30</td>\n",
       "      <td>63.0</td>\n",
       "      <td>60.0</td>\n",
       "      <td>NaN</td>\n",
       "      <td>...</td>\n",
       "      <td>60.000002</td>\n",
       "      <td>231.550017</td>\n",
       "      <td>191.666659</td>\n",
       "      <td>NaN</td>\n",
       "      <td>NaN</td>\n",
       "      <td>NaN</td>\n",
       "      <td>NaN</td>\n",
       "      <td>NaN</td>\n",
       "      <td>NaN</td>\n",
       "      <td>NaN</td>\n",
       "    </tr>\n",
       "    <tr>\n",
       "      <th>2</th>\n",
       "      <td>10013</td>\n",
       "      <td>2125-10-05T00:00:00</td>\n",
       "      <td>Iso-Osmotic Dextrose</td>\n",
       "      <td>50</td>\n",
       "      <td>ml</td>\n",
       "      <td>2125-10-04T23:59:00</td>\n",
       "      <td>7.30</td>\n",
       "      <td>63.0</td>\n",
       "      <td>60.0</td>\n",
       "      <td>NaN</td>\n",
       "      <td>...</td>\n",
       "      <td>60.000002</td>\n",
       "      <td>231.550017</td>\n",
       "      <td>191.666659</td>\n",
       "      <td>NaN</td>\n",
       "      <td>NaN</td>\n",
       "      <td>NaN</td>\n",
       "      <td>NaN</td>\n",
       "      <td>NaN</td>\n",
       "      <td>NaN</td>\n",
       "      <td>NaN</td>\n",
       "    </tr>\n",
       "    <tr>\n",
       "      <th>3</th>\n",
       "      <td>10013</td>\n",
       "      <td>2125-10-05T00:00:00</td>\n",
       "      <td>Dobutamine</td>\n",
       "      <td>250</td>\n",
       "      <td>mg</td>\n",
       "      <td>2125-10-04T23:59:00</td>\n",
       "      <td>7.30</td>\n",
       "      <td>63.0</td>\n",
       "      <td>60.0</td>\n",
       "      <td>NaN</td>\n",
       "      <td>...</td>\n",
       "      <td>60.000002</td>\n",
       "      <td>231.550017</td>\n",
       "      <td>191.666659</td>\n",
       "      <td>NaN</td>\n",
       "      <td>NaN</td>\n",
       "      <td>NaN</td>\n",
       "      <td>NaN</td>\n",
       "      <td>NaN</td>\n",
       "      <td>NaN</td>\n",
       "      <td>NaN</td>\n",
       "    </tr>\n",
       "    <tr>\n",
       "      <th>4</th>\n",
       "      <td>10013</td>\n",
       "      <td>2125-10-05T00:00:00</td>\n",
       "      <td>Aspirin</td>\n",
       "      <td>325</td>\n",
       "      <td>mg</td>\n",
       "      <td>2125-10-04T23:59:00</td>\n",
       "      <td>7.30</td>\n",
       "      <td>63.0</td>\n",
       "      <td>60.0</td>\n",
       "      <td>NaN</td>\n",
       "      <td>...</td>\n",
       "      <td>60.000002</td>\n",
       "      <td>231.550017</td>\n",
       "      <td>191.666659</td>\n",
       "      <td>NaN</td>\n",
       "      <td>NaN</td>\n",
       "      <td>NaN</td>\n",
       "      <td>NaN</td>\n",
       "      <td>NaN</td>\n",
       "      <td>NaN</td>\n",
       "      <td>NaN</td>\n",
       "    </tr>\n",
       "    <tr>\n",
       "      <th>...</th>\n",
       "      <td>...</td>\n",
       "      <td>...</td>\n",
       "      <td>...</td>\n",
       "      <td>...</td>\n",
       "      <td>...</td>\n",
       "      <td>...</td>\n",
       "      <td>...</td>\n",
       "      <td>...</td>\n",
       "      <td>...</td>\n",
       "      <td>...</td>\n",
       "      <td>...</td>\n",
       "      <td>...</td>\n",
       "      <td>...</td>\n",
       "      <td>...</td>\n",
       "      <td>...</td>\n",
       "      <td>...</td>\n",
       "      <td>...</td>\n",
       "      <td>...</td>\n",
       "      <td>...</td>\n",
       "      <td>...</td>\n",
       "      <td>...</td>\n",
       "    </tr>\n",
       "    <tr>\n",
       "      <th>2177</th>\n",
       "      <td>44212</td>\n",
       "      <td>2123-11-25T00:00:00</td>\n",
       "      <td>Vancomycin</td>\n",
       "      <td>500</td>\n",
       "      <td>mg</td>\n",
       "      <td>2123-11-24T21:56:00</td>\n",
       "      <td>7.24</td>\n",
       "      <td>48.0</td>\n",
       "      <td>76.0</td>\n",
       "      <td>NaN</td>\n",
       "      <td>...</td>\n",
       "      <td>80.000000</td>\n",
       "      <td>343.900000</td>\n",
       "      <td>198.750000</td>\n",
       "      <td>NaN</td>\n",
       "      <td>NaN</td>\n",
       "      <td>NaN</td>\n",
       "      <td>NaN</td>\n",
       "      <td>NaN</td>\n",
       "      <td>NaN</td>\n",
       "      <td>NaN</td>\n",
       "    </tr>\n",
       "    <tr>\n",
       "      <th>2178</th>\n",
       "      <td>44212</td>\n",
       "      <td>2123-11-25T00:00:00</td>\n",
       "      <td>0.9% Sodium Chloride</td>\n",
       "      <td>100</td>\n",
       "      <td>mL</td>\n",
       "      <td>2123-11-24T21:56:00</td>\n",
       "      <td>7.24</td>\n",
       "      <td>48.0</td>\n",
       "      <td>76.0</td>\n",
       "      <td>NaN</td>\n",
       "      <td>...</td>\n",
       "      <td>80.000000</td>\n",
       "      <td>343.900000</td>\n",
       "      <td>198.750000</td>\n",
       "      <td>NaN</td>\n",
       "      <td>NaN</td>\n",
       "      <td>NaN</td>\n",
       "      <td>NaN</td>\n",
       "      <td>NaN</td>\n",
       "      <td>NaN</td>\n",
       "      <td>NaN</td>\n",
       "    </tr>\n",
       "    <tr>\n",
       "      <th>2179</th>\n",
       "      <td>44212</td>\n",
       "      <td>2123-11-25T00:00:00</td>\n",
       "      <td>Piperacillin-Tazobactam Na</td>\n",
       "      <td>2.25</td>\n",
       "      <td>g</td>\n",
       "      <td>2123-11-24T21:56:00</td>\n",
       "      <td>7.24</td>\n",
       "      <td>48.0</td>\n",
       "      <td>76.0</td>\n",
       "      <td>NaN</td>\n",
       "      <td>...</td>\n",
       "      <td>80.000000</td>\n",
       "      <td>343.900000</td>\n",
       "      <td>198.750000</td>\n",
       "      <td>NaN</td>\n",
       "      <td>NaN</td>\n",
       "      <td>NaN</td>\n",
       "      <td>NaN</td>\n",
       "      <td>NaN</td>\n",
       "      <td>NaN</td>\n",
       "      <td>NaN</td>\n",
       "    </tr>\n",
       "    <tr>\n",
       "      <th>2180</th>\n",
       "      <td>44212</td>\n",
       "      <td>2123-11-25T00:00:00</td>\n",
       "      <td>Prismasate (B22 K4)</td>\n",
       "      <td>5000</td>\n",
       "      <td>mL</td>\n",
       "      <td>2123-11-24T21:56:00</td>\n",
       "      <td>7.24</td>\n",
       "      <td>48.0</td>\n",
       "      <td>76.0</td>\n",
       "      <td>NaN</td>\n",
       "      <td>...</td>\n",
       "      <td>80.000000</td>\n",
       "      <td>343.900000</td>\n",
       "      <td>198.750000</td>\n",
       "      <td>NaN</td>\n",
       "      <td>NaN</td>\n",
       "      <td>NaN</td>\n",
       "      <td>NaN</td>\n",
       "      <td>NaN</td>\n",
       "      <td>NaN</td>\n",
       "      <td>NaN</td>\n",
       "    </tr>\n",
       "    <tr>\n",
       "      <th>2181</th>\n",
       "      <td>44212</td>\n",
       "      <td>2123-11-25T00:00:00</td>\n",
       "      <td>Iso-Osmotic Dextrose</td>\n",
       "      <td>50</td>\n",
       "      <td>mL</td>\n",
       "      <td>2123-11-24T21:56:00</td>\n",
       "      <td>7.24</td>\n",
       "      <td>48.0</td>\n",
       "      <td>76.0</td>\n",
       "      <td>NaN</td>\n",
       "      <td>...</td>\n",
       "      <td>80.000000</td>\n",
       "      <td>343.900000</td>\n",
       "      <td>198.750000</td>\n",
       "      <td>NaN</td>\n",
       "      <td>NaN</td>\n",
       "      <td>NaN</td>\n",
       "      <td>NaN</td>\n",
       "      <td>NaN</td>\n",
       "      <td>NaN</td>\n",
       "      <td>NaN</td>\n",
       "    </tr>\n",
       "  </tbody>\n",
       "</table>\n",
       "<p>2182 rows × 57 columns</p>\n",
       "</div>"
      ],
      "text/plain": [
       "      subject_id   prescription_start           prescription_drug  \\\n",
       "0          10013  2125-10-05T00:00:00           Phenylephrine HCl   \n",
       "1          10013  2125-10-05T00:00:00                 Vasopressin   \n",
       "2          10013  2125-10-05T00:00:00        Iso-Osmotic Dextrose   \n",
       "3          10013  2125-10-05T00:00:00                  Dobutamine   \n",
       "4          10013  2125-10-05T00:00:00                     Aspirin   \n",
       "...          ...                  ...                         ...   \n",
       "2177       44212  2123-11-25T00:00:00                  Vancomycin   \n",
       "2178       44212  2123-11-25T00:00:00        0.9% Sodium Chloride   \n",
       "2179       44212  2123-11-25T00:00:00  Piperacillin-Tazobactam Na   \n",
       "2180       44212  2123-11-25T00:00:00         Prismasate (B22 K4)   \n",
       "2181       44212  2123-11-25T00:00:00        Iso-Osmotic Dextrose   \n",
       "\n",
       "     prescription_dose_val_rx prescription_dose_unit_rx        pre_charttime  \\\n",
       "0                          60                        mg  2125-10-04T23:59:00   \n",
       "1                         100                      UNIT  2125-10-04T23:59:00   \n",
       "2                          50                        ml  2125-10-04T23:59:00   \n",
       "3                         250                        mg  2125-10-04T23:59:00   \n",
       "4                         325                        mg  2125-10-04T23:59:00   \n",
       "...                       ...                       ...                  ...   \n",
       "2177                      500                        mg  2123-11-24T21:56:00   \n",
       "2178                      100                        mL  2123-11-24T21:56:00   \n",
       "2179                     2.25                         g  2123-11-24T21:56:00   \n",
       "2180                     5000                        mL  2123-11-24T21:56:00   \n",
       "2181                       50                        mL  2123-11-24T21:56:00   \n",
       "\n",
       "      pre_ph  pre_pco2  pre_po2  pre_bicarbonate  ...  post_fio2_chartevents  \\\n",
       "0       7.30      63.0     60.0              NaN  ...              60.000002   \n",
       "1       7.30      63.0     60.0              NaN  ...              60.000002   \n",
       "2       7.30      63.0     60.0              NaN  ...              60.000002   \n",
       "3       7.30      63.0     60.0              NaN  ...              60.000002   \n",
       "4       7.30      63.0     60.0              NaN  ...              60.000002   \n",
       "...      ...       ...      ...              ...  ...                    ...   \n",
       "2177    7.24      48.0     76.0              NaN  ...              80.000000   \n",
       "2178    7.24      48.0     76.0              NaN  ...              80.000000   \n",
       "2179    7.24      48.0     76.0              NaN  ...              80.000000   \n",
       "2180    7.24      48.0     76.0              NaN  ...              80.000000   \n",
       "2181    7.24      48.0     76.0              NaN  ...              80.000000   \n",
       "\n",
       "      post_aado2_calc  post_pao2fio2  post_temperature  post_fio2  post_aado2  \\\n",
       "0          231.550017     191.666659               NaN        NaN         NaN   \n",
       "1          231.550017     191.666659               NaN        NaN         NaN   \n",
       "2          231.550017     191.666659               NaN        NaN         NaN   \n",
       "3          231.550017     191.666659               NaN        NaN         NaN   \n",
       "4          231.550017     191.666659               NaN        NaN         NaN   \n",
       "...               ...            ...               ...        ...         ...   \n",
       "2177       343.900000     198.750000               NaN        NaN         NaN   \n",
       "2178       343.900000     198.750000               NaN        NaN         NaN   \n",
       "2179       343.900000     198.750000               NaN        NaN         NaN   \n",
       "2180       343.900000     198.750000               NaN        NaN         NaN   \n",
       "2181       343.900000     198.750000               NaN        NaN         NaN   \n",
       "\n",
       "      post_carboxyhemoglobin  post_methemoglobin  post_calcium  post_intubated  \n",
       "0                        NaN                 NaN           NaN             NaN  \n",
       "1                        NaN                 NaN           NaN             NaN  \n",
       "2                        NaN                 NaN           NaN             NaN  \n",
       "3                        NaN                 NaN           NaN             NaN  \n",
       "4                        NaN                 NaN           NaN             NaN  \n",
       "...                      ...                 ...           ...             ...  \n",
       "2177                     NaN                 NaN           NaN             NaN  \n",
       "2178                     NaN                 NaN           NaN             NaN  \n",
       "2179                     NaN                 NaN           NaN             NaN  \n",
       "2180                     NaN                 NaN           NaN             NaN  \n",
       "2181                     NaN                 NaN           NaN             NaN  \n",
       "\n",
       "[2182 rows x 57 columns]"
      ]
     },
     "execution_count": 2,
     "metadata": {},
     "output_type": "execute_result"
    }
   ],
   "source": [
    "df "
   ]
  },
  {
   "cell_type": "code",
   "execution_count": 3,
   "metadata": {},
   "outputs": [
    {
     "name": "stdout",
     "output_type": "stream",
     "text": [
      "Column 'pre_baseexcess' contains negative values. -16.0\n",
      "Column 'post_baseexcess' contains negative values. -17.0\n"
     ]
    }
   ],
   "source": [
    "import pandas as pd\n",
    "import numpy as np\n",
    "\n",
    "# Print values of columns that start with 'pre_' or 'post_'\n",
    "'''for col in df.columns:\n",
    "    if col.startswith(\"pre_\") or col.startswith(\"post_\"):\n",
    "        print(f\"Column: {col}\")\n",
    "        print(df[col])'''\n",
    "for col in df.select_dtypes(include=[np.number]).columns:\n",
    "    if (df[col] < 0).any():\n",
    "        print(f\"Column '{col}' contains negative values.\", df[col].values.min())\n"
   ]
  },
  {
   "cell_type": "code",
   "execution_count": 4,
   "metadata": {},
   "outputs": [
    {
     "name": "stdout",
     "output_type": "stream",
     "text": [
      "            pre_charttime  pre_ph  pre_pco2  pre_po2  pre_bicarbonate  \\\n",
      "0     2125-10-04T23:59:00    7.30      63.0     60.0           -200.0   \n",
      "1     2125-10-04T23:59:00    7.30      63.0     60.0           -200.0   \n",
      "2     2125-10-04T23:59:00    7.30      63.0     60.0           -200.0   \n",
      "3     2125-10-04T23:59:00    7.30      63.0     60.0           -200.0   \n",
      "4     2125-10-04T23:59:00    7.30      63.0     60.0           -200.0   \n",
      "...                   ...     ...       ...      ...              ...   \n",
      "2177  2123-11-24T21:56:00    7.24      48.0     76.0           -200.0   \n",
      "2178  2123-11-24T21:56:00    7.24      48.0     76.0           -200.0   \n",
      "2179  2123-11-24T21:56:00    7.24      48.0     76.0           -200.0   \n",
      "2180  2123-11-24T21:56:00    7.24      48.0     76.0           -200.0   \n",
      "2181  2123-11-24T21:56:00    7.24      48.0     76.0           -200.0   \n",
      "\n",
      "      pre_baseexcess  pre_totalco2  pre_hematocrit  pre_hemoglobin  \\\n",
      "0                2.0          32.0          -200.0          -200.0   \n",
      "1                2.0          32.0          -200.0          -200.0   \n",
      "2                2.0          32.0          -200.0          -200.0   \n",
      "3                2.0          32.0          -200.0          -200.0   \n",
      "4                2.0          32.0          -200.0          -200.0   \n",
      "...              ...           ...             ...             ...   \n",
      "2177            -6.0          22.0          -200.0          -200.0   \n",
      "2178            -6.0          22.0          -200.0          -200.0   \n",
      "2179            -6.0          22.0          -200.0          -200.0   \n",
      "2180            -6.0          22.0          -200.0          -200.0   \n",
      "2181            -6.0          22.0          -200.0          -200.0   \n",
      "\n",
      "      pre_sodium  ...  post_fio2_chartevents  post_aado2_calc  post_pao2fio2  \\\n",
      "0         -200.0  ...              60.000002       231.550017     191.666659   \n",
      "1         -200.0  ...              60.000002       231.550017     191.666659   \n",
      "2         -200.0  ...              60.000002       231.550017     191.666659   \n",
      "3         -200.0  ...              60.000002       231.550017     191.666659   \n",
      "4         -200.0  ...              60.000002       231.550017     191.666659   \n",
      "...          ...  ...                    ...              ...            ...   \n",
      "2177      -200.0  ...              80.000000       343.900000     198.750000   \n",
      "2178      -200.0  ...              80.000000       343.900000     198.750000   \n",
      "2179      -200.0  ...              80.000000       343.900000     198.750000   \n",
      "2180      -200.0  ...              80.000000       343.900000     198.750000   \n",
      "2181      -200.0  ...              80.000000       343.900000     198.750000   \n",
      "\n",
      "      post_temperature  post_fio2  post_aado2  post_carboxyhemoglobin  \\\n",
      "0               -200.0     -200.0      -200.0                  -200.0   \n",
      "1               -200.0     -200.0      -200.0                  -200.0   \n",
      "2               -200.0     -200.0      -200.0                  -200.0   \n",
      "3               -200.0     -200.0      -200.0                  -200.0   \n",
      "4               -200.0     -200.0      -200.0                  -200.0   \n",
      "...                ...        ...         ...                     ...   \n",
      "2177            -200.0     -200.0      -200.0                  -200.0   \n",
      "2178            -200.0     -200.0      -200.0                  -200.0   \n",
      "2179            -200.0     -200.0      -200.0                  -200.0   \n",
      "2180            -200.0     -200.0      -200.0                  -200.0   \n",
      "2181            -200.0     -200.0      -200.0                  -200.0   \n",
      "\n",
      "      post_methemoglobin  post_calcium  post_intubated  \n",
      "0                 -200.0        -200.0          -200.0  \n",
      "1                 -200.0        -200.0          -200.0  \n",
      "2                 -200.0        -200.0          -200.0  \n",
      "3                 -200.0        -200.0          -200.0  \n",
      "4                 -200.0        -200.0          -200.0  \n",
      "...                  ...           ...             ...  \n",
      "2177              -200.0        -200.0          -200.0  \n",
      "2178              -200.0        -200.0          -200.0  \n",
      "2179              -200.0        -200.0          -200.0  \n",
      "2180              -200.0        -200.0          -200.0  \n",
      "2181              -200.0        -200.0          -200.0  \n",
      "\n",
      "[2182 rows x 52 columns]\n"
     ]
    }
   ],
   "source": [
    "import pandas as pd\n",
    "import numpy as np\n",
    "\n",
    "# Create a new DataFrame with columns starting with 'pre_' or 'post_'\n",
    "filtered_df = df.loc[:, df.columns.str.startswith(('pre_', 'post_'))]\n",
    "\n",
    "# Replace NaN values with -200 in the filtered DataFrame\n",
    "filtered_df = filtered_df.fillna(-200)\n",
    "\n",
    "# Show the resulting DataFrame\n",
    "print(filtered_df)\n"
   ]
  },
  {
   "cell_type": "code",
   "execution_count": 5,
   "metadata": {},
   "outputs": [
    {
     "name": "stdout",
     "output_type": "stream",
     "text": [
      "Column: pre_bicarbonate\n",
      "0      NaN\n",
      "1      NaN\n",
      "2      NaN\n",
      "3      NaN\n",
      "4      NaN\n",
      "        ..\n",
      "2177   NaN\n",
      "2178   NaN\n",
      "2179   NaN\n",
      "2180   NaN\n",
      "2181   NaN\n",
      "Name: pre_bicarbonate, Length: 2182, dtype: float64\n",
      "Column: pre_hematocrit\n",
      "0      NaN\n",
      "1      NaN\n",
      "2      NaN\n",
      "3      NaN\n",
      "4      NaN\n",
      "        ..\n",
      "2177   NaN\n",
      "2178   NaN\n",
      "2179   NaN\n",
      "2180   NaN\n",
      "2181   NaN\n",
      "Name: pre_hematocrit, Length: 2182, dtype: float64\n",
      "Column: pre_hemoglobin\n",
      "0      NaN\n",
      "1      NaN\n",
      "2      NaN\n",
      "3      NaN\n",
      "4      NaN\n",
      "        ..\n",
      "2177   NaN\n",
      "2178   NaN\n",
      "2179   NaN\n",
      "2180   NaN\n",
      "2181   NaN\n",
      "Name: pre_hemoglobin, Length: 2182, dtype: float64\n",
      "Column: pre_sodium\n",
      "0      NaN\n",
      "1      NaN\n",
      "2      NaN\n",
      "3      NaN\n",
      "4      NaN\n",
      "        ..\n",
      "2177   NaN\n",
      "2178   NaN\n",
      "2179   NaN\n",
      "2180   NaN\n",
      "2181   NaN\n",
      "Name: pre_sodium, Length: 2182, dtype: float64\n",
      "Column: pre_potassium\n",
      "0      NaN\n",
      "1      NaN\n",
      "2      NaN\n",
      "3      NaN\n",
      "4      NaN\n",
      "        ..\n",
      "2177   NaN\n",
      "2178   NaN\n",
      "2179   NaN\n",
      "2180   NaN\n",
      "2181   NaN\n",
      "Name: pre_potassium, Length: 2182, dtype: float64\n",
      "Column: pre_chloride\n",
      "0      NaN\n",
      "1      NaN\n",
      "2      NaN\n",
      "3      NaN\n",
      "4      NaN\n",
      "        ..\n",
      "2177   NaN\n",
      "2178   NaN\n",
      "2179   NaN\n",
      "2180   NaN\n",
      "2181   NaN\n",
      "Name: pre_chloride, Length: 2182, dtype: float64\n",
      "Column: pre_glucose\n",
      "0      NaN\n",
      "1      NaN\n",
      "2      NaN\n",
      "3      NaN\n",
      "4      NaN\n",
      "        ..\n",
      "2177   NaN\n",
      "2178   NaN\n",
      "2179   NaN\n",
      "2180   NaN\n",
      "2181   NaN\n",
      "Name: pre_glucose, Length: 2182, dtype: float64\n",
      "Column: pre_lactate\n",
      "0      NaN\n",
      "1      NaN\n",
      "2      NaN\n",
      "3      NaN\n",
      "4      NaN\n",
      "        ..\n",
      "2177   NaN\n",
      "2178   NaN\n",
      "2179   NaN\n",
      "2180   NaN\n",
      "2181   NaN\n",
      "Name: pre_lactate, Length: 2182, dtype: float64\n",
      "Column: pre_so2\n",
      "0      NaN\n",
      "1      NaN\n",
      "2      NaN\n",
      "3      NaN\n",
      "4      NaN\n",
      "        ..\n",
      "2177   NaN\n",
      "2178   NaN\n",
      "2179   NaN\n",
      "2180   NaN\n",
      "2181   NaN\n",
      "Name: pre_so2, Length: 2182, dtype: float64\n",
      "Column: pre_spo2\n",
      "0        89.0\n",
      "1        89.0\n",
      "2        89.0\n",
      "3        89.0\n",
      "4        89.0\n",
      "        ...  \n",
      "2177    100.0\n",
      "2178    100.0\n",
      "2179    100.0\n",
      "2180    100.0\n",
      "2181    100.0\n",
      "Name: pre_spo2, Length: 2182, dtype: float64\n",
      "Column: pre_fio2_chartevents\n",
      "0         NaN\n",
      "1         NaN\n",
      "2         NaN\n",
      "3         NaN\n",
      "4         NaN\n",
      "        ...  \n",
      "2177    100.0\n",
      "2178    100.0\n",
      "2179    100.0\n",
      "2180    100.0\n",
      "2181    100.0\n",
      "Name: pre_fio2_chartevents, Length: 2182, dtype: float64\n",
      "Column: pre_aado2_calc\n",
      "0       360.35\n",
      "1       360.35\n",
      "2       360.35\n",
      "3       360.35\n",
      "4       360.35\n",
      "         ...  \n",
      "2177    577.00\n",
      "2178    577.00\n",
      "2179    577.00\n",
      "2180    577.00\n",
      "2181    577.00\n",
      "Name: pre_aado2_calc, Length: 2182, dtype: float64\n",
      "Column: pre_pao2fio2\n",
      "0       85.714286\n",
      "1       85.714286\n",
      "2       85.714286\n",
      "3       85.714286\n",
      "4       85.714286\n",
      "          ...    \n",
      "2177    76.000000\n",
      "2178    76.000000\n",
      "2179    76.000000\n",
      "2180    76.000000\n",
      "2181    76.000000\n",
      "Name: pre_pao2fio2, Length: 2182, dtype: float64\n",
      "Column: pre_temperature\n",
      "0       35.9\n",
      "1       35.9\n",
      "2       35.9\n",
      "3       35.9\n",
      "4       35.9\n",
      "        ... \n",
      "2177     NaN\n",
      "2178     NaN\n",
      "2179     NaN\n",
      "2180     NaN\n",
      "2181     NaN\n",
      "Name: pre_temperature, Length: 2182, dtype: float64\n",
      "Column: pre_fio2\n",
      "0       70.0\n",
      "1       70.0\n",
      "2       70.0\n",
      "3       70.0\n",
      "4       70.0\n",
      "        ... \n",
      "2177     NaN\n",
      "2178     NaN\n",
      "2179     NaN\n",
      "2180     NaN\n",
      "2181     NaN\n",
      "Name: pre_fio2, Length: 2182, dtype: float64\n",
      "Column: pre_aado2\n",
      "0      NaN\n",
      "1      NaN\n",
      "2      NaN\n",
      "3      NaN\n",
      "4      NaN\n",
      "        ..\n",
      "2177   NaN\n",
      "2178   NaN\n",
      "2179   NaN\n",
      "2180   NaN\n",
      "2181   NaN\n",
      "Name: pre_aado2, Length: 2182, dtype: float64\n",
      "Column: pre_carboxyhemoglobin\n",
      "0      NaN\n",
      "1      NaN\n",
      "2      NaN\n",
      "3      NaN\n",
      "4      NaN\n",
      "        ..\n",
      "2177   NaN\n",
      "2178   NaN\n",
      "2179   NaN\n",
      "2180   NaN\n",
      "2181   NaN\n",
      "Name: pre_carboxyhemoglobin, Length: 2182, dtype: float64\n",
      "Column: pre_methemoglobin\n",
      "0      NaN\n",
      "1      NaN\n",
      "2      NaN\n",
      "3      NaN\n",
      "4      NaN\n",
      "        ..\n",
      "2177   NaN\n",
      "2178   NaN\n",
      "2179   NaN\n",
      "2180   NaN\n",
      "2181   NaN\n",
      "Name: pre_methemoglobin, Length: 2182, dtype: float64\n",
      "Column: pre_calcium\n",
      "0        NaN\n",
      "1        NaN\n",
      "2        NaN\n",
      "3        NaN\n",
      "4        NaN\n",
      "        ... \n",
      "2177    1.13\n",
      "2178    1.13\n",
      "2179    1.13\n",
      "2180    1.13\n",
      "2181    1.13\n",
      "Name: pre_calcium, Length: 2182, dtype: float64\n",
      "Column: pre_intubated\n",
      "0      NaN\n",
      "1      NaN\n",
      "2      NaN\n",
      "3      NaN\n",
      "4      NaN\n",
      "        ..\n",
      "2177   NaN\n",
      "2178   NaN\n",
      "2179   NaN\n",
      "2180   NaN\n",
      "2181   NaN\n",
      "Name: pre_intubated, Length: 2182, dtype: float64\n",
      "Column: post_bicarbonate\n",
      "0      NaN\n",
      "1      NaN\n",
      "2      NaN\n",
      "3      NaN\n",
      "4      NaN\n",
      "        ..\n",
      "2177   NaN\n",
      "2178   NaN\n",
      "2179   NaN\n",
      "2180   NaN\n",
      "2181   NaN\n",
      "Name: post_bicarbonate, Length: 2182, dtype: float64\n",
      "Column: post_hematocrit\n",
      "0      NaN\n",
      "1      NaN\n",
      "2      NaN\n",
      "3      NaN\n",
      "4      NaN\n",
      "        ..\n",
      "2177   NaN\n",
      "2178   NaN\n",
      "2179   NaN\n",
      "2180   NaN\n",
      "2181   NaN\n",
      "Name: post_hematocrit, Length: 2182, dtype: float64\n",
      "Column: post_hemoglobin\n",
      "0      NaN\n",
      "1      NaN\n",
      "2      NaN\n",
      "3      NaN\n",
      "4      NaN\n",
      "        ..\n",
      "2177   NaN\n",
      "2178   NaN\n",
      "2179   NaN\n",
      "2180   NaN\n",
      "2181   NaN\n",
      "Name: post_hemoglobin, Length: 2182, dtype: float64\n",
      "Column: post_sodium\n",
      "0      NaN\n",
      "1      NaN\n",
      "2      NaN\n",
      "3      NaN\n",
      "4      NaN\n",
      "        ..\n",
      "2177   NaN\n",
      "2178   NaN\n",
      "2179   NaN\n",
      "2180   NaN\n",
      "2181   NaN\n",
      "Name: post_sodium, Length: 2182, dtype: float64\n",
      "Column: post_potassium\n",
      "0      NaN\n",
      "1      NaN\n",
      "2      NaN\n",
      "3      NaN\n",
      "4      NaN\n",
      "        ..\n",
      "2177   NaN\n",
      "2178   NaN\n",
      "2179   NaN\n",
      "2180   NaN\n",
      "2181   NaN\n",
      "Name: post_potassium, Length: 2182, dtype: float64\n",
      "Column: post_chloride\n",
      "0      NaN\n",
      "1      NaN\n",
      "2      NaN\n",
      "3      NaN\n",
      "4      NaN\n",
      "        ..\n",
      "2177   NaN\n",
      "2178   NaN\n",
      "2179   NaN\n",
      "2180   NaN\n",
      "2181   NaN\n",
      "Name: post_chloride, Length: 2182, dtype: float64\n",
      "Column: post_glucose\n",
      "0      NaN\n",
      "1      NaN\n",
      "2      NaN\n",
      "3      NaN\n",
      "4      NaN\n",
      "        ..\n",
      "2177   NaN\n",
      "2178   NaN\n",
      "2179   NaN\n",
      "2180   NaN\n",
      "2181   NaN\n",
      "Name: post_glucose, Length: 2182, dtype: float64\n",
      "Column: post_lactate\n",
      "0      NaN\n",
      "1      NaN\n",
      "2      NaN\n",
      "3      NaN\n",
      "4      NaN\n",
      "        ..\n",
      "2177   NaN\n",
      "2178   NaN\n",
      "2179   NaN\n",
      "2180   NaN\n",
      "2181   NaN\n",
      "Name: post_lactate, Length: 2182, dtype: float64\n",
      "Column: post_so2\n",
      "0      NaN\n",
      "1      NaN\n",
      "2      NaN\n",
      "3      NaN\n",
      "4      NaN\n",
      "        ..\n",
      "2177   NaN\n",
      "2178   NaN\n",
      "2179   NaN\n",
      "2180   NaN\n",
      "2181   NaN\n",
      "Name: post_so2, Length: 2182, dtype: float64\n",
      "Column: post_spo2\n",
      "0        93.0\n",
      "1        93.0\n",
      "2        93.0\n",
      "3        93.0\n",
      "4        93.0\n",
      "        ...  \n",
      "2177    100.0\n",
      "2178    100.0\n",
      "2179    100.0\n",
      "2180    100.0\n",
      "2181    100.0\n",
      "Name: post_spo2, Length: 2182, dtype: float64\n",
      "Column: post_fio2_chartevents\n",
      "0       60.000002\n",
      "1       60.000002\n",
      "2       60.000002\n",
      "3       60.000002\n",
      "4       60.000002\n",
      "          ...    \n",
      "2177    80.000000\n",
      "2178    80.000000\n",
      "2179    80.000000\n",
      "2180    80.000000\n",
      "2181    80.000000\n",
      "Name: post_fio2_chartevents, Length: 2182, dtype: float64\n",
      "Column: post_aado2_calc\n",
      "0       231.550017\n",
      "1       231.550017\n",
      "2       231.550017\n",
      "3       231.550017\n",
      "4       231.550017\n",
      "           ...    \n",
      "2177    343.900000\n",
      "2178    343.900000\n",
      "2179    343.900000\n",
      "2180    343.900000\n",
      "2181    343.900000\n",
      "Name: post_aado2_calc, Length: 2182, dtype: float64\n",
      "Column: post_pao2fio2\n",
      "0       191.666659\n",
      "1       191.666659\n",
      "2       191.666659\n",
      "3       191.666659\n",
      "4       191.666659\n",
      "           ...    \n",
      "2177    198.750000\n",
      "2178    198.750000\n",
      "2179    198.750000\n",
      "2180    198.750000\n",
      "2181    198.750000\n",
      "Name: post_pao2fio2, Length: 2182, dtype: float64\n",
      "Column: post_temperature\n",
      "0      NaN\n",
      "1      NaN\n",
      "2      NaN\n",
      "3      NaN\n",
      "4      NaN\n",
      "        ..\n",
      "2177   NaN\n",
      "2178   NaN\n",
      "2179   NaN\n",
      "2180   NaN\n",
      "2181   NaN\n",
      "Name: post_temperature, Length: 2182, dtype: float64\n",
      "Column: post_fio2\n",
      "0      NaN\n",
      "1      NaN\n",
      "2      NaN\n",
      "3      NaN\n",
      "4      NaN\n",
      "        ..\n",
      "2177   NaN\n",
      "2178   NaN\n",
      "2179   NaN\n",
      "2180   NaN\n",
      "2181   NaN\n",
      "Name: post_fio2, Length: 2182, dtype: float64\n",
      "Column: post_aado2\n",
      "0      NaN\n",
      "1      NaN\n",
      "2      NaN\n",
      "3      NaN\n",
      "4      NaN\n",
      "        ..\n",
      "2177   NaN\n",
      "2178   NaN\n",
      "2179   NaN\n",
      "2180   NaN\n",
      "2181   NaN\n",
      "Name: post_aado2, Length: 2182, dtype: float64\n",
      "Column: post_carboxyhemoglobin\n",
      "0      NaN\n",
      "1      NaN\n",
      "2      NaN\n",
      "3      NaN\n",
      "4      NaN\n",
      "        ..\n",
      "2177   NaN\n",
      "2178   NaN\n",
      "2179   NaN\n",
      "2180   NaN\n",
      "2181   NaN\n",
      "Name: post_carboxyhemoglobin, Length: 2182, dtype: float64\n",
      "Column: post_methemoglobin\n",
      "0      NaN\n",
      "1      NaN\n",
      "2      NaN\n",
      "3      NaN\n",
      "4      NaN\n",
      "        ..\n",
      "2177   NaN\n",
      "2178   NaN\n",
      "2179   NaN\n",
      "2180   NaN\n",
      "2181   NaN\n",
      "Name: post_methemoglobin, Length: 2182, dtype: float64\n",
      "Column: post_calcium\n",
      "0      NaN\n",
      "1      NaN\n",
      "2      NaN\n",
      "3      NaN\n",
      "4      NaN\n",
      "        ..\n",
      "2177   NaN\n",
      "2178   NaN\n",
      "2179   NaN\n",
      "2180   NaN\n",
      "2181   NaN\n",
      "Name: post_calcium, Length: 2182, dtype: float64\n",
      "Column: post_intubated\n",
      "0      NaN\n",
      "1      NaN\n",
      "2      NaN\n",
      "3      NaN\n",
      "4      NaN\n",
      "        ..\n",
      "2177   NaN\n",
      "2178   NaN\n",
      "2179   NaN\n",
      "2180   NaN\n",
      "2181   NaN\n",
      "Name: post_intubated, Length: 2182, dtype: float64\n"
     ]
    }
   ],
   "source": [
    "import pandas as pd\n",
    "import numpy as np\n",
    "\n",
    "# Check and print columns that contain NaN values\n",
    "for col in df.columns:\n",
    "    if df[col].isna().any():  # Check if there are any NaN values in the column\n",
    "        print(f\"Column: {col}\")\n",
    "        print(df[col])"
   ]
  },
  {
   "cell_type": "code",
   "execution_count": 6,
   "metadata": {},
   "outputs": [
    {
     "name": "stdout",
     "output_type": "stream",
     "text": [
      "      subject_id   prescription_start           prescription_drug  \\\n",
      "0          10013  2125-10-05T00:00:00           Phenylephrine HCl   \n",
      "1          10013  2125-10-05T00:00:00                 Vasopressin   \n",
      "2          10013  2125-10-05T00:00:00        Iso-Osmotic Dextrose   \n",
      "3          10013  2125-10-05T00:00:00                  Dobutamine   \n",
      "4          10013  2125-10-05T00:00:00                     Aspirin   \n",
      "...          ...                  ...                         ...   \n",
      "2177       44212  2123-11-25T00:00:00                  Vancomycin   \n",
      "2178       44212  2123-11-25T00:00:00        0.9% Sodium Chloride   \n",
      "2179       44212  2123-11-25T00:00:00  Piperacillin-Tazobactam Na   \n",
      "2180       44212  2123-11-25T00:00:00         Prismasate (B22 K4)   \n",
      "2181       44212  2123-11-25T00:00:00        Iso-Osmotic Dextrose   \n",
      "\n",
      "     prescription_dose_val_rx prescription_dose_unit_rx        pre_charttime  \\\n",
      "0                          60                        mg  2125-10-04T23:59:00   \n",
      "1                         100                      UNIT  2125-10-04T23:59:00   \n",
      "2                          50                        ml  2125-10-04T23:59:00   \n",
      "3                         250                        mg  2125-10-04T23:59:00   \n",
      "4                         325                        mg  2125-10-04T23:59:00   \n",
      "...                       ...                       ...                  ...   \n",
      "2177                      500                        mg  2123-11-24T21:56:00   \n",
      "2178                      100                        mL  2123-11-24T21:56:00   \n",
      "2179                     2.25                         g  2123-11-24T21:56:00   \n",
      "2180                     5000                        mL  2123-11-24T21:56:00   \n",
      "2181                       50                        mL  2123-11-24T21:56:00   \n",
      "\n",
      "        pre_ph  pre_pco2   pre_po2  pre_bicarbonate  ...  \\\n",
      "0     0.011514  0.099369  0.094637              NaN  ...   \n",
      "1     0.011514  0.099369  0.094637              NaN  ...   \n",
      "2     0.011514  0.099369  0.094637              NaN  ...   \n",
      "3     0.011514  0.099369  0.094637              NaN  ...   \n",
      "4     0.011514  0.099369  0.094637              NaN  ...   \n",
      "...        ...       ...       ...              ...  ...   \n",
      "2177  0.011420  0.075710  0.119874              NaN  ...   \n",
      "2178  0.011420  0.075710  0.119874              NaN  ...   \n",
      "2179  0.011420  0.075710  0.119874              NaN  ...   \n",
      "2180  0.011420  0.075710  0.119874              NaN  ...   \n",
      "2181  0.011420  0.075710  0.119874              NaN  ...   \n",
      "\n",
      "      post_fio2_chartevents  post_aado2_calc  post_pao2fio2  post_temperature  \\\n",
      "0                  0.094637         0.365221       0.302313               NaN   \n",
      "1                  0.094637         0.365221       0.302313               NaN   \n",
      "2                  0.094637         0.365221       0.302313               NaN   \n",
      "3                  0.094637         0.365221       0.302313               NaN   \n",
      "4                  0.094637         0.365221       0.302313               NaN   \n",
      "...                     ...              ...            ...               ...   \n",
      "2177               0.126183         0.542429       0.313486               NaN   \n",
      "2178               0.126183         0.542429       0.313486               NaN   \n",
      "2179               0.126183         0.542429       0.313486               NaN   \n",
      "2180               0.126183         0.542429       0.313486               NaN   \n",
      "2181               0.126183         0.542429       0.313486               NaN   \n",
      "\n",
      "      post_fio2  post_aado2  post_carboxyhemoglobin  post_methemoglobin  \\\n",
      "0           NaN         NaN                     NaN                 NaN   \n",
      "1           NaN         NaN                     NaN                 NaN   \n",
      "2           NaN         NaN                     NaN                 NaN   \n",
      "3           NaN         NaN                     NaN                 NaN   \n",
      "4           NaN         NaN                     NaN                 NaN   \n",
      "...         ...         ...                     ...                 ...   \n",
      "2177        NaN         NaN                     NaN                 NaN   \n",
      "2178        NaN         NaN                     NaN                 NaN   \n",
      "2179        NaN         NaN                     NaN                 NaN   \n",
      "2180        NaN         NaN                     NaN                 NaN   \n",
      "2181        NaN         NaN                     NaN                 NaN   \n",
      "\n",
      "      post_calcium  post_intubated  \n",
      "0              NaN             NaN  \n",
      "1              NaN             NaN  \n",
      "2              NaN             NaN  \n",
      "3              NaN             NaN  \n",
      "4              NaN             NaN  \n",
      "...            ...             ...  \n",
      "2177           NaN             NaN  \n",
      "2178           NaN             NaN  \n",
      "2179           NaN             NaN  \n",
      "2180           NaN             NaN  \n",
      "2181           NaN             NaN  \n",
      "\n",
      "[2182 rows x 57 columns]\n"
     ]
    }
   ],
   "source": [
    "import pandas as pd\n",
    "import numpy as np\n",
    "\n",
    "# Select columns that start with 'pre_' or 'post_'\n",
    "selected_columns = df.loc[:, df.columns.str.startswith(('pre_', 'post_'))]\n",
    "\n",
    "# Ensure that we only work with numeric columns\n",
    "numeric_selected_columns = selected_columns.select_dtypes(include=[np.number])\n",
    "\n",
    "# Find the maximum value across all numeric values in the selected columns (ignoring NaN values)\n",
    "max_value = numeric_selected_columns.max().max()\n",
    "\n",
    "# Now, divide only the numeric values in the selected columns by the max_value\n",
    "df.loc[:, numeric_selected_columns.columns] = numeric_selected_columns / max_value\n",
    "\n",
    "# Show the resulting DataFrame\n",
    "print(df)\n"
   ]
  },
  {
   "cell_type": "code",
   "execution_count": 7,
   "metadata": {},
   "outputs": [
    {
     "data": {
      "text/html": [
       "<div>\n",
       "<style scoped>\n",
       "    .dataframe tbody tr th:only-of-type {\n",
       "        vertical-align: middle;\n",
       "    }\n",
       "\n",
       "    .dataframe tbody tr th {\n",
       "        vertical-align: top;\n",
       "    }\n",
       "\n",
       "    .dataframe thead th {\n",
       "        text-align: right;\n",
       "    }\n",
       "</style>\n",
       "<table border=\"1\" class=\"dataframe\">\n",
       "  <thead>\n",
       "    <tr style=\"text-align: right;\">\n",
       "      <th></th>\n",
       "      <th>pre_charttime</th>\n",
       "      <th>pre_ph</th>\n",
       "      <th>pre_pco2</th>\n",
       "      <th>pre_po2</th>\n",
       "      <th>pre_bicarbonate</th>\n",
       "      <th>pre_baseexcess</th>\n",
       "      <th>pre_totalco2</th>\n",
       "      <th>pre_hematocrit</th>\n",
       "      <th>pre_hemoglobin</th>\n",
       "      <th>pre_sodium</th>\n",
       "      <th>...</th>\n",
       "      <th>post_fio2_chartevents</th>\n",
       "      <th>post_aado2_calc</th>\n",
       "      <th>post_pao2fio2</th>\n",
       "      <th>post_temperature</th>\n",
       "      <th>post_fio2</th>\n",
       "      <th>post_aado2</th>\n",
       "      <th>post_carboxyhemoglobin</th>\n",
       "      <th>post_methemoglobin</th>\n",
       "      <th>post_calcium</th>\n",
       "      <th>post_intubated</th>\n",
       "    </tr>\n",
       "  </thead>\n",
       "  <tbody>\n",
       "    <tr>\n",
       "      <th>0</th>\n",
       "      <td>2125-10-04T23:59:00</td>\n",
       "      <td>7.30</td>\n",
       "      <td>63.0</td>\n",
       "      <td>60.0</td>\n",
       "      <td>-200.0</td>\n",
       "      <td>2.0</td>\n",
       "      <td>32.0</td>\n",
       "      <td>-200.0</td>\n",
       "      <td>-200.0</td>\n",
       "      <td>-200.0</td>\n",
       "      <td>...</td>\n",
       "      <td>60.000002</td>\n",
       "      <td>231.550017</td>\n",
       "      <td>191.666659</td>\n",
       "      <td>-200.0</td>\n",
       "      <td>-200.0</td>\n",
       "      <td>-200.0</td>\n",
       "      <td>-200.0</td>\n",
       "      <td>-200.0</td>\n",
       "      <td>-200.0</td>\n",
       "      <td>-200.0</td>\n",
       "    </tr>\n",
       "    <tr>\n",
       "      <th>1</th>\n",
       "      <td>2125-10-04T23:59:00</td>\n",
       "      <td>7.30</td>\n",
       "      <td>63.0</td>\n",
       "      <td>60.0</td>\n",
       "      <td>-200.0</td>\n",
       "      <td>2.0</td>\n",
       "      <td>32.0</td>\n",
       "      <td>-200.0</td>\n",
       "      <td>-200.0</td>\n",
       "      <td>-200.0</td>\n",
       "      <td>...</td>\n",
       "      <td>60.000002</td>\n",
       "      <td>231.550017</td>\n",
       "      <td>191.666659</td>\n",
       "      <td>-200.0</td>\n",
       "      <td>-200.0</td>\n",
       "      <td>-200.0</td>\n",
       "      <td>-200.0</td>\n",
       "      <td>-200.0</td>\n",
       "      <td>-200.0</td>\n",
       "      <td>-200.0</td>\n",
       "    </tr>\n",
       "    <tr>\n",
       "      <th>2</th>\n",
       "      <td>2125-10-04T23:59:00</td>\n",
       "      <td>7.30</td>\n",
       "      <td>63.0</td>\n",
       "      <td>60.0</td>\n",
       "      <td>-200.0</td>\n",
       "      <td>2.0</td>\n",
       "      <td>32.0</td>\n",
       "      <td>-200.0</td>\n",
       "      <td>-200.0</td>\n",
       "      <td>-200.0</td>\n",
       "      <td>...</td>\n",
       "      <td>60.000002</td>\n",
       "      <td>231.550017</td>\n",
       "      <td>191.666659</td>\n",
       "      <td>-200.0</td>\n",
       "      <td>-200.0</td>\n",
       "      <td>-200.0</td>\n",
       "      <td>-200.0</td>\n",
       "      <td>-200.0</td>\n",
       "      <td>-200.0</td>\n",
       "      <td>-200.0</td>\n",
       "    </tr>\n",
       "    <tr>\n",
       "      <th>3</th>\n",
       "      <td>2125-10-04T23:59:00</td>\n",
       "      <td>7.30</td>\n",
       "      <td>63.0</td>\n",
       "      <td>60.0</td>\n",
       "      <td>-200.0</td>\n",
       "      <td>2.0</td>\n",
       "      <td>32.0</td>\n",
       "      <td>-200.0</td>\n",
       "      <td>-200.0</td>\n",
       "      <td>-200.0</td>\n",
       "      <td>...</td>\n",
       "      <td>60.000002</td>\n",
       "      <td>231.550017</td>\n",
       "      <td>191.666659</td>\n",
       "      <td>-200.0</td>\n",
       "      <td>-200.0</td>\n",
       "      <td>-200.0</td>\n",
       "      <td>-200.0</td>\n",
       "      <td>-200.0</td>\n",
       "      <td>-200.0</td>\n",
       "      <td>-200.0</td>\n",
       "    </tr>\n",
       "    <tr>\n",
       "      <th>4</th>\n",
       "      <td>2125-10-04T23:59:00</td>\n",
       "      <td>7.30</td>\n",
       "      <td>63.0</td>\n",
       "      <td>60.0</td>\n",
       "      <td>-200.0</td>\n",
       "      <td>2.0</td>\n",
       "      <td>32.0</td>\n",
       "      <td>-200.0</td>\n",
       "      <td>-200.0</td>\n",
       "      <td>-200.0</td>\n",
       "      <td>...</td>\n",
       "      <td>60.000002</td>\n",
       "      <td>231.550017</td>\n",
       "      <td>191.666659</td>\n",
       "      <td>-200.0</td>\n",
       "      <td>-200.0</td>\n",
       "      <td>-200.0</td>\n",
       "      <td>-200.0</td>\n",
       "      <td>-200.0</td>\n",
       "      <td>-200.0</td>\n",
       "      <td>-200.0</td>\n",
       "    </tr>\n",
       "    <tr>\n",
       "      <th>...</th>\n",
       "      <td>...</td>\n",
       "      <td>...</td>\n",
       "      <td>...</td>\n",
       "      <td>...</td>\n",
       "      <td>...</td>\n",
       "      <td>...</td>\n",
       "      <td>...</td>\n",
       "      <td>...</td>\n",
       "      <td>...</td>\n",
       "      <td>...</td>\n",
       "      <td>...</td>\n",
       "      <td>...</td>\n",
       "      <td>...</td>\n",
       "      <td>...</td>\n",
       "      <td>...</td>\n",
       "      <td>...</td>\n",
       "      <td>...</td>\n",
       "      <td>...</td>\n",
       "      <td>...</td>\n",
       "      <td>...</td>\n",
       "      <td>...</td>\n",
       "    </tr>\n",
       "    <tr>\n",
       "      <th>2177</th>\n",
       "      <td>2123-11-24T21:56:00</td>\n",
       "      <td>7.24</td>\n",
       "      <td>48.0</td>\n",
       "      <td>76.0</td>\n",
       "      <td>-200.0</td>\n",
       "      <td>-6.0</td>\n",
       "      <td>22.0</td>\n",
       "      <td>-200.0</td>\n",
       "      <td>-200.0</td>\n",
       "      <td>-200.0</td>\n",
       "      <td>...</td>\n",
       "      <td>80.000000</td>\n",
       "      <td>343.900000</td>\n",
       "      <td>198.750000</td>\n",
       "      <td>-200.0</td>\n",
       "      <td>-200.0</td>\n",
       "      <td>-200.0</td>\n",
       "      <td>-200.0</td>\n",
       "      <td>-200.0</td>\n",
       "      <td>-200.0</td>\n",
       "      <td>-200.0</td>\n",
       "    </tr>\n",
       "    <tr>\n",
       "      <th>2178</th>\n",
       "      <td>2123-11-24T21:56:00</td>\n",
       "      <td>7.24</td>\n",
       "      <td>48.0</td>\n",
       "      <td>76.0</td>\n",
       "      <td>-200.0</td>\n",
       "      <td>-6.0</td>\n",
       "      <td>22.0</td>\n",
       "      <td>-200.0</td>\n",
       "      <td>-200.0</td>\n",
       "      <td>-200.0</td>\n",
       "      <td>...</td>\n",
       "      <td>80.000000</td>\n",
       "      <td>343.900000</td>\n",
       "      <td>198.750000</td>\n",
       "      <td>-200.0</td>\n",
       "      <td>-200.0</td>\n",
       "      <td>-200.0</td>\n",
       "      <td>-200.0</td>\n",
       "      <td>-200.0</td>\n",
       "      <td>-200.0</td>\n",
       "      <td>-200.0</td>\n",
       "    </tr>\n",
       "    <tr>\n",
       "      <th>2179</th>\n",
       "      <td>2123-11-24T21:56:00</td>\n",
       "      <td>7.24</td>\n",
       "      <td>48.0</td>\n",
       "      <td>76.0</td>\n",
       "      <td>-200.0</td>\n",
       "      <td>-6.0</td>\n",
       "      <td>22.0</td>\n",
       "      <td>-200.0</td>\n",
       "      <td>-200.0</td>\n",
       "      <td>-200.0</td>\n",
       "      <td>...</td>\n",
       "      <td>80.000000</td>\n",
       "      <td>343.900000</td>\n",
       "      <td>198.750000</td>\n",
       "      <td>-200.0</td>\n",
       "      <td>-200.0</td>\n",
       "      <td>-200.0</td>\n",
       "      <td>-200.0</td>\n",
       "      <td>-200.0</td>\n",
       "      <td>-200.0</td>\n",
       "      <td>-200.0</td>\n",
       "    </tr>\n",
       "    <tr>\n",
       "      <th>2180</th>\n",
       "      <td>2123-11-24T21:56:00</td>\n",
       "      <td>7.24</td>\n",
       "      <td>48.0</td>\n",
       "      <td>76.0</td>\n",
       "      <td>-200.0</td>\n",
       "      <td>-6.0</td>\n",
       "      <td>22.0</td>\n",
       "      <td>-200.0</td>\n",
       "      <td>-200.0</td>\n",
       "      <td>-200.0</td>\n",
       "      <td>...</td>\n",
       "      <td>80.000000</td>\n",
       "      <td>343.900000</td>\n",
       "      <td>198.750000</td>\n",
       "      <td>-200.0</td>\n",
       "      <td>-200.0</td>\n",
       "      <td>-200.0</td>\n",
       "      <td>-200.0</td>\n",
       "      <td>-200.0</td>\n",
       "      <td>-200.0</td>\n",
       "      <td>-200.0</td>\n",
       "    </tr>\n",
       "    <tr>\n",
       "      <th>2181</th>\n",
       "      <td>2123-11-24T21:56:00</td>\n",
       "      <td>7.24</td>\n",
       "      <td>48.0</td>\n",
       "      <td>76.0</td>\n",
       "      <td>-200.0</td>\n",
       "      <td>-6.0</td>\n",
       "      <td>22.0</td>\n",
       "      <td>-200.0</td>\n",
       "      <td>-200.0</td>\n",
       "      <td>-200.0</td>\n",
       "      <td>...</td>\n",
       "      <td>80.000000</td>\n",
       "      <td>343.900000</td>\n",
       "      <td>198.750000</td>\n",
       "      <td>-200.0</td>\n",
       "      <td>-200.0</td>\n",
       "      <td>-200.0</td>\n",
       "      <td>-200.0</td>\n",
       "      <td>-200.0</td>\n",
       "      <td>-200.0</td>\n",
       "      <td>-200.0</td>\n",
       "    </tr>\n",
       "  </tbody>\n",
       "</table>\n",
       "<p>2182 rows × 52 columns</p>\n",
       "</div>"
      ],
      "text/plain": [
       "            pre_charttime  pre_ph  pre_pco2  pre_po2  pre_bicarbonate  \\\n",
       "0     2125-10-04T23:59:00    7.30      63.0     60.0           -200.0   \n",
       "1     2125-10-04T23:59:00    7.30      63.0     60.0           -200.0   \n",
       "2     2125-10-04T23:59:00    7.30      63.0     60.0           -200.0   \n",
       "3     2125-10-04T23:59:00    7.30      63.0     60.0           -200.0   \n",
       "4     2125-10-04T23:59:00    7.30      63.0     60.0           -200.0   \n",
       "...                   ...     ...       ...      ...              ...   \n",
       "2177  2123-11-24T21:56:00    7.24      48.0     76.0           -200.0   \n",
       "2178  2123-11-24T21:56:00    7.24      48.0     76.0           -200.0   \n",
       "2179  2123-11-24T21:56:00    7.24      48.0     76.0           -200.0   \n",
       "2180  2123-11-24T21:56:00    7.24      48.0     76.0           -200.0   \n",
       "2181  2123-11-24T21:56:00    7.24      48.0     76.0           -200.0   \n",
       "\n",
       "      pre_baseexcess  pre_totalco2  pre_hematocrit  pre_hemoglobin  \\\n",
       "0                2.0          32.0          -200.0          -200.0   \n",
       "1                2.0          32.0          -200.0          -200.0   \n",
       "2                2.0          32.0          -200.0          -200.0   \n",
       "3                2.0          32.0          -200.0          -200.0   \n",
       "4                2.0          32.0          -200.0          -200.0   \n",
       "...              ...           ...             ...             ...   \n",
       "2177            -6.0          22.0          -200.0          -200.0   \n",
       "2178            -6.0          22.0          -200.0          -200.0   \n",
       "2179            -6.0          22.0          -200.0          -200.0   \n",
       "2180            -6.0          22.0          -200.0          -200.0   \n",
       "2181            -6.0          22.0          -200.0          -200.0   \n",
       "\n",
       "      pre_sodium  ...  post_fio2_chartevents  post_aado2_calc  post_pao2fio2  \\\n",
       "0         -200.0  ...              60.000002       231.550017     191.666659   \n",
       "1         -200.0  ...              60.000002       231.550017     191.666659   \n",
       "2         -200.0  ...              60.000002       231.550017     191.666659   \n",
       "3         -200.0  ...              60.000002       231.550017     191.666659   \n",
       "4         -200.0  ...              60.000002       231.550017     191.666659   \n",
       "...          ...  ...                    ...              ...            ...   \n",
       "2177      -200.0  ...              80.000000       343.900000     198.750000   \n",
       "2178      -200.0  ...              80.000000       343.900000     198.750000   \n",
       "2179      -200.0  ...              80.000000       343.900000     198.750000   \n",
       "2180      -200.0  ...              80.000000       343.900000     198.750000   \n",
       "2181      -200.0  ...              80.000000       343.900000     198.750000   \n",
       "\n",
       "      post_temperature  post_fio2  post_aado2  post_carboxyhemoglobin  \\\n",
       "0               -200.0     -200.0      -200.0                  -200.0   \n",
       "1               -200.0     -200.0      -200.0                  -200.0   \n",
       "2               -200.0     -200.0      -200.0                  -200.0   \n",
       "3               -200.0     -200.0      -200.0                  -200.0   \n",
       "4               -200.0     -200.0      -200.0                  -200.0   \n",
       "...                ...        ...         ...                     ...   \n",
       "2177            -200.0     -200.0      -200.0                  -200.0   \n",
       "2178            -200.0     -200.0      -200.0                  -200.0   \n",
       "2179            -200.0     -200.0      -200.0                  -200.0   \n",
       "2180            -200.0     -200.0      -200.0                  -200.0   \n",
       "2181            -200.0     -200.0      -200.0                  -200.0   \n",
       "\n",
       "      post_methemoglobin  post_calcium  post_intubated  \n",
       "0                 -200.0        -200.0          -200.0  \n",
       "1                 -200.0        -200.0          -200.0  \n",
       "2                 -200.0        -200.0          -200.0  \n",
       "3                 -200.0        -200.0          -200.0  \n",
       "4                 -200.0        -200.0          -200.0  \n",
       "...                  ...           ...             ...  \n",
       "2177              -200.0        -200.0          -200.0  \n",
       "2178              -200.0        -200.0          -200.0  \n",
       "2179              -200.0        -200.0          -200.0  \n",
       "2180              -200.0        -200.0          -200.0  \n",
       "2181              -200.0        -200.0          -200.0  \n",
       "\n",
       "[2182 rows x 52 columns]"
      ]
     },
     "execution_count": 7,
     "metadata": {},
     "output_type": "execute_result"
    }
   ],
   "source": [
    "filtered_df"
   ]
  },
  {
   "cell_type": "code",
   "execution_count": 8,
   "metadata": {},
   "outputs": [],
   "source": [
    "filtered_df = filtered_df.drop(columns=['pre_charttime', 'post_charttime'],axis=1)"
   ]
  },
  {
   "cell_type": "code",
   "execution_count": 9,
   "metadata": {},
   "outputs": [],
   "source": [
    "from sklearn.preprocessing import MinMaxScaler\n",
    "\n",
    "scaler = MinMaxScaler()\n",
    "\n",
    "ndArray = scaler.fit_transform(filtered_df)"
   ]
  },
  {
   "cell_type": "code",
   "execution_count": 10,
   "metadata": {},
   "outputs": [],
   "source": [
    "df_scaled = pd.DataFrame(ndArray, columns = filtered_df.columns)\n",
    "\n",
    "df_scaled\n",
    "\n",
    "df_scaled.to_csv(\"blood.csv\")"
   ]
  },
  {
   "cell_type": "markdown",
   "metadata": {},
   "source": [
    "##Variables to remember\n",
    "df contains the data before preprocessing\n",
    "filtered_data contains -200 in the place of NULL values\n",
    "df_scaled has the scaled data\n",
    "\n",
    "281 x 50 columns"
   ]
  },
  {
   "cell_type": "code",
   "execution_count": 11,
   "metadata": {},
   "outputs": [
    {
     "name": "stderr",
     "output_type": "stream",
     "text": [
      "/opt/anaconda3/envs/bb_dev/lib/python3.12/site-packages/torch/utils/_pytree.py:185: FutureWarning: optree is installed but the version is too old to support PyTorch Dynamo in C++ pytree. C++ pytree support is disabled. Please consider upgrading optree using `python3 -m pip install --upgrade 'optree>=0.13.0'`.\n",
      "  warnings.warn(\n"
     ]
    }
   ],
   "source": [
    "import ctgan"
   ]
  },
  {
   "cell_type": "code",
   "execution_count": 12,
   "metadata": {},
   "outputs": [
    {
     "name": "stderr",
     "output_type": "stream",
     "text": [
      "/opt/anaconda3/envs/bb_dev/lib/python3.12/site-packages/pydantic/_internal/_fields.py:192: UserWarning: Field name \"json\" in \"MonitoringDatasetFormat\" shadows an attribute in parent \"Base\"\n",
      "  warnings.warn(\n"
     ]
    },
    {
     "data": {
      "text/html": [
       "<pre style=\"white-space:pre;overflow-x:auto;line-height:normal;font-family:Menlo,'DejaVu Sans Mono',consolas,'Courier New',monospace\"><span style=\"color: #7fbfbf; text-decoration-color: #7fbfbf\">[03/14/25 19:01:55] </span><span style=\"color: #0069ff; text-decoration-color: #0069ff; font-weight: bold\">INFO    </span> Found credentials in shared credentials file: ~<span style=\"color: #e100e1; text-decoration-color: #e100e1\">/.aws/credentials</span>   <a href=\"file:///opt/anaconda3/envs/bb_dev/lib/python3.12/site-packages/botocore/credentials.py\" target=\"_blank\"><span style=\"color: #7f7f7f; text-decoration-color: #7f7f7f\">credentials.py</span></a><span style=\"color: #7f7f7f; text-decoration-color: #7f7f7f\">:</span><a href=\"file:///opt/anaconda3/envs/bb_dev/lib/python3.12/site-packages/botocore/credentials.py#1278\" target=\"_blank\"><span style=\"color: #7f7f7f; text-decoration-color: #7f7f7f\">1278</span></a>\n",
       "</pre>\n"
      ],
      "text/plain": [
       "\u001b[2;36m[03/14/25 19:01:55]\u001b[0m\u001b[2;36m \u001b[0m\u001b[1;38;2;0;105;255mINFO    \u001b[0m Found credentials in shared credentials file: ~\u001b[38;2;225;0;225m/.aws/\u001b[0m\u001b[38;2;225;0;225mcredentials\u001b[0m   \u001b]8;id=270454;file:///opt/anaconda3/envs/bb_dev/lib/python3.12/site-packages/botocore/credentials.py\u001b\\\u001b[2mcredentials.py\u001b[0m\u001b]8;;\u001b\\\u001b[2m:\u001b[0m\u001b]8;id=503526;file:///opt/anaconda3/envs/bb_dev/lib/python3.12/site-packages/botocore/credentials.py#1278\u001b\\\u001b[2m1278\u001b[0m\u001b]8;;\u001b\\\n"
      ]
     },
     "metadata": {},
     "output_type": "display_data"
    },
    {
     "name": "stdout",
     "output_type": "stream",
     "text": [
      "sagemaker.config INFO - Not applying SDK defaults from location: /Library/Application Support/sagemaker/config.yaml\n",
      "sagemaker.config INFO - Not applying SDK defaults from location: /Users/poojasrisundaresan/Library/Application Support/sagemaker/config.yaml\n"
     ]
    },
    {
     "data": {
      "text/html": [
       "<pre style=\"white-space:pre;overflow-x:auto;line-height:normal;font-family:Menlo,'DejaVu Sans Mono',consolas,'Courier New',monospace\"><span style=\"color: #7fbfbf; text-decoration-color: #7fbfbf\">                    </span><span style=\"color: #0069ff; text-decoration-color: #0069ff; font-weight: bold\">INFO    </span> Found credentials in shared credentials file: ~<span style=\"color: #e100e1; text-decoration-color: #e100e1\">/.aws/credentials</span>   <a href=\"file:///opt/anaconda3/envs/bb_dev/lib/python3.12/site-packages/botocore/credentials.py\" target=\"_blank\"><span style=\"color: #7f7f7f; text-decoration-color: #7f7f7f\">credentials.py</span></a><span style=\"color: #7f7f7f; text-decoration-color: #7f7f7f\">:</span><a href=\"file:///opt/anaconda3/envs/bb_dev/lib/python3.12/site-packages/botocore/credentials.py#1278\" target=\"_blank\"><span style=\"color: #7f7f7f; text-decoration-color: #7f7f7f\">1278</span></a>\n",
       "</pre>\n"
      ],
      "text/plain": [
       "\u001b[2;36m                   \u001b[0m\u001b[2;36m \u001b[0m\u001b[1;38;2;0;105;255mINFO    \u001b[0m Found credentials in shared credentials file: ~\u001b[38;2;225;0;225m/.aws/\u001b[0m\u001b[38;2;225;0;225mcredentials\u001b[0m   \u001b]8;id=489603;file:///opt/anaconda3/envs/bb_dev/lib/python3.12/site-packages/botocore/credentials.py\u001b\\\u001b[2mcredentials.py\u001b[0m\u001b]8;;\u001b\\\u001b[2m:\u001b[0m\u001b]8;id=280660;file:///opt/anaconda3/envs/bb_dev/lib/python3.12/site-packages/botocore/credentials.py#1278\u001b\\\u001b[2m1278\u001b[0m\u001b]8;;\u001b\\\n"
      ]
     },
     "metadata": {},
     "output_type": "display_data"
    }
   ],
   "source": [
    "import sagemaker\n",
    "import boto3\n",
    "from sagemaker.pytorch import PyTorch\n",
    "import os\n",
    "\n",
    "boto_session = boto3.Session(region_name='us-east-1')\n",
    "sagemaker_session = sagemaker.Session(boto_session=boto_session)\n",
    "\n",
    "role = \"arn:aws:iam::211125439249:role/service-role/AmazonSageMaker-ExecutionRole-20250314T153928\""
   ]
  },
  {
   "cell_type": "code",
   "execution_count": null,
   "metadata": {},
   "outputs": [
    {
     "name": "stdout",
     "output_type": "stream",
     "text": [
      "Args: Namespace(epochs=300, batch_size=500, output_data_dir='./output', model_dir='./model', train='')\n",
      "Reading training data from: blood.csv\n",
      "Training CTGAN...\n"
     ]
    },
    {
     "data": {
      "text/html": [
       "<pre style=\"white-space:pre;overflow-x:auto;line-height:normal;font-family:Menlo,'DejaVu Sans Mono',consolas,'Courier New',monospace\"><span style=\"color: #7fbfbf; text-decoration-color: #7fbfbf\">[03/14/25 19:04:28] </span><span style=\"color: #0069ff; text-decoration-color: #0069ff; font-weight: bold\">INFO    </span> Guidance: There are no missing values in column Unnamed: <span style=\"color: #008080; text-decoration-color: #008080; font-weight: bold\">0</span>. Extra column   <a href=\"file:///opt/anaconda3/envs/bb_dev/lib/python3.12/site-packages/rdt/transformers/null.py\" target=\"_blank\"><span style=\"color: #7f7f7f; text-decoration-color: #7f7f7f\">null.py</span></a><span style=\"color: #7f7f7f; text-decoration-color: #7f7f7f\">:</span><a href=\"file:///opt/anaconda3/envs/bb_dev/lib/python3.12/site-packages/rdt/transformers/null.py#119\" target=\"_blank\"><span style=\"color: #7f7f7f; text-decoration-color: #7f7f7f\">119</span></a>\n",
       "<span style=\"color: #7fbfbf; text-decoration-color: #7fbfbf\">                    </span>         not created.                                                               <span style=\"color: #7f7f7f; text-decoration-color: #7f7f7f\">           </span>\n",
       "</pre>\n"
      ],
      "text/plain": [
       "\u001b[2;36m[03/14/25 19:04:28]\u001b[0m\u001b[2;36m \u001b[0m\u001b[1;38;2;0;105;255mINFO    \u001b[0m Guidance: There are no missing values in column Unnamed: \u001b[1;36m0\u001b[0m. Extra column   \u001b]8;id=186393;file:///opt/anaconda3/envs/bb_dev/lib/python3.12/site-packages/rdt/transformers/null.py\u001b\\\u001b[2mnull.py\u001b[0m\u001b]8;;\u001b\\\u001b[2m:\u001b[0m\u001b]8;id=375302;file:///opt/anaconda3/envs/bb_dev/lib/python3.12/site-packages/rdt/transformers/null.py#119\u001b\\\u001b[2m119\u001b[0m\u001b]8;;\u001b\\\n",
       "\u001b[2;36m                    \u001b[0m         not created.                                                               \u001b[2m           \u001b[0m\n"
      ]
     },
     "metadata": {},
     "output_type": "display_data"
    },
    {
     "data": {
      "text/html": [
       "<pre style=\"white-space:pre;overflow-x:auto;line-height:normal;font-family:Menlo,'DejaVu Sans Mono',consolas,'Courier New',monospace\"><span style=\"color: #7fbfbf; text-decoration-color: #7fbfbf\">                    </span><span style=\"color: #0069ff; text-decoration-color: #0069ff; font-weight: bold\">INFO    </span> Guidance: There are no missing values in column pre_ph. Extra column not   <a href=\"file:///opt/anaconda3/envs/bb_dev/lib/python3.12/site-packages/rdt/transformers/null.py\" target=\"_blank\"><span style=\"color: #7f7f7f; text-decoration-color: #7f7f7f\">null.py</span></a><span style=\"color: #7f7f7f; text-decoration-color: #7f7f7f\">:</span><a href=\"file:///opt/anaconda3/envs/bb_dev/lib/python3.12/site-packages/rdt/transformers/null.py#119\" target=\"_blank\"><span style=\"color: #7f7f7f; text-decoration-color: #7f7f7f\">119</span></a>\n",
       "<span style=\"color: #7fbfbf; text-decoration-color: #7fbfbf\">                    </span>         created.                                                                   <span style=\"color: #7f7f7f; text-decoration-color: #7f7f7f\">           </span>\n",
       "</pre>\n"
      ],
      "text/plain": [
       "\u001b[2;36m                   \u001b[0m\u001b[2;36m \u001b[0m\u001b[1;38;2;0;105;255mINFO    \u001b[0m Guidance: There are no missing values in column pre_ph. Extra column not   \u001b]8;id=621267;file:///opt/anaconda3/envs/bb_dev/lib/python3.12/site-packages/rdt/transformers/null.py\u001b\\\u001b[2mnull.py\u001b[0m\u001b]8;;\u001b\\\u001b[2m:\u001b[0m\u001b]8;id=744522;file:///opt/anaconda3/envs/bb_dev/lib/python3.12/site-packages/rdt/transformers/null.py#119\u001b\\\u001b[2m119\u001b[0m\u001b]8;;\u001b\\\n",
       "\u001b[2;36m                    \u001b[0m         created.                                                                   \u001b[2m           \u001b[0m\n"
      ]
     },
     "metadata": {},
     "output_type": "display_data"
    },
    {
     "data": {
      "text/html": [
       "<pre style=\"white-space:pre;overflow-x:auto;line-height:normal;font-family:Menlo,'DejaVu Sans Mono',consolas,'Courier New',monospace\"><span style=\"color: #7fbfbf; text-decoration-color: #7fbfbf\">                    </span><span style=\"color: #0069ff; text-decoration-color: #0069ff; font-weight: bold\">INFO    </span> Guidance: There are no missing values in column pre_pco2. Extra column not <a href=\"file:///opt/anaconda3/envs/bb_dev/lib/python3.12/site-packages/rdt/transformers/null.py\" target=\"_blank\"><span style=\"color: #7f7f7f; text-decoration-color: #7f7f7f\">null.py</span></a><span style=\"color: #7f7f7f; text-decoration-color: #7f7f7f\">:</span><a href=\"file:///opt/anaconda3/envs/bb_dev/lib/python3.12/site-packages/rdt/transformers/null.py#119\" target=\"_blank\"><span style=\"color: #7f7f7f; text-decoration-color: #7f7f7f\">119</span></a>\n",
       "<span style=\"color: #7fbfbf; text-decoration-color: #7fbfbf\">                    </span>         created.                                                                   <span style=\"color: #7f7f7f; text-decoration-color: #7f7f7f\">           </span>\n",
       "</pre>\n"
      ],
      "text/plain": [
       "\u001b[2;36m                   \u001b[0m\u001b[2;36m \u001b[0m\u001b[1;38;2;0;105;255mINFO    \u001b[0m Guidance: There are no missing values in column pre_pco2. Extra column not \u001b]8;id=635996;file:///opt/anaconda3/envs/bb_dev/lib/python3.12/site-packages/rdt/transformers/null.py\u001b\\\u001b[2mnull.py\u001b[0m\u001b]8;;\u001b\\\u001b[2m:\u001b[0m\u001b]8;id=31919;file:///opt/anaconda3/envs/bb_dev/lib/python3.12/site-packages/rdt/transformers/null.py#119\u001b\\\u001b[2m119\u001b[0m\u001b]8;;\u001b\\\n",
       "\u001b[2;36m                    \u001b[0m         created.                                                                   \u001b[2m           \u001b[0m\n"
      ]
     },
     "metadata": {},
     "output_type": "display_data"
    },
    {
     "data": {
      "text/html": [
       "<pre style=\"white-space:pre;overflow-x:auto;line-height:normal;font-family:Menlo,'DejaVu Sans Mono',consolas,'Courier New',monospace\"><span style=\"color: #7fbfbf; text-decoration-color: #7fbfbf\">[03/14/25 19:04:29] </span><span style=\"color: #0069ff; text-decoration-color: #0069ff; font-weight: bold\">INFO    </span> Guidance: There are no missing values in column pre_po2. Extra column not  <a href=\"file:///opt/anaconda3/envs/bb_dev/lib/python3.12/site-packages/rdt/transformers/null.py\" target=\"_blank\"><span style=\"color: #7f7f7f; text-decoration-color: #7f7f7f\">null.py</span></a><span style=\"color: #7f7f7f; text-decoration-color: #7f7f7f\">:</span><a href=\"file:///opt/anaconda3/envs/bb_dev/lib/python3.12/site-packages/rdt/transformers/null.py#119\" target=\"_blank\"><span style=\"color: #7f7f7f; text-decoration-color: #7f7f7f\">119</span></a>\n",
       "<span style=\"color: #7fbfbf; text-decoration-color: #7fbfbf\">                    </span>         created.                                                                   <span style=\"color: #7f7f7f; text-decoration-color: #7f7f7f\">           </span>\n",
       "</pre>\n"
      ],
      "text/plain": [
       "\u001b[2;36m[03/14/25 19:04:29]\u001b[0m\u001b[2;36m \u001b[0m\u001b[1;38;2;0;105;255mINFO    \u001b[0m Guidance: There are no missing values in column pre_po2. Extra column not  \u001b]8;id=238541;file:///opt/anaconda3/envs/bb_dev/lib/python3.12/site-packages/rdt/transformers/null.py\u001b\\\u001b[2mnull.py\u001b[0m\u001b]8;;\u001b\\\u001b[2m:\u001b[0m\u001b]8;id=252360;file:///opt/anaconda3/envs/bb_dev/lib/python3.12/site-packages/rdt/transformers/null.py#119\u001b\\\u001b[2m119\u001b[0m\u001b]8;;\u001b\\\n",
       "\u001b[2;36m                    \u001b[0m         created.                                                                   \u001b[2m           \u001b[0m\n"
      ]
     },
     "metadata": {},
     "output_type": "display_data"
    },
    {
     "data": {
      "text/html": [
       "<pre style=\"white-space:pre;overflow-x:auto;line-height:normal;font-family:Menlo,'DejaVu Sans Mono',consolas,'Courier New',monospace\"><span style=\"color: #7fbfbf; text-decoration-color: #7fbfbf\">                    </span><span style=\"color: #0069ff; text-decoration-color: #0069ff; font-weight: bold\">INFO    </span> Guidance: There are no missing values in column pre_bicarbonate. Extra     <a href=\"file:///opt/anaconda3/envs/bb_dev/lib/python3.12/site-packages/rdt/transformers/null.py\" target=\"_blank\"><span style=\"color: #7f7f7f; text-decoration-color: #7f7f7f\">null.py</span></a><span style=\"color: #7f7f7f; text-decoration-color: #7f7f7f\">:</span><a href=\"file:///opt/anaconda3/envs/bb_dev/lib/python3.12/site-packages/rdt/transformers/null.py#119\" target=\"_blank\"><span style=\"color: #7f7f7f; text-decoration-color: #7f7f7f\">119</span></a>\n",
       "<span style=\"color: #7fbfbf; text-decoration-color: #7fbfbf\">                    </span>         column not created.                                                        <span style=\"color: #7f7f7f; text-decoration-color: #7f7f7f\">           </span>\n",
       "</pre>\n"
      ],
      "text/plain": [
       "\u001b[2;36m                   \u001b[0m\u001b[2;36m \u001b[0m\u001b[1;38;2;0;105;255mINFO    \u001b[0m Guidance: There are no missing values in column pre_bicarbonate. Extra     \u001b]8;id=700483;file:///opt/anaconda3/envs/bb_dev/lib/python3.12/site-packages/rdt/transformers/null.py\u001b\\\u001b[2mnull.py\u001b[0m\u001b]8;;\u001b\\\u001b[2m:\u001b[0m\u001b]8;id=309607;file:///opt/anaconda3/envs/bb_dev/lib/python3.12/site-packages/rdt/transformers/null.py#119\u001b\\\u001b[2m119\u001b[0m\u001b]8;;\u001b\\\n",
       "\u001b[2;36m                    \u001b[0m         column not created.                                                        \u001b[2m           \u001b[0m\n"
      ]
     },
     "metadata": {},
     "output_type": "display_data"
    },
    {
     "data": {
      "text/html": [
       "<pre style=\"white-space:pre;overflow-x:auto;line-height:normal;font-family:Menlo,'DejaVu Sans Mono',consolas,'Courier New',monospace\"><span style=\"color: #7fbfbf; text-decoration-color: #7fbfbf\">                    </span><span style=\"color: #0069ff; text-decoration-color: #0069ff; font-weight: bold\">INFO    </span> Guidance: There are no missing values in column pre_baseexcess. Extra      <a href=\"file:///opt/anaconda3/envs/bb_dev/lib/python3.12/site-packages/rdt/transformers/null.py\" target=\"_blank\"><span style=\"color: #7f7f7f; text-decoration-color: #7f7f7f\">null.py</span></a><span style=\"color: #7f7f7f; text-decoration-color: #7f7f7f\">:</span><a href=\"file:///opt/anaconda3/envs/bb_dev/lib/python3.12/site-packages/rdt/transformers/null.py#119\" target=\"_blank\"><span style=\"color: #7f7f7f; text-decoration-color: #7f7f7f\">119</span></a>\n",
       "<span style=\"color: #7fbfbf; text-decoration-color: #7fbfbf\">                    </span>         column not created.                                                        <span style=\"color: #7f7f7f; text-decoration-color: #7f7f7f\">           </span>\n",
       "</pre>\n"
      ],
      "text/plain": [
       "\u001b[2;36m                   \u001b[0m\u001b[2;36m \u001b[0m\u001b[1;38;2;0;105;255mINFO    \u001b[0m Guidance: There are no missing values in column pre_baseexcess. Extra      \u001b]8;id=169167;file:///opt/anaconda3/envs/bb_dev/lib/python3.12/site-packages/rdt/transformers/null.py\u001b\\\u001b[2mnull.py\u001b[0m\u001b]8;;\u001b\\\u001b[2m:\u001b[0m\u001b]8;id=205131;file:///opt/anaconda3/envs/bb_dev/lib/python3.12/site-packages/rdt/transformers/null.py#119\u001b\\\u001b[2m119\u001b[0m\u001b]8;;\u001b\\\n",
       "\u001b[2;36m                    \u001b[0m         column not created.                                                        \u001b[2m           \u001b[0m\n"
      ]
     },
     "metadata": {},
     "output_type": "display_data"
    },
    {
     "data": {
      "text/html": [
       "<pre style=\"white-space:pre;overflow-x:auto;line-height:normal;font-family:Menlo,'DejaVu Sans Mono',consolas,'Courier New',monospace\"><span style=\"color: #7fbfbf; text-decoration-color: #7fbfbf\">                    </span><span style=\"color: #0069ff; text-decoration-color: #0069ff; font-weight: bold\">INFO    </span> Guidance: There are no missing values in column pre_totalco2. Extra column <a href=\"file:///opt/anaconda3/envs/bb_dev/lib/python3.12/site-packages/rdt/transformers/null.py\" target=\"_blank\"><span style=\"color: #7f7f7f; text-decoration-color: #7f7f7f\">null.py</span></a><span style=\"color: #7f7f7f; text-decoration-color: #7f7f7f\">:</span><a href=\"file:///opt/anaconda3/envs/bb_dev/lib/python3.12/site-packages/rdt/transformers/null.py#119\" target=\"_blank\"><span style=\"color: #7f7f7f; text-decoration-color: #7f7f7f\">119</span></a>\n",
       "<span style=\"color: #7fbfbf; text-decoration-color: #7fbfbf\">                    </span>         not created.                                                               <span style=\"color: #7f7f7f; text-decoration-color: #7f7f7f\">           </span>\n",
       "</pre>\n"
      ],
      "text/plain": [
       "\u001b[2;36m                   \u001b[0m\u001b[2;36m \u001b[0m\u001b[1;38;2;0;105;255mINFO    \u001b[0m Guidance: There are no missing values in column pre_totalco2. Extra column \u001b]8;id=115511;file:///opt/anaconda3/envs/bb_dev/lib/python3.12/site-packages/rdt/transformers/null.py\u001b\\\u001b[2mnull.py\u001b[0m\u001b]8;;\u001b\\\u001b[2m:\u001b[0m\u001b]8;id=197200;file:///opt/anaconda3/envs/bb_dev/lib/python3.12/site-packages/rdt/transformers/null.py#119\u001b\\\u001b[2m119\u001b[0m\u001b]8;;\u001b\\\n",
       "\u001b[2;36m                    \u001b[0m         not created.                                                               \u001b[2m           \u001b[0m\n"
      ]
     },
     "metadata": {},
     "output_type": "display_data"
    },
    {
     "data": {
      "text/html": [
       "<pre style=\"white-space:pre;overflow-x:auto;line-height:normal;font-family:Menlo,'DejaVu Sans Mono',consolas,'Courier New',monospace\"><span style=\"color: #7fbfbf; text-decoration-color: #7fbfbf\">                    </span><span style=\"color: #0069ff; text-decoration-color: #0069ff; font-weight: bold\">INFO    </span> Guidance: There are no missing values in column pre_hematocrit. Extra      <a href=\"file:///opt/anaconda3/envs/bb_dev/lib/python3.12/site-packages/rdt/transformers/null.py\" target=\"_blank\"><span style=\"color: #7f7f7f; text-decoration-color: #7f7f7f\">null.py</span></a><span style=\"color: #7f7f7f; text-decoration-color: #7f7f7f\">:</span><a href=\"file:///opt/anaconda3/envs/bb_dev/lib/python3.12/site-packages/rdt/transformers/null.py#119\" target=\"_blank\"><span style=\"color: #7f7f7f; text-decoration-color: #7f7f7f\">119</span></a>\n",
       "<span style=\"color: #7fbfbf; text-decoration-color: #7fbfbf\">                    </span>         column not created.                                                        <span style=\"color: #7f7f7f; text-decoration-color: #7f7f7f\">           </span>\n",
       "</pre>\n"
      ],
      "text/plain": [
       "\u001b[2;36m                   \u001b[0m\u001b[2;36m \u001b[0m\u001b[1;38;2;0;105;255mINFO    \u001b[0m Guidance: There are no missing values in column pre_hematocrit. Extra      \u001b]8;id=414787;file:///opt/anaconda3/envs/bb_dev/lib/python3.12/site-packages/rdt/transformers/null.py\u001b\\\u001b[2mnull.py\u001b[0m\u001b]8;;\u001b\\\u001b[2m:\u001b[0m\u001b]8;id=457701;file:///opt/anaconda3/envs/bb_dev/lib/python3.12/site-packages/rdt/transformers/null.py#119\u001b\\\u001b[2m119\u001b[0m\u001b]8;;\u001b\\\n",
       "\u001b[2;36m                    \u001b[0m         column not created.                                                        \u001b[2m           \u001b[0m\n"
      ]
     },
     "metadata": {},
     "output_type": "display_data"
    },
    {
     "data": {
      "text/html": [
       "<pre style=\"white-space:pre;overflow-x:auto;line-height:normal;font-family:Menlo,'DejaVu Sans Mono',consolas,'Courier New',monospace\"><span style=\"color: #7fbfbf; text-decoration-color: #7fbfbf\">                    </span><span style=\"color: #0069ff; text-decoration-color: #0069ff; font-weight: bold\">INFO    </span> Guidance: There are no missing values in column pre_hemoglobin. Extra      <a href=\"file:///opt/anaconda3/envs/bb_dev/lib/python3.12/site-packages/rdt/transformers/null.py\" target=\"_blank\"><span style=\"color: #7f7f7f; text-decoration-color: #7f7f7f\">null.py</span></a><span style=\"color: #7f7f7f; text-decoration-color: #7f7f7f\">:</span><a href=\"file:///opt/anaconda3/envs/bb_dev/lib/python3.12/site-packages/rdt/transformers/null.py#119\" target=\"_blank\"><span style=\"color: #7f7f7f; text-decoration-color: #7f7f7f\">119</span></a>\n",
       "<span style=\"color: #7fbfbf; text-decoration-color: #7fbfbf\">                    </span>         column not created.                                                        <span style=\"color: #7f7f7f; text-decoration-color: #7f7f7f\">           </span>\n",
       "</pre>\n"
      ],
      "text/plain": [
       "\u001b[2;36m                   \u001b[0m\u001b[2;36m \u001b[0m\u001b[1;38;2;0;105;255mINFO    \u001b[0m Guidance: There are no missing values in column pre_hemoglobin. Extra      \u001b]8;id=405427;file:///opt/anaconda3/envs/bb_dev/lib/python3.12/site-packages/rdt/transformers/null.py\u001b\\\u001b[2mnull.py\u001b[0m\u001b]8;;\u001b\\\u001b[2m:\u001b[0m\u001b]8;id=85914;file:///opt/anaconda3/envs/bb_dev/lib/python3.12/site-packages/rdt/transformers/null.py#119\u001b\\\u001b[2m119\u001b[0m\u001b]8;;\u001b\\\n",
       "\u001b[2;36m                    \u001b[0m         column not created.                                                        \u001b[2m           \u001b[0m\n"
      ]
     },
     "metadata": {},
     "output_type": "display_data"
    },
    {
     "data": {
      "text/html": [
       "<pre style=\"white-space:pre;overflow-x:auto;line-height:normal;font-family:Menlo,'DejaVu Sans Mono',consolas,'Courier New',monospace\"><span style=\"color: #7fbfbf; text-decoration-color: #7fbfbf\">                    </span><span style=\"color: #0069ff; text-decoration-color: #0069ff; font-weight: bold\">INFO    </span> Guidance: There are no missing values in column pre_sodium. Extra column   <a href=\"file:///opt/anaconda3/envs/bb_dev/lib/python3.12/site-packages/rdt/transformers/null.py\" target=\"_blank\"><span style=\"color: #7f7f7f; text-decoration-color: #7f7f7f\">null.py</span></a><span style=\"color: #7f7f7f; text-decoration-color: #7f7f7f\">:</span><a href=\"file:///opt/anaconda3/envs/bb_dev/lib/python3.12/site-packages/rdt/transformers/null.py#119\" target=\"_blank\"><span style=\"color: #7f7f7f; text-decoration-color: #7f7f7f\">119</span></a>\n",
       "<span style=\"color: #7fbfbf; text-decoration-color: #7fbfbf\">                    </span>         not created.                                                               <span style=\"color: #7f7f7f; text-decoration-color: #7f7f7f\">           </span>\n",
       "</pre>\n"
      ],
      "text/plain": [
       "\u001b[2;36m                   \u001b[0m\u001b[2;36m \u001b[0m\u001b[1;38;2;0;105;255mINFO    \u001b[0m Guidance: There are no missing values in column pre_sodium. Extra column   \u001b]8;id=605149;file:///opt/anaconda3/envs/bb_dev/lib/python3.12/site-packages/rdt/transformers/null.py\u001b\\\u001b[2mnull.py\u001b[0m\u001b]8;;\u001b\\\u001b[2m:\u001b[0m\u001b]8;id=638540;file:///opt/anaconda3/envs/bb_dev/lib/python3.12/site-packages/rdt/transformers/null.py#119\u001b\\\u001b[2m119\u001b[0m\u001b]8;;\u001b\\\n",
       "\u001b[2;36m                    \u001b[0m         not created.                                                               \u001b[2m           \u001b[0m\n"
      ]
     },
     "metadata": {},
     "output_type": "display_data"
    },
    {
     "data": {
      "text/html": [
       "<pre style=\"white-space:pre;overflow-x:auto;line-height:normal;font-family:Menlo,'DejaVu Sans Mono',consolas,'Courier New',monospace\"><span style=\"color: #7fbfbf; text-decoration-color: #7fbfbf\">                    </span><span style=\"color: #0069ff; text-decoration-color: #0069ff; font-weight: bold\">INFO    </span> Guidance: There are no missing values in column pre_potassium. Extra       <a href=\"file:///opt/anaconda3/envs/bb_dev/lib/python3.12/site-packages/rdt/transformers/null.py\" target=\"_blank\"><span style=\"color: #7f7f7f; text-decoration-color: #7f7f7f\">null.py</span></a><span style=\"color: #7f7f7f; text-decoration-color: #7f7f7f\">:</span><a href=\"file:///opt/anaconda3/envs/bb_dev/lib/python3.12/site-packages/rdt/transformers/null.py#119\" target=\"_blank\"><span style=\"color: #7f7f7f; text-decoration-color: #7f7f7f\">119</span></a>\n",
       "<span style=\"color: #7fbfbf; text-decoration-color: #7fbfbf\">                    </span>         column not created.                                                        <span style=\"color: #7f7f7f; text-decoration-color: #7f7f7f\">           </span>\n",
       "</pre>\n"
      ],
      "text/plain": [
       "\u001b[2;36m                   \u001b[0m\u001b[2;36m \u001b[0m\u001b[1;38;2;0;105;255mINFO    \u001b[0m Guidance: There are no missing values in column pre_potassium. Extra       \u001b]8;id=322545;file:///opt/anaconda3/envs/bb_dev/lib/python3.12/site-packages/rdt/transformers/null.py\u001b\\\u001b[2mnull.py\u001b[0m\u001b]8;;\u001b\\\u001b[2m:\u001b[0m\u001b]8;id=201487;file:///opt/anaconda3/envs/bb_dev/lib/python3.12/site-packages/rdt/transformers/null.py#119\u001b\\\u001b[2m119\u001b[0m\u001b]8;;\u001b\\\n",
       "\u001b[2;36m                    \u001b[0m         column not created.                                                        \u001b[2m           \u001b[0m\n"
      ]
     },
     "metadata": {},
     "output_type": "display_data"
    },
    {
     "data": {
      "text/html": [
       "<pre style=\"white-space:pre;overflow-x:auto;line-height:normal;font-family:Menlo,'DejaVu Sans Mono',consolas,'Courier New',monospace\"><span style=\"color: #7fbfbf; text-decoration-color: #7fbfbf\">                    </span><span style=\"color: #0069ff; text-decoration-color: #0069ff; font-weight: bold\">INFO    </span> Guidance: There are no missing values in column pre_chloride. Extra column <a href=\"file:///opt/anaconda3/envs/bb_dev/lib/python3.12/site-packages/rdt/transformers/null.py\" target=\"_blank\"><span style=\"color: #7f7f7f; text-decoration-color: #7f7f7f\">null.py</span></a><span style=\"color: #7f7f7f; text-decoration-color: #7f7f7f\">:</span><a href=\"file:///opt/anaconda3/envs/bb_dev/lib/python3.12/site-packages/rdt/transformers/null.py#119\" target=\"_blank\"><span style=\"color: #7f7f7f; text-decoration-color: #7f7f7f\">119</span></a>\n",
       "<span style=\"color: #7fbfbf; text-decoration-color: #7fbfbf\">                    </span>         not created.                                                               <span style=\"color: #7f7f7f; text-decoration-color: #7f7f7f\">           </span>\n",
       "</pre>\n"
      ],
      "text/plain": [
       "\u001b[2;36m                   \u001b[0m\u001b[2;36m \u001b[0m\u001b[1;38;2;0;105;255mINFO    \u001b[0m Guidance: There are no missing values in column pre_chloride. Extra column \u001b]8;id=238674;file:///opt/anaconda3/envs/bb_dev/lib/python3.12/site-packages/rdt/transformers/null.py\u001b\\\u001b[2mnull.py\u001b[0m\u001b]8;;\u001b\\\u001b[2m:\u001b[0m\u001b]8;id=377975;file:///opt/anaconda3/envs/bb_dev/lib/python3.12/site-packages/rdt/transformers/null.py#119\u001b\\\u001b[2m119\u001b[0m\u001b]8;;\u001b\\\n",
       "\u001b[2;36m                    \u001b[0m         not created.                                                               \u001b[2m           \u001b[0m\n"
      ]
     },
     "metadata": {},
     "output_type": "display_data"
    },
    {
     "data": {
      "text/html": [
       "<pre style=\"white-space:pre;overflow-x:auto;line-height:normal;font-family:Menlo,'DejaVu Sans Mono',consolas,'Courier New',monospace\"><span style=\"color: #7fbfbf; text-decoration-color: #7fbfbf\">                    </span><span style=\"color: #0069ff; text-decoration-color: #0069ff; font-weight: bold\">INFO    </span> Guidance: There are no missing values in column pre_glucose. Extra column  <a href=\"file:///opt/anaconda3/envs/bb_dev/lib/python3.12/site-packages/rdt/transformers/null.py\" target=\"_blank\"><span style=\"color: #7f7f7f; text-decoration-color: #7f7f7f\">null.py</span></a><span style=\"color: #7f7f7f; text-decoration-color: #7f7f7f\">:</span><a href=\"file:///opt/anaconda3/envs/bb_dev/lib/python3.12/site-packages/rdt/transformers/null.py#119\" target=\"_blank\"><span style=\"color: #7f7f7f; text-decoration-color: #7f7f7f\">119</span></a>\n",
       "<span style=\"color: #7fbfbf; text-decoration-color: #7fbfbf\">                    </span>         not created.                                                               <span style=\"color: #7f7f7f; text-decoration-color: #7f7f7f\">           </span>\n",
       "</pre>\n"
      ],
      "text/plain": [
       "\u001b[2;36m                   \u001b[0m\u001b[2;36m \u001b[0m\u001b[1;38;2;0;105;255mINFO    \u001b[0m Guidance: There are no missing values in column pre_glucose. Extra column  \u001b]8;id=405739;file:///opt/anaconda3/envs/bb_dev/lib/python3.12/site-packages/rdt/transformers/null.py\u001b\\\u001b[2mnull.py\u001b[0m\u001b]8;;\u001b\\\u001b[2m:\u001b[0m\u001b]8;id=575648;file:///opt/anaconda3/envs/bb_dev/lib/python3.12/site-packages/rdt/transformers/null.py#119\u001b\\\u001b[2m119\u001b[0m\u001b]8;;\u001b\\\n",
       "\u001b[2;36m                    \u001b[0m         not created.                                                               \u001b[2m           \u001b[0m\n"
      ]
     },
     "metadata": {},
     "output_type": "display_data"
    },
    {
     "data": {
      "text/html": [
       "<pre style=\"white-space:pre;overflow-x:auto;line-height:normal;font-family:Menlo,'DejaVu Sans Mono',consolas,'Courier New',monospace\"><span style=\"color: #7fbfbf; text-decoration-color: #7fbfbf\">                    </span><span style=\"color: #0069ff; text-decoration-color: #0069ff; font-weight: bold\">INFO    </span> Guidance: There are no missing values in column pre_lactate. Extra column  <a href=\"file:///opt/anaconda3/envs/bb_dev/lib/python3.12/site-packages/rdt/transformers/null.py\" target=\"_blank\"><span style=\"color: #7f7f7f; text-decoration-color: #7f7f7f\">null.py</span></a><span style=\"color: #7f7f7f; text-decoration-color: #7f7f7f\">:</span><a href=\"file:///opt/anaconda3/envs/bb_dev/lib/python3.12/site-packages/rdt/transformers/null.py#119\" target=\"_blank\"><span style=\"color: #7f7f7f; text-decoration-color: #7f7f7f\">119</span></a>\n",
       "<span style=\"color: #7fbfbf; text-decoration-color: #7fbfbf\">                    </span>         not created.                                                               <span style=\"color: #7f7f7f; text-decoration-color: #7f7f7f\">           </span>\n",
       "</pre>\n"
      ],
      "text/plain": [
       "\u001b[2;36m                   \u001b[0m\u001b[2;36m \u001b[0m\u001b[1;38;2;0;105;255mINFO    \u001b[0m Guidance: There are no missing values in column pre_lactate. Extra column  \u001b]8;id=553602;file:///opt/anaconda3/envs/bb_dev/lib/python3.12/site-packages/rdt/transformers/null.py\u001b\\\u001b[2mnull.py\u001b[0m\u001b]8;;\u001b\\\u001b[2m:\u001b[0m\u001b]8;id=445289;file:///opt/anaconda3/envs/bb_dev/lib/python3.12/site-packages/rdt/transformers/null.py#119\u001b\\\u001b[2m119\u001b[0m\u001b]8;;\u001b\\\n",
       "\u001b[2;36m                    \u001b[0m         not created.                                                               \u001b[2m           \u001b[0m\n"
      ]
     },
     "metadata": {},
     "output_type": "display_data"
    },
    {
     "data": {
      "text/html": [
       "<pre style=\"white-space:pre;overflow-x:auto;line-height:normal;font-family:Menlo,'DejaVu Sans Mono',consolas,'Courier New',monospace\"><span style=\"color: #7fbfbf; text-decoration-color: #7fbfbf\">                    </span><span style=\"color: #0069ff; text-decoration-color: #0069ff; font-weight: bold\">INFO    </span> Guidance: There are no missing values in column pre_so2. Extra column not  <a href=\"file:///opt/anaconda3/envs/bb_dev/lib/python3.12/site-packages/rdt/transformers/null.py\" target=\"_blank\"><span style=\"color: #7f7f7f; text-decoration-color: #7f7f7f\">null.py</span></a><span style=\"color: #7f7f7f; text-decoration-color: #7f7f7f\">:</span><a href=\"file:///opt/anaconda3/envs/bb_dev/lib/python3.12/site-packages/rdt/transformers/null.py#119\" target=\"_blank\"><span style=\"color: #7f7f7f; text-decoration-color: #7f7f7f\">119</span></a>\n",
       "<span style=\"color: #7fbfbf; text-decoration-color: #7fbfbf\">                    </span>         created.                                                                   <span style=\"color: #7f7f7f; text-decoration-color: #7f7f7f\">           </span>\n",
       "</pre>\n"
      ],
      "text/plain": [
       "\u001b[2;36m                   \u001b[0m\u001b[2;36m \u001b[0m\u001b[1;38;2;0;105;255mINFO    \u001b[0m Guidance: There are no missing values in column pre_so2. Extra column not  \u001b]8;id=660710;file:///opt/anaconda3/envs/bb_dev/lib/python3.12/site-packages/rdt/transformers/null.py\u001b\\\u001b[2mnull.py\u001b[0m\u001b]8;;\u001b\\\u001b[2m:\u001b[0m\u001b]8;id=243402;file:///opt/anaconda3/envs/bb_dev/lib/python3.12/site-packages/rdt/transformers/null.py#119\u001b\\\u001b[2m119\u001b[0m\u001b]8;;\u001b\\\n",
       "\u001b[2;36m                    \u001b[0m         created.                                                                   \u001b[2m           \u001b[0m\n"
      ]
     },
     "metadata": {},
     "output_type": "display_data"
    },
    {
     "data": {
      "text/html": [
       "<pre style=\"white-space:pre;overflow-x:auto;line-height:normal;font-family:Menlo,'DejaVu Sans Mono',consolas,'Courier New',monospace\"><span style=\"color: #7fbfbf; text-decoration-color: #7fbfbf\">                    </span><span style=\"color: #0069ff; text-decoration-color: #0069ff; font-weight: bold\">INFO    </span> Guidance: There are no missing values in column pre_spo2. Extra column not <a href=\"file:///opt/anaconda3/envs/bb_dev/lib/python3.12/site-packages/rdt/transformers/null.py\" target=\"_blank\"><span style=\"color: #7f7f7f; text-decoration-color: #7f7f7f\">null.py</span></a><span style=\"color: #7f7f7f; text-decoration-color: #7f7f7f\">:</span><a href=\"file:///opt/anaconda3/envs/bb_dev/lib/python3.12/site-packages/rdt/transformers/null.py#119\" target=\"_blank\"><span style=\"color: #7f7f7f; text-decoration-color: #7f7f7f\">119</span></a>\n",
       "<span style=\"color: #7fbfbf; text-decoration-color: #7fbfbf\">                    </span>         created.                                                                   <span style=\"color: #7f7f7f; text-decoration-color: #7f7f7f\">           </span>\n",
       "</pre>\n"
      ],
      "text/plain": [
       "\u001b[2;36m                   \u001b[0m\u001b[2;36m \u001b[0m\u001b[1;38;2;0;105;255mINFO    \u001b[0m Guidance: There are no missing values in column pre_spo2. Extra column not \u001b]8;id=773357;file:///opt/anaconda3/envs/bb_dev/lib/python3.12/site-packages/rdt/transformers/null.py\u001b\\\u001b[2mnull.py\u001b[0m\u001b]8;;\u001b\\\u001b[2m:\u001b[0m\u001b]8;id=78799;file:///opt/anaconda3/envs/bb_dev/lib/python3.12/site-packages/rdt/transformers/null.py#119\u001b\\\u001b[2m119\u001b[0m\u001b]8;;\u001b\\\n",
       "\u001b[2;36m                    \u001b[0m         created.                                                                   \u001b[2m           \u001b[0m\n"
      ]
     },
     "metadata": {},
     "output_type": "display_data"
    },
    {
     "data": {
      "text/html": [
       "<pre style=\"white-space:pre;overflow-x:auto;line-height:normal;font-family:Menlo,'DejaVu Sans Mono',consolas,'Courier New',monospace\"><span style=\"color: #7fbfbf; text-decoration-color: #7fbfbf\">                    </span><span style=\"color: #0069ff; text-decoration-color: #0069ff; font-weight: bold\">INFO    </span> Guidance: There are no missing values in column pre_fio2_chartevents.      <a href=\"file:///opt/anaconda3/envs/bb_dev/lib/python3.12/site-packages/rdt/transformers/null.py\" target=\"_blank\"><span style=\"color: #7f7f7f; text-decoration-color: #7f7f7f\">null.py</span></a><span style=\"color: #7f7f7f; text-decoration-color: #7f7f7f\">:</span><a href=\"file:///opt/anaconda3/envs/bb_dev/lib/python3.12/site-packages/rdt/transformers/null.py#119\" target=\"_blank\"><span style=\"color: #7f7f7f; text-decoration-color: #7f7f7f\">119</span></a>\n",
       "<span style=\"color: #7fbfbf; text-decoration-color: #7fbfbf\">                    </span>         Extra column not created.                                                  <span style=\"color: #7f7f7f; text-decoration-color: #7f7f7f\">           </span>\n",
       "</pre>\n"
      ],
      "text/plain": [
       "\u001b[2;36m                   \u001b[0m\u001b[2;36m \u001b[0m\u001b[1;38;2;0;105;255mINFO    \u001b[0m Guidance: There are no missing values in column pre_fio2_chartevents.      \u001b]8;id=215404;file:///opt/anaconda3/envs/bb_dev/lib/python3.12/site-packages/rdt/transformers/null.py\u001b\\\u001b[2mnull.py\u001b[0m\u001b]8;;\u001b\\\u001b[2m:\u001b[0m\u001b]8;id=228860;file:///opt/anaconda3/envs/bb_dev/lib/python3.12/site-packages/rdt/transformers/null.py#119\u001b\\\u001b[2m119\u001b[0m\u001b]8;;\u001b\\\n",
       "\u001b[2;36m                    \u001b[0m         Extra column not created.                                                  \u001b[2m           \u001b[0m\n"
      ]
     },
     "metadata": {},
     "output_type": "display_data"
    },
    {
     "data": {
      "text/html": [
       "<pre style=\"white-space:pre;overflow-x:auto;line-height:normal;font-family:Menlo,'DejaVu Sans Mono',consolas,'Courier New',monospace\"><span style=\"color: #7fbfbf; text-decoration-color: #7fbfbf\">                    </span><span style=\"color: #0069ff; text-decoration-color: #0069ff; font-weight: bold\">INFO    </span> Guidance: There are no missing values in column pre_aado2_calc. Extra      <a href=\"file:///opt/anaconda3/envs/bb_dev/lib/python3.12/site-packages/rdt/transformers/null.py\" target=\"_blank\"><span style=\"color: #7f7f7f; text-decoration-color: #7f7f7f\">null.py</span></a><span style=\"color: #7f7f7f; text-decoration-color: #7f7f7f\">:</span><a href=\"file:///opt/anaconda3/envs/bb_dev/lib/python3.12/site-packages/rdt/transformers/null.py#119\" target=\"_blank\"><span style=\"color: #7f7f7f; text-decoration-color: #7f7f7f\">119</span></a>\n",
       "<span style=\"color: #7fbfbf; text-decoration-color: #7fbfbf\">                    </span>         column not created.                                                        <span style=\"color: #7f7f7f; text-decoration-color: #7f7f7f\">           </span>\n",
       "</pre>\n"
      ],
      "text/plain": [
       "\u001b[2;36m                   \u001b[0m\u001b[2;36m \u001b[0m\u001b[1;38;2;0;105;255mINFO    \u001b[0m Guidance: There are no missing values in column pre_aado2_calc. Extra      \u001b]8;id=386361;file:///opt/anaconda3/envs/bb_dev/lib/python3.12/site-packages/rdt/transformers/null.py\u001b\\\u001b[2mnull.py\u001b[0m\u001b]8;;\u001b\\\u001b[2m:\u001b[0m\u001b]8;id=303861;file:///opt/anaconda3/envs/bb_dev/lib/python3.12/site-packages/rdt/transformers/null.py#119\u001b\\\u001b[2m119\u001b[0m\u001b]8;;\u001b\\\n",
       "\u001b[2;36m                    \u001b[0m         column not created.                                                        \u001b[2m           \u001b[0m\n"
      ]
     },
     "metadata": {},
     "output_type": "display_data"
    },
    {
     "data": {
      "text/html": [
       "<pre style=\"white-space:pre;overflow-x:auto;line-height:normal;font-family:Menlo,'DejaVu Sans Mono',consolas,'Courier New',monospace\"><span style=\"color: #7fbfbf; text-decoration-color: #7fbfbf\">                    </span><span style=\"color: #0069ff; text-decoration-color: #0069ff; font-weight: bold\">INFO    </span> Guidance: There are no missing values in column pre_pao2fio2. Extra column <a href=\"file:///opt/anaconda3/envs/bb_dev/lib/python3.12/site-packages/rdt/transformers/null.py\" target=\"_blank\"><span style=\"color: #7f7f7f; text-decoration-color: #7f7f7f\">null.py</span></a><span style=\"color: #7f7f7f; text-decoration-color: #7f7f7f\">:</span><a href=\"file:///opt/anaconda3/envs/bb_dev/lib/python3.12/site-packages/rdt/transformers/null.py#119\" target=\"_blank\"><span style=\"color: #7f7f7f; text-decoration-color: #7f7f7f\">119</span></a>\n",
       "<span style=\"color: #7fbfbf; text-decoration-color: #7fbfbf\">                    </span>         not created.                                                               <span style=\"color: #7f7f7f; text-decoration-color: #7f7f7f\">           </span>\n",
       "</pre>\n"
      ],
      "text/plain": [
       "\u001b[2;36m                   \u001b[0m\u001b[2;36m \u001b[0m\u001b[1;38;2;0;105;255mINFO    \u001b[0m Guidance: There are no missing values in column pre_pao2fio2. Extra column \u001b]8;id=684463;file:///opt/anaconda3/envs/bb_dev/lib/python3.12/site-packages/rdt/transformers/null.py\u001b\\\u001b[2mnull.py\u001b[0m\u001b]8;;\u001b\\\u001b[2m:\u001b[0m\u001b]8;id=989780;file:///opt/anaconda3/envs/bb_dev/lib/python3.12/site-packages/rdt/transformers/null.py#119\u001b\\\u001b[2m119\u001b[0m\u001b]8;;\u001b\\\n",
       "\u001b[2;36m                    \u001b[0m         not created.                                                               \u001b[2m           \u001b[0m\n"
      ]
     },
     "metadata": {},
     "output_type": "display_data"
    },
    {
     "data": {
      "text/html": [
       "<pre style=\"white-space:pre;overflow-x:auto;line-height:normal;font-family:Menlo,'DejaVu Sans Mono',consolas,'Courier New',monospace\"><span style=\"color: #7fbfbf; text-decoration-color: #7fbfbf\">                    </span><span style=\"color: #0069ff; text-decoration-color: #0069ff; font-weight: bold\">INFO    </span> Guidance: There are no missing values in column pre_temperature. Extra     <a href=\"file:///opt/anaconda3/envs/bb_dev/lib/python3.12/site-packages/rdt/transformers/null.py\" target=\"_blank\"><span style=\"color: #7f7f7f; text-decoration-color: #7f7f7f\">null.py</span></a><span style=\"color: #7f7f7f; text-decoration-color: #7f7f7f\">:</span><a href=\"file:///opt/anaconda3/envs/bb_dev/lib/python3.12/site-packages/rdt/transformers/null.py#119\" target=\"_blank\"><span style=\"color: #7f7f7f; text-decoration-color: #7f7f7f\">119</span></a>\n",
       "<span style=\"color: #7fbfbf; text-decoration-color: #7fbfbf\">                    </span>         column not created.                                                        <span style=\"color: #7f7f7f; text-decoration-color: #7f7f7f\">           </span>\n",
       "</pre>\n"
      ],
      "text/plain": [
       "\u001b[2;36m                   \u001b[0m\u001b[2;36m \u001b[0m\u001b[1;38;2;0;105;255mINFO    \u001b[0m Guidance: There are no missing values in column pre_temperature. Extra     \u001b]8;id=93208;file:///opt/anaconda3/envs/bb_dev/lib/python3.12/site-packages/rdt/transformers/null.py\u001b\\\u001b[2mnull.py\u001b[0m\u001b]8;;\u001b\\\u001b[2m:\u001b[0m\u001b]8;id=931493;file:///opt/anaconda3/envs/bb_dev/lib/python3.12/site-packages/rdt/transformers/null.py#119\u001b\\\u001b[2m119\u001b[0m\u001b]8;;\u001b\\\n",
       "\u001b[2;36m                    \u001b[0m         column not created.                                                        \u001b[2m           \u001b[0m\n"
      ]
     },
     "metadata": {},
     "output_type": "display_data"
    },
    {
     "data": {
      "text/html": [
       "<pre style=\"white-space:pre;overflow-x:auto;line-height:normal;font-family:Menlo,'DejaVu Sans Mono',consolas,'Courier New',monospace\"><span style=\"color: #7fbfbf; text-decoration-color: #7fbfbf\">                    </span><span style=\"color: #0069ff; text-decoration-color: #0069ff; font-weight: bold\">INFO    </span> Guidance: There are no missing values in column pre_fio2. Extra column not <a href=\"file:///opt/anaconda3/envs/bb_dev/lib/python3.12/site-packages/rdt/transformers/null.py\" target=\"_blank\"><span style=\"color: #7f7f7f; text-decoration-color: #7f7f7f\">null.py</span></a><span style=\"color: #7f7f7f; text-decoration-color: #7f7f7f\">:</span><a href=\"file:///opt/anaconda3/envs/bb_dev/lib/python3.12/site-packages/rdt/transformers/null.py#119\" target=\"_blank\"><span style=\"color: #7f7f7f; text-decoration-color: #7f7f7f\">119</span></a>\n",
       "<span style=\"color: #7fbfbf; text-decoration-color: #7fbfbf\">                    </span>         created.                                                                   <span style=\"color: #7f7f7f; text-decoration-color: #7f7f7f\">           </span>\n",
       "</pre>\n"
      ],
      "text/plain": [
       "\u001b[2;36m                   \u001b[0m\u001b[2;36m \u001b[0m\u001b[1;38;2;0;105;255mINFO    \u001b[0m Guidance: There are no missing values in column pre_fio2. Extra column not \u001b]8;id=198732;file:///opt/anaconda3/envs/bb_dev/lib/python3.12/site-packages/rdt/transformers/null.py\u001b\\\u001b[2mnull.py\u001b[0m\u001b]8;;\u001b\\\u001b[2m:\u001b[0m\u001b]8;id=631213;file:///opt/anaconda3/envs/bb_dev/lib/python3.12/site-packages/rdt/transformers/null.py#119\u001b\\\u001b[2m119\u001b[0m\u001b]8;;\u001b\\\n",
       "\u001b[2;36m                    \u001b[0m         created.                                                                   \u001b[2m           \u001b[0m\n"
      ]
     },
     "metadata": {},
     "output_type": "display_data"
    },
    {
     "data": {
      "text/html": [
       "<pre style=\"white-space:pre;overflow-x:auto;line-height:normal;font-family:Menlo,'DejaVu Sans Mono',consolas,'Courier New',monospace\"><span style=\"color: #7fbfbf; text-decoration-color: #7fbfbf\">                    </span><span style=\"color: #0069ff; text-decoration-color: #0069ff; font-weight: bold\">INFO    </span> Guidance: There are no missing values in column pre_aado2. Extra column    <a href=\"file:///opt/anaconda3/envs/bb_dev/lib/python3.12/site-packages/rdt/transformers/null.py\" target=\"_blank\"><span style=\"color: #7f7f7f; text-decoration-color: #7f7f7f\">null.py</span></a><span style=\"color: #7f7f7f; text-decoration-color: #7f7f7f\">:</span><a href=\"file:///opt/anaconda3/envs/bb_dev/lib/python3.12/site-packages/rdt/transformers/null.py#119\" target=\"_blank\"><span style=\"color: #7f7f7f; text-decoration-color: #7f7f7f\">119</span></a>\n",
       "<span style=\"color: #7fbfbf; text-decoration-color: #7fbfbf\">                    </span>         not created.                                                               <span style=\"color: #7f7f7f; text-decoration-color: #7f7f7f\">           </span>\n",
       "</pre>\n"
      ],
      "text/plain": [
       "\u001b[2;36m                   \u001b[0m\u001b[2;36m \u001b[0m\u001b[1;38;2;0;105;255mINFO    \u001b[0m Guidance: There are no missing values in column pre_aado2. Extra column    \u001b]8;id=573987;file:///opt/anaconda3/envs/bb_dev/lib/python3.12/site-packages/rdt/transformers/null.py\u001b\\\u001b[2mnull.py\u001b[0m\u001b]8;;\u001b\\\u001b[2m:\u001b[0m\u001b]8;id=879663;file:///opt/anaconda3/envs/bb_dev/lib/python3.12/site-packages/rdt/transformers/null.py#119\u001b\\\u001b[2m119\u001b[0m\u001b]8;;\u001b\\\n",
       "\u001b[2;36m                    \u001b[0m         not created.                                                               \u001b[2m           \u001b[0m\n"
      ]
     },
     "metadata": {},
     "output_type": "display_data"
    },
    {
     "data": {
      "text/html": [
       "<pre style=\"white-space:pre;overflow-x:auto;line-height:normal;font-family:Menlo,'DejaVu Sans Mono',consolas,'Courier New',monospace\"><span style=\"color: #7fbfbf; text-decoration-color: #7fbfbf\">                    </span><span style=\"color: #0069ff; text-decoration-color: #0069ff; font-weight: bold\">INFO    </span> Guidance: There are no missing values in column pre_carboxyhemoglobin.     <a href=\"file:///opt/anaconda3/envs/bb_dev/lib/python3.12/site-packages/rdt/transformers/null.py\" target=\"_blank\"><span style=\"color: #7f7f7f; text-decoration-color: #7f7f7f\">null.py</span></a><span style=\"color: #7f7f7f; text-decoration-color: #7f7f7f\">:</span><a href=\"file:///opt/anaconda3/envs/bb_dev/lib/python3.12/site-packages/rdt/transformers/null.py#119\" target=\"_blank\"><span style=\"color: #7f7f7f; text-decoration-color: #7f7f7f\">119</span></a>\n",
       "<span style=\"color: #7fbfbf; text-decoration-color: #7fbfbf\">                    </span>         Extra column not created.                                                  <span style=\"color: #7f7f7f; text-decoration-color: #7f7f7f\">           </span>\n",
       "</pre>\n"
      ],
      "text/plain": [
       "\u001b[2;36m                   \u001b[0m\u001b[2;36m \u001b[0m\u001b[1;38;2;0;105;255mINFO    \u001b[0m Guidance: There are no missing values in column pre_carboxyhemoglobin.     \u001b]8;id=433771;file:///opt/anaconda3/envs/bb_dev/lib/python3.12/site-packages/rdt/transformers/null.py\u001b\\\u001b[2mnull.py\u001b[0m\u001b]8;;\u001b\\\u001b[2m:\u001b[0m\u001b]8;id=251107;file:///opt/anaconda3/envs/bb_dev/lib/python3.12/site-packages/rdt/transformers/null.py#119\u001b\\\u001b[2m119\u001b[0m\u001b]8;;\u001b\\\n",
       "\u001b[2;36m                    \u001b[0m         Extra column not created.                                                  \u001b[2m           \u001b[0m\n"
      ]
     },
     "metadata": {},
     "output_type": "display_data"
    },
    {
     "data": {
      "text/html": [
       "<pre style=\"white-space:pre;overflow-x:auto;line-height:normal;font-family:Menlo,'DejaVu Sans Mono',consolas,'Courier New',monospace\"><span style=\"color: #7fbfbf; text-decoration-color: #7fbfbf\">                    </span><span style=\"color: #0069ff; text-decoration-color: #0069ff; font-weight: bold\">INFO    </span> Guidance: There are no missing values in column pre_methemoglobin. Extra   <a href=\"file:///opt/anaconda3/envs/bb_dev/lib/python3.12/site-packages/rdt/transformers/null.py\" target=\"_blank\"><span style=\"color: #7f7f7f; text-decoration-color: #7f7f7f\">null.py</span></a><span style=\"color: #7f7f7f; text-decoration-color: #7f7f7f\">:</span><a href=\"file:///opt/anaconda3/envs/bb_dev/lib/python3.12/site-packages/rdt/transformers/null.py#119\" target=\"_blank\"><span style=\"color: #7f7f7f; text-decoration-color: #7f7f7f\">119</span></a>\n",
       "<span style=\"color: #7fbfbf; text-decoration-color: #7fbfbf\">                    </span>         column not created.                                                        <span style=\"color: #7f7f7f; text-decoration-color: #7f7f7f\">           </span>\n",
       "</pre>\n"
      ],
      "text/plain": [
       "\u001b[2;36m                   \u001b[0m\u001b[2;36m \u001b[0m\u001b[1;38;2;0;105;255mINFO    \u001b[0m Guidance: There are no missing values in column pre_methemoglobin. Extra   \u001b]8;id=562895;file:///opt/anaconda3/envs/bb_dev/lib/python3.12/site-packages/rdt/transformers/null.py\u001b\\\u001b[2mnull.py\u001b[0m\u001b]8;;\u001b\\\u001b[2m:\u001b[0m\u001b]8;id=650869;file:///opt/anaconda3/envs/bb_dev/lib/python3.12/site-packages/rdt/transformers/null.py#119\u001b\\\u001b[2m119\u001b[0m\u001b]8;;\u001b\\\n",
       "\u001b[2;36m                    \u001b[0m         column not created.                                                        \u001b[2m           \u001b[0m\n"
      ]
     },
     "metadata": {},
     "output_type": "display_data"
    },
    {
     "data": {
      "text/html": [
       "<pre style=\"white-space:pre;overflow-x:auto;line-height:normal;font-family:Menlo,'DejaVu Sans Mono',consolas,'Courier New',monospace\"><span style=\"color: #7fbfbf; text-decoration-color: #7fbfbf\">                    </span><span style=\"color: #0069ff; text-decoration-color: #0069ff; font-weight: bold\">INFO    </span> Guidance: There are no missing values in column pre_calcium. Extra column  <a href=\"file:///opt/anaconda3/envs/bb_dev/lib/python3.12/site-packages/rdt/transformers/null.py\" target=\"_blank\"><span style=\"color: #7f7f7f; text-decoration-color: #7f7f7f\">null.py</span></a><span style=\"color: #7f7f7f; text-decoration-color: #7f7f7f\">:</span><a href=\"file:///opt/anaconda3/envs/bb_dev/lib/python3.12/site-packages/rdt/transformers/null.py#119\" target=\"_blank\"><span style=\"color: #7f7f7f; text-decoration-color: #7f7f7f\">119</span></a>\n",
       "<span style=\"color: #7fbfbf; text-decoration-color: #7fbfbf\">                    </span>         not created.                                                               <span style=\"color: #7f7f7f; text-decoration-color: #7f7f7f\">           </span>\n",
       "</pre>\n"
      ],
      "text/plain": [
       "\u001b[2;36m                   \u001b[0m\u001b[2;36m \u001b[0m\u001b[1;38;2;0;105;255mINFO    \u001b[0m Guidance: There are no missing values in column pre_calcium. Extra column  \u001b]8;id=757569;file:///opt/anaconda3/envs/bb_dev/lib/python3.12/site-packages/rdt/transformers/null.py\u001b\\\u001b[2mnull.py\u001b[0m\u001b]8;;\u001b\\\u001b[2m:\u001b[0m\u001b]8;id=105249;file:///opt/anaconda3/envs/bb_dev/lib/python3.12/site-packages/rdt/transformers/null.py#119\u001b\\\u001b[2m119\u001b[0m\u001b]8;;\u001b\\\n",
       "\u001b[2;36m                    \u001b[0m         not created.                                                               \u001b[2m           \u001b[0m\n"
      ]
     },
     "metadata": {},
     "output_type": "display_data"
    },
    {
     "data": {
      "text/html": [
       "<pre style=\"white-space:pre;overflow-x:auto;line-height:normal;font-family:Menlo,'DejaVu Sans Mono',consolas,'Courier New',monospace\"><span style=\"color: #7fbfbf; text-decoration-color: #7fbfbf\">                    </span><span style=\"color: #0069ff; text-decoration-color: #0069ff; font-weight: bold\">INFO    </span> Guidance: There are no missing values in column pre_intubated. Extra       <a href=\"file:///opt/anaconda3/envs/bb_dev/lib/python3.12/site-packages/rdt/transformers/null.py\" target=\"_blank\"><span style=\"color: #7f7f7f; text-decoration-color: #7f7f7f\">null.py</span></a><span style=\"color: #7f7f7f; text-decoration-color: #7f7f7f\">:</span><a href=\"file:///opt/anaconda3/envs/bb_dev/lib/python3.12/site-packages/rdt/transformers/null.py#119\" target=\"_blank\"><span style=\"color: #7f7f7f; text-decoration-color: #7f7f7f\">119</span></a>\n",
       "<span style=\"color: #7fbfbf; text-decoration-color: #7fbfbf\">                    </span>         column not created.                                                        <span style=\"color: #7f7f7f; text-decoration-color: #7f7f7f\">           </span>\n",
       "</pre>\n"
      ],
      "text/plain": [
       "\u001b[2;36m                   \u001b[0m\u001b[2;36m \u001b[0m\u001b[1;38;2;0;105;255mINFO    \u001b[0m Guidance: There are no missing values in column pre_intubated. Extra       \u001b]8;id=812559;file:///opt/anaconda3/envs/bb_dev/lib/python3.12/site-packages/rdt/transformers/null.py\u001b\\\u001b[2mnull.py\u001b[0m\u001b]8;;\u001b\\\u001b[2m:\u001b[0m\u001b]8;id=677331;file:///opt/anaconda3/envs/bb_dev/lib/python3.12/site-packages/rdt/transformers/null.py#119\u001b\\\u001b[2m119\u001b[0m\u001b]8;;\u001b\\\n",
       "\u001b[2;36m                    \u001b[0m         column not created.                                                        \u001b[2m           \u001b[0m\n"
      ]
     },
     "metadata": {},
     "output_type": "display_data"
    },
    {
     "data": {
      "text/html": [
       "<pre style=\"white-space:pre;overflow-x:auto;line-height:normal;font-family:Menlo,'DejaVu Sans Mono',consolas,'Courier New',monospace\"><span style=\"color: #7fbfbf; text-decoration-color: #7fbfbf\">                    </span><span style=\"color: #0069ff; text-decoration-color: #0069ff; font-weight: bold\">INFO    </span> Guidance: There are no missing values in column post_ph. Extra column not  <a href=\"file:///opt/anaconda3/envs/bb_dev/lib/python3.12/site-packages/rdt/transformers/null.py\" target=\"_blank\"><span style=\"color: #7f7f7f; text-decoration-color: #7f7f7f\">null.py</span></a><span style=\"color: #7f7f7f; text-decoration-color: #7f7f7f\">:</span><a href=\"file:///opt/anaconda3/envs/bb_dev/lib/python3.12/site-packages/rdt/transformers/null.py#119\" target=\"_blank\"><span style=\"color: #7f7f7f; text-decoration-color: #7f7f7f\">119</span></a>\n",
       "<span style=\"color: #7fbfbf; text-decoration-color: #7fbfbf\">                    </span>         created.                                                                   <span style=\"color: #7f7f7f; text-decoration-color: #7f7f7f\">           </span>\n",
       "</pre>\n"
      ],
      "text/plain": [
       "\u001b[2;36m                   \u001b[0m\u001b[2;36m \u001b[0m\u001b[1;38;2;0;105;255mINFO    \u001b[0m Guidance: There are no missing values in column post_ph. Extra column not  \u001b]8;id=122712;file:///opt/anaconda3/envs/bb_dev/lib/python3.12/site-packages/rdt/transformers/null.py\u001b\\\u001b[2mnull.py\u001b[0m\u001b]8;;\u001b\\\u001b[2m:\u001b[0m\u001b]8;id=792421;file:///opt/anaconda3/envs/bb_dev/lib/python3.12/site-packages/rdt/transformers/null.py#119\u001b\\\u001b[2m119\u001b[0m\u001b]8;;\u001b\\\n",
       "\u001b[2;36m                    \u001b[0m         created.                                                                   \u001b[2m           \u001b[0m\n"
      ]
     },
     "metadata": {},
     "output_type": "display_data"
    },
    {
     "data": {
      "text/html": [
       "<pre style=\"white-space:pre;overflow-x:auto;line-height:normal;font-family:Menlo,'DejaVu Sans Mono',consolas,'Courier New',monospace\"><span style=\"color: #7fbfbf; text-decoration-color: #7fbfbf\">                    </span><span style=\"color: #0069ff; text-decoration-color: #0069ff; font-weight: bold\">INFO    </span> Guidance: There are no missing values in column post_pco2. Extra column    <a href=\"file:///opt/anaconda3/envs/bb_dev/lib/python3.12/site-packages/rdt/transformers/null.py\" target=\"_blank\"><span style=\"color: #7f7f7f; text-decoration-color: #7f7f7f\">null.py</span></a><span style=\"color: #7f7f7f; text-decoration-color: #7f7f7f\">:</span><a href=\"file:///opt/anaconda3/envs/bb_dev/lib/python3.12/site-packages/rdt/transformers/null.py#119\" target=\"_blank\"><span style=\"color: #7f7f7f; text-decoration-color: #7f7f7f\">119</span></a>\n",
       "<span style=\"color: #7fbfbf; text-decoration-color: #7fbfbf\">                    </span>         not created.                                                               <span style=\"color: #7f7f7f; text-decoration-color: #7f7f7f\">           </span>\n",
       "</pre>\n"
      ],
      "text/plain": [
       "\u001b[2;36m                   \u001b[0m\u001b[2;36m \u001b[0m\u001b[1;38;2;0;105;255mINFO    \u001b[0m Guidance: There are no missing values in column post_pco2. Extra column    \u001b]8;id=169827;file:///opt/anaconda3/envs/bb_dev/lib/python3.12/site-packages/rdt/transformers/null.py\u001b\\\u001b[2mnull.py\u001b[0m\u001b]8;;\u001b\\\u001b[2m:\u001b[0m\u001b]8;id=386745;file:///opt/anaconda3/envs/bb_dev/lib/python3.12/site-packages/rdt/transformers/null.py#119\u001b\\\u001b[2m119\u001b[0m\u001b]8;;\u001b\\\n",
       "\u001b[2;36m                    \u001b[0m         not created.                                                               \u001b[2m           \u001b[0m\n"
      ]
     },
     "metadata": {},
     "output_type": "display_data"
    },
    {
     "data": {
      "text/html": [
       "<pre style=\"white-space:pre;overflow-x:auto;line-height:normal;font-family:Menlo,'DejaVu Sans Mono',consolas,'Courier New',monospace\"><span style=\"color: #7fbfbf; text-decoration-color: #7fbfbf\">                    </span><span style=\"color: #0069ff; text-decoration-color: #0069ff; font-weight: bold\">INFO    </span> Guidance: There are no missing values in column post_po2. Extra column not <a href=\"file:///opt/anaconda3/envs/bb_dev/lib/python3.12/site-packages/rdt/transformers/null.py\" target=\"_blank\"><span style=\"color: #7f7f7f; text-decoration-color: #7f7f7f\">null.py</span></a><span style=\"color: #7f7f7f; text-decoration-color: #7f7f7f\">:</span><a href=\"file:///opt/anaconda3/envs/bb_dev/lib/python3.12/site-packages/rdt/transformers/null.py#119\" target=\"_blank\"><span style=\"color: #7f7f7f; text-decoration-color: #7f7f7f\">119</span></a>\n",
       "<span style=\"color: #7fbfbf; text-decoration-color: #7fbfbf\">                    </span>         created.                                                                   <span style=\"color: #7f7f7f; text-decoration-color: #7f7f7f\">           </span>\n",
       "</pre>\n"
      ],
      "text/plain": [
       "\u001b[2;36m                   \u001b[0m\u001b[2;36m \u001b[0m\u001b[1;38;2;0;105;255mINFO    \u001b[0m Guidance: There are no missing values in column post_po2. Extra column not \u001b]8;id=175183;file:///opt/anaconda3/envs/bb_dev/lib/python3.12/site-packages/rdt/transformers/null.py\u001b\\\u001b[2mnull.py\u001b[0m\u001b]8;;\u001b\\\u001b[2m:\u001b[0m\u001b]8;id=409524;file:///opt/anaconda3/envs/bb_dev/lib/python3.12/site-packages/rdt/transformers/null.py#119\u001b\\\u001b[2m119\u001b[0m\u001b]8;;\u001b\\\n",
       "\u001b[2;36m                    \u001b[0m         created.                                                                   \u001b[2m           \u001b[0m\n"
      ]
     },
     "metadata": {},
     "output_type": "display_data"
    },
    {
     "data": {
      "text/html": [
       "<pre style=\"white-space:pre;overflow-x:auto;line-height:normal;font-family:Menlo,'DejaVu Sans Mono',consolas,'Courier New',monospace\"><span style=\"color: #7fbfbf; text-decoration-color: #7fbfbf\">                    </span><span style=\"color: #0069ff; text-decoration-color: #0069ff; font-weight: bold\">INFO    </span> Guidance: There are no missing values in column post_bicarbonate. Extra    <a href=\"file:///opt/anaconda3/envs/bb_dev/lib/python3.12/site-packages/rdt/transformers/null.py\" target=\"_blank\"><span style=\"color: #7f7f7f; text-decoration-color: #7f7f7f\">null.py</span></a><span style=\"color: #7f7f7f; text-decoration-color: #7f7f7f\">:</span><a href=\"file:///opt/anaconda3/envs/bb_dev/lib/python3.12/site-packages/rdt/transformers/null.py#119\" target=\"_blank\"><span style=\"color: #7f7f7f; text-decoration-color: #7f7f7f\">119</span></a>\n",
       "<span style=\"color: #7fbfbf; text-decoration-color: #7fbfbf\">                    </span>         column not created.                                                        <span style=\"color: #7f7f7f; text-decoration-color: #7f7f7f\">           </span>\n",
       "</pre>\n"
      ],
      "text/plain": [
       "\u001b[2;36m                   \u001b[0m\u001b[2;36m \u001b[0m\u001b[1;38;2;0;105;255mINFO    \u001b[0m Guidance: There are no missing values in column post_bicarbonate. Extra    \u001b]8;id=302375;file:///opt/anaconda3/envs/bb_dev/lib/python3.12/site-packages/rdt/transformers/null.py\u001b\\\u001b[2mnull.py\u001b[0m\u001b]8;;\u001b\\\u001b[2m:\u001b[0m\u001b]8;id=254126;file:///opt/anaconda3/envs/bb_dev/lib/python3.12/site-packages/rdt/transformers/null.py#119\u001b\\\u001b[2m119\u001b[0m\u001b]8;;\u001b\\\n",
       "\u001b[2;36m                    \u001b[0m         column not created.                                                        \u001b[2m           \u001b[0m\n"
      ]
     },
     "metadata": {},
     "output_type": "display_data"
    },
    {
     "data": {
      "text/html": [
       "<pre style=\"white-space:pre;overflow-x:auto;line-height:normal;font-family:Menlo,'DejaVu Sans Mono',consolas,'Courier New',monospace\"><span style=\"color: #7fbfbf; text-decoration-color: #7fbfbf\">                    </span><span style=\"color: #0069ff; text-decoration-color: #0069ff; font-weight: bold\">INFO    </span> Guidance: There are no missing values in column post_baseexcess. Extra     <a href=\"file:///opt/anaconda3/envs/bb_dev/lib/python3.12/site-packages/rdt/transformers/null.py\" target=\"_blank\"><span style=\"color: #7f7f7f; text-decoration-color: #7f7f7f\">null.py</span></a><span style=\"color: #7f7f7f; text-decoration-color: #7f7f7f\">:</span><a href=\"file:///opt/anaconda3/envs/bb_dev/lib/python3.12/site-packages/rdt/transformers/null.py#119\" target=\"_blank\"><span style=\"color: #7f7f7f; text-decoration-color: #7f7f7f\">119</span></a>\n",
       "<span style=\"color: #7fbfbf; text-decoration-color: #7fbfbf\">                    </span>         column not created.                                                        <span style=\"color: #7f7f7f; text-decoration-color: #7f7f7f\">           </span>\n",
       "</pre>\n"
      ],
      "text/plain": [
       "\u001b[2;36m                   \u001b[0m\u001b[2;36m \u001b[0m\u001b[1;38;2;0;105;255mINFO    \u001b[0m Guidance: There are no missing values in column post_baseexcess. Extra     \u001b]8;id=877109;file:///opt/anaconda3/envs/bb_dev/lib/python3.12/site-packages/rdt/transformers/null.py\u001b\\\u001b[2mnull.py\u001b[0m\u001b]8;;\u001b\\\u001b[2m:\u001b[0m\u001b]8;id=846546;file:///opt/anaconda3/envs/bb_dev/lib/python3.12/site-packages/rdt/transformers/null.py#119\u001b\\\u001b[2m119\u001b[0m\u001b]8;;\u001b\\\n",
       "\u001b[2;36m                    \u001b[0m         column not created.                                                        \u001b[2m           \u001b[0m\n"
      ]
     },
     "metadata": {},
     "output_type": "display_data"
    },
    {
     "data": {
      "text/html": [
       "<pre style=\"white-space:pre;overflow-x:auto;line-height:normal;font-family:Menlo,'DejaVu Sans Mono',consolas,'Courier New',monospace\"><span style=\"color: #7fbfbf; text-decoration-color: #7fbfbf\">                    </span><span style=\"color: #0069ff; text-decoration-color: #0069ff; font-weight: bold\">INFO    </span> Guidance: There are no missing values in column post_totalco2. Extra       <a href=\"file:///opt/anaconda3/envs/bb_dev/lib/python3.12/site-packages/rdt/transformers/null.py\" target=\"_blank\"><span style=\"color: #7f7f7f; text-decoration-color: #7f7f7f\">null.py</span></a><span style=\"color: #7f7f7f; text-decoration-color: #7f7f7f\">:</span><a href=\"file:///opt/anaconda3/envs/bb_dev/lib/python3.12/site-packages/rdt/transformers/null.py#119\" target=\"_blank\"><span style=\"color: #7f7f7f; text-decoration-color: #7f7f7f\">119</span></a>\n",
       "<span style=\"color: #7fbfbf; text-decoration-color: #7fbfbf\">                    </span>         column not created.                                                        <span style=\"color: #7f7f7f; text-decoration-color: #7f7f7f\">           </span>\n",
       "</pre>\n"
      ],
      "text/plain": [
       "\u001b[2;36m                   \u001b[0m\u001b[2;36m \u001b[0m\u001b[1;38;2;0;105;255mINFO    \u001b[0m Guidance: There are no missing values in column post_totalco2. Extra       \u001b]8;id=773963;file:///opt/anaconda3/envs/bb_dev/lib/python3.12/site-packages/rdt/transformers/null.py\u001b\\\u001b[2mnull.py\u001b[0m\u001b]8;;\u001b\\\u001b[2m:\u001b[0m\u001b]8;id=499631;file:///opt/anaconda3/envs/bb_dev/lib/python3.12/site-packages/rdt/transformers/null.py#119\u001b\\\u001b[2m119\u001b[0m\u001b]8;;\u001b\\\n",
       "\u001b[2;36m                    \u001b[0m         column not created.                                                        \u001b[2m           \u001b[0m\n"
      ]
     },
     "metadata": {},
     "output_type": "display_data"
    },
    {
     "data": {
      "text/html": [
       "<pre style=\"white-space:pre;overflow-x:auto;line-height:normal;font-family:Menlo,'DejaVu Sans Mono',consolas,'Courier New',monospace\"><span style=\"color: #7fbfbf; text-decoration-color: #7fbfbf\">                    </span><span style=\"color: #0069ff; text-decoration-color: #0069ff; font-weight: bold\">INFO    </span> Guidance: There are no missing values in column post_hematocrit. Extra     <a href=\"file:///opt/anaconda3/envs/bb_dev/lib/python3.12/site-packages/rdt/transformers/null.py\" target=\"_blank\"><span style=\"color: #7f7f7f; text-decoration-color: #7f7f7f\">null.py</span></a><span style=\"color: #7f7f7f; text-decoration-color: #7f7f7f\">:</span><a href=\"file:///opt/anaconda3/envs/bb_dev/lib/python3.12/site-packages/rdt/transformers/null.py#119\" target=\"_blank\"><span style=\"color: #7f7f7f; text-decoration-color: #7f7f7f\">119</span></a>\n",
       "<span style=\"color: #7fbfbf; text-decoration-color: #7fbfbf\">                    </span>         column not created.                                                        <span style=\"color: #7f7f7f; text-decoration-color: #7f7f7f\">           </span>\n",
       "</pre>\n"
      ],
      "text/plain": [
       "\u001b[2;36m                   \u001b[0m\u001b[2;36m \u001b[0m\u001b[1;38;2;0;105;255mINFO    \u001b[0m Guidance: There are no missing values in column post_hematocrit. Extra     \u001b]8;id=678058;file:///opt/anaconda3/envs/bb_dev/lib/python3.12/site-packages/rdt/transformers/null.py\u001b\\\u001b[2mnull.py\u001b[0m\u001b]8;;\u001b\\\u001b[2m:\u001b[0m\u001b]8;id=486576;file:///opt/anaconda3/envs/bb_dev/lib/python3.12/site-packages/rdt/transformers/null.py#119\u001b\\\u001b[2m119\u001b[0m\u001b]8;;\u001b\\\n",
       "\u001b[2;36m                    \u001b[0m         column not created.                                                        \u001b[2m           \u001b[0m\n"
      ]
     },
     "metadata": {},
     "output_type": "display_data"
    },
    {
     "data": {
      "text/html": [
       "<pre style=\"white-space:pre;overflow-x:auto;line-height:normal;font-family:Menlo,'DejaVu Sans Mono',consolas,'Courier New',monospace\"><span style=\"color: #7fbfbf; text-decoration-color: #7fbfbf\">                    </span><span style=\"color: #0069ff; text-decoration-color: #0069ff; font-weight: bold\">INFO    </span> Guidance: There are no missing values in column post_hemoglobin. Extra     <a href=\"file:///opt/anaconda3/envs/bb_dev/lib/python3.12/site-packages/rdt/transformers/null.py\" target=\"_blank\"><span style=\"color: #7f7f7f; text-decoration-color: #7f7f7f\">null.py</span></a><span style=\"color: #7f7f7f; text-decoration-color: #7f7f7f\">:</span><a href=\"file:///opt/anaconda3/envs/bb_dev/lib/python3.12/site-packages/rdt/transformers/null.py#119\" target=\"_blank\"><span style=\"color: #7f7f7f; text-decoration-color: #7f7f7f\">119</span></a>\n",
       "<span style=\"color: #7fbfbf; text-decoration-color: #7fbfbf\">                    </span>         column not created.                                                        <span style=\"color: #7f7f7f; text-decoration-color: #7f7f7f\">           </span>\n",
       "</pre>\n"
      ],
      "text/plain": [
       "\u001b[2;36m                   \u001b[0m\u001b[2;36m \u001b[0m\u001b[1;38;2;0;105;255mINFO    \u001b[0m Guidance: There are no missing values in column post_hemoglobin. Extra     \u001b]8;id=219458;file:///opt/anaconda3/envs/bb_dev/lib/python3.12/site-packages/rdt/transformers/null.py\u001b\\\u001b[2mnull.py\u001b[0m\u001b]8;;\u001b\\\u001b[2m:\u001b[0m\u001b]8;id=403319;file:///opt/anaconda3/envs/bb_dev/lib/python3.12/site-packages/rdt/transformers/null.py#119\u001b\\\u001b[2m119\u001b[0m\u001b]8;;\u001b\\\n",
       "\u001b[2;36m                    \u001b[0m         column not created.                                                        \u001b[2m           \u001b[0m\n"
      ]
     },
     "metadata": {},
     "output_type": "display_data"
    },
    {
     "data": {
      "text/html": [
       "<pre style=\"white-space:pre;overflow-x:auto;line-height:normal;font-family:Menlo,'DejaVu Sans Mono',consolas,'Courier New',monospace\"><span style=\"color: #7fbfbf; text-decoration-color: #7fbfbf\">                    </span><span style=\"color: #0069ff; text-decoration-color: #0069ff; font-weight: bold\">INFO    </span> Guidance: There are no missing values in column post_sodium. Extra column  <a href=\"file:///opt/anaconda3/envs/bb_dev/lib/python3.12/site-packages/rdt/transformers/null.py\" target=\"_blank\"><span style=\"color: #7f7f7f; text-decoration-color: #7f7f7f\">null.py</span></a><span style=\"color: #7f7f7f; text-decoration-color: #7f7f7f\">:</span><a href=\"file:///opt/anaconda3/envs/bb_dev/lib/python3.12/site-packages/rdt/transformers/null.py#119\" target=\"_blank\"><span style=\"color: #7f7f7f; text-decoration-color: #7f7f7f\">119</span></a>\n",
       "<span style=\"color: #7fbfbf; text-decoration-color: #7fbfbf\">                    </span>         not created.                                                               <span style=\"color: #7f7f7f; text-decoration-color: #7f7f7f\">           </span>\n",
       "</pre>\n"
      ],
      "text/plain": [
       "\u001b[2;36m                   \u001b[0m\u001b[2;36m \u001b[0m\u001b[1;38;2;0;105;255mINFO    \u001b[0m Guidance: There are no missing values in column post_sodium. Extra column  \u001b]8;id=484821;file:///opt/anaconda3/envs/bb_dev/lib/python3.12/site-packages/rdt/transformers/null.py\u001b\\\u001b[2mnull.py\u001b[0m\u001b]8;;\u001b\\\u001b[2m:\u001b[0m\u001b]8;id=859853;file:///opt/anaconda3/envs/bb_dev/lib/python3.12/site-packages/rdt/transformers/null.py#119\u001b\\\u001b[2m119\u001b[0m\u001b]8;;\u001b\\\n",
       "\u001b[2;36m                    \u001b[0m         not created.                                                               \u001b[2m           \u001b[0m\n"
      ]
     },
     "metadata": {},
     "output_type": "display_data"
    },
    {
     "data": {
      "text/html": [
       "<pre style=\"white-space:pre;overflow-x:auto;line-height:normal;font-family:Menlo,'DejaVu Sans Mono',consolas,'Courier New',monospace\"><span style=\"color: #7fbfbf; text-decoration-color: #7fbfbf\">[03/14/25 19:04:30] </span><span style=\"color: #0069ff; text-decoration-color: #0069ff; font-weight: bold\">INFO    </span> Guidance: There are no missing values in column post_potassium. Extra      <a href=\"file:///opt/anaconda3/envs/bb_dev/lib/python3.12/site-packages/rdt/transformers/null.py\" target=\"_blank\"><span style=\"color: #7f7f7f; text-decoration-color: #7f7f7f\">null.py</span></a><span style=\"color: #7f7f7f; text-decoration-color: #7f7f7f\">:</span><a href=\"file:///opt/anaconda3/envs/bb_dev/lib/python3.12/site-packages/rdt/transformers/null.py#119\" target=\"_blank\"><span style=\"color: #7f7f7f; text-decoration-color: #7f7f7f\">119</span></a>\n",
       "<span style=\"color: #7fbfbf; text-decoration-color: #7fbfbf\">                    </span>         column not created.                                                        <span style=\"color: #7f7f7f; text-decoration-color: #7f7f7f\">           </span>\n",
       "</pre>\n"
      ],
      "text/plain": [
       "\u001b[2;36m[03/14/25 19:04:30]\u001b[0m\u001b[2;36m \u001b[0m\u001b[1;38;2;0;105;255mINFO    \u001b[0m Guidance: There are no missing values in column post_potassium. Extra      \u001b]8;id=611386;file:///opt/anaconda3/envs/bb_dev/lib/python3.12/site-packages/rdt/transformers/null.py\u001b\\\u001b[2mnull.py\u001b[0m\u001b]8;;\u001b\\\u001b[2m:\u001b[0m\u001b]8;id=597782;file:///opt/anaconda3/envs/bb_dev/lib/python3.12/site-packages/rdt/transformers/null.py#119\u001b\\\u001b[2m119\u001b[0m\u001b]8;;\u001b\\\n",
       "\u001b[2;36m                    \u001b[0m         column not created.                                                        \u001b[2m           \u001b[0m\n"
      ]
     },
     "metadata": {},
     "output_type": "display_data"
    },
    {
     "data": {
      "text/html": [
       "<pre style=\"white-space:pre;overflow-x:auto;line-height:normal;font-family:Menlo,'DejaVu Sans Mono',consolas,'Courier New',monospace\"><span style=\"color: #7fbfbf; text-decoration-color: #7fbfbf\">                    </span><span style=\"color: #0069ff; text-decoration-color: #0069ff; font-weight: bold\">INFO    </span> Guidance: There are no missing values in column post_chloride. Extra       <a href=\"file:///opt/anaconda3/envs/bb_dev/lib/python3.12/site-packages/rdt/transformers/null.py\" target=\"_blank\"><span style=\"color: #7f7f7f; text-decoration-color: #7f7f7f\">null.py</span></a><span style=\"color: #7f7f7f; text-decoration-color: #7f7f7f\">:</span><a href=\"file:///opt/anaconda3/envs/bb_dev/lib/python3.12/site-packages/rdt/transformers/null.py#119\" target=\"_blank\"><span style=\"color: #7f7f7f; text-decoration-color: #7f7f7f\">119</span></a>\n",
       "<span style=\"color: #7fbfbf; text-decoration-color: #7fbfbf\">                    </span>         column not created.                                                        <span style=\"color: #7f7f7f; text-decoration-color: #7f7f7f\">           </span>\n",
       "</pre>\n"
      ],
      "text/plain": [
       "\u001b[2;36m                   \u001b[0m\u001b[2;36m \u001b[0m\u001b[1;38;2;0;105;255mINFO    \u001b[0m Guidance: There are no missing values in column post_chloride. Extra       \u001b]8;id=385118;file:///opt/anaconda3/envs/bb_dev/lib/python3.12/site-packages/rdt/transformers/null.py\u001b\\\u001b[2mnull.py\u001b[0m\u001b]8;;\u001b\\\u001b[2m:\u001b[0m\u001b]8;id=526530;file:///opt/anaconda3/envs/bb_dev/lib/python3.12/site-packages/rdt/transformers/null.py#119\u001b\\\u001b[2m119\u001b[0m\u001b]8;;\u001b\\\n",
       "\u001b[2;36m                    \u001b[0m         column not created.                                                        \u001b[2m           \u001b[0m\n"
      ]
     },
     "metadata": {},
     "output_type": "display_data"
    },
    {
     "data": {
      "text/html": [
       "<pre style=\"white-space:pre;overflow-x:auto;line-height:normal;font-family:Menlo,'DejaVu Sans Mono',consolas,'Courier New',monospace\"><span style=\"color: #7fbfbf; text-decoration-color: #7fbfbf\">                    </span><span style=\"color: #0069ff; text-decoration-color: #0069ff; font-weight: bold\">INFO    </span> Guidance: There are no missing values in column post_glucose. Extra column <a href=\"file:///opt/anaconda3/envs/bb_dev/lib/python3.12/site-packages/rdt/transformers/null.py\" target=\"_blank\"><span style=\"color: #7f7f7f; text-decoration-color: #7f7f7f\">null.py</span></a><span style=\"color: #7f7f7f; text-decoration-color: #7f7f7f\">:</span><a href=\"file:///opt/anaconda3/envs/bb_dev/lib/python3.12/site-packages/rdt/transformers/null.py#119\" target=\"_blank\"><span style=\"color: #7f7f7f; text-decoration-color: #7f7f7f\">119</span></a>\n",
       "<span style=\"color: #7fbfbf; text-decoration-color: #7fbfbf\">                    </span>         not created.                                                               <span style=\"color: #7f7f7f; text-decoration-color: #7f7f7f\">           </span>\n",
       "</pre>\n"
      ],
      "text/plain": [
       "\u001b[2;36m                   \u001b[0m\u001b[2;36m \u001b[0m\u001b[1;38;2;0;105;255mINFO    \u001b[0m Guidance: There are no missing values in column post_glucose. Extra column \u001b]8;id=684834;file:///opt/anaconda3/envs/bb_dev/lib/python3.12/site-packages/rdt/transformers/null.py\u001b\\\u001b[2mnull.py\u001b[0m\u001b]8;;\u001b\\\u001b[2m:\u001b[0m\u001b]8;id=45733;file:///opt/anaconda3/envs/bb_dev/lib/python3.12/site-packages/rdt/transformers/null.py#119\u001b\\\u001b[2m119\u001b[0m\u001b]8;;\u001b\\\n",
       "\u001b[2;36m                    \u001b[0m         not created.                                                               \u001b[2m           \u001b[0m\n"
      ]
     },
     "metadata": {},
     "output_type": "display_data"
    },
    {
     "data": {
      "text/html": [
       "<pre style=\"white-space:pre;overflow-x:auto;line-height:normal;font-family:Menlo,'DejaVu Sans Mono',consolas,'Courier New',monospace\"><span style=\"color: #7fbfbf; text-decoration-color: #7fbfbf\">                    </span><span style=\"color: #0069ff; text-decoration-color: #0069ff; font-weight: bold\">INFO    </span> Guidance: There are no missing values in column post_lactate. Extra column <a href=\"file:///opt/anaconda3/envs/bb_dev/lib/python3.12/site-packages/rdt/transformers/null.py\" target=\"_blank\"><span style=\"color: #7f7f7f; text-decoration-color: #7f7f7f\">null.py</span></a><span style=\"color: #7f7f7f; text-decoration-color: #7f7f7f\">:</span><a href=\"file:///opt/anaconda3/envs/bb_dev/lib/python3.12/site-packages/rdt/transformers/null.py#119\" target=\"_blank\"><span style=\"color: #7f7f7f; text-decoration-color: #7f7f7f\">119</span></a>\n",
       "<span style=\"color: #7fbfbf; text-decoration-color: #7fbfbf\">                    </span>         not created.                                                               <span style=\"color: #7f7f7f; text-decoration-color: #7f7f7f\">           </span>\n",
       "</pre>\n"
      ],
      "text/plain": [
       "\u001b[2;36m                   \u001b[0m\u001b[2;36m \u001b[0m\u001b[1;38;2;0;105;255mINFO    \u001b[0m Guidance: There are no missing values in column post_lactate. Extra column \u001b]8;id=516871;file:///opt/anaconda3/envs/bb_dev/lib/python3.12/site-packages/rdt/transformers/null.py\u001b\\\u001b[2mnull.py\u001b[0m\u001b]8;;\u001b\\\u001b[2m:\u001b[0m\u001b]8;id=999202;file:///opt/anaconda3/envs/bb_dev/lib/python3.12/site-packages/rdt/transformers/null.py#119\u001b\\\u001b[2m119\u001b[0m\u001b]8;;\u001b\\\n",
       "\u001b[2;36m                    \u001b[0m         not created.                                                               \u001b[2m           \u001b[0m\n"
      ]
     },
     "metadata": {},
     "output_type": "display_data"
    },
    {
     "data": {
      "text/html": [
       "<pre style=\"white-space:pre;overflow-x:auto;line-height:normal;font-family:Menlo,'DejaVu Sans Mono',consolas,'Courier New',monospace\"><span style=\"color: #7fbfbf; text-decoration-color: #7fbfbf\">                    </span><span style=\"color: #0069ff; text-decoration-color: #0069ff; font-weight: bold\">INFO    </span> Guidance: There are no missing values in column post_so2. Extra column not <a href=\"file:///opt/anaconda3/envs/bb_dev/lib/python3.12/site-packages/rdt/transformers/null.py\" target=\"_blank\"><span style=\"color: #7f7f7f; text-decoration-color: #7f7f7f\">null.py</span></a><span style=\"color: #7f7f7f; text-decoration-color: #7f7f7f\">:</span><a href=\"file:///opt/anaconda3/envs/bb_dev/lib/python3.12/site-packages/rdt/transformers/null.py#119\" target=\"_blank\"><span style=\"color: #7f7f7f; text-decoration-color: #7f7f7f\">119</span></a>\n",
       "<span style=\"color: #7fbfbf; text-decoration-color: #7fbfbf\">                    </span>         created.                                                                   <span style=\"color: #7f7f7f; text-decoration-color: #7f7f7f\">           </span>\n",
       "</pre>\n"
      ],
      "text/plain": [
       "\u001b[2;36m                   \u001b[0m\u001b[2;36m \u001b[0m\u001b[1;38;2;0;105;255mINFO    \u001b[0m Guidance: There are no missing values in column post_so2. Extra column not \u001b]8;id=902420;file:///opt/anaconda3/envs/bb_dev/lib/python3.12/site-packages/rdt/transformers/null.py\u001b\\\u001b[2mnull.py\u001b[0m\u001b]8;;\u001b\\\u001b[2m:\u001b[0m\u001b]8;id=384337;file:///opt/anaconda3/envs/bb_dev/lib/python3.12/site-packages/rdt/transformers/null.py#119\u001b\\\u001b[2m119\u001b[0m\u001b]8;;\u001b\\\n",
       "\u001b[2;36m                    \u001b[0m         created.                                                                   \u001b[2m           \u001b[0m\n"
      ]
     },
     "metadata": {},
     "output_type": "display_data"
    },
    {
     "data": {
      "text/html": [
       "<pre style=\"white-space:pre;overflow-x:auto;line-height:normal;font-family:Menlo,'DejaVu Sans Mono',consolas,'Courier New',monospace\"><span style=\"color: #7fbfbf; text-decoration-color: #7fbfbf\">                    </span><span style=\"color: #0069ff; text-decoration-color: #0069ff; font-weight: bold\">INFO    </span> Guidance: There are no missing values in column post_spo2. Extra column    <a href=\"file:///opt/anaconda3/envs/bb_dev/lib/python3.12/site-packages/rdt/transformers/null.py\" target=\"_blank\"><span style=\"color: #7f7f7f; text-decoration-color: #7f7f7f\">null.py</span></a><span style=\"color: #7f7f7f; text-decoration-color: #7f7f7f\">:</span><a href=\"file:///opt/anaconda3/envs/bb_dev/lib/python3.12/site-packages/rdt/transformers/null.py#119\" target=\"_blank\"><span style=\"color: #7f7f7f; text-decoration-color: #7f7f7f\">119</span></a>\n",
       "<span style=\"color: #7fbfbf; text-decoration-color: #7fbfbf\">                    </span>         not created.                                                               <span style=\"color: #7f7f7f; text-decoration-color: #7f7f7f\">           </span>\n",
       "</pre>\n"
      ],
      "text/plain": [
       "\u001b[2;36m                   \u001b[0m\u001b[2;36m \u001b[0m\u001b[1;38;2;0;105;255mINFO    \u001b[0m Guidance: There are no missing values in column post_spo2. Extra column    \u001b]8;id=151469;file:///opt/anaconda3/envs/bb_dev/lib/python3.12/site-packages/rdt/transformers/null.py\u001b\\\u001b[2mnull.py\u001b[0m\u001b]8;;\u001b\\\u001b[2m:\u001b[0m\u001b]8;id=234423;file:///opt/anaconda3/envs/bb_dev/lib/python3.12/site-packages/rdt/transformers/null.py#119\u001b\\\u001b[2m119\u001b[0m\u001b]8;;\u001b\\\n",
       "\u001b[2;36m                    \u001b[0m         not created.                                                               \u001b[2m           \u001b[0m\n"
      ]
     },
     "metadata": {},
     "output_type": "display_data"
    },
    {
     "data": {
      "text/html": [
       "<pre style=\"white-space:pre;overflow-x:auto;line-height:normal;font-family:Menlo,'DejaVu Sans Mono',consolas,'Courier New',monospace\"><span style=\"color: #7fbfbf; text-decoration-color: #7fbfbf\">                    </span><span style=\"color: #0069ff; text-decoration-color: #0069ff; font-weight: bold\">INFO    </span> Guidance: There are no missing values in column post_fio2_chartevents.     <a href=\"file:///opt/anaconda3/envs/bb_dev/lib/python3.12/site-packages/rdt/transformers/null.py\" target=\"_blank\"><span style=\"color: #7f7f7f; text-decoration-color: #7f7f7f\">null.py</span></a><span style=\"color: #7f7f7f; text-decoration-color: #7f7f7f\">:</span><a href=\"file:///opt/anaconda3/envs/bb_dev/lib/python3.12/site-packages/rdt/transformers/null.py#119\" target=\"_blank\"><span style=\"color: #7f7f7f; text-decoration-color: #7f7f7f\">119</span></a>\n",
       "<span style=\"color: #7fbfbf; text-decoration-color: #7fbfbf\">                    </span>         Extra column not created.                                                  <span style=\"color: #7f7f7f; text-decoration-color: #7f7f7f\">           </span>\n",
       "</pre>\n"
      ],
      "text/plain": [
       "\u001b[2;36m                   \u001b[0m\u001b[2;36m \u001b[0m\u001b[1;38;2;0;105;255mINFO    \u001b[0m Guidance: There are no missing values in column post_fio2_chartevents.     \u001b]8;id=601001;file:///opt/anaconda3/envs/bb_dev/lib/python3.12/site-packages/rdt/transformers/null.py\u001b\\\u001b[2mnull.py\u001b[0m\u001b]8;;\u001b\\\u001b[2m:\u001b[0m\u001b]8;id=526072;file:///opt/anaconda3/envs/bb_dev/lib/python3.12/site-packages/rdt/transformers/null.py#119\u001b\\\u001b[2m119\u001b[0m\u001b]8;;\u001b\\\n",
       "\u001b[2;36m                    \u001b[0m         Extra column not created.                                                  \u001b[2m           \u001b[0m\n"
      ]
     },
     "metadata": {},
     "output_type": "display_data"
    },
    {
     "data": {
      "text/html": [
       "<pre style=\"white-space:pre;overflow-x:auto;line-height:normal;font-family:Menlo,'DejaVu Sans Mono',consolas,'Courier New',monospace\"><span style=\"color: #7fbfbf; text-decoration-color: #7fbfbf\">                    </span><span style=\"color: #0069ff; text-decoration-color: #0069ff; font-weight: bold\">INFO    </span> Guidance: There are no missing values in column post_aado2_calc. Extra     <a href=\"file:///opt/anaconda3/envs/bb_dev/lib/python3.12/site-packages/rdt/transformers/null.py\" target=\"_blank\"><span style=\"color: #7f7f7f; text-decoration-color: #7f7f7f\">null.py</span></a><span style=\"color: #7f7f7f; text-decoration-color: #7f7f7f\">:</span><a href=\"file:///opt/anaconda3/envs/bb_dev/lib/python3.12/site-packages/rdt/transformers/null.py#119\" target=\"_blank\"><span style=\"color: #7f7f7f; text-decoration-color: #7f7f7f\">119</span></a>\n",
       "<span style=\"color: #7fbfbf; text-decoration-color: #7fbfbf\">                    </span>         column not created.                                                        <span style=\"color: #7f7f7f; text-decoration-color: #7f7f7f\">           </span>\n",
       "</pre>\n"
      ],
      "text/plain": [
       "\u001b[2;36m                   \u001b[0m\u001b[2;36m \u001b[0m\u001b[1;38;2;0;105;255mINFO    \u001b[0m Guidance: There are no missing values in column post_aado2_calc. Extra     \u001b]8;id=516966;file:///opt/anaconda3/envs/bb_dev/lib/python3.12/site-packages/rdt/transformers/null.py\u001b\\\u001b[2mnull.py\u001b[0m\u001b]8;;\u001b\\\u001b[2m:\u001b[0m\u001b]8;id=666867;file:///opt/anaconda3/envs/bb_dev/lib/python3.12/site-packages/rdt/transformers/null.py#119\u001b\\\u001b[2m119\u001b[0m\u001b]8;;\u001b\\\n",
       "\u001b[2;36m                    \u001b[0m         column not created.                                                        \u001b[2m           \u001b[0m\n"
      ]
     },
     "metadata": {},
     "output_type": "display_data"
    },
    {
     "data": {
      "text/html": [
       "<pre style=\"white-space:pre;overflow-x:auto;line-height:normal;font-family:Menlo,'DejaVu Sans Mono',consolas,'Courier New',monospace\"><span style=\"color: #7fbfbf; text-decoration-color: #7fbfbf\">                    </span><span style=\"color: #0069ff; text-decoration-color: #0069ff; font-weight: bold\">INFO    </span> Guidance: There are no missing values in column post_pao2fio2. Extra       <a href=\"file:///opt/anaconda3/envs/bb_dev/lib/python3.12/site-packages/rdt/transformers/null.py\" target=\"_blank\"><span style=\"color: #7f7f7f; text-decoration-color: #7f7f7f\">null.py</span></a><span style=\"color: #7f7f7f; text-decoration-color: #7f7f7f\">:</span><a href=\"file:///opt/anaconda3/envs/bb_dev/lib/python3.12/site-packages/rdt/transformers/null.py#119\" target=\"_blank\"><span style=\"color: #7f7f7f; text-decoration-color: #7f7f7f\">119</span></a>\n",
       "<span style=\"color: #7fbfbf; text-decoration-color: #7fbfbf\">                    </span>         column not created.                                                        <span style=\"color: #7f7f7f; text-decoration-color: #7f7f7f\">           </span>\n",
       "</pre>\n"
      ],
      "text/plain": [
       "\u001b[2;36m                   \u001b[0m\u001b[2;36m \u001b[0m\u001b[1;38;2;0;105;255mINFO    \u001b[0m Guidance: There are no missing values in column post_pao2fio2. Extra       \u001b]8;id=11849;file:///opt/anaconda3/envs/bb_dev/lib/python3.12/site-packages/rdt/transformers/null.py\u001b\\\u001b[2mnull.py\u001b[0m\u001b]8;;\u001b\\\u001b[2m:\u001b[0m\u001b]8;id=825813;file:///opt/anaconda3/envs/bb_dev/lib/python3.12/site-packages/rdt/transformers/null.py#119\u001b\\\u001b[2m119\u001b[0m\u001b]8;;\u001b\\\n",
       "\u001b[2;36m                    \u001b[0m         column not created.                                                        \u001b[2m           \u001b[0m\n"
      ]
     },
     "metadata": {},
     "output_type": "display_data"
    },
    {
     "data": {
      "text/html": [
       "<pre style=\"white-space:pre;overflow-x:auto;line-height:normal;font-family:Menlo,'DejaVu Sans Mono',consolas,'Courier New',monospace\"><span style=\"color: #7fbfbf; text-decoration-color: #7fbfbf\">                    </span><span style=\"color: #0069ff; text-decoration-color: #0069ff; font-weight: bold\">INFO    </span> Guidance: There are no missing values in column post_temperature. Extra    <a href=\"file:///opt/anaconda3/envs/bb_dev/lib/python3.12/site-packages/rdt/transformers/null.py\" target=\"_blank\"><span style=\"color: #7f7f7f; text-decoration-color: #7f7f7f\">null.py</span></a><span style=\"color: #7f7f7f; text-decoration-color: #7f7f7f\">:</span><a href=\"file:///opt/anaconda3/envs/bb_dev/lib/python3.12/site-packages/rdt/transformers/null.py#119\" target=\"_blank\"><span style=\"color: #7f7f7f; text-decoration-color: #7f7f7f\">119</span></a>\n",
       "<span style=\"color: #7fbfbf; text-decoration-color: #7fbfbf\">                    </span>         column not created.                                                        <span style=\"color: #7f7f7f; text-decoration-color: #7f7f7f\">           </span>\n",
       "</pre>\n"
      ],
      "text/plain": [
       "\u001b[2;36m                   \u001b[0m\u001b[2;36m \u001b[0m\u001b[1;38;2;0;105;255mINFO    \u001b[0m Guidance: There are no missing values in column post_temperature. Extra    \u001b]8;id=858889;file:///opt/anaconda3/envs/bb_dev/lib/python3.12/site-packages/rdt/transformers/null.py\u001b\\\u001b[2mnull.py\u001b[0m\u001b]8;;\u001b\\\u001b[2m:\u001b[0m\u001b]8;id=373835;file:///opt/anaconda3/envs/bb_dev/lib/python3.12/site-packages/rdt/transformers/null.py#119\u001b\\\u001b[2m119\u001b[0m\u001b]8;;\u001b\\\n",
       "\u001b[2;36m                    \u001b[0m         column not created.                                                        \u001b[2m           \u001b[0m\n"
      ]
     },
     "metadata": {},
     "output_type": "display_data"
    },
    {
     "data": {
      "text/html": [
       "<pre style=\"white-space:pre;overflow-x:auto;line-height:normal;font-family:Menlo,'DejaVu Sans Mono',consolas,'Courier New',monospace\"><span style=\"color: #7fbfbf; text-decoration-color: #7fbfbf\">                    </span><span style=\"color: #0069ff; text-decoration-color: #0069ff; font-weight: bold\">INFO    </span> Guidance: There are no missing values in column post_fio2. Extra column    <a href=\"file:///opt/anaconda3/envs/bb_dev/lib/python3.12/site-packages/rdt/transformers/null.py\" target=\"_blank\"><span style=\"color: #7f7f7f; text-decoration-color: #7f7f7f\">null.py</span></a><span style=\"color: #7f7f7f; text-decoration-color: #7f7f7f\">:</span><a href=\"file:///opt/anaconda3/envs/bb_dev/lib/python3.12/site-packages/rdt/transformers/null.py#119\" target=\"_blank\"><span style=\"color: #7f7f7f; text-decoration-color: #7f7f7f\">119</span></a>\n",
       "<span style=\"color: #7fbfbf; text-decoration-color: #7fbfbf\">                    </span>         not created.                                                               <span style=\"color: #7f7f7f; text-decoration-color: #7f7f7f\">           </span>\n",
       "</pre>\n"
      ],
      "text/plain": [
       "\u001b[2;36m                   \u001b[0m\u001b[2;36m \u001b[0m\u001b[1;38;2;0;105;255mINFO    \u001b[0m Guidance: There are no missing values in column post_fio2. Extra column    \u001b]8;id=969551;file:///opt/anaconda3/envs/bb_dev/lib/python3.12/site-packages/rdt/transformers/null.py\u001b\\\u001b[2mnull.py\u001b[0m\u001b]8;;\u001b\\\u001b[2m:\u001b[0m\u001b]8;id=833203;file:///opt/anaconda3/envs/bb_dev/lib/python3.12/site-packages/rdt/transformers/null.py#119\u001b\\\u001b[2m119\u001b[0m\u001b]8;;\u001b\\\n",
       "\u001b[2;36m                    \u001b[0m         not created.                                                               \u001b[2m           \u001b[0m\n"
      ]
     },
     "metadata": {},
     "output_type": "display_data"
    },
    {
     "data": {
      "text/html": [
       "<pre style=\"white-space:pre;overflow-x:auto;line-height:normal;font-family:Menlo,'DejaVu Sans Mono',consolas,'Courier New',monospace\"><span style=\"color: #7fbfbf; text-decoration-color: #7fbfbf\">                    </span><span style=\"color: #0069ff; text-decoration-color: #0069ff; font-weight: bold\">INFO    </span> Guidance: There are no missing values in column post_aado2. Extra column   <a href=\"file:///opt/anaconda3/envs/bb_dev/lib/python3.12/site-packages/rdt/transformers/null.py\" target=\"_blank\"><span style=\"color: #7f7f7f; text-decoration-color: #7f7f7f\">null.py</span></a><span style=\"color: #7f7f7f; text-decoration-color: #7f7f7f\">:</span><a href=\"file:///opt/anaconda3/envs/bb_dev/lib/python3.12/site-packages/rdt/transformers/null.py#119\" target=\"_blank\"><span style=\"color: #7f7f7f; text-decoration-color: #7f7f7f\">119</span></a>\n",
       "<span style=\"color: #7fbfbf; text-decoration-color: #7fbfbf\">                    </span>         not created.                                                               <span style=\"color: #7f7f7f; text-decoration-color: #7f7f7f\">           </span>\n",
       "</pre>\n"
      ],
      "text/plain": [
       "\u001b[2;36m                   \u001b[0m\u001b[2;36m \u001b[0m\u001b[1;38;2;0;105;255mINFO    \u001b[0m Guidance: There are no missing values in column post_aado2. Extra column   \u001b]8;id=881741;file:///opt/anaconda3/envs/bb_dev/lib/python3.12/site-packages/rdt/transformers/null.py\u001b\\\u001b[2mnull.py\u001b[0m\u001b]8;;\u001b\\\u001b[2m:\u001b[0m\u001b]8;id=176143;file:///opt/anaconda3/envs/bb_dev/lib/python3.12/site-packages/rdt/transformers/null.py#119\u001b\\\u001b[2m119\u001b[0m\u001b]8;;\u001b\\\n",
       "\u001b[2;36m                    \u001b[0m         not created.                                                               \u001b[2m           \u001b[0m\n"
      ]
     },
     "metadata": {},
     "output_type": "display_data"
    },
    {
     "data": {
      "text/html": [
       "<pre style=\"white-space:pre;overflow-x:auto;line-height:normal;font-family:Menlo,'DejaVu Sans Mono',consolas,'Courier New',monospace\"><span style=\"color: #7fbfbf; text-decoration-color: #7fbfbf\">                    </span><span style=\"color: #0069ff; text-decoration-color: #0069ff; font-weight: bold\">INFO    </span> Guidance: There are no missing values in column post_carboxyhemoglobin.    <a href=\"file:///opt/anaconda3/envs/bb_dev/lib/python3.12/site-packages/rdt/transformers/null.py\" target=\"_blank\"><span style=\"color: #7f7f7f; text-decoration-color: #7f7f7f\">null.py</span></a><span style=\"color: #7f7f7f; text-decoration-color: #7f7f7f\">:</span><a href=\"file:///opt/anaconda3/envs/bb_dev/lib/python3.12/site-packages/rdt/transformers/null.py#119\" target=\"_blank\"><span style=\"color: #7f7f7f; text-decoration-color: #7f7f7f\">119</span></a>\n",
       "<span style=\"color: #7fbfbf; text-decoration-color: #7fbfbf\">                    </span>         Extra column not created.                                                  <span style=\"color: #7f7f7f; text-decoration-color: #7f7f7f\">           </span>\n",
       "</pre>\n"
      ],
      "text/plain": [
       "\u001b[2;36m                   \u001b[0m\u001b[2;36m \u001b[0m\u001b[1;38;2;0;105;255mINFO    \u001b[0m Guidance: There are no missing values in column post_carboxyhemoglobin.    \u001b]8;id=666316;file:///opt/anaconda3/envs/bb_dev/lib/python3.12/site-packages/rdt/transformers/null.py\u001b\\\u001b[2mnull.py\u001b[0m\u001b]8;;\u001b\\\u001b[2m:\u001b[0m\u001b]8;id=195755;file:///opt/anaconda3/envs/bb_dev/lib/python3.12/site-packages/rdt/transformers/null.py#119\u001b\\\u001b[2m119\u001b[0m\u001b]8;;\u001b\\\n",
       "\u001b[2;36m                    \u001b[0m         Extra column not created.                                                  \u001b[2m           \u001b[0m\n"
      ]
     },
     "metadata": {},
     "output_type": "display_data"
    },
    {
     "data": {
      "text/html": [
       "<pre style=\"white-space:pre;overflow-x:auto;line-height:normal;font-family:Menlo,'DejaVu Sans Mono',consolas,'Courier New',monospace\"><span style=\"color: #7fbfbf; text-decoration-color: #7fbfbf\">                    </span><span style=\"color: #0069ff; text-decoration-color: #0069ff; font-weight: bold\">INFO    </span> Guidance: There are no missing values in column post_methemoglobin. Extra  <a href=\"file:///opt/anaconda3/envs/bb_dev/lib/python3.12/site-packages/rdt/transformers/null.py\" target=\"_blank\"><span style=\"color: #7f7f7f; text-decoration-color: #7f7f7f\">null.py</span></a><span style=\"color: #7f7f7f; text-decoration-color: #7f7f7f\">:</span><a href=\"file:///opt/anaconda3/envs/bb_dev/lib/python3.12/site-packages/rdt/transformers/null.py#119\" target=\"_blank\"><span style=\"color: #7f7f7f; text-decoration-color: #7f7f7f\">119</span></a>\n",
       "<span style=\"color: #7fbfbf; text-decoration-color: #7fbfbf\">                    </span>         column not created.                                                        <span style=\"color: #7f7f7f; text-decoration-color: #7f7f7f\">           </span>\n",
       "</pre>\n"
      ],
      "text/plain": [
       "\u001b[2;36m                   \u001b[0m\u001b[2;36m \u001b[0m\u001b[1;38;2;0;105;255mINFO    \u001b[0m Guidance: There are no missing values in column post_methemoglobin. Extra  \u001b]8;id=634795;file:///opt/anaconda3/envs/bb_dev/lib/python3.12/site-packages/rdt/transformers/null.py\u001b\\\u001b[2mnull.py\u001b[0m\u001b]8;;\u001b\\\u001b[2m:\u001b[0m\u001b]8;id=984927;file:///opt/anaconda3/envs/bb_dev/lib/python3.12/site-packages/rdt/transformers/null.py#119\u001b\\\u001b[2m119\u001b[0m\u001b]8;;\u001b\\\n",
       "\u001b[2;36m                    \u001b[0m         column not created.                                                        \u001b[2m           \u001b[0m\n"
      ]
     },
     "metadata": {},
     "output_type": "display_data"
    },
    {
     "data": {
      "text/html": [
       "<pre style=\"white-space:pre;overflow-x:auto;line-height:normal;font-family:Menlo,'DejaVu Sans Mono',consolas,'Courier New',monospace\"><span style=\"color: #7fbfbf; text-decoration-color: #7fbfbf\">                    </span><span style=\"color: #0069ff; text-decoration-color: #0069ff; font-weight: bold\">INFO    </span> Guidance: There are no missing values in column post_calcium. Extra column <a href=\"file:///opt/anaconda3/envs/bb_dev/lib/python3.12/site-packages/rdt/transformers/null.py\" target=\"_blank\"><span style=\"color: #7f7f7f; text-decoration-color: #7f7f7f\">null.py</span></a><span style=\"color: #7f7f7f; text-decoration-color: #7f7f7f\">:</span><a href=\"file:///opt/anaconda3/envs/bb_dev/lib/python3.12/site-packages/rdt/transformers/null.py#119\" target=\"_blank\"><span style=\"color: #7f7f7f; text-decoration-color: #7f7f7f\">119</span></a>\n",
       "<span style=\"color: #7fbfbf; text-decoration-color: #7fbfbf\">                    </span>         not created.                                                               <span style=\"color: #7f7f7f; text-decoration-color: #7f7f7f\">           </span>\n",
       "</pre>\n"
      ],
      "text/plain": [
       "\u001b[2;36m                   \u001b[0m\u001b[2;36m \u001b[0m\u001b[1;38;2;0;105;255mINFO    \u001b[0m Guidance: There are no missing values in column post_calcium. Extra column \u001b]8;id=897219;file:///opt/anaconda3/envs/bb_dev/lib/python3.12/site-packages/rdt/transformers/null.py\u001b\\\u001b[2mnull.py\u001b[0m\u001b]8;;\u001b\\\u001b[2m:\u001b[0m\u001b]8;id=575986;file:///opt/anaconda3/envs/bb_dev/lib/python3.12/site-packages/rdt/transformers/null.py#119\u001b\\\u001b[2m119\u001b[0m\u001b]8;;\u001b\\\n",
       "\u001b[2;36m                    \u001b[0m         not created.                                                               \u001b[2m           \u001b[0m\n"
      ]
     },
     "metadata": {},
     "output_type": "display_data"
    },
    {
     "data": {
      "text/html": [
       "<pre style=\"white-space:pre;overflow-x:auto;line-height:normal;font-family:Menlo,'DejaVu Sans Mono',consolas,'Courier New',monospace\"><span style=\"color: #7fbfbf; text-decoration-color: #7fbfbf\">                    </span><span style=\"color: #0069ff; text-decoration-color: #0069ff; font-weight: bold\">INFO    </span> Guidance: There are no missing values in column post_intubated. Extra      <a href=\"file:///opt/anaconda3/envs/bb_dev/lib/python3.12/site-packages/rdt/transformers/null.py\" target=\"_blank\"><span style=\"color: #7f7f7f; text-decoration-color: #7f7f7f\">null.py</span></a><span style=\"color: #7f7f7f; text-decoration-color: #7f7f7f\">:</span><a href=\"file:///opt/anaconda3/envs/bb_dev/lib/python3.12/site-packages/rdt/transformers/null.py#119\" target=\"_blank\"><span style=\"color: #7f7f7f; text-decoration-color: #7f7f7f\">119</span></a>\n",
       "<span style=\"color: #7fbfbf; text-decoration-color: #7fbfbf\">                    </span>         column not created.                                                        <span style=\"color: #7f7f7f; text-decoration-color: #7f7f7f\">           </span>\n",
       "</pre>\n"
      ],
      "text/plain": [
       "\u001b[2;36m                   \u001b[0m\u001b[2;36m \u001b[0m\u001b[1;38;2;0;105;255mINFO    \u001b[0m Guidance: There are no missing values in column post_intubated. Extra      \u001b]8;id=785130;file:///opt/anaconda3/envs/bb_dev/lib/python3.12/site-packages/rdt/transformers/null.py\u001b\\\u001b[2mnull.py\u001b[0m\u001b]8;;\u001b\\\u001b[2m:\u001b[0m\u001b]8;id=141551;file:///opt/anaconda3/envs/bb_dev/lib/python3.12/site-packages/rdt/transformers/null.py#119\u001b\\\u001b[2m119\u001b[0m\u001b]8;;\u001b\\\n",
       "\u001b[2;36m                    \u001b[0m         column not created.                                                        \u001b[2m           \u001b[0m\n"
      ]
     },
     "metadata": {},
     "output_type": "display_data"
    },
    {
     "name": "stderr",
     "output_type": "stream",
     "text": [
      "/opt/anaconda3/envs/bb_dev/lib/python3.12/site-packages/torch/utils/_pytree.py:185: FutureWarning: optree is installed but the version is too old to support PyTorch Dynamo in C++ pytree. C++ pytree support is disabled. Please consider upgrading optree using `python3 -m pip install --upgrade 'optree>=0.13.0'`.\n",
      "  warnings.warn(\n",
      "/opt/anaconda3/envs/bb_dev/lib/python3.12/site-packages/torch/utils/_pytree.py:185: FutureWarning: optree is installed but the version is too old to support PyTorch Dynamo in C++ pytree. C++ pytree support is disabled. Please consider upgrading optree using `python3 -m pip install --upgrade 'optree>=0.13.0'`.\n",
      "  warnings.warn(\n",
      "/opt/anaconda3/envs/bb_dev/lib/python3.12/site-packages/torch/utils/_pytree.py:185: FutureWarning: optree is installed but the version is too old to support PyTorch Dynamo in C++ pytree. C++ pytree support is disabled. Please consider upgrading optree using `python3 -m pip install --upgrade 'optree>=0.13.0'`.\n",
      "  warnings.warn(\n",
      "/opt/anaconda3/envs/bb_dev/lib/python3.12/site-packages/torch/utils/_pytree.py:185: FutureWarning: optree is installed but the version is too old to support PyTorch Dynamo in C++ pytree. C++ pytree support is disabled. Please consider upgrading optree using `python3 -m pip install --upgrade 'optree>=0.13.0'`.\n",
      "  warnings.warn(\n",
      "/opt/anaconda3/envs/bb_dev/lib/python3.12/site-packages/torch/utils/_pytree.py:185: FutureWarning: optree is installed but the version is too old to support PyTorch Dynamo in C++ pytree. C++ pytree support is disabled. Please consider upgrading optree using `python3 -m pip install --upgrade 'optree>=0.13.0'`.\n",
      "  warnings.warn(\n",
      "/opt/anaconda3/envs/bb_dev/lib/python3.12/site-packages/torch/utils/_pytree.py:185: FutureWarning: optree is installed but the version is too old to support PyTorch Dynamo in C++ pytree. C++ pytree support is disabled. Please consider upgrading optree using `python3 -m pip install --upgrade 'optree>=0.13.0'`.\n",
      "  warnings.warn(\n",
      "/opt/anaconda3/envs/bb_dev/lib/python3.12/site-packages/torch/utils/_pytree.py:185: FutureWarning: optree is installed but the version is too old to support PyTorch Dynamo in C++ pytree. C++ pytree support is disabled. Please consider upgrading optree using `python3 -m pip install --upgrade 'optree>=0.13.0'`.\n",
      "  warnings.warn(\n",
      "/opt/anaconda3/envs/bb_dev/lib/python3.12/site-packages/torch/utils/_pytree.py:185: FutureWarning: optree is installed but the version is too old to support PyTorch Dynamo in C++ pytree. C++ pytree support is disabled. Please consider upgrading optree using `python3 -m pip install --upgrade 'optree>=0.13.0'`.\n",
      "  warnings.warn(\n",
      "Gen. (-0.77) | Discrim. (0.11): 100%|██████████| 300/300 [00:31<00:00,  9.67it/s] "
     ]
    },
    {
     "name": "stdout",
     "output_type": "stream",
     "text": [
      "Training completed.\n",
      "Synthetic data sample:\n",
      "   Unnamed: 0    pre_ph  pre_pco2   pre_po2  pre_bicarbonate  pre_baseexcess  \\\n",
      "0        1337  0.659253  0.421170  0.109988        -0.002045        0.459950   \n",
      "1        -128  0.656135  0.697007  0.145312         0.001641        0.407252   \n",
      "2         233  1.082940  0.394957  0.078152        -0.001756        0.494072   \n",
      "3         397  0.722874  0.447071  0.147234        -0.001961        0.500477   \n",
      "4         391  0.616676  0.393881  0.096000        -0.000556        1.344573   \n",
      "\n",
      "   pre_totalco2  pre_hematocrit  pre_hemoglobin  pre_sodium  ...  \\\n",
      "0      0.441838       -0.002745        0.004251    1.040885  ...   \n",
      "1      0.210203        0.010696       -0.003869   -0.006864  ...   \n",
      "2      0.424618       -0.005272        0.001044   -0.004643  ...   \n",
      "3      0.485996        0.013744        0.001731   -0.008321  ...   \n",
      "4      0.453788        0.000473       -0.000917   -0.001473  ...   \n",
      "\n",
      "   post_fio2_chartevents  post_aado2_calc  post_pao2fio2  post_temperature  \\\n",
      "0               0.777139         0.422633       0.865252         -0.017106   \n",
      "1               0.896338        -0.032524      -0.033438         -0.014085   \n",
      "2               0.920411        -0.042661      -0.035626          0.005574   \n",
      "3               0.810417        -0.033065       0.524021          0.012626   \n",
      "4              -0.037371         0.538793       0.774636         -0.003362   \n",
      "\n",
      "   post_fio2  post_aado2  post_carboxyhemoglobin  post_methemoglobin  \\\n",
      "0   0.017393    0.002579               -0.003136            0.001276   \n",
      "1   0.009714   -0.009814                0.000049            0.000310   \n",
      "2   1.042527    0.008253               -0.001973            0.002953   \n",
      "3   0.011467   -0.001525               -0.001860            0.000891   \n",
      "4   0.012811   -0.007308               -0.001682            0.001332   \n",
      "\n",
      "   post_calcium  post_intubated  \n",
      "0      0.005900        0.002297  \n",
      "1      0.012978        0.000456  \n",
      "2      0.001974       -0.000030  \n",
      "3      0.008963        0.000103  \n",
      "4      0.004408        0.002597  \n",
      "\n",
      "[5 rows x 51 columns]\n",
      "Synthetic data saved to: ./output/synthetic_data.csv\n"
     ]
    },
    {
     "name": "stderr",
     "output_type": "stream",
     "text": [
      "\n"
     ]
    }
   ],
   "source": [
    "import argparse\n",
    "import os\n",
    "import pandas as pd\n",
    "import numpy as np\n",
    "import joblib\n",
    "from ctgan import CTGAN\n",
    "\n",
    "parser = argparse.ArgumentParser()\n",
    "parser.add_argument('--epochs', type=int, default=300)\n",
    "parser.add_argument('--batch-size', type=int, default=500)\n",
    "parser.add_argument('--output-data-dir', type=str, default=os.environ.get('SM_OUTPUT_DATA_DIR', './output'))\n",
    "parser.add_argument('--model-dir', type=str, default=os.environ.get('SM_MODEL_DIR', './model'))\n",
    "parser.add_argument('--train', type=str, default=os.environ.get('SM_CHANNEL_TRAIN', ''))\n",
    "\n",
    "args, unknown = parser.parse_known_args()\n",
    "\n",
    "print(f\"Args: {args}\")\n",
    "\n",
    "train_file = os.path.join(args.train, 'blood.csv')\n",
    "print(f\"Reading training data from: {train_file}\")\n",
    "\n",
    "data = pd.read_csv(train_file)\n",
    "data = data.fillna(0)\n",
    "\n",
    "model = CTGAN(\n",
    "    epochs=args.epochs,\n",
    "    batch_size=args.batch_size,\n",
    "    verbose=True\n",
    ")\n",
    "\n",
    "print(\"Training CTGAN...\")\n",
    "model.fit(data)\n",
    "print(\"Training completed.\")\n",
    "\n",
    "synthetic_data = model.sample(100)\n",
    "\n",
    "print(\"Synthetic data sample:\")\n",
    "print(synthetic_data.head())\n",
    "\n",
    "os.makedirs(args.output_data_dir, exist_ok=True)\n",
    "\n",
    "output_file = os.path.join(args.output_data_dir, 'synthetic_data.csv')\n",
    "synthetic_data.to_csv(output_file, index=False)\n",
    "print(f\"Synthetic data saved to: {output_file}\")\n"
   ]
  },
  {
   "cell_type": "code",
   "execution_count": null,
   "metadata": {},
   "outputs": [],
   "source": []
  }
 ],
 "metadata": {
  "kernelspec": {
   "display_name": "bb_dev",
   "language": "python",
   "name": "python3"
  },
  "language_info": {
   "codemirror_mode": {
    "name": "ipython",
    "version": 3
   },
   "file_extension": ".py",
   "mimetype": "text/x-python",
   "name": "python",
   "nbconvert_exporter": "python",
   "pygments_lexer": "ipython3",
   "version": "3.12.0"
  }
 },
 "nbformat": 4,
 "nbformat_minor": 2
}
