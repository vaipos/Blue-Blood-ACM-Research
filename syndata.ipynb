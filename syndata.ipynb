{
 "cells": [
  {
   "cell_type": "code",
   "execution_count": 1,
   "metadata": {},
   "outputs": [
    {
     "data": {
      "text/html": [
       "<div>\n",
       "<style scoped>\n",
       "    .dataframe tbody tr th:only-of-type {\n",
       "        vertical-align: middle;\n",
       "    }\n",
       "\n",
       "    .dataframe tbody tr th {\n",
       "        vertical-align: top;\n",
       "    }\n",
       "\n",
       "    .dataframe thead th {\n",
       "        text-align: right;\n",
       "    }\n",
       "</style>\n",
       "<table border=\"1\" class=\"dataframe\">\n",
       "  <thead>\n",
       "    <tr style=\"text-align: right;\">\n",
       "      <th></th>\n",
       "      <th>subject_id</th>\n",
       "      <th>prescription_start</th>\n",
       "      <th>prescription_rx_embeddings</th>\n",
       "      <th>prescription_dose_val_rx</th>\n",
       "      <th>prescription_dose_unit_rx</th>\n",
       "      <th>pre_charttime</th>\n",
       "      <th>pre_ph</th>\n",
       "      <th>pre_pco2</th>\n",
       "      <th>pre_po2</th>\n",
       "      <th>pre_bicarbonate</th>\n",
       "      <th>...</th>\n",
       "      <th>post_fio2_chartevents</th>\n",
       "      <th>post_aado2_calc</th>\n",
       "      <th>post_pao2fio2</th>\n",
       "      <th>post_temperature</th>\n",
       "      <th>post_fio2</th>\n",
       "      <th>post_aado2</th>\n",
       "      <th>post_carboxyhemoglobin</th>\n",
       "      <th>post_methemoglobin</th>\n",
       "      <th>post_calcium</th>\n",
       "      <th>post_intubated</th>\n",
       "    </tr>\n",
       "  </thead>\n",
       "  <tbody>\n",
       "    <tr>\n",
       "      <th>0</th>\n",
       "      <td>10013</td>\n",
       "      <td>2125-10-05T00:00:00</td>\n",
       "      <td>[ 3.5185558e-01  1.2351961e-01 -1.2304356e-01 ...</td>\n",
       "      <td>0.010317</td>\n",
       "      <td>0</td>\n",
       "      <td>2125-10-04T23:59:00</td>\n",
       "      <td>0.500</td>\n",
       "      <td>0.741935</td>\n",
       "      <td>0.023018</td>\n",
       "      <td>0.0</td>\n",
       "      <td>...</td>\n",
       "      <td>0.866667</td>\n",
       "      <td>0.527567</td>\n",
       "      <td>0.548553</td>\n",
       "      <td>0.0</td>\n",
       "      <td>0.0</td>\n",
       "      <td>0.0</td>\n",
       "      <td>0.0</td>\n",
       "      <td>0.0</td>\n",
       "      <td>0.0</td>\n",
       "      <td>0.0</td>\n",
       "    </tr>\n",
       "    <tr>\n",
       "      <th>1</th>\n",
       "      <td>10013</td>\n",
       "      <td>2125-10-05T00:00:00</td>\n",
       "      <td>[ 0.45182744  0.3218944  -0.5210766   0.315588...</td>\n",
       "      <td>0.011905</td>\n",
       "      <td>12</td>\n",
       "      <td>2125-10-04T23:59:00</td>\n",
       "      <td>0.500</td>\n",
       "      <td>0.741935</td>\n",
       "      <td>0.023018</td>\n",
       "      <td>0.0</td>\n",
       "      <td>...</td>\n",
       "      <td>0.866667</td>\n",
       "      <td>0.527567</td>\n",
       "      <td>0.548553</td>\n",
       "      <td>0.0</td>\n",
       "      <td>0.0</td>\n",
       "      <td>0.0</td>\n",
       "      <td>0.0</td>\n",
       "      <td>0.0</td>\n",
       "      <td>0.0</td>\n",
       "      <td>0.0</td>\n",
       "    </tr>\n",
       "    <tr>\n",
       "      <th>2</th>\n",
       "      <td>10013</td>\n",
       "      <td>2125-10-05T00:00:00</td>\n",
       "      <td>[ 4.5976555e-01  1.9232908e-01 -5.7382131e-01 ...</td>\n",
       "      <td>0.009921</td>\n",
       "      <td>11</td>\n",
       "      <td>2125-10-04T23:59:00</td>\n",
       "      <td>0.500</td>\n",
       "      <td>0.741935</td>\n",
       "      <td>0.023018</td>\n",
       "      <td>0.0</td>\n",
       "      <td>...</td>\n",
       "      <td>0.866667</td>\n",
       "      <td>0.527567</td>\n",
       "      <td>0.548553</td>\n",
       "      <td>0.0</td>\n",
       "      <td>0.0</td>\n",
       "      <td>0.0</td>\n",
       "      <td>0.0</td>\n",
       "      <td>0.0</td>\n",
       "      <td>0.0</td>\n",
       "      <td>0.0</td>\n",
       "    </tr>\n",
       "    <tr>\n",
       "      <th>3</th>\n",
       "      <td>10013</td>\n",
       "      <td>2125-10-05T00:00:00</td>\n",
       "      <td>[ 6.26637757e-01  2.61670560e-01 -2.40684357e-...</td>\n",
       "      <td>0.017857</td>\n",
       "      <td>0</td>\n",
       "      <td>2125-10-04T23:59:00</td>\n",
       "      <td>0.500</td>\n",
       "      <td>0.741935</td>\n",
       "      <td>0.023018</td>\n",
       "      <td>0.0</td>\n",
       "      <td>...</td>\n",
       "      <td>0.866667</td>\n",
       "      <td>0.527567</td>\n",
       "      <td>0.548553</td>\n",
       "      <td>0.0</td>\n",
       "      <td>0.0</td>\n",
       "      <td>0.0</td>\n",
       "      <td>0.0</td>\n",
       "      <td>0.0</td>\n",
       "      <td>0.0</td>\n",
       "      <td>0.0</td>\n",
       "    </tr>\n",
       "    <tr>\n",
       "      <th>4</th>\n",
       "      <td>10013</td>\n",
       "      <td>2125-10-05T00:00:00</td>\n",
       "      <td>[ 4.15423244e-01 -1.28793076e-01 -2.01883331e-...</td>\n",
       "      <td>0.020833</td>\n",
       "      <td>0</td>\n",
       "      <td>2125-10-04T23:59:00</td>\n",
       "      <td>0.500</td>\n",
       "      <td>0.741935</td>\n",
       "      <td>0.023018</td>\n",
       "      <td>0.0</td>\n",
       "      <td>...</td>\n",
       "      <td>0.866667</td>\n",
       "      <td>0.527567</td>\n",
       "      <td>0.548553</td>\n",
       "      <td>0.0</td>\n",
       "      <td>0.0</td>\n",
       "      <td>0.0</td>\n",
       "      <td>0.0</td>\n",
       "      <td>0.0</td>\n",
       "      <td>0.0</td>\n",
       "      <td>0.0</td>\n",
       "    </tr>\n",
       "    <tr>\n",
       "      <th>...</th>\n",
       "      <td>...</td>\n",
       "      <td>...</td>\n",
       "      <td>...</td>\n",
       "      <td>...</td>\n",
       "      <td>...</td>\n",
       "      <td>...</td>\n",
       "      <td>...</td>\n",
       "      <td>...</td>\n",
       "      <td>...</td>\n",
       "      <td>...</td>\n",
       "      <td>...</td>\n",
       "      <td>...</td>\n",
       "      <td>...</td>\n",
       "      <td>...</td>\n",
       "      <td>...</td>\n",
       "      <td>...</td>\n",
       "      <td>...</td>\n",
       "      <td>...</td>\n",
       "      <td>...</td>\n",
       "      <td>...</td>\n",
       "      <td>...</td>\n",
       "    </tr>\n",
       "    <tr>\n",
       "      <th>2177</th>\n",
       "      <td>44212</td>\n",
       "      <td>2123-11-25T00:00:00</td>\n",
       "      <td>[ 0.35067722  0.1657952  -0.11939768  0.529637...</td>\n",
       "      <td>0.027778</td>\n",
       "      <td>0</td>\n",
       "      <td>2123-11-24T21:56:00</td>\n",
       "      <td>0.375</td>\n",
       "      <td>0.500000</td>\n",
       "      <td>0.063939</td>\n",
       "      <td>0.0</td>\n",
       "      <td>...</td>\n",
       "      <td>0.933333</td>\n",
       "      <td>0.664914</td>\n",
       "      <td>0.558473</td>\n",
       "      <td>0.0</td>\n",
       "      <td>0.0</td>\n",
       "      <td>0.0</td>\n",
       "      <td>0.0</td>\n",
       "      <td>0.0</td>\n",
       "      <td>0.0</td>\n",
       "      <td>0.0</td>\n",
       "    </tr>\n",
       "    <tr>\n",
       "      <th>2178</th>\n",
       "      <td>44212</td>\n",
       "      <td>2123-11-25T00:00:00</td>\n",
       "      <td>[-1.67207658e+00  6.26857281e-02 -3.97092104e-...</td>\n",
       "      <td>0.011905</td>\n",
       "      <td>11</td>\n",
       "      <td>2123-11-24T21:56:00</td>\n",
       "      <td>0.375</td>\n",
       "      <td>0.500000</td>\n",
       "      <td>0.063939</td>\n",
       "      <td>0.0</td>\n",
       "      <td>...</td>\n",
       "      <td>0.933333</td>\n",
       "      <td>0.664914</td>\n",
       "      <td>0.558473</td>\n",
       "      <td>0.0</td>\n",
       "      <td>0.0</td>\n",
       "      <td>0.0</td>\n",
       "      <td>0.0</td>\n",
       "      <td>0.0</td>\n",
       "      <td>0.0</td>\n",
       "      <td>0.0</td>\n",
       "    </tr>\n",
       "    <tr>\n",
       "      <th>2179</th>\n",
       "      <td>44212</td>\n",
       "      <td>2123-11-25T00:00:00</td>\n",
       "      <td>[ 3.46226931e-01  1.31596521e-01 -3.90895218e-...</td>\n",
       "      <td>0.008026</td>\n",
       "      <td>2</td>\n",
       "      <td>2123-11-24T21:56:00</td>\n",
       "      <td>0.375</td>\n",
       "      <td>0.500000</td>\n",
       "      <td>0.063939</td>\n",
       "      <td>0.0</td>\n",
       "      <td>...</td>\n",
       "      <td>0.933333</td>\n",
       "      <td>0.664914</td>\n",
       "      <td>0.558473</td>\n",
       "      <td>0.0</td>\n",
       "      <td>0.0</td>\n",
       "      <td>0.0</td>\n",
       "      <td>0.0</td>\n",
       "      <td>0.0</td>\n",
       "      <td>0.0</td>\n",
       "      <td>0.0</td>\n",
       "    </tr>\n",
       "    <tr>\n",
       "      <th>2180</th>\n",
       "      <td>44212</td>\n",
       "      <td>2123-11-25T00:00:00</td>\n",
       "      <td>[ 0.44693142  0.00798898 -0.14514387  1.489820...</td>\n",
       "      <td>0.206349</td>\n",
       "      <td>11</td>\n",
       "      <td>2123-11-24T21:56:00</td>\n",
       "      <td>0.375</td>\n",
       "      <td>0.500000</td>\n",
       "      <td>0.063939</td>\n",
       "      <td>0.0</td>\n",
       "      <td>...</td>\n",
       "      <td>0.933333</td>\n",
       "      <td>0.664914</td>\n",
       "      <td>0.558473</td>\n",
       "      <td>0.0</td>\n",
       "      <td>0.0</td>\n",
       "      <td>0.0</td>\n",
       "      <td>0.0</td>\n",
       "      <td>0.0</td>\n",
       "      <td>0.0</td>\n",
       "      <td>0.0</td>\n",
       "    </tr>\n",
       "    <tr>\n",
       "      <th>2181</th>\n",
       "      <td>44212</td>\n",
       "      <td>2123-11-25T00:00:00</td>\n",
       "      <td>[ 0.47063726  0.19387965 -0.56185037  1.365949...</td>\n",
       "      <td>0.009921</td>\n",
       "      <td>11</td>\n",
       "      <td>2123-11-24T21:56:00</td>\n",
       "      <td>0.375</td>\n",
       "      <td>0.500000</td>\n",
       "      <td>0.063939</td>\n",
       "      <td>0.0</td>\n",
       "      <td>...</td>\n",
       "      <td>0.933333</td>\n",
       "      <td>0.664914</td>\n",
       "      <td>0.558473</td>\n",
       "      <td>0.0</td>\n",
       "      <td>0.0</td>\n",
       "      <td>0.0</td>\n",
       "      <td>0.0</td>\n",
       "      <td>0.0</td>\n",
       "      <td>0.0</td>\n",
       "      <td>0.0</td>\n",
       "    </tr>\n",
       "  </tbody>\n",
       "</table>\n",
       "<p>2182 rows × 57 columns</p>\n",
       "</div>"
      ],
      "text/plain": [
       "      subject_id   prescription_start  \\\n",
       "0          10013  2125-10-05T00:00:00   \n",
       "1          10013  2125-10-05T00:00:00   \n",
       "2          10013  2125-10-05T00:00:00   \n",
       "3          10013  2125-10-05T00:00:00   \n",
       "4          10013  2125-10-05T00:00:00   \n",
       "...          ...                  ...   \n",
       "2177       44212  2123-11-25T00:00:00   \n",
       "2178       44212  2123-11-25T00:00:00   \n",
       "2179       44212  2123-11-25T00:00:00   \n",
       "2180       44212  2123-11-25T00:00:00   \n",
       "2181       44212  2123-11-25T00:00:00   \n",
       "\n",
       "                             prescription_rx_embeddings  \\\n",
       "0     [ 3.5185558e-01  1.2351961e-01 -1.2304356e-01 ...   \n",
       "1     [ 0.45182744  0.3218944  -0.5210766   0.315588...   \n",
       "2     [ 4.5976555e-01  1.9232908e-01 -5.7382131e-01 ...   \n",
       "3     [ 6.26637757e-01  2.61670560e-01 -2.40684357e-...   \n",
       "4     [ 4.15423244e-01 -1.28793076e-01 -2.01883331e-...   \n",
       "...                                                 ...   \n",
       "2177  [ 0.35067722  0.1657952  -0.11939768  0.529637...   \n",
       "2178  [-1.67207658e+00  6.26857281e-02 -3.97092104e-...   \n",
       "2179  [ 3.46226931e-01  1.31596521e-01 -3.90895218e-...   \n",
       "2180  [ 0.44693142  0.00798898 -0.14514387  1.489820...   \n",
       "2181  [ 0.47063726  0.19387965 -0.56185037  1.365949...   \n",
       "\n",
       "      prescription_dose_val_rx  prescription_dose_unit_rx  \\\n",
       "0                     0.010317                          0   \n",
       "1                     0.011905                         12   \n",
       "2                     0.009921                         11   \n",
       "3                     0.017857                          0   \n",
       "4                     0.020833                          0   \n",
       "...                        ...                        ...   \n",
       "2177                  0.027778                          0   \n",
       "2178                  0.011905                         11   \n",
       "2179                  0.008026                          2   \n",
       "2180                  0.206349                         11   \n",
       "2181                  0.009921                         11   \n",
       "\n",
       "            pre_charttime  pre_ph  pre_pco2   pre_po2  pre_bicarbonate  ...  \\\n",
       "0     2125-10-04T23:59:00   0.500  0.741935  0.023018              0.0  ...   \n",
       "1     2125-10-04T23:59:00   0.500  0.741935  0.023018              0.0  ...   \n",
       "2     2125-10-04T23:59:00   0.500  0.741935  0.023018              0.0  ...   \n",
       "3     2125-10-04T23:59:00   0.500  0.741935  0.023018              0.0  ...   \n",
       "4     2125-10-04T23:59:00   0.500  0.741935  0.023018              0.0  ...   \n",
       "...                   ...     ...       ...       ...              ...  ...   \n",
       "2177  2123-11-24T21:56:00   0.375  0.500000  0.063939              0.0  ...   \n",
       "2178  2123-11-24T21:56:00   0.375  0.500000  0.063939              0.0  ...   \n",
       "2179  2123-11-24T21:56:00   0.375  0.500000  0.063939              0.0  ...   \n",
       "2180  2123-11-24T21:56:00   0.375  0.500000  0.063939              0.0  ...   \n",
       "2181  2123-11-24T21:56:00   0.375  0.500000  0.063939              0.0  ...   \n",
       "\n",
       "      post_fio2_chartevents  post_aado2_calc  post_pao2fio2  post_temperature  \\\n",
       "0                  0.866667         0.527567       0.548553               0.0   \n",
       "1                  0.866667         0.527567       0.548553               0.0   \n",
       "2                  0.866667         0.527567       0.548553               0.0   \n",
       "3                  0.866667         0.527567       0.548553               0.0   \n",
       "4                  0.866667         0.527567       0.548553               0.0   \n",
       "...                     ...              ...            ...               ...   \n",
       "2177               0.933333         0.664914       0.558473               0.0   \n",
       "2178               0.933333         0.664914       0.558473               0.0   \n",
       "2179               0.933333         0.664914       0.558473               0.0   \n",
       "2180               0.933333         0.664914       0.558473               0.0   \n",
       "2181               0.933333         0.664914       0.558473               0.0   \n",
       "\n",
       "      post_fio2  post_aado2  post_carboxyhemoglobin  post_methemoglobin  \\\n",
       "0           0.0         0.0                     0.0                 0.0   \n",
       "1           0.0         0.0                     0.0                 0.0   \n",
       "2           0.0         0.0                     0.0                 0.0   \n",
       "3           0.0         0.0                     0.0                 0.0   \n",
       "4           0.0         0.0                     0.0                 0.0   \n",
       "...         ...         ...                     ...                 ...   \n",
       "2177        0.0         0.0                     0.0                 0.0   \n",
       "2178        0.0         0.0                     0.0                 0.0   \n",
       "2179        0.0         0.0                     0.0                 0.0   \n",
       "2180        0.0         0.0                     0.0                 0.0   \n",
       "2181        0.0         0.0                     0.0                 0.0   \n",
       "\n",
       "      post_calcium  post_intubated  \n",
       "0              0.0             0.0  \n",
       "1              0.0             0.0  \n",
       "2              0.0             0.0  \n",
       "3              0.0             0.0  \n",
       "4              0.0             0.0  \n",
       "...            ...             ...  \n",
       "2177           0.0             0.0  \n",
       "2178           0.0             0.0  \n",
       "2179           0.0             0.0  \n",
       "2180           0.0             0.0  \n",
       "2181           0.0             0.0  \n",
       "\n",
       "[2182 rows x 57 columns]"
      ]
     },
     "execution_count": 1,
     "metadata": {},
     "output_type": "execute_result"
    }
   ],
   "source": [
    "import pandas as pd\n",
    "original_df = pd.read_csv('final_df.csv')\n",
    "\n",
    "original_df"
   ]
  },
  {
   "cell_type": "code",
   "execution_count": 2,
   "metadata": {},
   "outputs": [
    {
     "data": {
      "text/html": [
       "<div>\n",
       "<style scoped>\n",
       "    .dataframe tbody tr th:only-of-type {\n",
       "        vertical-align: middle;\n",
       "    }\n",
       "\n",
       "    .dataframe tbody tr th {\n",
       "        vertical-align: top;\n",
       "    }\n",
       "\n",
       "    .dataframe thead th {\n",
       "        text-align: right;\n",
       "    }\n",
       "</style>\n",
       "<table border=\"1\" class=\"dataframe\">\n",
       "  <thead>\n",
       "    <tr style=\"text-align: right;\">\n",
       "      <th></th>\n",
       "      <th>prescription_rx_embeddings</th>\n",
       "      <th>prescription_dose_val_rx</th>\n",
       "      <th>prescription_dose_unit_rx</th>\n",
       "      <th>pre_ph</th>\n",
       "      <th>pre_pco2</th>\n",
       "      <th>pre_po2</th>\n",
       "      <th>pre_bicarbonate</th>\n",
       "      <th>pre_baseexcess</th>\n",
       "      <th>pre_totalco2</th>\n",
       "      <th>pre_hematocrit</th>\n",
       "      <th>...</th>\n",
       "      <th>post_fio2_chartevents</th>\n",
       "      <th>post_aado2_calc</th>\n",
       "      <th>post_pao2fio2</th>\n",
       "      <th>post_temperature</th>\n",
       "      <th>post_fio2</th>\n",
       "      <th>post_aado2</th>\n",
       "      <th>post_carboxyhemoglobin</th>\n",
       "      <th>post_methemoglobin</th>\n",
       "      <th>post_calcium</th>\n",
       "      <th>post_intubated</th>\n",
       "    </tr>\n",
       "  </thead>\n",
       "  <tbody>\n",
       "    <tr>\n",
       "      <th>0</th>\n",
       "      <td>[ 3.5185558e-01  1.2351961e-01 -1.2304356e-01 ...</td>\n",
       "      <td>0.010317</td>\n",
       "      <td>0</td>\n",
       "      <td>0.500</td>\n",
       "      <td>0.741935</td>\n",
       "      <td>0.023018</td>\n",
       "      <td>0.0</td>\n",
       "      <td>0.545455</td>\n",
       "      <td>0.594595</td>\n",
       "      <td>0.0</td>\n",
       "      <td>...</td>\n",
       "      <td>0.866667</td>\n",
       "      <td>0.527567</td>\n",
       "      <td>0.548553</td>\n",
       "      <td>0.0</td>\n",
       "      <td>0.0</td>\n",
       "      <td>0.0</td>\n",
       "      <td>0.0</td>\n",
       "      <td>0.0</td>\n",
       "      <td>0.0</td>\n",
       "      <td>0.0</td>\n",
       "    </tr>\n",
       "    <tr>\n",
       "      <th>1</th>\n",
       "      <td>[ 0.45182744  0.3218944  -0.5210766   0.315588...</td>\n",
       "      <td>0.011905</td>\n",
       "      <td>12</td>\n",
       "      <td>0.500</td>\n",
       "      <td>0.741935</td>\n",
       "      <td>0.023018</td>\n",
       "      <td>0.0</td>\n",
       "      <td>0.545455</td>\n",
       "      <td>0.594595</td>\n",
       "      <td>0.0</td>\n",
       "      <td>...</td>\n",
       "      <td>0.866667</td>\n",
       "      <td>0.527567</td>\n",
       "      <td>0.548553</td>\n",
       "      <td>0.0</td>\n",
       "      <td>0.0</td>\n",
       "      <td>0.0</td>\n",
       "      <td>0.0</td>\n",
       "      <td>0.0</td>\n",
       "      <td>0.0</td>\n",
       "      <td>0.0</td>\n",
       "    </tr>\n",
       "    <tr>\n",
       "      <th>2</th>\n",
       "      <td>[ 4.5976555e-01  1.9232908e-01 -5.7382131e-01 ...</td>\n",
       "      <td>0.009921</td>\n",
       "      <td>11</td>\n",
       "      <td>0.500</td>\n",
       "      <td>0.741935</td>\n",
       "      <td>0.023018</td>\n",
       "      <td>0.0</td>\n",
       "      <td>0.545455</td>\n",
       "      <td>0.594595</td>\n",
       "      <td>0.0</td>\n",
       "      <td>...</td>\n",
       "      <td>0.866667</td>\n",
       "      <td>0.527567</td>\n",
       "      <td>0.548553</td>\n",
       "      <td>0.0</td>\n",
       "      <td>0.0</td>\n",
       "      <td>0.0</td>\n",
       "      <td>0.0</td>\n",
       "      <td>0.0</td>\n",
       "      <td>0.0</td>\n",
       "      <td>0.0</td>\n",
       "    </tr>\n",
       "    <tr>\n",
       "      <th>3</th>\n",
       "      <td>[ 6.26637757e-01  2.61670560e-01 -2.40684357e-...</td>\n",
       "      <td>0.017857</td>\n",
       "      <td>0</td>\n",
       "      <td>0.500</td>\n",
       "      <td>0.741935</td>\n",
       "      <td>0.023018</td>\n",
       "      <td>0.0</td>\n",
       "      <td>0.545455</td>\n",
       "      <td>0.594595</td>\n",
       "      <td>0.0</td>\n",
       "      <td>...</td>\n",
       "      <td>0.866667</td>\n",
       "      <td>0.527567</td>\n",
       "      <td>0.548553</td>\n",
       "      <td>0.0</td>\n",
       "      <td>0.0</td>\n",
       "      <td>0.0</td>\n",
       "      <td>0.0</td>\n",
       "      <td>0.0</td>\n",
       "      <td>0.0</td>\n",
       "      <td>0.0</td>\n",
       "    </tr>\n",
       "    <tr>\n",
       "      <th>4</th>\n",
       "      <td>[ 4.15423244e-01 -1.28793076e-01 -2.01883331e-...</td>\n",
       "      <td>0.020833</td>\n",
       "      <td>0</td>\n",
       "      <td>0.500</td>\n",
       "      <td>0.741935</td>\n",
       "      <td>0.023018</td>\n",
       "      <td>0.0</td>\n",
       "      <td>0.545455</td>\n",
       "      <td>0.594595</td>\n",
       "      <td>0.0</td>\n",
       "      <td>...</td>\n",
       "      <td>0.866667</td>\n",
       "      <td>0.527567</td>\n",
       "      <td>0.548553</td>\n",
       "      <td>0.0</td>\n",
       "      <td>0.0</td>\n",
       "      <td>0.0</td>\n",
       "      <td>0.0</td>\n",
       "      <td>0.0</td>\n",
       "      <td>0.0</td>\n",
       "      <td>0.0</td>\n",
       "    </tr>\n",
       "    <tr>\n",
       "      <th>...</th>\n",
       "      <td>...</td>\n",
       "      <td>...</td>\n",
       "      <td>...</td>\n",
       "      <td>...</td>\n",
       "      <td>...</td>\n",
       "      <td>...</td>\n",
       "      <td>...</td>\n",
       "      <td>...</td>\n",
       "      <td>...</td>\n",
       "      <td>...</td>\n",
       "      <td>...</td>\n",
       "      <td>...</td>\n",
       "      <td>...</td>\n",
       "      <td>...</td>\n",
       "      <td>...</td>\n",
       "      <td>...</td>\n",
       "      <td>...</td>\n",
       "      <td>...</td>\n",
       "      <td>...</td>\n",
       "      <td>...</td>\n",
       "      <td>...</td>\n",
       "    </tr>\n",
       "    <tr>\n",
       "      <th>2177</th>\n",
       "      <td>[ 0.35067722  0.1657952  -0.11939768  0.529637...</td>\n",
       "      <td>0.027778</td>\n",
       "      <td>0</td>\n",
       "      <td>0.375</td>\n",
       "      <td>0.500000</td>\n",
       "      <td>0.063939</td>\n",
       "      <td>0.0</td>\n",
       "      <td>0.303030</td>\n",
       "      <td>0.324324</td>\n",
       "      <td>0.0</td>\n",
       "      <td>...</td>\n",
       "      <td>0.933333</td>\n",
       "      <td>0.664914</td>\n",
       "      <td>0.558473</td>\n",
       "      <td>0.0</td>\n",
       "      <td>0.0</td>\n",
       "      <td>0.0</td>\n",
       "      <td>0.0</td>\n",
       "      <td>0.0</td>\n",
       "      <td>0.0</td>\n",
       "      <td>0.0</td>\n",
       "    </tr>\n",
       "    <tr>\n",
       "      <th>2178</th>\n",
       "      <td>[-1.67207658e+00  6.26857281e-02 -3.97092104e-...</td>\n",
       "      <td>0.011905</td>\n",
       "      <td>11</td>\n",
       "      <td>0.375</td>\n",
       "      <td>0.500000</td>\n",
       "      <td>0.063939</td>\n",
       "      <td>0.0</td>\n",
       "      <td>0.303030</td>\n",
       "      <td>0.324324</td>\n",
       "      <td>0.0</td>\n",
       "      <td>...</td>\n",
       "      <td>0.933333</td>\n",
       "      <td>0.664914</td>\n",
       "      <td>0.558473</td>\n",
       "      <td>0.0</td>\n",
       "      <td>0.0</td>\n",
       "      <td>0.0</td>\n",
       "      <td>0.0</td>\n",
       "      <td>0.0</td>\n",
       "      <td>0.0</td>\n",
       "      <td>0.0</td>\n",
       "    </tr>\n",
       "    <tr>\n",
       "      <th>2179</th>\n",
       "      <td>[ 3.46226931e-01  1.31596521e-01 -3.90895218e-...</td>\n",
       "      <td>0.008026</td>\n",
       "      <td>2</td>\n",
       "      <td>0.375</td>\n",
       "      <td>0.500000</td>\n",
       "      <td>0.063939</td>\n",
       "      <td>0.0</td>\n",
       "      <td>0.303030</td>\n",
       "      <td>0.324324</td>\n",
       "      <td>0.0</td>\n",
       "      <td>...</td>\n",
       "      <td>0.933333</td>\n",
       "      <td>0.664914</td>\n",
       "      <td>0.558473</td>\n",
       "      <td>0.0</td>\n",
       "      <td>0.0</td>\n",
       "      <td>0.0</td>\n",
       "      <td>0.0</td>\n",
       "      <td>0.0</td>\n",
       "      <td>0.0</td>\n",
       "      <td>0.0</td>\n",
       "    </tr>\n",
       "    <tr>\n",
       "      <th>2180</th>\n",
       "      <td>[ 0.44693142  0.00798898 -0.14514387  1.489820...</td>\n",
       "      <td>0.206349</td>\n",
       "      <td>11</td>\n",
       "      <td>0.375</td>\n",
       "      <td>0.500000</td>\n",
       "      <td>0.063939</td>\n",
       "      <td>0.0</td>\n",
       "      <td>0.303030</td>\n",
       "      <td>0.324324</td>\n",
       "      <td>0.0</td>\n",
       "      <td>...</td>\n",
       "      <td>0.933333</td>\n",
       "      <td>0.664914</td>\n",
       "      <td>0.558473</td>\n",
       "      <td>0.0</td>\n",
       "      <td>0.0</td>\n",
       "      <td>0.0</td>\n",
       "      <td>0.0</td>\n",
       "      <td>0.0</td>\n",
       "      <td>0.0</td>\n",
       "      <td>0.0</td>\n",
       "    </tr>\n",
       "    <tr>\n",
       "      <th>2181</th>\n",
       "      <td>[ 0.47063726  0.19387965 -0.56185037  1.365949...</td>\n",
       "      <td>0.009921</td>\n",
       "      <td>11</td>\n",
       "      <td>0.375</td>\n",
       "      <td>0.500000</td>\n",
       "      <td>0.063939</td>\n",
       "      <td>0.0</td>\n",
       "      <td>0.303030</td>\n",
       "      <td>0.324324</td>\n",
       "      <td>0.0</td>\n",
       "      <td>...</td>\n",
       "      <td>0.933333</td>\n",
       "      <td>0.664914</td>\n",
       "      <td>0.558473</td>\n",
       "      <td>0.0</td>\n",
       "      <td>0.0</td>\n",
       "      <td>0.0</td>\n",
       "      <td>0.0</td>\n",
       "      <td>0.0</td>\n",
       "      <td>0.0</td>\n",
       "      <td>0.0</td>\n",
       "    </tr>\n",
       "  </tbody>\n",
       "</table>\n",
       "<p>2182 rows × 53 columns</p>\n",
       "</div>"
      ],
      "text/plain": [
       "                             prescription_rx_embeddings  \\\n",
       "0     [ 3.5185558e-01  1.2351961e-01 -1.2304356e-01 ...   \n",
       "1     [ 0.45182744  0.3218944  -0.5210766   0.315588...   \n",
       "2     [ 4.5976555e-01  1.9232908e-01 -5.7382131e-01 ...   \n",
       "3     [ 6.26637757e-01  2.61670560e-01 -2.40684357e-...   \n",
       "4     [ 4.15423244e-01 -1.28793076e-01 -2.01883331e-...   \n",
       "...                                                 ...   \n",
       "2177  [ 0.35067722  0.1657952  -0.11939768  0.529637...   \n",
       "2178  [-1.67207658e+00  6.26857281e-02 -3.97092104e-...   \n",
       "2179  [ 3.46226931e-01  1.31596521e-01 -3.90895218e-...   \n",
       "2180  [ 0.44693142  0.00798898 -0.14514387  1.489820...   \n",
       "2181  [ 0.47063726  0.19387965 -0.56185037  1.365949...   \n",
       "\n",
       "      prescription_dose_val_rx  prescription_dose_unit_rx  pre_ph  pre_pco2  \\\n",
       "0                     0.010317                          0   0.500  0.741935   \n",
       "1                     0.011905                         12   0.500  0.741935   \n",
       "2                     0.009921                         11   0.500  0.741935   \n",
       "3                     0.017857                          0   0.500  0.741935   \n",
       "4                     0.020833                          0   0.500  0.741935   \n",
       "...                        ...                        ...     ...       ...   \n",
       "2177                  0.027778                          0   0.375  0.500000   \n",
       "2178                  0.011905                         11   0.375  0.500000   \n",
       "2179                  0.008026                          2   0.375  0.500000   \n",
       "2180                  0.206349                         11   0.375  0.500000   \n",
       "2181                  0.009921                         11   0.375  0.500000   \n",
       "\n",
       "       pre_po2  pre_bicarbonate  pre_baseexcess  pre_totalco2  pre_hematocrit  \\\n",
       "0     0.023018              0.0        0.545455      0.594595             0.0   \n",
       "1     0.023018              0.0        0.545455      0.594595             0.0   \n",
       "2     0.023018              0.0        0.545455      0.594595             0.0   \n",
       "3     0.023018              0.0        0.545455      0.594595             0.0   \n",
       "4     0.023018              0.0        0.545455      0.594595             0.0   \n",
       "...        ...              ...             ...           ...             ...   \n",
       "2177  0.063939              0.0        0.303030      0.324324             0.0   \n",
       "2178  0.063939              0.0        0.303030      0.324324             0.0   \n",
       "2179  0.063939              0.0        0.303030      0.324324             0.0   \n",
       "2180  0.063939              0.0        0.303030      0.324324             0.0   \n",
       "2181  0.063939              0.0        0.303030      0.324324             0.0   \n",
       "\n",
       "      ...  post_fio2_chartevents  post_aado2_calc  post_pao2fio2  \\\n",
       "0     ...               0.866667         0.527567       0.548553   \n",
       "1     ...               0.866667         0.527567       0.548553   \n",
       "2     ...               0.866667         0.527567       0.548553   \n",
       "3     ...               0.866667         0.527567       0.548553   \n",
       "4     ...               0.866667         0.527567       0.548553   \n",
       "...   ...                    ...              ...            ...   \n",
       "2177  ...               0.933333         0.664914       0.558473   \n",
       "2178  ...               0.933333         0.664914       0.558473   \n",
       "2179  ...               0.933333         0.664914       0.558473   \n",
       "2180  ...               0.933333         0.664914       0.558473   \n",
       "2181  ...               0.933333         0.664914       0.558473   \n",
       "\n",
       "      post_temperature  post_fio2  post_aado2  post_carboxyhemoglobin  \\\n",
       "0                  0.0        0.0         0.0                     0.0   \n",
       "1                  0.0        0.0         0.0                     0.0   \n",
       "2                  0.0        0.0         0.0                     0.0   \n",
       "3                  0.0        0.0         0.0                     0.0   \n",
       "4                  0.0        0.0         0.0                     0.0   \n",
       "...                ...        ...         ...                     ...   \n",
       "2177               0.0        0.0         0.0                     0.0   \n",
       "2178               0.0        0.0         0.0                     0.0   \n",
       "2179               0.0        0.0         0.0                     0.0   \n",
       "2180               0.0        0.0         0.0                     0.0   \n",
       "2181               0.0        0.0         0.0                     0.0   \n",
       "\n",
       "      post_methemoglobin  post_calcium  post_intubated  \n",
       "0                    0.0           0.0             0.0  \n",
       "1                    0.0           0.0             0.0  \n",
       "2                    0.0           0.0             0.0  \n",
       "3                    0.0           0.0             0.0  \n",
       "4                    0.0           0.0             0.0  \n",
       "...                  ...           ...             ...  \n",
       "2177                 0.0           0.0             0.0  \n",
       "2178                 0.0           0.0             0.0  \n",
       "2179                 0.0           0.0             0.0  \n",
       "2180                 0.0           0.0             0.0  \n",
       "2181                 0.0           0.0             0.0  \n",
       "\n",
       "[2182 rows x 53 columns]"
      ]
     },
     "execution_count": 2,
     "metadata": {},
     "output_type": "execute_result"
    }
   ],
   "source": [
    "original_df = original_df.drop(columns = ['subject_id', 'pre_charttime', 'prescription_start', 'post_charttime'], axis = 1)\n",
    "original_df"
   ]
  },
  {
   "cell_type": "code",
   "execution_count": 3,
   "metadata": {},
   "outputs": [
    {
     "name": "stdout",
     "output_type": "stream",
     "text": [
      "0    [ 3.5185558e-01  1.2351961e-01 -1.2304356e-01 ...\n",
      "1    [ 0.45182744  0.3218944  -0.5210766   0.315588...\n",
      "2    [ 4.5976555e-01  1.9232908e-01 -5.7382131e-01 ...\n",
      "3    [ 6.26637757e-01  2.61670560e-01 -2.40684357e-...\n",
      "4    [ 4.15423244e-01 -1.28793076e-01 -2.01883331e-...\n",
      "Name: prescription_rx_embeddings, dtype: object\n",
      "0    [0.35185558, 0.12351961, -0.12304356, -0.33200...\n",
      "1    [0.45182744, 0.3218944, -0.5210766, 0.3155888,...\n",
      "2    [0.45976555, 0.19232908, -0.57382131, 1.349748...\n",
      "3    [0.626637757, 0.26167056, -0.0240684357, 0.163...\n",
      "4    [0.415423244, -0.128793076, -0.201883331, 0.05...\n",
      "Name: prescription_rx_embeddings, dtype: object\n"
     ]
    }
   ],
   "source": [
    "import pandas as pd\n",
    "import numpy as np\n",
    "import re\n",
    "\n",
    "def clean_and_convert(x):\n",
    "    if pd.notna(x):\n",
    "        try:\n",
    "            # Remove square brackets if they exist\n",
    "            x = re.sub(r'[\\[\\]]', '', x)\n",
    "            # Replace multiple spaces with a single space\n",
    "            cleaned = re.sub(r'\\s+', ' ', x.strip())\n",
    "            # Convert to numpy array of floats\n",
    "            return np.array([float(i) for i in cleaned.split(' ')])\n",
    "        except Exception as e:\n",
    "            # If there's an error during conversion, print the error and return the original value\n",
    "            print(f\"Error processing value: {x}. Error: {e}\")\n",
    "            return x  # Return the original value in case of error\n",
    "    return x  # If NaN, return as is\n",
    "\n",
    "# Check the values before applying the function\n",
    "print(original_df['prescription_rx_embeddings'].head())\n",
    "\n",
    "# Apply the function to the 'prescription_rx_embeddings' column\n",
    "original_df['prescription_rx_embeddings'] = original_df['prescription_rx_embeddings'].apply(clean_and_convert)\n",
    "\n",
    "# Check the result\n",
    "print(original_df['prescription_rx_embeddings'].head())"
   ]
  },
  {
   "cell_type": "code",
   "execution_count": 4,
   "metadata": {},
   "outputs": [
    {
     "data": {
      "text/html": [
       "<div>\n",
       "<style scoped>\n",
       "    .dataframe tbody tr th:only-of-type {\n",
       "        vertical-align: middle;\n",
       "    }\n",
       "\n",
       "    .dataframe tbody tr th {\n",
       "        vertical-align: top;\n",
       "    }\n",
       "\n",
       "    .dataframe thead th {\n",
       "        text-align: right;\n",
       "    }\n",
       "</style>\n",
       "<table border=\"1\" class=\"dataframe\">\n",
       "  <thead>\n",
       "    <tr style=\"text-align: right;\">\n",
       "      <th></th>\n",
       "      <th>prescription_dose_val_rx</th>\n",
       "      <th>prescription_dose_unit_rx</th>\n",
       "      <th>pre_ph</th>\n",
       "      <th>pre_pco2</th>\n",
       "      <th>pre_po2</th>\n",
       "      <th>pre_bicarbonate</th>\n",
       "      <th>pre_baseexcess</th>\n",
       "      <th>pre_totalco2</th>\n",
       "      <th>pre_hematocrit</th>\n",
       "      <th>pre_hemoglobin</th>\n",
       "      <th>...</th>\n",
       "      <th>P118</th>\n",
       "      <th>P119</th>\n",
       "      <th>P120</th>\n",
       "      <th>P121</th>\n",
       "      <th>P122</th>\n",
       "      <th>P123</th>\n",
       "      <th>P124</th>\n",
       "      <th>P125</th>\n",
       "      <th>P126</th>\n",
       "      <th>P127</th>\n",
       "    </tr>\n",
       "  </thead>\n",
       "  <tbody>\n",
       "    <tr>\n",
       "      <th>0</th>\n",
       "      <td>0.010317</td>\n",
       "      <td>0</td>\n",
       "      <td>0.500</td>\n",
       "      <td>0.741935</td>\n",
       "      <td>0.023018</td>\n",
       "      <td>0.0</td>\n",
       "      <td>0.545455</td>\n",
       "      <td>0.594595</td>\n",
       "      <td>0.0</td>\n",
       "      <td>0.0</td>\n",
       "      <td>...</td>\n",
       "      <td>0.922822</td>\n",
       "      <td>0.194803</td>\n",
       "      <td>1.112494</td>\n",
       "      <td>-1.089337</td>\n",
       "      <td>-0.107142</td>\n",
       "      <td>-0.373226</td>\n",
       "      <td>-0.344020</td>\n",
       "      <td>0.328800</td>\n",
       "      <td>0.468490</td>\n",
       "      <td>-1.074432</td>\n",
       "    </tr>\n",
       "    <tr>\n",
       "      <th>1</th>\n",
       "      <td>0.011905</td>\n",
       "      <td>12</td>\n",
       "      <td>0.500</td>\n",
       "      <td>0.741935</td>\n",
       "      <td>0.023018</td>\n",
       "      <td>0.0</td>\n",
       "      <td>0.545455</td>\n",
       "      <td>0.594595</td>\n",
       "      <td>0.0</td>\n",
       "      <td>0.0</td>\n",
       "      <td>...</td>\n",
       "      <td>-0.004458</td>\n",
       "      <td>0.169775</td>\n",
       "      <td>-0.623910</td>\n",
       "      <td>0.348464</td>\n",
       "      <td>-0.027639</td>\n",
       "      <td>-0.209535</td>\n",
       "      <td>0.026674</td>\n",
       "      <td>0.787516</td>\n",
       "      <td>0.015712</td>\n",
       "      <td>-0.047965</td>\n",
       "    </tr>\n",
       "    <tr>\n",
       "      <th>2</th>\n",
       "      <td>0.009921</td>\n",
       "      <td>11</td>\n",
       "      <td>0.500</td>\n",
       "      <td>0.741935</td>\n",
       "      <td>0.023018</td>\n",
       "      <td>0.0</td>\n",
       "      <td>0.545455</td>\n",
       "      <td>0.594595</td>\n",
       "      <td>0.0</td>\n",
       "      <td>0.0</td>\n",
       "      <td>...</td>\n",
       "      <td>1.064011</td>\n",
       "      <td>-0.545910</td>\n",
       "      <td>1.657069</td>\n",
       "      <td>0.687448</td>\n",
       "      <td>0.182779</td>\n",
       "      <td>-0.156040</td>\n",
       "      <td>1.419005</td>\n",
       "      <td>1.244775</td>\n",
       "      <td>-0.725679</td>\n",
       "      <td>1.402903</td>\n",
       "    </tr>\n",
       "    <tr>\n",
       "      <th>3</th>\n",
       "      <td>0.017857</td>\n",
       "      <td>0</td>\n",
       "      <td>0.500</td>\n",
       "      <td>0.741935</td>\n",
       "      <td>0.023018</td>\n",
       "      <td>0.0</td>\n",
       "      <td>0.545455</td>\n",
       "      <td>0.594595</td>\n",
       "      <td>0.0</td>\n",
       "      <td>0.0</td>\n",
       "      <td>...</td>\n",
       "      <td>-0.486838</td>\n",
       "      <td>0.567405</td>\n",
       "      <td>-0.682332</td>\n",
       "      <td>0.124973</td>\n",
       "      <td>0.584291</td>\n",
       "      <td>0.036663</td>\n",
       "      <td>-0.033455</td>\n",
       "      <td>0.139260</td>\n",
       "      <td>0.164953</td>\n",
       "      <td>-0.279221</td>\n",
       "    </tr>\n",
       "    <tr>\n",
       "      <th>4</th>\n",
       "      <td>0.020833</td>\n",
       "      <td>0</td>\n",
       "      <td>0.500</td>\n",
       "      <td>0.741935</td>\n",
       "      <td>0.023018</td>\n",
       "      <td>0.0</td>\n",
       "      <td>0.545455</td>\n",
       "      <td>0.594595</td>\n",
       "      <td>0.0</td>\n",
       "      <td>0.0</td>\n",
       "      <td>...</td>\n",
       "      <td>-0.916522</td>\n",
       "      <td>0.936199</td>\n",
       "      <td>-0.727807</td>\n",
       "      <td>0.605511</td>\n",
       "      <td>0.442792</td>\n",
       "      <td>0.379367</td>\n",
       "      <td>0.042976</td>\n",
       "      <td>-0.075874</td>\n",
       "      <td>0.134937</td>\n",
       "      <td>0.000911</td>\n",
       "    </tr>\n",
       "    <tr>\n",
       "      <th>...</th>\n",
       "      <td>...</td>\n",
       "      <td>...</td>\n",
       "      <td>...</td>\n",
       "      <td>...</td>\n",
       "      <td>...</td>\n",
       "      <td>...</td>\n",
       "      <td>...</td>\n",
       "      <td>...</td>\n",
       "      <td>...</td>\n",
       "      <td>...</td>\n",
       "      <td>...</td>\n",
       "      <td>...</td>\n",
       "      <td>...</td>\n",
       "      <td>...</td>\n",
       "      <td>...</td>\n",
       "      <td>...</td>\n",
       "      <td>...</td>\n",
       "      <td>...</td>\n",
       "      <td>...</td>\n",
       "      <td>...</td>\n",
       "      <td>...</td>\n",
       "    </tr>\n",
       "    <tr>\n",
       "      <th>2177</th>\n",
       "      <td>0.027778</td>\n",
       "      <td>0</td>\n",
       "      <td>0.375</td>\n",
       "      <td>0.500000</td>\n",
       "      <td>0.063939</td>\n",
       "      <td>0.0</td>\n",
       "      <td>0.303030</td>\n",
       "      <td>0.324324</td>\n",
       "      <td>0.0</td>\n",
       "      <td>0.0</td>\n",
       "      <td>...</td>\n",
       "      <td>-0.844219</td>\n",
       "      <td>0.367455</td>\n",
       "      <td>-0.311357</td>\n",
       "      <td>-0.091761</td>\n",
       "      <td>0.238513</td>\n",
       "      <td>-1.155311</td>\n",
       "      <td>-1.137577</td>\n",
       "      <td>-0.644839</td>\n",
       "      <td>-0.607764</td>\n",
       "      <td>-0.205493</td>\n",
       "    </tr>\n",
       "    <tr>\n",
       "      <th>2178</th>\n",
       "      <td>0.011905</td>\n",
       "      <td>11</td>\n",
       "      <td>0.375</td>\n",
       "      <td>0.500000</td>\n",
       "      <td>0.063939</td>\n",
       "      <td>0.0</td>\n",
       "      <td>0.303030</td>\n",
       "      <td>0.324324</td>\n",
       "      <td>0.0</td>\n",
       "      <td>0.0</td>\n",
       "      <td>...</td>\n",
       "      <td>-0.449469</td>\n",
       "      <td>0.053109</td>\n",
       "      <td>-1.665534</td>\n",
       "      <td>-0.913456</td>\n",
       "      <td>0.804736</td>\n",
       "      <td>-1.414670</td>\n",
       "      <td>1.473890</td>\n",
       "      <td>1.771188</td>\n",
       "      <td>-2.091106</td>\n",
       "      <td>-1.964736</td>\n",
       "    </tr>\n",
       "    <tr>\n",
       "      <th>2179</th>\n",
       "      <td>0.008026</td>\n",
       "      <td>2</td>\n",
       "      <td>0.375</td>\n",
       "      <td>0.500000</td>\n",
       "      <td>0.063939</td>\n",
       "      <td>0.0</td>\n",
       "      <td>0.303030</td>\n",
       "      <td>0.324324</td>\n",
       "      <td>0.0</td>\n",
       "      <td>0.0</td>\n",
       "      <td>...</td>\n",
       "      <td>0.489259</td>\n",
       "      <td>-0.016742</td>\n",
       "      <td>0.511773</td>\n",
       "      <td>-0.010810</td>\n",
       "      <td>0.347862</td>\n",
       "      <td>0.296723</td>\n",
       "      <td>0.206720</td>\n",
       "      <td>0.449563</td>\n",
       "      <td>-0.123249</td>\n",
       "      <td>0.355982</td>\n",
       "    </tr>\n",
       "    <tr>\n",
       "      <th>2180</th>\n",
       "      <td>0.206349</td>\n",
       "      <td>11</td>\n",
       "      <td>0.375</td>\n",
       "      <td>0.500000</td>\n",
       "      <td>0.063939</td>\n",
       "      <td>0.0</td>\n",
       "      <td>0.303030</td>\n",
       "      <td>0.324324</td>\n",
       "      <td>0.0</td>\n",
       "      <td>0.0</td>\n",
       "      <td>...</td>\n",
       "      <td>0.143358</td>\n",
       "      <td>-0.577362</td>\n",
       "      <td>0.619785</td>\n",
       "      <td>0.227037</td>\n",
       "      <td>-0.856793</td>\n",
       "      <td>0.058450</td>\n",
       "      <td>-0.497501</td>\n",
       "      <td>-0.359619</td>\n",
       "      <td>-0.426077</td>\n",
       "      <td>0.646584</td>\n",
       "    </tr>\n",
       "    <tr>\n",
       "      <th>2181</th>\n",
       "      <td>0.009921</td>\n",
       "      <td>11</td>\n",
       "      <td>0.375</td>\n",
       "      <td>0.500000</td>\n",
       "      <td>0.063939</td>\n",
       "      <td>0.0</td>\n",
       "      <td>0.303030</td>\n",
       "      <td>0.324324</td>\n",
       "      <td>0.0</td>\n",
       "      <td>0.0</td>\n",
       "      <td>...</td>\n",
       "      <td>1.052895</td>\n",
       "      <td>-0.531461</td>\n",
       "      <td>1.672882</td>\n",
       "      <td>0.686841</td>\n",
       "      <td>0.188335</td>\n",
       "      <td>-0.163003</td>\n",
       "      <td>1.390887</td>\n",
       "      <td>1.213713</td>\n",
       "      <td>-0.733332</td>\n",
       "      <td>1.416634</td>\n",
       "    </tr>\n",
       "  </tbody>\n",
       "</table>\n",
       "<p>2182 rows × 180 columns</p>\n",
       "</div>"
      ],
      "text/plain": [
       "      prescription_dose_val_rx  prescription_dose_unit_rx  pre_ph  pre_pco2  \\\n",
       "0                     0.010317                          0   0.500  0.741935   \n",
       "1                     0.011905                         12   0.500  0.741935   \n",
       "2                     0.009921                         11   0.500  0.741935   \n",
       "3                     0.017857                          0   0.500  0.741935   \n",
       "4                     0.020833                          0   0.500  0.741935   \n",
       "...                        ...                        ...     ...       ...   \n",
       "2177                  0.027778                          0   0.375  0.500000   \n",
       "2178                  0.011905                         11   0.375  0.500000   \n",
       "2179                  0.008026                          2   0.375  0.500000   \n",
       "2180                  0.206349                         11   0.375  0.500000   \n",
       "2181                  0.009921                         11   0.375  0.500000   \n",
       "\n",
       "       pre_po2  pre_bicarbonate  pre_baseexcess  pre_totalco2  pre_hematocrit  \\\n",
       "0     0.023018              0.0        0.545455      0.594595             0.0   \n",
       "1     0.023018              0.0        0.545455      0.594595             0.0   \n",
       "2     0.023018              0.0        0.545455      0.594595             0.0   \n",
       "3     0.023018              0.0        0.545455      0.594595             0.0   \n",
       "4     0.023018              0.0        0.545455      0.594595             0.0   \n",
       "...        ...              ...             ...           ...             ...   \n",
       "2177  0.063939              0.0        0.303030      0.324324             0.0   \n",
       "2178  0.063939              0.0        0.303030      0.324324             0.0   \n",
       "2179  0.063939              0.0        0.303030      0.324324             0.0   \n",
       "2180  0.063939              0.0        0.303030      0.324324             0.0   \n",
       "2181  0.063939              0.0        0.303030      0.324324             0.0   \n",
       "\n",
       "      pre_hemoglobin  ...      P118      P119      P120      P121      P122  \\\n",
       "0                0.0  ...  0.922822  0.194803  1.112494 -1.089337 -0.107142   \n",
       "1                0.0  ... -0.004458  0.169775 -0.623910  0.348464 -0.027639   \n",
       "2                0.0  ...  1.064011 -0.545910  1.657069  0.687448  0.182779   \n",
       "3                0.0  ... -0.486838  0.567405 -0.682332  0.124973  0.584291   \n",
       "4                0.0  ... -0.916522  0.936199 -0.727807  0.605511  0.442792   \n",
       "...              ...  ...       ...       ...       ...       ...       ...   \n",
       "2177             0.0  ... -0.844219  0.367455 -0.311357 -0.091761  0.238513   \n",
       "2178             0.0  ... -0.449469  0.053109 -1.665534 -0.913456  0.804736   \n",
       "2179             0.0  ...  0.489259 -0.016742  0.511773 -0.010810  0.347862   \n",
       "2180             0.0  ...  0.143358 -0.577362  0.619785  0.227037 -0.856793   \n",
       "2181             0.0  ...  1.052895 -0.531461  1.672882  0.686841  0.188335   \n",
       "\n",
       "          P123      P124      P125      P126      P127  \n",
       "0    -0.373226 -0.344020  0.328800  0.468490 -1.074432  \n",
       "1    -0.209535  0.026674  0.787516  0.015712 -0.047965  \n",
       "2    -0.156040  1.419005  1.244775 -0.725679  1.402903  \n",
       "3     0.036663 -0.033455  0.139260  0.164953 -0.279221  \n",
       "4     0.379367  0.042976 -0.075874  0.134937  0.000911  \n",
       "...        ...       ...       ...       ...       ...  \n",
       "2177 -1.155311 -1.137577 -0.644839 -0.607764 -0.205493  \n",
       "2178 -1.414670  1.473890  1.771188 -2.091106 -1.964736  \n",
       "2179  0.296723  0.206720  0.449563 -0.123249  0.355982  \n",
       "2180  0.058450 -0.497501 -0.359619 -0.426077  0.646584  \n",
       "2181 -0.163003  1.390887  1.213713 -0.733332  1.416634  \n",
       "\n",
       "[2182 rows x 180 columns]"
      ]
     },
     "execution_count": 4,
     "metadata": {},
     "output_type": "execute_result"
    }
   ],
   "source": [
    "# Split the 'prescription_rx_embeddings' column into separate columns based on array elements\n",
    "expanded_columns = pd.DataFrame(original_df['prescription_rx_embeddings'].tolist(), index=original_df.index)\n",
    "\n",
    "# Optionally, rename the columns to something meaningful\n",
    "expanded_columns.columns = [f'P{i}' for i in range(expanded_columns.shape[1])]\n",
    "\n",
    "# Concatenate the expanded columns back to the original DataFrame, if needed\n",
    "original_df = pd.concat([original_df, expanded_columns], axis=1)\n",
    "\n",
    "# Drop the original 'prescription_rx_embeddings' column\n",
    "original_df.drop(columns=['prescription_rx_embeddings'], inplace=True)\n",
    "\n",
    "original_df"
   ]
  },
  {
   "cell_type": "code",
   "execution_count": 5,
   "metadata": {},
   "outputs": [],
   "source": [
    "original_df.to_csv('original_data.csv', index = False) #original_ and original csv"
   ]
  },
  {
   "cell_type": "code",
   "execution_count": 6,
   "metadata": {},
   "outputs": [],
   "source": [
    "import pandas as pd\n",
    "\n",
    "synthetic_df = pd.read_csv(\"synthetic_data_1.csv\")\n"
   ]
  },
  {
   "cell_type": "markdown",
   "metadata": {},
   "source": [
    "## STAT ANALYSIS ATTEMPT  - KS\n",
    "#1\tSort both datasets\n",
    "2\tFor each value x, compute proportion ≤ x for both datasets (ECDFs)\n",
    "3\tFind the max absolute difference between the two CDFs\n",
    "4\tThat max difference = KS statistic. Use it to compute a p-value\n",
    "5\tUse the p-value to decide whether the distributions are statistically similar\n"
   ]
  },
  {
   "cell_type": "markdown",
   "metadata": {},
   "source": [
    "co"
   ]
  },
  {
   "cell_type": "code",
   "execution_count": 7,
   "metadata": {},
   "outputs": [],
   "source": [
    "#function for KS analysis\n",
    "from scipy.stats import ks_2samp\n",
    "\n",
    "def run_ks_test(real_col, synthetic_col, feature_name=\"\"):\n",
    "    statistic, p_value = ks_2samp(real_col, synthetic_col)\n",
    "    print(f\"\\nKS Test for '{feature_name}':\")\n",
    "    print(f\"KS Statistic: {statistic:.4f}\")\n",
    "    print(f\"p-value: {p_value:.4f}\")\n",
    "    if p_value > 0.05:\n",
    "        print(\"✅ The distributions are likely similar.\")\n",
    "    else:\n",
    "        print(\"❌ The distributions are likely different.\")\n"
   ]
  },
  {
   "cell_type": "code",
   "execution_count": 8,
   "metadata": {},
   "outputs": [
    {
     "name": "stdout",
     "output_type": "stream",
     "text": [
      "   prescription_dose_val_rx  prescription_dose_unit_rx    pre_ph  pre_pco2  \\\n",
      "0                  0.001414                          3  0.714855  0.394011   \n",
      "1                 -0.008318                          3  0.755034  0.665916   \n",
      "2                  0.009602                          3  0.575826  0.604175   \n",
      "3                  0.031796                          3  0.568649  0.472849   \n",
      "4                  0.007656                          3  0.463221  0.564624   \n",
      "\n",
      "    pre_po2  pre_bicarbonate  pre_baseexcess  pre_totalco2  pre_hematocrit  \\\n",
      "0  0.181301        -0.002940        0.476277      0.484996        0.010056   \n",
      "1  0.429736         0.002194        0.486233      0.509745        0.012129   \n",
      "2  0.175497        -0.001985        0.883870      0.472304        0.006683   \n",
      "3  0.201809        -0.000932        0.500979      0.881549       -0.004801   \n",
      "4  0.101114        -0.000798        0.474374      0.431181       -0.009773   \n",
      "\n",
      "   pre_hemoglobin  ...      P118      P119      P120      P121      P122  \\\n",
      "0        0.007761  ...  1.526871 -0.226891 -0.562963 -0.571600  0.833258   \n",
      "1        0.011334  ...  0.133386  1.487494 -0.317584  1.150079  0.659608   \n",
      "2        0.005170  ...  0.473507 -0.872985 -0.854821  0.317275  0.736494   \n",
      "3       -0.012761  ... -0.736157  0.231719 -0.220861  0.276359  0.466031   \n",
      "4        0.786163  ... -0.351883  1.104538 -1.855656 -0.640339  0.824865   \n",
      "\n",
      "       P123      P124      P125      P126      P127  \n",
      "0 -0.366861 -0.101112 -0.138971  0.903566  0.160276  \n",
      "1 -0.164488  0.520313  1.457416 -0.637841 -0.527525  \n",
      "2 -0.236524  0.822562  1.309453 -0.262809 -0.408042  \n",
      "3 -0.016229 -1.211064  0.497239  0.252757  1.231792  \n",
      "4  2.791273 -0.193441 -0.803403  0.627992 -0.826140  \n",
      "\n",
      "[5 rows x 180 columns]\n"
     ]
    }
   ],
   "source": [
    "#getting the df of the synthetic data\n",
    "import pandas as pd\n",
    "\n",
    "# Replace 'your_file.csv' with the path to your CSV file\n",
    "df = pd.read_csv('synthetic_data_1.csv')\n",
    "\n",
    "# Display the first few rows\n",
    "print(df.head())\n"
   ]
  },
  {
   "cell_type": "code",
   "execution_count": 9,
   "metadata": {},
   "outputs": [
    {
     "name": "stdout",
     "output_type": "stream",
     "text": [
      "\n",
      "KS Test for 'pre_pco2':\n",
      "KS Statistic: 0.2814\n",
      "p-value: 0.0000\n",
      "❌ The distributions are likely different.\n"
     ]
    }
   ],
   "source": [
    "#running the function with our columns\n",
    "run_ks_test(original_df['pre_pco2'], df['pre_pco2'], feature_name='pre_pco2')"
   ]
  },
  {
   "cell_type": "code",
   "execution_count": 10,
   "metadata": {},
   "outputs": [
    {
     "name": "stdout",
     "output_type": "stream",
     "text": [
      "Generating report ...\n",
      "\n",
      "(1/2) Evaluating Data Validity: |██████████| 180/180 [00:00<00:00, 1155.85it/s]|\n",
      "Data Validity Score: 85.01%\n",
      "\n",
      "(2/2) Evaluating Data Structure: |██████████| 1/1 [00:00<00:00, 197.05it/s]|\n",
      "Data Structure Score: 100.0%\n",
      "\n",
      "Overall Score (Average): 92.5%\n",
      "\n",
      "<sdmetrics.reports.single_table.diagnostic_report.DiagnosticReport object at 0x171aebce0>\n"
     ]
    }
   ],
   "source": [
    "from sdv.metadata import SingleTableMetadata\n",
    "from sdv.evaluation.single_table import run_diagnostic\n",
    "\n",
    "def run_diagnostic_numerical_categorical(original_df, synthetic_df):\n",
    "    \"\"\"\n",
    "    Runs diagnostic on all columns of real and synthetic data, assuming numerical or categorical.\n",
    "\n",
    "    Args:\n",
    "        real_data (pd.DataFrame): The real data.\n",
    "        synthetic_data (pd.DataFrame): The synthetic data.\n",
    "\n",
    "    Returns:\n",
    "        The diagnostic results.\n",
    "    \"\"\"\n",
    "\n",
    "    metadata = SingleTableMetadata()\n",
    "\n",
    "    for col in original_df.columns:\n",
    "        if pd.api.types.is_numeric_dtype(original_df[col]):\n",
    "            metadata.add_column(column_name=col, sdtype='numerical')\n",
    "        else:\n",
    "            metadata.add_column(column_name=col, sdtype='categorical')\n",
    "\n",
    "    diagnostic = run_diagnostic(\n",
    "        real_data=original_df,\n",
    "        synthetic_data=synthetic_df,\n",
    "        metadata=metadata\n",
    "    )\n",
    "\n",
    "    return diagnostic\n",
    "\n",
    "\n",
    "diagnostic_results = run_diagnostic_numerical_categorical(original_df, synthetic_df)\n",
    "print(diagnostic_results)"
   ]
  },
  {
   "cell_type": "code",
   "execution_count": 11,
   "metadata": {},
   "outputs": [],
   "source": [
    "from sdv.metadata import SingleTableMetadata\n",
    "\n",
    "metadata = SingleTableMetadata()\n",
    "metadata.detect_from_dataframe(data=original_df)\n"
   ]
  },
  {
   "cell_type": "markdown",
   "metadata": {},
   "source": [
    "1d visualization of the data"
   ]
  },
  {
   "cell_type": "code",
   "execution_count": 12,
   "metadata": {},
   "outputs": [
    {
     "data": {
      "text/html": [
       "        <script type=\"text/javascript\">\n",
       "        window.PlotlyConfig = {MathJaxConfig: 'local'};\n",
       "        if (window.MathJax && window.MathJax.Hub && window.MathJax.Hub.Config) {window.MathJax.Hub.Config({SVG: {font: \"STIX-Web\"}});}\n",
       "        </script>\n",
       "        <script type=\"module\">import \"https://cdn.plot.ly/plotly-3.0.0.min\"</script>\n",
       "        "
      ]
     },
     "metadata": {},
     "output_type": "display_data"
    },
    {
     "data": {
      "application/vnd.plotly.v1+json": {
       "config": {
        "linkText": "Export to plot.ly",
        "plotlyServerURL": "https://plot.ly",
        "showLink": false
       },
       "data": [
        {
         "fill": "tozeroy",
         "hovertemplate": "<b>Real</b><br>Frequency: %{y}<extra></extra>",
         "legendgroup": "Real",
         "marker": {
          "color": "#000036"
         },
         "mode": "lines",
         "name": "Real",
         "showlegend": true,
         "type": "scatter",
         "x": [
          0,
          0.002,
          0.004,
          0.006,
          0.008,
          0.01,
          0.012,
          0.014,
          0.016,
          0.018,
          0.02,
          0.022,
          0.024,
          0.026,
          0.028,
          0.03,
          0.032,
          0.034,
          0.036,
          0.038,
          0.04,
          0.042,
          0.044,
          0.046,
          0.048,
          0.05,
          0.052,
          0.054,
          0.056,
          0.058,
          0.06,
          0.062,
          0.064,
          0.066,
          0.068,
          0.07,
          0.072,
          0.074,
          0.076,
          0.078,
          0.08,
          0.082,
          0.084,
          0.086,
          0.088,
          0.09,
          0.092,
          0.094,
          0.096,
          0.098,
          0.1,
          0.102,
          0.104,
          0.106,
          0.108,
          0.11,
          0.112,
          0.114,
          0.116,
          0.118,
          0.12,
          0.122,
          0.124,
          0.126,
          0.128,
          0.13,
          0.132,
          0.134,
          0.136,
          0.138,
          0.14,
          0.142,
          0.144,
          0.146,
          0.148,
          0.15,
          0.152,
          0.154,
          0.156,
          0.158,
          0.16,
          0.162,
          0.164,
          0.166,
          0.168,
          0.17,
          0.172,
          0.174,
          0.176,
          0.178,
          0.18,
          0.182,
          0.184,
          0.186,
          0.188,
          0.19,
          0.192,
          0.194,
          0.196,
          0.198,
          0.2,
          0.202,
          0.204,
          0.206,
          0.208,
          0.21,
          0.212,
          0.214,
          0.216,
          0.218,
          0.22,
          0.222,
          0.224,
          0.226,
          0.228,
          0.23,
          0.232,
          0.234,
          0.236,
          0.238,
          0.24,
          0.242,
          0.244,
          0.246,
          0.248,
          0.25,
          0.252,
          0.254,
          0.256,
          0.258,
          0.26,
          0.262,
          0.264,
          0.266,
          0.268,
          0.27,
          0.272,
          0.274,
          0.276,
          0.278,
          0.28,
          0.282,
          0.284,
          0.286,
          0.288,
          0.29,
          0.292,
          0.294,
          0.296,
          0.298,
          0.3,
          0.302,
          0.304,
          0.306,
          0.308,
          0.31,
          0.312,
          0.314,
          0.316,
          0.318,
          0.32,
          0.322,
          0.324,
          0.326,
          0.328,
          0.33,
          0.332,
          0.334,
          0.336,
          0.338,
          0.34,
          0.342,
          0.344,
          0.346,
          0.348,
          0.35,
          0.352,
          0.354,
          0.356,
          0.358,
          0.36,
          0.362,
          0.364,
          0.366,
          0.368,
          0.37,
          0.372,
          0.374,
          0.376,
          0.378,
          0.38,
          0.382,
          0.384,
          0.386,
          0.388,
          0.39,
          0.392,
          0.394,
          0.396,
          0.398,
          0.4,
          0.402,
          0.404,
          0.406,
          0.408,
          0.41,
          0.412,
          0.414,
          0.416,
          0.418,
          0.42,
          0.422,
          0.424,
          0.426,
          0.428,
          0.43,
          0.432,
          0.434,
          0.436,
          0.438,
          0.44,
          0.442,
          0.444,
          0.446,
          0.448,
          0.45,
          0.452,
          0.454,
          0.456,
          0.458,
          0.46,
          0.462,
          0.464,
          0.466,
          0.468,
          0.47,
          0.472,
          0.474,
          0.476,
          0.478,
          0.48,
          0.482,
          0.484,
          0.486,
          0.488,
          0.49,
          0.492,
          0.494,
          0.496,
          0.498,
          0.5,
          0.502,
          0.504,
          0.506,
          0.508,
          0.51,
          0.512,
          0.514,
          0.516,
          0.518,
          0.52,
          0.522,
          0.524,
          0.526,
          0.528,
          0.53,
          0.532,
          0.534,
          0.536,
          0.538,
          0.54,
          0.542,
          0.544,
          0.546,
          0.548,
          0.55,
          0.552,
          0.554,
          0.556,
          0.558,
          0.56,
          0.562,
          0.564,
          0.566,
          0.568,
          0.57,
          0.572,
          0.574,
          0.576,
          0.578,
          0.58,
          0.582,
          0.584,
          0.586,
          0.588,
          0.59,
          0.592,
          0.594,
          0.596,
          0.598,
          0.6,
          0.602,
          0.604,
          0.606,
          0.608,
          0.61,
          0.612,
          0.614,
          0.616,
          0.618,
          0.62,
          0.622,
          0.624,
          0.626,
          0.628,
          0.63,
          0.632,
          0.634,
          0.636,
          0.638,
          0.64,
          0.642,
          0.644,
          0.646,
          0.648,
          0.65,
          0.652,
          0.654,
          0.656,
          0.658,
          0.66,
          0.662,
          0.664,
          0.666,
          0.668,
          0.67,
          0.672,
          0.674,
          0.676,
          0.678,
          0.68,
          0.682,
          0.684,
          0.686,
          0.688,
          0.69,
          0.692,
          0.694,
          0.696,
          0.698,
          0.7,
          0.702,
          0.704,
          0.706,
          0.708,
          0.71,
          0.712,
          0.714,
          0.716,
          0.718,
          0.72,
          0.722,
          0.724,
          0.726,
          0.728,
          0.73,
          0.732,
          0.734,
          0.736,
          0.738,
          0.74,
          0.742,
          0.744,
          0.746,
          0.748,
          0.75,
          0.752,
          0.754,
          0.756,
          0.758,
          0.76,
          0.762,
          0.764,
          0.766,
          0.768,
          0.77,
          0.772,
          0.774,
          0.776,
          0.778,
          0.78,
          0.782,
          0.784,
          0.786,
          0.788,
          0.79,
          0.792,
          0.794,
          0.796,
          0.798,
          0.8,
          0.802,
          0.804,
          0.806,
          0.808,
          0.81,
          0.812,
          0.814,
          0.816,
          0.818,
          0.82,
          0.822,
          0.824,
          0.826,
          0.828,
          0.83,
          0.832,
          0.834,
          0.836,
          0.838,
          0.84,
          0.842,
          0.844,
          0.846,
          0.848,
          0.85,
          0.852,
          0.854,
          0.856,
          0.858,
          0.86,
          0.862,
          0.864,
          0.866,
          0.868,
          0.87,
          0.872,
          0.874,
          0.876,
          0.878,
          0.88,
          0.882,
          0.884,
          0.886,
          0.888,
          0.89,
          0.892,
          0.894,
          0.896,
          0.898,
          0.9,
          0.902,
          0.904,
          0.906,
          0.908,
          0.91,
          0.912,
          0.914,
          0.916,
          0.918,
          0.92,
          0.922,
          0.924,
          0.926,
          0.928,
          0.93,
          0.932,
          0.934,
          0.936,
          0.938,
          0.94,
          0.942,
          0.944,
          0.946,
          0.948,
          0.95,
          0.952,
          0.954,
          0.956,
          0.958,
          0.96,
          0.962,
          0.964,
          0.966,
          0.968,
          0.97,
          0.972,
          0.974,
          0.976,
          0.978,
          0.98,
          0.982,
          0.984,
          0.986,
          0.988,
          0.99,
          0.992,
          0.994,
          0.996,
          0.998
         ],
         "xaxis": "x",
         "y": {
          "bdata": "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",
          "dtype": "f8"
         },
         "yaxis": "y"
        },
        {
         "fill": "tozeroy",
         "hovertemplate": "<b>Synthetic</b><br>Frequency: %{y}<extra></extra>",
         "legendgroup": "Synthetic",
         "marker": {
          "color": "#01E0C9"
         },
         "mode": "lines",
         "name": "Synthetic",
         "showlegend": true,
         "type": "scatter",
         "x": [
          -0.043071223568071,
          -0.0409012896719071,
          -0.0387313557757432,
          -0.0365614218795793,
          -0.0343914879834154,
          -0.0322215540872515,
          -0.030051620191087598,
          -0.0278816862949237,
          -0.0257117523987598,
          -0.023541818502595898,
          -0.021371884606432,
          -0.0192019507102681,
          -0.0170320168141042,
          -0.014862082917940299,
          -0.012692149021776403,
          -0.010522215125612501,
          -0.008352281229448602,
          -0.006182347333284703,
          -0.004012413437120797,
          -0.0018424795409569053,
          0.00032745435520700056,
          0.0024973882513708995,
          0.004667322147534798,
          0.006837256043698704,
          0.009007189939862596,
          0.011177123836026495,
          0.013347057732190401,
          0.0155169916283543,
          0.017686925524518192,
          0.019856859420682105,
          0.022026793316845997,
          0.024196727213009903,
          0.026366661109173795,
          0.0285365950053377,
          0.030706528901501592,
          0.0328764627976655,
          0.035046396693829404,
          0.037216330589993296,
          0.03938626448615719,
          0.041556198382321094,
          0.043726132278485,
          0.045896066174648906,
          0.0480660000708128,
          0.05023593396697669,
          0.052405867863140596,
          0.05457580175930449,
          0.05674573565546841,
          0.0589156695516323,
          0.06108560344779619,
          0.0632555373439601,
          0.06542547124012399,
          0.0675954051362879,
          0.0697653390324518,
          0.07193527292861569,
          0.0741052068247796,
          0.07627514072094349,
          0.07844507461710738,
          0.0806150085132713,
          0.08278494240943521,
          0.08495487630559909,
          0.08712481020176299,
          0.0892947440979269,
          0.0914646779940908,
          0.09363461189025468,
          0.09580454578641859,
          0.0979744796825825,
          0.1001444135787464,
          0.1023143474749103,
          0.10448428137107418,
          0.10665421526723809,
          0.108824149163402,
          0.1109940830595659,
          0.11316401695572981,
          0.11533395085189369,
          0.11750388474805759,
          0.1196738186442215,
          0.12184375254038537,
          0.12401368643654931,
          0.1261836203327132,
          0.1283535542288771,
          0.130523488125041,
          0.13269342202120488,
          0.1348633559173688,
          0.1370332898135327,
          0.1392032237096966,
          0.14137315760586047,
          0.14354309150202438,
          0.1457130253981883,
          0.1478829592943522,
          0.1500528931905161,
          0.15222282708667997,
          0.15439276098284388,
          0.1565626948790078,
          0.1587326287751717,
          0.1609025626713356,
          0.16307249656749948,
          0.16524243046366338,
          0.1674123643598273,
          0.1695822982559912,
          0.1717522321521551,
          0.17392216604831898,
          0.17609209994448288,
          0.1782620338406468,
          0.1804319677368107,
          0.1826019016329746,
          0.18477183552913848,
          0.18694176942530238,
          0.1891117033214663,
          0.1912816372176302,
          0.1934515711137941,
          0.19562150500995798,
          0.19779143890612189,
          0.19996137280228576,
          0.20213130669844967,
          0.2043012405946136,
          0.20647117449077748,
          0.20864110838694142,
          0.2108110422831053,
          0.21298097617926917,
          0.2151509100754331,
          0.21732084397159698,
          0.21949077786776086,
          0.2216607117639248,
          0.22383064566008867,
          0.2260005795562526,
          0.22817051345241648,
          0.23034044734858036,
          0.2325103812447443,
          0.23468031514090817,
          0.2368502490370721,
          0.239020182933236,
          0.24119011682939986,
          0.2433600507255638,
          0.24552998462172768,
          0.2476999185178916,
          0.2498698524140555,
          0.2520397863102194,
          0.2542097202063833,
          0.25637965410254715,
          0.2585495879987111,
          0.260719521894875,
          0.26288945579103884,
          0.2650593896872028,
          0.2672293235833667,
          0.26939925747953064,
          0.27156919137569446,
          0.2737391252718584,
          0.2759090591680222,
          0.27807899306418615,
          0.2802489269603501,
          0.282418860856514,
          0.28458879475267784,
          0.2867587286488418,
          0.2889286625450057,
          0.29109859644116964,
          0.29326853033733347,
          0.2954384642334974,
          0.2976083981296612,
          0.29977833202582516,
          0.3019482659219891,
          0.304118199818153,
          0.30628813371431685,
          0.3084580676104808,
          0.3106280015066447,
          0.31279793540280865,
          0.31496786929897247,
          0.3171378031951364,
          0.3193077370913002,
          0.32147767098746416,
          0.3236476048836281,
          0.3258175387797919,
          0.32798747267595585,
          0.3301574065721198,
          0.3323273404682837,
          0.33449727436444765,
          0.3366672082606115,
          0.3388371421567754,
          0.34100707605293923,
          0.34317700994910316,
          0.3453469438452671,
          0.3475168777414309,
          0.34968681163759485,
          0.3518567455337588,
          0.3540266794299227,
          0.35619661332608665,
          0.3583665472222505,
          0.3605364811184144,
          0.36270641501457823,
          0.36487634891074217,
          0.3670462828069061,
          0.3692162167030699,
          0.37138615059923386,
          0.3735560844953978,
          0.3757260183915617,
          0.37789595228772555,
          0.3800658861838895,
          0.3822358200800534,
          0.38440575397621723,
          0.38657568787238117,
          0.3887456217685451,
          0.3909155556647089,
          0.39308548956087286,
          0.3952554234570368,
          0.3974253573532007,
          0.39959529124936455,
          0.4017652251455285,
          0.4039351590416924,
          0.40610509293785624,
          0.40827502683402017,
          0.4104449607301841,
          0.41261489462634793,
          0.41478482852251186,
          0.4169547624186758,
          0.41912469631483973,
          0.42129463021100355,
          0.4234645641071675,
          0.4256344980033314,
          0.42780443189949524,
          0.4299743657956592,
          0.4321442996918231,
          0.43431423358798693,
          0.43648416748415086,
          0.4386541013803148,
          0.44082403527647873,
          0.44299396917264255,
          0.4451639030688065,
          0.4473338369649703,
          0.44950377086113424,
          0.4516737047572982,
          0.453843638653462,
          0.45601357254962593,
          0.45818350644578987,
          0.4603534403419538,
          0.4625233742381176,
          0.46469330813428156,
          0.4668632420304454,
          0.4690331759266093,
          0.47120310982277325,
          0.4733730437189372,
          0.4755429776151011,
          0.47771291151126494,
          0.47988284540742887,
          0.4820527793035927,
          0.4842227131997566,
          0.48639264709592056,
          0.4885625809920844,
          0.4907325148882483,
          0.49290244878441225,
          0.4950723826805762,
          0.4972423165767401,
          0.49941225047290394,
          0.5015821843690679,
          0.5037521182652317,
          0.5059220521613956,
          0.5080919860575596,
          0.5102619199537234,
          0.5124318538498873,
          0.5146017877460513,
          0.5167717216422152,
          0.5189416555383791,
          0.5211115894345429,
          0.5232815233307068,
          0.5254514572268707,
          0.5276213911230346,
          0.5297913250191986,
          0.5319612589153624,
          0.5341311928115263,
          0.5363011267076903,
          0.5384710606038542,
          0.5406409945000181,
          0.542810928396182,
          0.5449808622923458,
          0.5471507961885097,
          0.5493207300846736,
          0.5514906639808376,
          0.5536605978770014,
          0.5558305317731653,
          0.5580004656693293,
          0.5601703995654932,
          0.5623403334616571,
          0.564510267357821,
          0.5666802012539848,
          0.5688501351501487,
          0.5710200690463126,
          0.5731900029424766,
          0.5753599368386404,
          0.5775298707348043,
          0.5796998046309683,
          0.5818697385271322,
          0.5840396724232961,
          0.58620960631946,
          0.5883795402156238,
          0.5905494741117877,
          0.5927194080079516,
          0.5948893419041155,
          0.5970592758002794,
          0.5992292096964433,
          0.6013991435926073,
          0.6035690774887712,
          0.605739011384935,
          0.607908945281099,
          0.6100788791772628,
          0.6122488130734267,
          0.6144187469695906,
          0.6165886808657545,
          0.6187586147619184,
          0.6209285486580823,
          0.6230984825542463,
          0.6252684164504102,
          0.627438350346574,
          0.629608284242738,
          0.6317782181389018,
          0.6339481520350657,
          0.6361180859312296,
          0.6382880198273935,
          0.6404579537235574,
          0.6426278876197213,
          0.6447978215158853,
          0.6469677554120492,
          0.649137689308213,
          0.651307623204377,
          0.6534775571005408,
          0.6556474909967047,
          0.6578174248928687,
          0.6599873587890325,
          0.6621572926851964,
          0.6643272265813603,
          0.6664971604775243,
          0.6686670943736882,
          0.670837028269852,
          0.6730069621660159,
          0.6751768960621798,
          0.6773468299583437,
          0.6795167638545077,
          0.6816866977506715,
          0.6838566316468354,
          0.6860265655429993,
          0.6881964994391633,
          0.6903664333353272,
          0.692536367231491,
          0.6947063011276549,
          0.6968762350238188,
          0.6990461689199827,
          0.7012161028161467,
          0.7033860367123105,
          0.7055559706084744,
          0.7077259045046383,
          0.7098958384008023,
          0.7120657722969662,
          0.71423570619313,
          0.7164056400892939,
          0.7185755739854578,
          0.7207455078816217,
          0.7229154417777857,
          0.7250853756739495,
          0.7272553095701134,
          0.7294252434662774,
          0.7315951773624413,
          0.7337651112586052,
          0.735935045154769,
          0.7381049790509329,
          0.7402749129470968,
          0.7424448468432607,
          0.7446147807394247,
          0.7467847146355885,
          0.7489546485317524,
          0.7511245824279164,
          0.7532945163240803,
          0.7554644502202442,
          0.757634384116408,
          0.7598043180125719,
          0.7619742519087358,
          0.7641441858048997,
          0.7663141197010636,
          0.7684840535972275,
          0.7706539874933914,
          0.7728239213895554,
          0.7749938552857193,
          0.7771637891818831,
          0.779333723078047,
          0.7815036569742109,
          0.7836735908703748,
          0.7858435247665387,
          0.7880134586627026,
          0.7901833925588665,
          0.7923533264550304,
          0.7945232603511944,
          0.7966931942473583,
          0.7988631281435221,
          0.8010330620396859,
          0.8032029959358499,
          0.8053729298320138,
          0.8075428637281777,
          0.8097127976243416,
          0.8118827315205055,
          0.8140526654166694,
          0.8162225993128334,
          0.8183925332089973,
          0.8205624671051611,
          0.8227324010013249,
          0.8249023348974889,
          0.8270722687936528,
          0.8292422026898167,
          0.8314121365859806,
          0.8335820704821445,
          0.8357520043783084,
          0.8379219382744724,
          0.8400918721706363,
          0.8422618060668001,
          0.844431739962964,
          0.8466016738591279,
          0.8487716077552918,
          0.8509415416514557,
          0.8531114755476196,
          0.8552814094437835,
          0.8574513433399474,
          0.8596212772361114,
          0.8617912111322753,
          0.8639611450284391,
          0.866131078924603,
          0.8683010128207669,
          0.8704709467169308,
          0.8726408806130947,
          0.8748108145092586,
          0.8769807484054225,
          0.8791506823015864,
          0.8813206161977504,
          0.8834905500939143,
          0.8856604839900781,
          0.887830417886242,
          0.8900003517824059,
          0.8921702856785698,
          0.8943402195747338,
          0.8965101534708976,
          0.8986800873670615,
          0.9008500212632254,
          0.9030199551593894,
          0.9051898890555533,
          0.9073598229517171,
          0.909529756847881,
          0.9116996907440449,
          0.9138696246402088,
          0.9160395585363728,
          0.9182094924325366,
          0.9203794263287005,
          0.9225493602248644,
          0.9247192941210284,
          0.9268892280171923,
          0.929059161913356,
          0.93122909580952,
          0.9333990297056839,
          0.9355689636018478,
          0.9377388974980116,
          0.9399088313941756,
          0.9420787652903395,
          0.9442486991865034,
          0.9464186330826674,
          0.9485885669788312,
          0.950758500874995,
          0.952928434771159,
          0.9550983686673229,
          0.9572683025634867,
          0.9594382364596508,
          0.9616081703558146,
          0.9637781042519786,
          0.9659480381481425,
          0.9681179720443063,
          0.9702879059404703,
          0.9724578398366341,
          0.974627773732798,
          0.9767977076289618,
          0.9789676415251258,
          0.9811375754212897,
          0.9833075093174537,
          0.9854774432136175,
          0.9876473771097813,
          0.9898173110059454,
          0.9919872449021092,
          0.9941571787982733,
          0.9963271126944371,
          0.9984970465906009,
          1.000666980486765,
          1.0028369143829288,
          1.0050068482790926,
          1.0071767821752564,
          1.0093467160714202,
          1.0115166499675843,
          1.013686583863748,
          1.0158565177599121,
          1.018026451656076,
          1.0201963855522398,
          1.0223663194484038,
          1.0245362533445677,
          1.0267061872407317,
          1.0288761211368955,
          1.0310460550330593,
          1.0332159889292234,
          1.0353859228253872,
          1.0375558567215513,
          1.039725790617715
         ],
         "xaxis": "x",
         "y": {
          "bdata": "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",
          "dtype": "f8"
         },
         "yaxis": "y"
        }
       ],
       "layout": {
        "barmode": "overlay",
        "font": {
         "size": 18
        },
        "hovermode": "closest",
        "legend": {
         "traceorder": "reversed"
        },
        "plot_bgcolor": "#F5F5F8",
        "template": {
         "data": {
          "bar": [
           {
            "error_x": {
             "color": "#2a3f5f"
            },
            "error_y": {
             "color": "#2a3f5f"
            },
            "marker": {
             "line": {
              "color": "#E5ECF6",
              "width": 0.5
             },
             "pattern": {
              "fillmode": "overlay",
              "size": 10,
              "solidity": 0.2
             }
            },
            "type": "bar"
           }
          ],
          "barpolar": [
           {
            "marker": {
             "line": {
              "color": "#E5ECF6",
              "width": 0.5
             },
             "pattern": {
              "fillmode": "overlay",
              "size": 10,
              "solidity": 0.2
             }
            },
            "type": "barpolar"
           }
          ],
          "carpet": [
           {
            "aaxis": {
             "endlinecolor": "#2a3f5f",
             "gridcolor": "white",
             "linecolor": "white",
             "minorgridcolor": "white",
             "startlinecolor": "#2a3f5f"
            },
            "baxis": {
             "endlinecolor": "#2a3f5f",
             "gridcolor": "white",
             "linecolor": "white",
             "minorgridcolor": "white",
             "startlinecolor": "#2a3f5f"
            },
            "type": "carpet"
           }
          ],
          "choropleth": [
           {
            "colorbar": {
             "outlinewidth": 0,
             "ticks": ""
            },
            "type": "choropleth"
           }
          ],
          "contour": [
           {
            "colorbar": {
             "outlinewidth": 0,
             "ticks": ""
            },
            "colorscale": [
             [
              0,
              "#0d0887"
             ],
             [
              0.1111111111111111,
              "#46039f"
             ],
             [
              0.2222222222222222,
              "#7201a8"
             ],
             [
              0.3333333333333333,
              "#9c179e"
             ],
             [
              0.4444444444444444,
              "#bd3786"
             ],
             [
              0.5555555555555556,
              "#d8576b"
             ],
             [
              0.6666666666666666,
              "#ed7953"
             ],
             [
              0.7777777777777778,
              "#fb9f3a"
             ],
             [
              0.8888888888888888,
              "#fdca26"
             ],
             [
              1,
              "#f0f921"
             ]
            ],
            "type": "contour"
           }
          ],
          "contourcarpet": [
           {
            "colorbar": {
             "outlinewidth": 0,
             "ticks": ""
            },
            "type": "contourcarpet"
           }
          ],
          "heatmap": [
           {
            "colorbar": {
             "outlinewidth": 0,
             "ticks": ""
            },
            "colorscale": [
             [
              0,
              "#0d0887"
             ],
             [
              0.1111111111111111,
              "#46039f"
             ],
             [
              0.2222222222222222,
              "#7201a8"
             ],
             [
              0.3333333333333333,
              "#9c179e"
             ],
             [
              0.4444444444444444,
              "#bd3786"
             ],
             [
              0.5555555555555556,
              "#d8576b"
             ],
             [
              0.6666666666666666,
              "#ed7953"
             ],
             [
              0.7777777777777778,
              "#fb9f3a"
             ],
             [
              0.8888888888888888,
              "#fdca26"
             ],
             [
              1,
              "#f0f921"
             ]
            ],
            "type": "heatmap"
           }
          ],
          "histogram": [
           {
            "marker": {
             "pattern": {
              "fillmode": "overlay",
              "size": 10,
              "solidity": 0.2
             }
            },
            "type": "histogram"
           }
          ],
          "histogram2d": [
           {
            "colorbar": {
             "outlinewidth": 0,
             "ticks": ""
            },
            "colorscale": [
             [
              0,
              "#0d0887"
             ],
             [
              0.1111111111111111,
              "#46039f"
             ],
             [
              0.2222222222222222,
              "#7201a8"
             ],
             [
              0.3333333333333333,
              "#9c179e"
             ],
             [
              0.4444444444444444,
              "#bd3786"
             ],
             [
              0.5555555555555556,
              "#d8576b"
             ],
             [
              0.6666666666666666,
              "#ed7953"
             ],
             [
              0.7777777777777778,
              "#fb9f3a"
             ],
             [
              0.8888888888888888,
              "#fdca26"
             ],
             [
              1,
              "#f0f921"
             ]
            ],
            "type": "histogram2d"
           }
          ],
          "histogram2dcontour": [
           {
            "colorbar": {
             "outlinewidth": 0,
             "ticks": ""
            },
            "colorscale": [
             [
              0,
              "#0d0887"
             ],
             [
              0.1111111111111111,
              "#46039f"
             ],
             [
              0.2222222222222222,
              "#7201a8"
             ],
             [
              0.3333333333333333,
              "#9c179e"
             ],
             [
              0.4444444444444444,
              "#bd3786"
             ],
             [
              0.5555555555555556,
              "#d8576b"
             ],
             [
              0.6666666666666666,
              "#ed7953"
             ],
             [
              0.7777777777777778,
              "#fb9f3a"
             ],
             [
              0.8888888888888888,
              "#fdca26"
             ],
             [
              1,
              "#f0f921"
             ]
            ],
            "type": "histogram2dcontour"
           }
          ],
          "mesh3d": [
           {
            "colorbar": {
             "outlinewidth": 0,
             "ticks": ""
            },
            "type": "mesh3d"
           }
          ],
          "parcoords": [
           {
            "line": {
             "colorbar": {
              "outlinewidth": 0,
              "ticks": ""
             }
            },
            "type": "parcoords"
           }
          ],
          "pie": [
           {
            "automargin": true,
            "type": "pie"
           }
          ],
          "scatter": [
           {
            "fillpattern": {
             "fillmode": "overlay",
             "size": 10,
             "solidity": 0.2
            },
            "type": "scatter"
           }
          ],
          "scatter3d": [
           {
            "line": {
             "colorbar": {
              "outlinewidth": 0,
              "ticks": ""
             }
            },
            "marker": {
             "colorbar": {
              "outlinewidth": 0,
              "ticks": ""
             }
            },
            "type": "scatter3d"
           }
          ],
          "scattercarpet": [
           {
            "marker": {
             "colorbar": {
              "outlinewidth": 0,
              "ticks": ""
             }
            },
            "type": "scattercarpet"
           }
          ],
          "scattergeo": [
           {
            "marker": {
             "colorbar": {
              "outlinewidth": 0,
              "ticks": ""
             }
            },
            "type": "scattergeo"
           }
          ],
          "scattergl": [
           {
            "marker": {
             "colorbar": {
              "outlinewidth": 0,
              "ticks": ""
             }
            },
            "type": "scattergl"
           }
          ],
          "scattermap": [
           {
            "marker": {
             "colorbar": {
              "outlinewidth": 0,
              "ticks": ""
             }
            },
            "type": "scattermap"
           }
          ],
          "scattermapbox": [
           {
            "marker": {
             "colorbar": {
              "outlinewidth": 0,
              "ticks": ""
             }
            },
            "type": "scattermapbox"
           }
          ],
          "scatterpolar": [
           {
            "marker": {
             "colorbar": {
              "outlinewidth": 0,
              "ticks": ""
             }
            },
            "type": "scatterpolar"
           }
          ],
          "scatterpolargl": [
           {
            "marker": {
             "colorbar": {
              "outlinewidth": 0,
              "ticks": ""
             }
            },
            "type": "scatterpolargl"
           }
          ],
          "scatterternary": [
           {
            "marker": {
             "colorbar": {
              "outlinewidth": 0,
              "ticks": ""
             }
            },
            "type": "scatterternary"
           }
          ],
          "surface": [
           {
            "colorbar": {
             "outlinewidth": 0,
             "ticks": ""
            },
            "colorscale": [
             [
              0,
              "#0d0887"
             ],
             [
              0.1111111111111111,
              "#46039f"
             ],
             [
              0.2222222222222222,
              "#7201a8"
             ],
             [
              0.3333333333333333,
              "#9c179e"
             ],
             [
              0.4444444444444444,
              "#bd3786"
             ],
             [
              0.5555555555555556,
              "#d8576b"
             ],
             [
              0.6666666666666666,
              "#ed7953"
             ],
             [
              0.7777777777777778,
              "#fb9f3a"
             ],
             [
              0.8888888888888888,
              "#fdca26"
             ],
             [
              1,
              "#f0f921"
             ]
            ],
            "type": "surface"
           }
          ],
          "table": [
           {
            "cells": {
             "fill": {
              "color": "#EBF0F8"
             },
             "line": {
              "color": "white"
             }
            },
            "header": {
             "fill": {
              "color": "#C8D4E3"
             },
             "line": {
              "color": "white"
             }
            },
            "type": "table"
           }
          ]
         },
         "layout": {
          "annotationdefaults": {
           "arrowcolor": "#2a3f5f",
           "arrowhead": 0,
           "arrowwidth": 1
          },
          "autotypenumbers": "strict",
          "coloraxis": {
           "colorbar": {
            "outlinewidth": 0,
            "ticks": ""
           }
          },
          "colorscale": {
           "diverging": [
            [
             0,
             "#8e0152"
            ],
            [
             0.1,
             "#c51b7d"
            ],
            [
             0.2,
             "#de77ae"
            ],
            [
             0.3,
             "#f1b6da"
            ],
            [
             0.4,
             "#fde0ef"
            ],
            [
             0.5,
             "#f7f7f7"
            ],
            [
             0.6,
             "#e6f5d0"
            ],
            [
             0.7,
             "#b8e186"
            ],
            [
             0.8,
             "#7fbc41"
            ],
            [
             0.9,
             "#4d9221"
            ],
            [
             1,
             "#276419"
            ]
           ],
           "sequential": [
            [
             0,
             "#0d0887"
            ],
            [
             0.1111111111111111,
             "#46039f"
            ],
            [
             0.2222222222222222,
             "#7201a8"
            ],
            [
             0.3333333333333333,
             "#9c179e"
            ],
            [
             0.4444444444444444,
             "#bd3786"
            ],
            [
             0.5555555555555556,
             "#d8576b"
            ],
            [
             0.6666666666666666,
             "#ed7953"
            ],
            [
             0.7777777777777778,
             "#fb9f3a"
            ],
            [
             0.8888888888888888,
             "#fdca26"
            ],
            [
             1,
             "#f0f921"
            ]
           ],
           "sequentialminus": [
            [
             0,
             "#0d0887"
            ],
            [
             0.1111111111111111,
             "#46039f"
            ],
            [
             0.2222222222222222,
             "#7201a8"
            ],
            [
             0.3333333333333333,
             "#9c179e"
            ],
            [
             0.4444444444444444,
             "#bd3786"
            ],
            [
             0.5555555555555556,
             "#d8576b"
            ],
            [
             0.6666666666666666,
             "#ed7953"
            ],
            [
             0.7777777777777778,
             "#fb9f3a"
            ],
            [
             0.8888888888888888,
             "#fdca26"
            ],
            [
             1,
             "#f0f921"
            ]
           ]
          },
          "colorway": [
           "#636efa",
           "#EF553B",
           "#00cc96",
           "#ab63fa",
           "#FFA15A",
           "#19d3f3",
           "#FF6692",
           "#B6E880",
           "#FF97FF",
           "#FECB52"
          ],
          "font": {
           "color": "#2a3f5f"
          },
          "geo": {
           "bgcolor": "white",
           "lakecolor": "white",
           "landcolor": "#E5ECF6",
           "showlakes": true,
           "showland": true,
           "subunitcolor": "white"
          },
          "hoverlabel": {
           "align": "left"
          },
          "hovermode": "closest",
          "mapbox": {
           "style": "light"
          },
          "paper_bgcolor": "white",
          "plot_bgcolor": "#E5ECF6",
          "polar": {
           "angularaxis": {
            "gridcolor": "white",
            "linecolor": "white",
            "ticks": ""
           },
           "bgcolor": "#E5ECF6",
           "radialaxis": {
            "gridcolor": "white",
            "linecolor": "white",
            "ticks": ""
           }
          },
          "scene": {
           "xaxis": {
            "backgroundcolor": "#E5ECF6",
            "gridcolor": "white",
            "gridwidth": 2,
            "linecolor": "white",
            "showbackground": true,
            "ticks": "",
            "zerolinecolor": "white"
           },
           "yaxis": {
            "backgroundcolor": "#E5ECF6",
            "gridcolor": "white",
            "gridwidth": 2,
            "linecolor": "white",
            "showbackground": true,
            "ticks": "",
            "zerolinecolor": "white"
           },
           "zaxis": {
            "backgroundcolor": "#E5ECF6",
            "gridcolor": "white",
            "gridwidth": 2,
            "linecolor": "white",
            "showbackground": true,
            "ticks": "",
            "zerolinecolor": "white"
           }
          },
          "shapedefaults": {
           "line": {
            "color": "#2a3f5f"
           }
          },
          "ternary": {
           "aaxis": {
            "gridcolor": "white",
            "linecolor": "white",
            "ticks": ""
           },
           "baxis": {
            "gridcolor": "white",
            "linecolor": "white",
            "ticks": ""
           },
           "bgcolor": "#E5ECF6",
           "caxis": {
            "gridcolor": "white",
            "linecolor": "white",
            "ticks": ""
           }
          },
          "title": {
           "x": 0.05
          },
          "xaxis": {
           "automargin": true,
           "gridcolor": "white",
           "linecolor": "white",
           "ticks": "",
           "title": {
            "standoff": 15
           },
           "zerolinecolor": "white",
           "zerolinewidth": 2
          },
          "yaxis": {
           "automargin": true,
           "gridcolor": "white",
           "linecolor": "white",
           "ticks": "",
           "title": {
            "standoff": 15
           },
           "zerolinecolor": "white",
           "zerolinewidth": 2
          }
         }
        },
        "title": {
         "text": "Real vs. Synthetic Data for column 'pre_pco2'"
        },
        "xaxis": {
         "anchor": "y2",
         "domain": [
          0,
          1
         ],
         "title": {
          "text": "Value"
         },
         "zeroline": false
        },
        "yaxis": {
         "anchor": "free",
         "domain": [
          0,
          1
         ],
         "position": 0,
         "title": {
          "text": "Frequency"
         }
        }
       }
      },
      "text/html": [
       "<div>            <script src=\"https://cdnjs.cloudflare.com/ajax/libs/mathjax/2.7.5/MathJax.js?config=TeX-AMS-MML_SVG\"></script><script type=\"text/javascript\">if (window.MathJax && window.MathJax.Hub && window.MathJax.Hub.Config) {window.MathJax.Hub.Config({SVG: {font: \"STIX-Web\"}});}</script>                <script type=\"text/javascript\">window.PlotlyConfig = {MathJaxConfig: 'local'};</script>\n",
       "        <script charset=\"utf-8\" src=\"https://cdn.plot.ly/plotly-3.0.0.min.js\"></script>                <div id=\"752edfc3-8544-49ef-9a1c-ffec5acced63\" class=\"plotly-graph-div\" style=\"height:525px; width:100%;\"></div>            <script type=\"text/javascript\">                window.PLOTLYENV=window.PLOTLYENV || {};                                if (document.getElementById(\"752edfc3-8544-49ef-9a1c-ffec5acced63\")) {                    Plotly.newPlot(                        \"752edfc3-8544-49ef-9a1c-ffec5acced63\",                        [{\"fill\":\"tozeroy\",\"hovertemplate\":\"\\u003cb\\u003eReal\\u003c\\u002fb\\u003e\\u003cbr\\u003eFrequency: %{y}\\u003cextra\\u003e\\u003c\\u002fextra\\u003e\",\"legendgroup\":\"Real\",\"marker\":{\"color\":\"#000036\"},\"mode\":\"lines\",\"name\":\"Real\",\"showlegend\":true,\"x\":[0.0,0.002,0.004,0.006,0.008,0.01,0.012,0.014,0.016,0.018,0.02,0.022,0.024,0.026,0.028,0.03,0.032,0.034,0.036,0.038,0.04,0.042,0.044,0.046,0.048,0.05,0.052,0.054,0.056,0.058,0.06,0.062,0.064,0.066,0.068,0.07,0.072,0.074,0.076,0.078,0.08,0.082,0.084,0.086,0.088,0.09,0.092,0.094,0.096,0.098,0.1,0.102,0.104,0.106,0.108,0.11,0.112,0.114,0.116,0.118,0.12,0.122,0.124,0.126,0.128,0.13,0.132,0.134,0.136,0.138,0.14,0.142,0.144,0.146,0.148,0.15,0.152,0.154,0.156,0.158,0.16,0.162,0.164,0.166,0.168,0.17,0.172,0.174,0.176,0.178,0.18,0.182,0.184,0.186,0.188,0.19,0.192,0.194,0.196,0.198,0.2,0.202,0.204,0.206,0.208,0.21,0.212,0.214,0.216,0.218,0.22,0.222,0.224,0.226,0.228,0.23,0.232,0.234,0.236,0.238,0.24,0.242,0.244,0.246,0.248,0.25,0.252,0.254,0.256,0.258,0.26,0.262,0.264,0.266,0.268,0.27,0.272,0.274,0.276,0.278,0.28,0.282,0.284,0.286,0.288,0.29,0.292,0.294,0.296,0.298,0.3,0.302,0.304,0.306,0.308,0.31,0.312,0.314,0.316,0.318,0.32,0.322,0.324,0.326,0.328,0.33,0.332,0.334,0.336,0.338,0.34,0.342,0.344,0.346,0.348,0.35,0.352,0.354,0.356,0.358,0.36,0.362,0.364,0.366,0.368,0.37,0.372,0.374,0.376,0.378,0.38,0.382,0.384,0.386,0.388,0.39,0.392,0.394,0.396,0.398,0.4,0.402,0.404,0.406,0.408,0.41,0.412,0.414,0.416,0.418,0.42,0.422,0.424,0.426,0.428,0.43,0.432,0.434,0.436,0.438,0.44,0.442,0.444,0.446,0.448,0.45,0.452,0.454,0.456,0.458,0.46,0.462,0.464,0.466,0.468,0.47,0.472,0.474,0.476,0.478,0.48,0.482,0.484,0.486,0.488,0.49,0.492,0.494,0.496,0.498,0.5,0.502,0.504,0.506,0.508,0.51,0.512,0.514,0.516,0.518,0.52,0.522,0.524,0.526,0.528,0.53,0.532,0.534,0.536,0.538,0.54,0.542,0.544,0.546,0.548,0.55,0.552,0.554,0.556,0.558,0.56,0.562,0.564,0.566,0.568,0.57,0.572,0.574,0.576,0.578,0.58,0.582,0.584,0.586,0.588,0.59,0.592,0.594,0.596,0.598,0.6,0.602,0.604,0.606,0.608,0.61,0.612,0.614,0.616,0.618,0.62,0.622,0.624,0.626,0.628,0.63,0.632,0.634,0.636,0.638,0.64,0.642,0.644,0.646,0.648,0.65,0.652,0.654,0.656,0.658,0.66,0.662,0.664,0.666,0.668,0.67,0.672,0.674,0.676,0.678,0.68,0.682,0.684,0.686,0.688,0.69,0.692,0.694,0.696,0.698,0.7,0.702,0.704,0.706,0.708,0.71,0.712,0.714,0.716,0.718,0.72,0.722,0.724,0.726,0.728,0.73,0.732,0.734,0.736,0.738,0.74,0.742,0.744,0.746,0.748,0.75,0.752,0.754,0.756,0.758,0.76,0.762,0.764,0.766,0.768,0.77,0.772,0.774,0.776,0.778,0.78,0.782,0.784,0.786,0.788,0.79,0.792,0.794,0.796,0.798,0.8,0.802,0.804,0.806,0.808,0.81,0.812,0.814,0.816,0.818,0.82,0.822,0.824,0.826,0.828,0.83,0.832,0.834,0.836,0.838,0.84,0.842,0.844,0.846,0.848,0.85,0.852,0.854,0.856,0.858,0.86,0.862,0.864,0.866,0.868,0.87,0.872,0.874,0.876,0.878,0.88,0.882,0.884,0.886,0.888,0.89,0.892,0.894,0.896,0.898,0.9,0.902,0.904,0.906,0.908,0.91,0.912,0.914,0.916,0.918,0.92,0.922,0.924,0.926,0.928,0.93,0.932,0.934,0.936,0.938,0.94,0.942,0.944,0.946,0.948,0.95,0.952,0.954,0.956,0.958,0.96,0.962,0.964,0.966,0.968,0.97,0.972,0.974,0.976,0.978,0.98,0.982,0.984,0.986,0.988,0.99,0.992,0.994,0.996,0.998],\"xaxis\":\"x\",\"y\":{\"dtype\":\"f8\",\"bdata\":\"Iz+fhXuVtT8NIFpdRfu1P30tFA3vYbY\\u002fD8hSjq3Ktj+bj0Ah1ja3P7S2CD3cp7c\\u002fhZBp9E4fuD93VT\\u002fP1Z64PzbJyBstKLk\\u002fYvx6vCG9uT\\u002fc91l5jF+6P5jU891MEbs\\u002f7tZDr0PUuz+Yf+QGTaq8P8ykCiM6lb0\\u002fkH7A\\u002fMqWvj+0grW3p7C\\u002fP2sQVwAtcsA\\u002fr9aROKMZwT+FrvcHU8\\u002fBP63f8APAk8I\\u002fd2jw1lFnwz+xRkR4UUrEP4TepaXmPMU\\u002fxGdWqxU\\u002fxj\\u002fB4yiHvVDHP+KLNnKWccg\\u002f6tsZ3DChyT\\u002fjhm7h9N7KP5bB+UUiKsw\\u002fhRRI+dCBzT\\u002fK5r4q8uTOP0FmDvgoKdA\\u002foPGYv0zk0D\\u002fZZaD8KKPRP4rjAOLzZNI\\u002fY0XbNNco0z9V+pR78u3TP\\u002fnU82Vds9Q\\u002fJRo9Zyp41T8rPxB6aTvWP7wcngQr\\u002fNY\\u002fJLjj0oK51z\\u002fhg7sbi3LYPzgO74RnJtk\\u002fJf\\u002f7GUjU2T\\u002fNmP4obHvaP28QLvkkG9s\\u002fYQ+PTtiy2z+29PeuAkLcP+6TOV05yNw\\u002fYxU1ACxF3T\\u002fqX9nspbjdP1BTbAuPIt4\\u002fViYgUuyC3j9burzQ39neP\\u002fwuD0uoJ98\\u002f53DWYaBs3z+JEfdLPanfP10q2SMN3t8\\u002fcTpyZ9oF4D832IbDdhngPy7YJAhBKuA\\u002fhUC50qU44D\\u002fWBNhUF0XgPyTSXpYLUOA\\u002fwKu0qPpZ4D8GUDDTXGPgP\\u002fmP4sCobOA\\u002fW7UKuFF24D9WC1njxYDgPzXS1rRsjOA\\u002f23nUaaWZ4D+gKqG2xajgP\\u002f98DKAYuuA\\u002fz4nQh93N4D++TwRwR+TgP5yxoXh8\\u002feA\\u002fKGcFmZUZ4T\\u002fOHiCWnjjhP+qW3TSWWuE\\u002fqiQXp25\\u002f4T9HrEEwDqfhP6Ta8f1P0eE\\u002fiGhSLwX+4T+JBMUF9iziP3bWIzjjXeI\\u002fA6B7YYeQ4j+OXqCDmMTiPz6BspXJ+eI\\u002fRkOKFswv4z8BGwqbUWbjP8WLj1ANneM\\u002fNFUZbLXT4z\\u002fQckB\\u002fBArkP7fzyqy6P+Q\\u002fr2pot5505D86ZwrmfqjkPxnUQrox2+Q\\u002fqYkYdpYM5T\\u002fQkNFvlTzlP3W5RDMga+U\\u002fhf9ScTGY5T8lHy+\\u002fzMPlP7sUESj+7eU\\u002fEjfXlNkW5j+qluINej7mPzq9LNwAZeY\\u002fwY4mj5SK5j+OAmHtX6\\u002fmP2PeTtaQ0+Y\\u002fEEGaG1f35j9jsJFY4xrnP2CRF85lPuc\\u002fvbFFSQ1i5z8Y8Z8aBobnP8IKPyN5quc\\u002fZfnS\\u002fIrP5z9yvr5AW\\u002fXnPxWZ4fEDHOg\\u002fx6HnC5lD6D9uCjo6KGzoP0IL4be4leg\\u002fm\\u002fPjWEvA6D\\u002fACvG82uvoPwgKXKpbGOk\\u002fu37Qj71F6T9k8XAq63PpPyw1hk3Louk\\u002fyG5dyEHS6T\\u002f9u4BmMALqP3HMFgZ4Muo\\u002faWfpv\\u002fli6j82R1ocmJPqPyZLaFA4xOo\\u002fxgDUfcP06j+Zc3HxJyXrP29dxFpaVes\\u002fAjEi+FaF6z+0csGyIrXrP3WjVSbM5Os\\u002fhl0ZkGwU7D8U\\u002f3KhKETsP86EsjIxdOw\\u002fOzu+0sOk7D9kRuAwK9bsP2zTRF6\\u002fCO0\\u002fG\\u002fIZ5eU87T+U5qKzEXPtP9r88tnCq+0\\u002fIxtlGYbn7T8WDUdF9CbuP5cHkHSxau4\\u002fAfbaBGyz7j+svj1v2wHvPw9Q+O++Vu8\\u002fWKdYAtyy7z\\u002fwskpZfgvwP22D4+P2QfA\\u002f+ZFIZD598D8s4bzuur3wPyNPLsrQA\\u002fE\\u002f3ettROFP8T9E7RJ7SaLxPwDNcBth+\\u002fE\\u002fb0JGHHlb8j\\u002f1YAh02sLyP96M6c7EMfM\\u002frMj2R22o8z87Sd0o\\u002fSb0P5EuHbSQrfQ\\u002frtSa\\u002fTU89T9wvqTV69L1PxIMn8qgcfY\\u002filaURTIY9z\\u002fr1u3Fa8b3P1i\\u002fhkAGfPg\\u002fuvEwpqc4+T9MZZCV4vv5P2E+7zs2xfo\\u002fC\\u002fFUaA6U+z91HL\\u002fTw2f8P9Cf2qCcP\\u002f0\\u002fxTgIFc0a\\u002fj+gsNGLePj+PwDsPaWy1\\u002f8\\u002ff15WV8BbAEC02YiibcsAQFNaRRdYOgFAyL83NPKnAUCV6QozqxMCQG7R0z3wfAJADbHIty3jAkDYXSGW0EUDQOlQoMVHpANA2xLwmAX+A0Dso7k7gVIEQP0ZHyY4oQRAtE0cjK\\u002fpBED2FTfEdSsFQK434qAjZgVAxM8CuF2ZBUA8byeU1cQFQJGaMstK6AVA+RR\\u002f9osDBkB5ctqIdxYGQPOMGH\\u002f8IAZAmbd26BojBkDsGoZE5BwGQJHx3rR7DgZANgBwARb4BUCbvNNu+dkFQLJ7rGZ9tAVADquf8gmIBUBs9BoLF1UFQJ9dmrsrHAVABZ+pHt3dBEDABFM0zZoEQEzvGJapUwRAcGjzCyoJBEBP0xcGD7wDQCf0jP8fbQNASTe5zSkdA0CoSzTh\\u002fMwCQHujMHxrfQJA1QvO4kcvAkDsxZWJYuMBQF3mQ0aImgFAyR7bhoBVAUA5b9GSCxUBQKqN79ng2QBAIyxEVK2kAEBno1H2EXYAQCRjYTyiTgBAJNGuz+IuAECbqONHSBcAQDnFKws2CABAkov1Tv0BAEB5Zkc73AQAQM08aTL9EABAlPd5PnYmAEDW+mOmSEUAQJRbfqtgbQBA0UICcZWeAEDcW1IOqdgAQGKu48xIGwFADh5ikg1mAUCsUW13fLgBQKeBA4sHEgJAYtpdwg5yAkBVq6QU4dcCQIfceMG9QgNA8w3cwNWxA0B5tIJaTSQEQBexFOI9mQRAsrVTlbcPBUCszo2Yw4YFQKznMA1m\\u002fQVAxGPFPaByBkBAgA7acuUGQDIgkj3gVAdAU0lcuu6\\u002fB0A0vnfhqiUIQFLCUcIphQhADnkVGovdCECXXv9r+y0JQPSwvPu1dQlAvPQeowa0CUC36MF8S+gJQKLAuV32EQpAJH73GI4wCkCFbMeHr0MKQIdgn1MOSwpAaLRbfnVGCkBU3wWnxzUKQF4NSgr\\u002fGApASCvTPi3wCUDjtdmuersJQAVGQtElewlA872vJYIvCUAUyuP39tgIQInGqe\\u002f9dwhAxiFPcyENCEC0FlTj+pgHQIdShbYwHAdA0UcPfnSXBkBusFXZgAsGQP9va2EXeQVAru7xk\\u002f7gBEC6revE\\u002f0MEQNGqrh7logNAp5Ojtnf+AkCtEOK8fVcCQB5NBcy4rgFAz0\\u002fLXeQEAUArrTpotFoAQMJfVEyoYf8\\u002ffjRFGsoP\\u002fj+\\u002f3mHj+8D8P6ImybRUdvs\\u002fAZ\\u002fJAdQw+j9FqZH\\u002fYPH4P9YxX1bKuPc\\u002fW4\\u002f5IsaH9j\\u002f26D5C8l71P8dkv9\\u002fUPvQ\\u002fc1rEP90n8z8F\\u002fri8ZBryPwWmsu+vFvE\\u002fQbPO++8c8D9\\u002f1H7oh1ruP++8Vqp0j+w\\u002fmi7fD6XY6j\\u002fbmLrX\\u002fDXpPw+WV7pHp+c\\u002fwfQOaTws5j9+SsV0f8TkP4DX2xOmb+M\\u002f7fG\\u002fwDgt4j\\u002f+HOSrtfzgPyASsvolu98\\u002fxvUix4Ge3T\\u002fauCjcVqLbP0Z78Gd4xdk\\u002fTgjxjbcG2D+PcYrp5WTWPwQktLHX3tQ\\u002f\\u002fJJig2Vz0z\\u002fKtBjZbSHSPyB\\u002fpDbW59A\\u002f3UqtIBiLzz9IlEbqCnPNP\\u002ff4FAaDhcs\\u002fgbvmWZHAyT9x4qWxWSLIPxmfHbkSqcY\\u002fSlQlvwVTxT+9PRdNjh7EP7+YZZwZCsM\\u002fEu8L8yUUwj\\u002fPUInuQTvBP9MTCsQLfsA\\u002fs43f9mC2vz\\u002fjOP9T1qK+P6p2V2EIv70\\u002fZ85YAqEIvT8zpOLYYX28P4yXtPgiG7w\\u002f\\u002fmQ+tNHfuz\\u002fbTrCEb8m7PzztXw4R1rs\\u002fAh7iQd0DvD\\u002fMSKKZDFG8PyemPXPou7w\\u002fcjB+g8pCvT9EC3pjHOS9P0vZGTVXnr4\\u002fU3AYXQNwvz9vjTgo3CvAP1skkzkOqsA\\u002f458ng\\u002fIxwT8weLgR68LBP6INpGFhXMI\\u002fXFAtZ8b9wj8zQO6akqbDP4jc2QlGVsQ\\u002fh11SaGgMxT\\u002f8YPcnicjFPwtk6o8\\u002fisY\\u002fVyFd1ypRxz+BwklC8hzIP\\u002f32NkBF7cg\\u002fTTnfjNvByT9NunlSdZrKP\\u002f0PO03bdss\\u002ftX1r795WzD93EymFWjrNPy8OlVYxIc4\\u002fCtDIxk8Lzz+CH4Ftq\\u002fjPP6ENfZShdNA\\u002f7Ph\\u002fko\\u002fu0D\\u002fdKOJpKGrRP7RlTmp559E\\u002fXzg4YpRm0j8Bzah5j+fSPwKaSP2EatM\\u002fYhtFF5Pv0z94D71z23bUP1I7fs6CANU\\u002fQhwXaLCM1T\\u002fmt45gjRvWP8lqffZDrdY\\u002fJLrCqf5B1z9BUa1B59nXP7nKGLclddg\\u002fFI\\u002fGA98T2T+l4AfZM7bZP4KoqkA\\u002fXNo\\u002fEsr7KxUG2z8EipL1wLPbP158cttDZdw\\u002fBGjed5Ma3T+Z1u4\\u002fmNPdP5qrnA8skN4\\u002fxxJsyxhQ3z9UTByQiwngP9xl5bRmbOA\\u002fNgVrZGfQ4D+\\u002fQF84TTXhPyckiZrNmuE\\u002fFqX5rpMA4j\\u002fCE+ZkQGbiP1LcyLBqy+I\\u002ftOXE8Z8v4z9KnI2DZJLjP88iSX008+M\\u002f12AHnYRR5D8AI4Rew6zkP4WYATtaBOU\\u002fU0sgD69X5T+8GriiJablP9k64E0h7+U\\u002f4n+QtQYy5j9fZJmZPW7mP\\u002fRHH60yo+Y\\u002fa39UclnQ5j9bnuARLvXmP7iMPCY3Eec\\u002fGnFMcwck5z+52KqCPy3nP5Tpax2PLOc\\u002fcTmanLYh5z\\u002flLE8KiAznPzoLCw7o7OY\\u002fhEPRn87C5j9dvIZ+R47mP4TqHGdyT+Y\\u002fJccuC4MG5j8lKdbGwLPlPyYGohaGV+U\\u002fmhayzz\\u002fy5D\\u002fKFAwdbITkP\\u002fA8PEaZDuQ\\u002fRI44RGSR4z9ps0cqdw3jP5eRVWmHg+I\\u002fNSyl9FP04T+LsS9Po2DhP7oLOolByeA\\u002f5f28Nf4u4D8bN1G+VCXfP8HFqAUt6t0\\u002flS0oNCGu3D9s5+NuxHLbP++0+XudOdo\\u002fvSHibyME2T8RwpGiutPXPwFj+fOxqdY\\u002fGjvaZUCH1T8R7EMPg23UP90\\u002fd2x7XdM\\u002fJ31aDA5Y0j\\u002f6xDKbAV7RP9vK90j+b9A\\u002fBcWzEBsdzz\\u002fSJ\\u002fRENHTNP+JBxzTh5cs\\u002fCpcftX9yyj+ri0BMNBrJP2uEE47s3Mc\\u002fS+I55GG6xj+\\u002fk2yzHLLFP4fMsc93w8Q\\u002fxmQlMaTtwz+m0HfbrC\\u002fDP9m+2ep6iMI\\u002f5y6+udn2wT+peKkTe3nBP5sNIWr7DsE\\u002fsiK2Aea1wD8aVA4OuWzAP6Ups7TpMcA\\u002fkpFP7+cDwD+mo6uNRMK\\u002fP\\u002fODncMSkL8\\u002fmoSWwSZuvz\\u002fhpzUJflm\\u002fPyvVDDUtT78\\u002feFq9VmVMvz9pDmXVeE6\\u002fPwkpAcjfUr8\\u002f0KlbyDtXvz+7VwE8W1m\\u002fP5IupRE8V78\\u002fc5Q+8g1Pvz8ilRzmMz+\\u002fPw\\u002fWG29FJr8\\u002fn+AnGg8Dvz9BRDKLktS+Pw==\"},\"yaxis\":\"y\",\"type\":\"scatter\"},{\"fill\":\"tozeroy\",\"hovertemplate\":\"\\u003cb\\u003eSynthetic\\u003c\\u002fb\\u003e\\u003cbr\\u003eFrequency: %{y}\\u003cextra\\u003e\\u003c\\u002fextra\\u003e\",\"legendgroup\":\"Synthetic\",\"marker\":{\"color\":\"#01E0C9\"},\"mode\":\"lines\",\"name\":\"Synthetic\",\"showlegend\":true,\"x\":[-0.043071223568071,-0.0409012896719071,-0.0387313557757432,-0.0365614218795793,-0.0343914879834154,-0.0322215540872515,-0.030051620191087598,-0.0278816862949237,-0.0257117523987598,-0.023541818502595898,-0.021371884606432,-0.0192019507102681,-0.0170320168141042,-0.014862082917940299,-0.012692149021776403,-0.010522215125612501,-0.008352281229448602,-0.006182347333284703,-0.004012413437120797,-0.0018424795409569053,0.00032745435520700056,0.0024973882513708995,0.004667322147534798,0.006837256043698704,0.009007189939862596,0.011177123836026495,0.013347057732190401,0.0155169916283543,0.017686925524518192,0.019856859420682105,0.022026793316845997,0.024196727213009903,0.026366661109173795,0.0285365950053377,0.030706528901501592,0.0328764627976655,0.035046396693829404,0.037216330589993296,0.03938626448615719,0.041556198382321094,0.043726132278485,0.045896066174648906,0.0480660000708128,0.05023593396697669,0.052405867863140596,0.05457580175930449,0.05674573565546841,0.0589156695516323,0.06108560344779619,0.0632555373439601,0.06542547124012399,0.0675954051362879,0.0697653390324518,0.07193527292861569,0.0741052068247796,0.07627514072094349,0.07844507461710738,0.0806150085132713,0.08278494240943521,0.08495487630559909,0.08712481020176299,0.0892947440979269,0.0914646779940908,0.09363461189025468,0.09580454578641859,0.0979744796825825,0.1001444135787464,0.1023143474749103,0.10448428137107418,0.10665421526723809,0.108824149163402,0.1109940830595659,0.11316401695572981,0.11533395085189369,0.11750388474805759,0.1196738186442215,0.12184375254038537,0.12401368643654931,0.1261836203327132,0.1283535542288771,0.130523488125041,0.13269342202120488,0.1348633559173688,0.1370332898135327,0.1392032237096966,0.14137315760586047,0.14354309150202438,0.1457130253981883,0.1478829592943522,0.1500528931905161,0.15222282708667997,0.15439276098284388,0.1565626948790078,0.1587326287751717,0.1609025626713356,0.16307249656749948,0.16524243046366338,0.1674123643598273,0.1695822982559912,0.1717522321521551,0.17392216604831898,0.17609209994448288,0.1782620338406468,0.1804319677368107,0.1826019016329746,0.18477183552913848,0.18694176942530238,0.1891117033214663,0.1912816372176302,0.1934515711137941,0.19562150500995798,0.19779143890612189,0.19996137280228576,0.20213130669844967,0.2043012405946136,0.20647117449077748,0.20864110838694142,0.2108110422831053,0.21298097617926917,0.2151509100754331,0.21732084397159698,0.21949077786776086,0.2216607117639248,0.22383064566008867,0.2260005795562526,0.22817051345241648,0.23034044734858036,0.2325103812447443,0.23468031514090817,0.2368502490370721,0.239020182933236,0.24119011682939986,0.2433600507255638,0.24552998462172768,0.2476999185178916,0.2498698524140555,0.2520397863102194,0.2542097202063833,0.25637965410254715,0.2585495879987111,0.260719521894875,0.26288945579103884,0.2650593896872028,0.2672293235833667,0.26939925747953064,0.27156919137569446,0.2737391252718584,0.2759090591680222,0.27807899306418615,0.2802489269603501,0.282418860856514,0.28458879475267784,0.2867587286488418,0.2889286625450057,0.29109859644116964,0.29326853033733347,0.2954384642334974,0.2976083981296612,0.29977833202582516,0.3019482659219891,0.304118199818153,0.30628813371431685,0.3084580676104808,0.3106280015066447,0.31279793540280865,0.31496786929897247,0.3171378031951364,0.3193077370913002,0.32147767098746416,0.3236476048836281,0.3258175387797919,0.32798747267595585,0.3301574065721198,0.3323273404682837,0.33449727436444765,0.3366672082606115,0.3388371421567754,0.34100707605293923,0.34317700994910316,0.3453469438452671,0.3475168777414309,0.34968681163759485,0.3518567455337588,0.3540266794299227,0.35619661332608665,0.3583665472222505,0.3605364811184144,0.36270641501457823,0.36487634891074217,0.3670462828069061,0.3692162167030699,0.37138615059923386,0.3735560844953978,0.3757260183915617,0.37789595228772555,0.3800658861838895,0.3822358200800534,0.38440575397621723,0.38657568787238117,0.3887456217685451,0.3909155556647089,0.39308548956087286,0.3952554234570368,0.3974253573532007,0.39959529124936455,0.4017652251455285,0.4039351590416924,0.40610509293785624,0.40827502683402017,0.4104449607301841,0.41261489462634793,0.41478482852251186,0.4169547624186758,0.41912469631483973,0.42129463021100355,0.4234645641071675,0.4256344980033314,0.42780443189949524,0.4299743657956592,0.4321442996918231,0.43431423358798693,0.43648416748415086,0.4386541013803148,0.44082403527647873,0.44299396917264255,0.4451639030688065,0.4473338369649703,0.44950377086113424,0.4516737047572982,0.453843638653462,0.45601357254962593,0.45818350644578987,0.4603534403419538,0.4625233742381176,0.46469330813428156,0.4668632420304454,0.4690331759266093,0.47120310982277325,0.4733730437189372,0.4755429776151011,0.47771291151126494,0.47988284540742887,0.4820527793035927,0.4842227131997566,0.48639264709592056,0.4885625809920844,0.4907325148882483,0.49290244878441225,0.4950723826805762,0.4972423165767401,0.49941225047290394,0.5015821843690679,0.5037521182652317,0.5059220521613956,0.5080919860575596,0.5102619199537234,0.5124318538498873,0.5146017877460513,0.5167717216422152,0.5189416555383791,0.5211115894345429,0.5232815233307068,0.5254514572268707,0.5276213911230346,0.5297913250191986,0.5319612589153624,0.5341311928115263,0.5363011267076903,0.5384710606038542,0.5406409945000181,0.542810928396182,0.5449808622923458,0.5471507961885097,0.5493207300846736,0.5514906639808376,0.5536605978770014,0.5558305317731653,0.5580004656693293,0.5601703995654932,0.5623403334616571,0.564510267357821,0.5666802012539848,0.5688501351501487,0.5710200690463126,0.5731900029424766,0.5753599368386404,0.5775298707348043,0.5796998046309683,0.5818697385271322,0.5840396724232961,0.58620960631946,0.5883795402156238,0.5905494741117877,0.5927194080079516,0.5948893419041155,0.5970592758002794,0.5992292096964433,0.6013991435926073,0.6035690774887712,0.605739011384935,0.607908945281099,0.6100788791772628,0.6122488130734267,0.6144187469695906,0.6165886808657545,0.6187586147619184,0.6209285486580823,0.6230984825542463,0.6252684164504102,0.627438350346574,0.629608284242738,0.6317782181389018,0.6339481520350657,0.6361180859312296,0.6382880198273935,0.6404579537235574,0.6426278876197213,0.6447978215158853,0.6469677554120492,0.649137689308213,0.651307623204377,0.6534775571005408,0.6556474909967047,0.6578174248928687,0.6599873587890325,0.6621572926851964,0.6643272265813603,0.6664971604775243,0.6686670943736882,0.670837028269852,0.6730069621660159,0.6751768960621798,0.6773468299583437,0.6795167638545077,0.6816866977506715,0.6838566316468354,0.6860265655429993,0.6881964994391633,0.6903664333353272,0.692536367231491,0.6947063011276549,0.6968762350238188,0.6990461689199827,0.7012161028161467,0.7033860367123105,0.7055559706084744,0.7077259045046383,0.7098958384008023,0.7120657722969662,0.71423570619313,0.7164056400892939,0.7185755739854578,0.7207455078816217,0.7229154417777857,0.7250853756739495,0.7272553095701134,0.7294252434662774,0.7315951773624413,0.7337651112586052,0.735935045154769,0.7381049790509329,0.7402749129470968,0.7424448468432607,0.7446147807394247,0.7467847146355885,0.7489546485317524,0.7511245824279164,0.7532945163240803,0.7554644502202442,0.757634384116408,0.7598043180125719,0.7619742519087358,0.7641441858048997,0.7663141197010636,0.7684840535972275,0.7706539874933914,0.7728239213895554,0.7749938552857193,0.7771637891818831,0.779333723078047,0.7815036569742109,0.7836735908703748,0.7858435247665387,0.7880134586627026,0.7901833925588665,0.7923533264550304,0.7945232603511944,0.7966931942473583,0.7988631281435221,0.8010330620396859,0.8032029959358499,0.8053729298320138,0.8075428637281777,0.8097127976243416,0.8118827315205055,0.8140526654166694,0.8162225993128334,0.8183925332089973,0.8205624671051611,0.8227324010013249,0.8249023348974889,0.8270722687936528,0.8292422026898167,0.8314121365859806,0.8335820704821445,0.8357520043783084,0.8379219382744724,0.8400918721706363,0.8422618060668001,0.844431739962964,0.8466016738591279,0.8487716077552918,0.8509415416514557,0.8531114755476196,0.8552814094437835,0.8574513433399474,0.8596212772361114,0.8617912111322753,0.8639611450284391,0.866131078924603,0.8683010128207669,0.8704709467169308,0.8726408806130947,0.8748108145092586,0.8769807484054225,0.8791506823015864,0.8813206161977504,0.8834905500939143,0.8856604839900781,0.887830417886242,0.8900003517824059,0.8921702856785698,0.8943402195747338,0.8965101534708976,0.8986800873670615,0.9008500212632254,0.9030199551593894,0.9051898890555533,0.9073598229517171,0.909529756847881,0.9116996907440449,0.9138696246402088,0.9160395585363728,0.9182094924325366,0.9203794263287005,0.9225493602248644,0.9247192941210284,0.9268892280171923,0.929059161913356,0.93122909580952,0.9333990297056839,0.9355689636018478,0.9377388974980116,0.9399088313941756,0.9420787652903395,0.9442486991865034,0.9464186330826674,0.9485885669788312,0.950758500874995,0.952928434771159,0.9550983686673229,0.9572683025634867,0.9594382364596508,0.9616081703558146,0.9637781042519786,0.9659480381481425,0.9681179720443063,0.9702879059404703,0.9724578398366341,0.974627773732798,0.9767977076289618,0.9789676415251258,0.9811375754212897,0.9833075093174537,0.9854774432136175,0.9876473771097813,0.9898173110059454,0.9919872449021092,0.9941571787982733,0.9963271126944371,0.9984970465906009,1.000666980486765,1.0028369143829288,1.0050068482790926,1.0071767821752564,1.0093467160714202,1.0115166499675843,1.013686583863748,1.0158565177599121,1.018026451656076,1.0201963855522398,1.0223663194484038,1.0245362533445677,1.0267061872407317,1.0288761211368955,1.0310460550330593,1.0332159889292234,1.0353859228253872,1.0375558567215513,1.039725790617715],\"xaxis\":\"x\",\"y\":{\"dtype\":\"f8\",\"bdata\":\"wGxP7PD8uz87FPwedEm8PyTLQzmMkLw\\u002fJhl0jx\\u002fSvD+c\\u002fBn6GQ69P23DXg9tRL0\\u002f\\u002fDHbVhB1vT8jfoB3AaC9P+fnPF9Exb0\\u002fxIYIZOPkvT+GKQ5e7\\u002f69P0rhq7p\\u002fE74\\u002fRvAOiLIivj8+UDd5rCy+Pw3QN+KYMb4\\u002fxNWQrKkxvj+xG41DFy2+P\\u002fkykXggJL4\\u002fJC9YXwoXvj+3jSEiIAa+P\\u002f4q3s2y8b0\\u002fZNhzFhnavT9s5TgTr7+9P+ud0vPVor0\\u002fRFmrrfODvT\\u002fbND6icmO9P03rfz7BQb0\\u002fuWa1k1EfvT8IpxHqmPy8P3NVfU0P2rw\\u002fR+HyFC+4vD9pPuJkdJe8P15PF61ceLw\\u002ftKOlImZbvD8NemM2D0G8P+rchAjWKbw\\u002fzTDu2TcWvD9Cndt7sAa8P31UgL65+7s\\u002fOdlF38r1uz8C9Vf3V\\u002fW7P7wPLmvR+rs\\u002f5frFW6MGvD8S+0YaNRm8PwXexZ7oMrw\\u002frS3kAhpUvD+SBgUBH328PwWz0XhGrrw\\u002fWOLG+dfnvD\\u002fiFYFUEyq9PzSiezMwdb0\\u002f3l3xu13JvT9cvog3wia+Pzqubsd6jb4\\u002fCc57IZv9vj8LDfdXLXe\\u002fP32Vfqwx+r8\\u002fDnNKN09DwD\\u002fR0SHzL47AP\\u002fUYnCWs3cA\\u002fc8NX5K8xwT8ReTtHIorBPwtom3fl5sE\\u002f9DAVxtZHwj8fryrHzqzCPxwumnahFcM\\u002fl4poYR6Cwz9YYYfWEPLDP9ra9h1AZcQ\\u002f7Ok3tm\\u002fbxD+iCtmXX1TFP27L3H7Mz8U\\u002f2sOuOXBNxj\\u002fqKVH9Ac3GP+ESY742Tsc\\u002f0q2VjsHQxz+1iB3+U1TIP8ZLpICe2Mg\\u002ft2Q31VBdyT+C86hwGuLJP9AD0umqZso\\u002fO88fZ7Lqyj8VgdEM4m3LP5jNSGvs78s\\u002fNrbN7IVwzD8+FCVCZe\\u002fMP1kLWs1DbM0\\u002fsFMcCt7mzT8Gbxjz817OP9ZLs2NJ1M4\\u002fapeYdaZGzz9ZBJLZ17XPP50Ek5XXENA\\u002fmARDnwFF0D8aLy80WHfQP0kmk1\\u002fMp9A\\u002fRzDNKlLW0D\\u002fNgQy34ALRP8mKU1NyLdE\\u002fUXG4jgRW0T+fZtVGmHzRP0ohYrIxodE\\u002fZXn3Z9jD0T93zwVhl+TRP\\u002fh5Dvl8A9I\\u002fG9o36Zog0j863FpABjzSP9Zzr1fXVdI\\u002fCAZExClu0j9gm3FFHIXSP8IJhLDQmtI\\u002f3gDS2Wuv0j\\u002fZ8IR7FcPSP38WVBr41dI\\u002fGod46EDo0j9u2CGnH\\u002frSP+rus4bGC9M\\u002fepIWBmod0z9Cpl7RQC\\u002fTP+RCF6CDQdM\\u002f\\u002f35uE21U0z+5boaUOWjTP5PWJjMnfdM\\u002fGUQHhXWT0z+VxOOFZavTP8hUiHg5xdM\\u002fsXf4yDTh0z8HN9Hvm\\u002f\\u002fTP1c8\\u002fFa0INQ\\u002frMrCP8RE1D8dP0eqEmzUP4t6Yz7nltQ\\u002fqUjiNYrF1D+QnQFIRPjUP\\u002f9vI5ZeL9U\\u002fkyuLmSJr1T\\u002fzSP4R2qvVPwGlF\\u002fXO8dU\\u002fGs0WXks91j+Ruu59mY7WP116UosD5tY\\u002fWBN6stND1z8Ft1YEVKjXP2346mTOE9g\\u002fGXd6eIyG2D9lLUSP1wDZP+9qe4\\u002f4gtk\\u002fsnk13TcN2j97BgVA3Z\\u002faP+ebAMYvO9s\\u002fiNn2o3Xf2z\\u002fJfpkS9IzcP6LhbyjvQ90\\u002f5uppsKkE3j\\u002fJKPb8ZM\\u002feP2beh7dgpN8\\u002f6Y1CVu1B4D\\u002fnX9BJB7fgP6VbWOqaMeE\\u002f9tuOpMOx4T8YgAt9mzfiP7QT4e06w+I\\u002f8lPWwrhU4z9dLGn0KezjPxm2zIGhieQ\\u002fh8MYSjAt5T9OBOjk5NblP\\u002fC4p3rLhuY\\u002fuXLhnO085z9OZcweUvnnPytLeO78u+g\\u002fZrnn7u6E6T\\u002f56XLTJVTqP5FszvybKes\\u002f3cgSWEgF7D+Q2CJAHufsP\\u002fx2zmENz+0\\u002ffAQOowG97j9iK7EN47DvP3ke7N5KVfA\\u002fNbdF6vzU8D+hFF+3dVfxP5hIg1Ch3PE\\u002fRy4lvGlk8j+NEM3\\u002ftu7yPzKutSVve\\u002fM\\u002f0OQrRXYK9D8GD7+Nrpv0P3CMSlX4LvU\\u002fygPbKDLE9T\\u002fQy2vgOFv2P26JcrXn8\\u002fY\\u002fnJIoXBiO9z\\u002f1DXsfoyn4P+8ohP9exvg\\u002f\\u002fixp0iFk+T9ixnJnwAL6P1SILqwOovo\\u002f8LNi099B+z\\u002f8k5d9BuL7P3xw9OJUgvw\\u002fDEUp\\u002fpwi\\u002fT\\u002f2Dxq4sML9P5TY\\u002fBNiYv4\\u002frm+YW4MB\\u002fz8wjU9L55\\u002f\\u002fP4ki0Z6wHgBA3nnnquJsAEAu2p1UdLoAQC4gqbNQBwFAf9+8f2NTAUBaSG4imZ4BQOjB1cfe6AFAwA7KbSIyAkANWZLxUnoCQOhy7xtgwQJAsOdfqzoHA0DkJYZc1EsDQC0HnPAfjwNAA0TjMRHRA0Bs6gb2nBEEQE+tZh65UARA98pJllyOBEAwUfxOf8oEQEec3jkaBQVAcAp0QCc+BUA77YI6oXUFQDq8XOKDqwVAj11qx8vfBUCB9xw\\u002fdhIGQLQaaFSBQwZATSHutetyBkDCUgujtKAGQIGm79fbzAZA\\u002fNn5eGH3BkCf7Yj9RSAHQG\\u002f3ehqKRwdAbouRrC5tB0B3u\\u002fSiNJEHQHHdDeqcswdAqd7yVmjUB0CY65mTl\\u002fMHQB6eCwwrEQhAx7zH3CItCEDx3Y3CfkcIQHoDuAs+YAhAzIJRi193CEB0VRCO4YwIQFtKUtHBoAhADYk6fP2yCED2fwYbkcMIQLK2q5x40ghA4ifKUq\\u002ffCEDfyfjzL+sIQHzaa6D09AhA1Gju6Pb8CEDWiiLYLwMJQGe59f2XBwlA+wcxfScKCUBYYQcb1goJQO60flCbCQlAqxmMXW4GCUA8bbZdRgEJQGbrDl4a+ghADaxLdOHwCEC38czWkuUIQP+8U\\u002fUl2AhAPjoukpLICEALWp3b0LYIQHE+NoXZoghAJB4C4aWMCEDw1B\\u002f4L3QIQMCIq6JyWQhAzZOynmk8CEAFPfylER0IQBuscoJo+wdAWOr6IG3XB0B4nY6iH7EHQNZvbmuBiAdAG79IMJVdB0ChITUBXzAHQISMalLkAAdA7lObAizPBkDG0udePpsGQGoxXiQlZQZA+XQDf+ssBkBrqWcGnvIFQLuKzLdKtgVA1X7r7QB4BUAL62xW0TcFQB\\u002frJ+XN9QRAnh1GxQmyBECZkmtImWwEQKLhBtSRJQRArfvwzAndA0BAb4eBGJMDQI1\\u002fbhLWRwNAtaEqWlv7AkCFqcLTwa0CQO4lnYAjXwJAbijMzZoPAkCt7\\u002fp4Qr8BQEuwMHU1bgFAnwSbz44cAUCoZpGUacoAQK2IAbXgdwBASWty7A4lAEBVf5NPHaT\\u002fP8H8+Nnz\\u002ff4\\u002ffVehh9RX\\u002fj+HIKY\\u002f8bH9P+qEQJd6DP0\\u002fapE5q59n\\u002fD90wWj8jcP7P9NOaU9xIPs\\u002fSPemj3N++j9LI9u1vN35P62YC7JyPvk\\u002fzkEUWbmg+D8tHb5VsgT4P4QyXh19avc\\u002fD4Pw5zbS9j\\u002f9W5yr+jv2P0BNiRvhp\\u002fU\\u002fo1DmqQAW9T+bdf+MbYb0P3KtOcc5+fM\\u002fyiTIMXVu8z\\u002f58+qJLebyP1Xcg4BuYPI\\u002fU0LLy0Hd8T9Qou06r1zxP+BUWMu83vA\\u002fMJx7v25j8D+RP49tj9XvP9xNVI2R6e4\\u002fOxanKOMC7j+i6xTegCHtP1QNr9VkRew\\u002ff9Kn9oZu6z8LU9Ac3ZzqP6pZlk1b0Ok\\u002fkSso7PMI6T8O7Gnsl0boPzgGbwQ3iec\\u002fnvww3L\\u002fQ5j\\u002fLN0Q7IB3mPxbPUjRFbuU\\u002fLcgsThvE5D\\u002fb0USqjh7kPwD+dyiLfeM\\u002fzGYGiPzg4j8b66mFzkjiP\\u002fY4v\\u002fbstOE\\u002f1yR84UMl4T+sxjSSv5ngP3P4tq1MEuA\\u002fCyGTgbAd3z8cF8SZnx7eP5V+UKRCJ90\\u002fhUXIrXY33D81ZOvYGU\\u002fbP3Ti9GMLbto\\u002f7CKOqSuU2T9rg7wdXMHYP6ZqH0d\\u002f9dc\\u002fcfTXtHgw1z+mj3XxLHLWP38dRHOButU\\u002flXxYilwJ1T9Q7bdMpV7UP4F49YBDutM\\u002fqn6ehx8c0z\\u002fD4sxDIoTSPyT0MQM18tE\\u002flFjpZUFm0T9\\u002f1l5GMeDQPzoQjaHuX9A\\u002f\\u002fSas\\u002f8bKzz+iTGK98+DOP6kJxzY3As4\\u002ftsfnvWQuzT\\u002fIIQUXT2XMP3gHVFbIpss\\u002fXWoLwaHyyj9zRu6xq0jKP0E7doG1qMk\\u002f67K3cY0SyT9qyQ2eAIbIP47kke7aAsg\\u002fy0VZD+eIxz9d32lr7hfHPxtvTyu5r8Y\\u002fdVsyNw5Qxj8wEks8s\\u002fjFP8C7hrVsqcU\\u002fcvks9\\u002f1hxT89HFI9KSLFP0zH3byv6cQ\\u002fqkTrtlG4xD9Y6EaOzo3EPw2zyt7kacQ\\u002frepbllJMxD+fjEsP1TTEP+ZD3CspI8Q\\u002fT96xcgsXxD+6CvArOBDEPydl0H5rDsQ\\u002fOGx6j2ERxD9A4eqc1hjEP90zux6HJMQ\\u002fBOmc4i80xD\\u002fFWWApjkfEP8ahYcNfXsQ\\u002fDBU6LGN4xD+JCZilV5XEP5ohIlH9tMQ\\u002fAYhOSRXXxD9JqRm5YfvEP\\u002f\\u002fmivKlIcU\\u002fAn74g6ZJxT\\u002f6YP5LKXPFP0UYHoz1ncU\\u002fuM\\u002f\\u002f+dPJxT9Lmk7PjvbFP8CdK9jxI8Y\\u002fDk81gMpRxj\\u002fxMCHe53\\u002fGP3ak570arsY\\u002fqFaCqTXcxj92sj7wDArHP22Epqx2N8c\\u002fZrIByUpkxz9AlHQCY5DHP8Yiv+qau8c\\u002f49qh6M\\u002flxz865+024Q7IP8ffRuKvNsg\\u002fV0GdxR5dyD+bommFEoLIPxupsYlxpcg\\u002fI9Tg9iPHyD86X4ClE+fIP8zB2hgsBck\\u002f06mYdFohyT\\u002fkuWZxjTvJP7fMtFC1U8k\\u002fMQKhz8NpyT\\u002frXyIZrH3JP4dSiLdij8k\\u002fItZlhd2eyT+XdACeE6zJP\\u002f+WXE39tsk\\u002f89YBAJS\\u002fyT9AAZMy0sXJPzJTVmGzyck\\u002fPxrL9zPLyT+qP2pAUcrJP71pr1QJx8k\\u002fGzGIDVvByT9LdEb0RbnJP48OMjTKrsk\\u002fNiHVjOihyT9NtxxFopLJP5TUZR\\u002f5gMk\\u002fpPiMTu9syT8nzhNsh1bJP3Ykbm\\u002fEPck\\u002fE3iEpqkiyT8bOnevOgXJP+PAqnN75cg\\u002f01sgJHDDyD80dx03HZ\\u002fIPygXHmeHeMg\\u002fd0YMs7NPyD\\u002fCZ7JfpyTIP2S8Wvpn98c\\u002fCO2KXPvHxz9fAcewZ5bHP9YDRHizYsc\\u002f3ZdvkeUsxz+yGS8\\u002fBfXGP2F7tjAau8Y\\u002fHgbViSx\\u002fxj9lepTrREHGP2K9BX1sAcY\\u002f8mEV9Ky\\u002fxT8g5kGeEHzFP193DWmiNsU\\u002f13kF6m3vxD\\u002ff5Dpmf6bEP67MB9njW8Q\\u002fmhwA+qgPxD8Vl+1B3cHDP4Sgue6PcsM\\u002fgB0qBtEhwz8gxFlXsc\\u002fCP+KW13pCfMI\\u002fqNRc0ZYnwj9SbgyBwdHBPw==\"},\"yaxis\":\"y\",\"type\":\"scatter\"}],                        {\"barmode\":\"overlay\",\"font\":{\"size\":18},\"hovermode\":\"closest\",\"legend\":{\"traceorder\":\"reversed\"},\"plot_bgcolor\":\"#F5F5F8\",\"template\":{\"data\":{\"barpolar\":[{\"marker\":{\"line\":{\"color\":\"#E5ECF6\",\"width\":0.5},\"pattern\":{\"fillmode\":\"overlay\",\"size\":10,\"solidity\":0.2}},\"type\":\"barpolar\"}],\"bar\":[{\"error_x\":{\"color\":\"#2a3f5f\"},\"error_y\":{\"color\":\"#2a3f5f\"},\"marker\":{\"line\":{\"color\":\"#E5ECF6\",\"width\":0.5},\"pattern\":{\"fillmode\":\"overlay\",\"size\":10,\"solidity\":0.2}},\"type\":\"bar\"}],\"carpet\":[{\"aaxis\":{\"endlinecolor\":\"#2a3f5f\",\"gridcolor\":\"white\",\"linecolor\":\"white\",\"minorgridcolor\":\"white\",\"startlinecolor\":\"#2a3f5f\"},\"baxis\":{\"endlinecolor\":\"#2a3f5f\",\"gridcolor\":\"white\",\"linecolor\":\"white\",\"minorgridcolor\":\"white\",\"startlinecolor\":\"#2a3f5f\"},\"type\":\"carpet\"}],\"choropleth\":[{\"colorbar\":{\"outlinewidth\":0,\"ticks\":\"\"},\"type\":\"choropleth\"}],\"contourcarpet\":[{\"colorbar\":{\"outlinewidth\":0,\"ticks\":\"\"},\"type\":\"contourcarpet\"}],\"contour\":[{\"colorbar\":{\"outlinewidth\":0,\"ticks\":\"\"},\"colorscale\":[[0.0,\"#0d0887\"],[0.1111111111111111,\"#46039f\"],[0.2222222222222222,\"#7201a8\"],[0.3333333333333333,\"#9c179e\"],[0.4444444444444444,\"#bd3786\"],[0.5555555555555556,\"#d8576b\"],[0.6666666666666666,\"#ed7953\"],[0.7777777777777778,\"#fb9f3a\"],[0.8888888888888888,\"#fdca26\"],[1.0,\"#f0f921\"]],\"type\":\"contour\"}],\"heatmap\":[{\"colorbar\":{\"outlinewidth\":0,\"ticks\":\"\"},\"colorscale\":[[0.0,\"#0d0887\"],[0.1111111111111111,\"#46039f\"],[0.2222222222222222,\"#7201a8\"],[0.3333333333333333,\"#9c179e\"],[0.4444444444444444,\"#bd3786\"],[0.5555555555555556,\"#d8576b\"],[0.6666666666666666,\"#ed7953\"],[0.7777777777777778,\"#fb9f3a\"],[0.8888888888888888,\"#fdca26\"],[1.0,\"#f0f921\"]],\"type\":\"heatmap\"}],\"histogram2dcontour\":[{\"colorbar\":{\"outlinewidth\":0,\"ticks\":\"\"},\"colorscale\":[[0.0,\"#0d0887\"],[0.1111111111111111,\"#46039f\"],[0.2222222222222222,\"#7201a8\"],[0.3333333333333333,\"#9c179e\"],[0.4444444444444444,\"#bd3786\"],[0.5555555555555556,\"#d8576b\"],[0.6666666666666666,\"#ed7953\"],[0.7777777777777778,\"#fb9f3a\"],[0.8888888888888888,\"#fdca26\"],[1.0,\"#f0f921\"]],\"type\":\"histogram2dcontour\"}],\"histogram2d\":[{\"colorbar\":{\"outlinewidth\":0,\"ticks\":\"\"},\"colorscale\":[[0.0,\"#0d0887\"],[0.1111111111111111,\"#46039f\"],[0.2222222222222222,\"#7201a8\"],[0.3333333333333333,\"#9c179e\"],[0.4444444444444444,\"#bd3786\"],[0.5555555555555556,\"#d8576b\"],[0.6666666666666666,\"#ed7953\"],[0.7777777777777778,\"#fb9f3a\"],[0.8888888888888888,\"#fdca26\"],[1.0,\"#f0f921\"]],\"type\":\"histogram2d\"}],\"histogram\":[{\"marker\":{\"pattern\":{\"fillmode\":\"overlay\",\"size\":10,\"solidity\":0.2}},\"type\":\"histogram\"}],\"mesh3d\":[{\"colorbar\":{\"outlinewidth\":0,\"ticks\":\"\"},\"type\":\"mesh3d\"}],\"parcoords\":[{\"line\":{\"colorbar\":{\"outlinewidth\":0,\"ticks\":\"\"}},\"type\":\"parcoords\"}],\"pie\":[{\"automargin\":true,\"type\":\"pie\"}],\"scatter3d\":[{\"line\":{\"colorbar\":{\"outlinewidth\":0,\"ticks\":\"\"}},\"marker\":{\"colorbar\":{\"outlinewidth\":0,\"ticks\":\"\"}},\"type\":\"scatter3d\"}],\"scattercarpet\":[{\"marker\":{\"colorbar\":{\"outlinewidth\":0,\"ticks\":\"\"}},\"type\":\"scattercarpet\"}],\"scattergeo\":[{\"marker\":{\"colorbar\":{\"outlinewidth\":0,\"ticks\":\"\"}},\"type\":\"scattergeo\"}],\"scattergl\":[{\"marker\":{\"colorbar\":{\"outlinewidth\":0,\"ticks\":\"\"}},\"type\":\"scattergl\"}],\"scattermapbox\":[{\"marker\":{\"colorbar\":{\"outlinewidth\":0,\"ticks\":\"\"}},\"type\":\"scattermapbox\"}],\"scattermap\":[{\"marker\":{\"colorbar\":{\"outlinewidth\":0,\"ticks\":\"\"}},\"type\":\"scattermap\"}],\"scatterpolargl\":[{\"marker\":{\"colorbar\":{\"outlinewidth\":0,\"ticks\":\"\"}},\"type\":\"scatterpolargl\"}],\"scatterpolar\":[{\"marker\":{\"colorbar\":{\"outlinewidth\":0,\"ticks\":\"\"}},\"type\":\"scatterpolar\"}],\"scatter\":[{\"fillpattern\":{\"fillmode\":\"overlay\",\"size\":10,\"solidity\":0.2},\"type\":\"scatter\"}],\"scatterternary\":[{\"marker\":{\"colorbar\":{\"outlinewidth\":0,\"ticks\":\"\"}},\"type\":\"scatterternary\"}],\"surface\":[{\"colorbar\":{\"outlinewidth\":0,\"ticks\":\"\"},\"colorscale\":[[0.0,\"#0d0887\"],[0.1111111111111111,\"#46039f\"],[0.2222222222222222,\"#7201a8\"],[0.3333333333333333,\"#9c179e\"],[0.4444444444444444,\"#bd3786\"],[0.5555555555555556,\"#d8576b\"],[0.6666666666666666,\"#ed7953\"],[0.7777777777777778,\"#fb9f3a\"],[0.8888888888888888,\"#fdca26\"],[1.0,\"#f0f921\"]],\"type\":\"surface\"}],\"table\":[{\"cells\":{\"fill\":{\"color\":\"#EBF0F8\"},\"line\":{\"color\":\"white\"}},\"header\":{\"fill\":{\"color\":\"#C8D4E3\"},\"line\":{\"color\":\"white\"}},\"type\":\"table\"}]},\"layout\":{\"annotationdefaults\":{\"arrowcolor\":\"#2a3f5f\",\"arrowhead\":0,\"arrowwidth\":1},\"autotypenumbers\":\"strict\",\"coloraxis\":{\"colorbar\":{\"outlinewidth\":0,\"ticks\":\"\"}},\"colorscale\":{\"diverging\":[[0,\"#8e0152\"],[0.1,\"#c51b7d\"],[0.2,\"#de77ae\"],[0.3,\"#f1b6da\"],[0.4,\"#fde0ef\"],[0.5,\"#f7f7f7\"],[0.6,\"#e6f5d0\"],[0.7,\"#b8e186\"],[0.8,\"#7fbc41\"],[0.9,\"#4d9221\"],[1,\"#276419\"]],\"sequential\":[[0.0,\"#0d0887\"],[0.1111111111111111,\"#46039f\"],[0.2222222222222222,\"#7201a8\"],[0.3333333333333333,\"#9c179e\"],[0.4444444444444444,\"#bd3786\"],[0.5555555555555556,\"#d8576b\"],[0.6666666666666666,\"#ed7953\"],[0.7777777777777778,\"#fb9f3a\"],[0.8888888888888888,\"#fdca26\"],[1.0,\"#f0f921\"]],\"sequentialminus\":[[0.0,\"#0d0887\"],[0.1111111111111111,\"#46039f\"],[0.2222222222222222,\"#7201a8\"],[0.3333333333333333,\"#9c179e\"],[0.4444444444444444,\"#bd3786\"],[0.5555555555555556,\"#d8576b\"],[0.6666666666666666,\"#ed7953\"],[0.7777777777777778,\"#fb9f3a\"],[0.8888888888888888,\"#fdca26\"],[1.0,\"#f0f921\"]]},\"colorway\":[\"#636efa\",\"#EF553B\",\"#00cc96\",\"#ab63fa\",\"#FFA15A\",\"#19d3f3\",\"#FF6692\",\"#B6E880\",\"#FF97FF\",\"#FECB52\"],\"font\":{\"color\":\"#2a3f5f\"},\"geo\":{\"bgcolor\":\"white\",\"lakecolor\":\"white\",\"landcolor\":\"#E5ECF6\",\"showlakes\":true,\"showland\":true,\"subunitcolor\":\"white\"},\"hoverlabel\":{\"align\":\"left\"},\"hovermode\":\"closest\",\"mapbox\":{\"style\":\"light\"},\"paper_bgcolor\":\"white\",\"plot_bgcolor\":\"#E5ECF6\",\"polar\":{\"angularaxis\":{\"gridcolor\":\"white\",\"linecolor\":\"white\",\"ticks\":\"\"},\"bgcolor\":\"#E5ECF6\",\"radialaxis\":{\"gridcolor\":\"white\",\"linecolor\":\"white\",\"ticks\":\"\"}},\"scene\":{\"xaxis\":{\"backgroundcolor\":\"#E5ECF6\",\"gridcolor\":\"white\",\"gridwidth\":2,\"linecolor\":\"white\",\"showbackground\":true,\"ticks\":\"\",\"zerolinecolor\":\"white\"},\"yaxis\":{\"backgroundcolor\":\"#E5ECF6\",\"gridcolor\":\"white\",\"gridwidth\":2,\"linecolor\":\"white\",\"showbackground\":true,\"ticks\":\"\",\"zerolinecolor\":\"white\"},\"zaxis\":{\"backgroundcolor\":\"#E5ECF6\",\"gridcolor\":\"white\",\"gridwidth\":2,\"linecolor\":\"white\",\"showbackground\":true,\"ticks\":\"\",\"zerolinecolor\":\"white\"}},\"shapedefaults\":{\"line\":{\"color\":\"#2a3f5f\"}},\"ternary\":{\"aaxis\":{\"gridcolor\":\"white\",\"linecolor\":\"white\",\"ticks\":\"\"},\"baxis\":{\"gridcolor\":\"white\",\"linecolor\":\"white\",\"ticks\":\"\"},\"bgcolor\":\"#E5ECF6\",\"caxis\":{\"gridcolor\":\"white\",\"linecolor\":\"white\",\"ticks\":\"\"}},\"title\":{\"x\":0.05},\"xaxis\":{\"automargin\":true,\"gridcolor\":\"white\",\"linecolor\":\"white\",\"ticks\":\"\",\"title\":{\"standoff\":15},\"zerolinecolor\":\"white\",\"zerolinewidth\":2},\"yaxis\":{\"automargin\":true,\"gridcolor\":\"white\",\"linecolor\":\"white\",\"ticks\":\"\",\"title\":{\"standoff\":15},\"zerolinecolor\":\"white\",\"zerolinewidth\":2}}},\"title\":{\"text\":\"Real vs. Synthetic Data for column 'pre_pco2'\"},\"xaxis\":{\"anchor\":\"y2\",\"domain\":[0.0,1.0],\"title\":{\"text\":\"Value\"},\"zeroline\":false},\"yaxis\":{\"anchor\":\"free\",\"domain\":[0.0,1],\"position\":0.0,\"title\":{\"text\":\"Frequency\"}}},                        {\"responsive\": true}                    ).then(function(){\n",
       "                            \n",
       "var gd = document.getElementById('752edfc3-8544-49ef-9a1c-ffec5acced63');\n",
       "var x = new MutationObserver(function (mutations, observer) {{\n",
       "        var display = window.getComputedStyle(gd).display;\n",
       "        if (!display || display === 'none') {{\n",
       "            console.log([gd, 'removed!']);\n",
       "            Plotly.purge(gd);\n",
       "            observer.disconnect();\n",
       "        }}\n",
       "}});\n",
       "\n",
       "// Listen for the removal of the full notebook cells\n",
       "var notebookContainer = gd.closest('#notebook-container');\n",
       "if (notebookContainer) {{\n",
       "    x.observe(notebookContainer, {childList: true});\n",
       "}}\n",
       "\n",
       "// Listen for the clearing of the current output cell\n",
       "var outputEl = gd.closest('.output');\n",
       "if (outputEl) {{\n",
       "    x.observe(outputEl, {childList: true});\n",
       "}}\n",
       "\n",
       "                        })                };            </script>        </div>"
      ]
     },
     "metadata": {},
     "output_type": "display_data"
    }
   ],
   "source": [
    "from sdv.evaluation.single_table import get_column_plot\n",
    "import plotly.offline as py\n",
    "\n",
    "fig = get_column_plot(\n",
    "    real_data=original_df,\n",
    "    synthetic_data=synthetic_df,\n",
    "    column_name= 'pre_pco2',\n",
    "    metadata=metadata\n",
    ")\n",
    "\n",
    "\n",
    "py.init_notebook_mode(connected=True)\n",
    "py.iplot(fig)\n"
   ]
  },
  {
   "cell_type": "code",
   "execution_count": null,
   "metadata": {},
   "outputs": [],
   "source": [
    "import plotly.io as pio\n",
    "from sdv.evaluation.single_table import get_column_plot\n",
    "\n",
    "# Set renderer explicitly\n",
    "pio.renderers.default = 'browser'\n",
    "  # or try 'iframe', 'iframe_connected', 'browser', etc.\n",
    "\n",
    "for column in original_df.columns:\n",
    "    try:\n",
    "        fig = get_column_plot(\n",
    "            real_data=original_df,\n",
    "            synthetic_data=synthetic_df,\n",
    "            column_name=column,\n",
    "            metadata=metadata\n",
    "        )\n",
    "        print(f\"Plotting column: {column}\")\n",
    "        pio.show(fig)\n",
    "    except Exception as e:\n",
    "        print(f\"Could not plot column: {column} — Error: {e}\")\n"
   ]
  },
  {
   "cell_type": "code",
   "execution_count": 14,
   "metadata": {},
   "outputs": [],
   "source": [
    "import plotly.graph_objects as go\n",
    "import plotly.io as pio\n",
    "\n",
    "# Force browser rendering\n",
    "pio.renderers.default = 'browser'\n",
    "\n",
    "fig = go.Figure()\n",
    "fig.add_scatter(y=[2, 1, 3, 4])\n",
    "fig.show()\n"
   ]
  },
  {
   "cell_type": "markdown",
   "metadata": {},
   "source": [
    "TEST 2"
   ]
  },
  {
   "cell_type": "code",
   "execution_count": 15,
   "metadata": {},
   "outputs": [
    {
     "data": {
      "text/html": [
       "        <script type=\"text/javascript\">\n",
       "        window.PlotlyConfig = {MathJaxConfig: 'local'};\n",
       "        if (window.MathJax && window.MathJax.Hub && window.MathJax.Hub.Config) {window.MathJax.Hub.Config({SVG: {font: \"STIX-Web\"}});}\n",
       "        </script>\n",
       "        <script type=\"module\">import \"https://cdn.plot.ly/plotly-3.0.0.min\"</script>\n",
       "        "
      ]
     },
     "metadata": {},
     "output_type": "display_data"
    },
    {
     "name": "stdout",
     "output_type": "stream",
     "text": [
      "Plotting column: prescription_dose_val_rx\n"
     ]
    },
    {
     "data": {
      "text/html": [
       "<iframe\n",
       "    scrolling=\"no\"\n",
       "    width=\"100%\"\n",
       "    height=\"545px\"\n",
       "    src=\"iframe_figures/figure_15.html\"\n",
       "    frameborder=\"0\"\n",
       "    allowfullscreen\n",
       "></iframe>\n"
      ]
     },
     "metadata": {},
     "output_type": "display_data"
    },
    {
     "name": "stdout",
     "output_type": "stream",
     "text": [
      "Plotting column: prescription_dose_unit_rx\n"
     ]
    },
    {
     "data": {
      "text/html": [
       "<iframe\n",
       "    scrolling=\"no\"\n",
       "    width=\"100%\"\n",
       "    height=\"545px\"\n",
       "    src=\"iframe_figures/figure_15.html\"\n",
       "    frameborder=\"0\"\n",
       "    allowfullscreen\n",
       "></iframe>\n"
      ]
     },
     "metadata": {},
     "output_type": "display_data"
    },
    {
     "name": "stdout",
     "output_type": "stream",
     "text": [
      "Plotting column: pre_ph\n"
     ]
    },
    {
     "data": {
      "text/html": [
       "<iframe\n",
       "    scrolling=\"no\"\n",
       "    width=\"100%\"\n",
       "    height=\"545px\"\n",
       "    src=\"iframe_figures/figure_15.html\"\n",
       "    frameborder=\"0\"\n",
       "    allowfullscreen\n",
       "></iframe>\n"
      ]
     },
     "metadata": {},
     "output_type": "display_data"
    },
    {
     "name": "stdout",
     "output_type": "stream",
     "text": [
      "Plotting column: pre_pco2\n"
     ]
    },
    {
     "data": {
      "text/html": [
       "<iframe\n",
       "    scrolling=\"no\"\n",
       "    width=\"100%\"\n",
       "    height=\"545px\"\n",
       "    src=\"iframe_figures/figure_15.html\"\n",
       "    frameborder=\"0\"\n",
       "    allowfullscreen\n",
       "></iframe>\n"
      ]
     },
     "metadata": {},
     "output_type": "display_data"
    },
    {
     "name": "stdout",
     "output_type": "stream",
     "text": [
      "Plotting column: pre_po2\n"
     ]
    },
    {
     "data": {
      "text/html": [
       "<iframe\n",
       "    scrolling=\"no\"\n",
       "    width=\"100%\"\n",
       "    height=\"545px\"\n",
       "    src=\"iframe_figures/figure_15.html\"\n",
       "    frameborder=\"0\"\n",
       "    allowfullscreen\n",
       "></iframe>\n"
      ]
     },
     "metadata": {},
     "output_type": "display_data"
    },
    {
     "name": "stdout",
     "output_type": "stream",
     "text": [
      "Plotting column: pre_bicarbonate\n"
     ]
    },
    {
     "data": {
      "text/html": [
       "<iframe\n",
       "    scrolling=\"no\"\n",
       "    width=\"100%\"\n",
       "    height=\"545px\"\n",
       "    src=\"iframe_figures/figure_15.html\"\n",
       "    frameborder=\"0\"\n",
       "    allowfullscreen\n",
       "></iframe>\n"
      ]
     },
     "metadata": {},
     "output_type": "display_data"
    },
    {
     "name": "stdout",
     "output_type": "stream",
     "text": [
      "Plotting column: pre_baseexcess\n"
     ]
    },
    {
     "data": {
      "text/html": [
       "<iframe\n",
       "    scrolling=\"no\"\n",
       "    width=\"100%\"\n",
       "    height=\"545px\"\n",
       "    src=\"iframe_figures/figure_15.html\"\n",
       "    frameborder=\"0\"\n",
       "    allowfullscreen\n",
       "></iframe>\n"
      ]
     },
     "metadata": {},
     "output_type": "display_data"
    },
    {
     "name": "stdout",
     "output_type": "stream",
     "text": [
      "Plotting column: pre_totalco2\n"
     ]
    },
    {
     "data": {
      "text/html": [
       "<iframe\n",
       "    scrolling=\"no\"\n",
       "    width=\"100%\"\n",
       "    height=\"545px\"\n",
       "    src=\"iframe_figures/figure_15.html\"\n",
       "    frameborder=\"0\"\n",
       "    allowfullscreen\n",
       "></iframe>\n"
      ]
     },
     "metadata": {},
     "output_type": "display_data"
    },
    {
     "name": "stdout",
     "output_type": "stream",
     "text": [
      "Plotting column: pre_hematocrit\n"
     ]
    },
    {
     "data": {
      "text/html": [
       "<iframe\n",
       "    scrolling=\"no\"\n",
       "    width=\"100%\"\n",
       "    height=\"545px\"\n",
       "    src=\"iframe_figures/figure_15.html\"\n",
       "    frameborder=\"0\"\n",
       "    allowfullscreen\n",
       "></iframe>\n"
      ]
     },
     "metadata": {},
     "output_type": "display_data"
    },
    {
     "name": "stdout",
     "output_type": "stream",
     "text": [
      "Plotting column: pre_hemoglobin\n"
     ]
    },
    {
     "data": {
      "text/html": [
       "<iframe\n",
       "    scrolling=\"no\"\n",
       "    width=\"100%\"\n",
       "    height=\"545px\"\n",
       "    src=\"iframe_figures/figure_15.html\"\n",
       "    frameborder=\"0\"\n",
       "    allowfullscreen\n",
       "></iframe>\n"
      ]
     },
     "metadata": {},
     "output_type": "display_data"
    },
    {
     "name": "stdout",
     "output_type": "stream",
     "text": [
      "Plotting column: pre_sodium\n"
     ]
    },
    {
     "data": {
      "text/html": [
       "<iframe\n",
       "    scrolling=\"no\"\n",
       "    width=\"100%\"\n",
       "    height=\"545px\"\n",
       "    src=\"iframe_figures/figure_15.html\"\n",
       "    frameborder=\"0\"\n",
       "    allowfullscreen\n",
       "></iframe>\n"
      ]
     },
     "metadata": {},
     "output_type": "display_data"
    },
    {
     "name": "stdout",
     "output_type": "stream",
     "text": [
      "Plotting column: pre_potassium\n"
     ]
    },
    {
     "data": {
      "text/html": [
       "<iframe\n",
       "    scrolling=\"no\"\n",
       "    width=\"100%\"\n",
       "    height=\"545px\"\n",
       "    src=\"iframe_figures/figure_15.html\"\n",
       "    frameborder=\"0\"\n",
       "    allowfullscreen\n",
       "></iframe>\n"
      ]
     },
     "metadata": {},
     "output_type": "display_data"
    },
    {
     "name": "stdout",
     "output_type": "stream",
     "text": [
      "Plotting column: pre_chloride\n"
     ]
    },
    {
     "data": {
      "text/html": [
       "<iframe\n",
       "    scrolling=\"no\"\n",
       "    width=\"100%\"\n",
       "    height=\"545px\"\n",
       "    src=\"iframe_figures/figure_15.html\"\n",
       "    frameborder=\"0\"\n",
       "    allowfullscreen\n",
       "></iframe>\n"
      ]
     },
     "metadata": {},
     "output_type": "display_data"
    },
    {
     "name": "stdout",
     "output_type": "stream",
     "text": [
      "Plotting column: pre_glucose\n"
     ]
    },
    {
     "data": {
      "text/html": [
       "<iframe\n",
       "    scrolling=\"no\"\n",
       "    width=\"100%\"\n",
       "    height=\"545px\"\n",
       "    src=\"iframe_figures/figure_15.html\"\n",
       "    frameborder=\"0\"\n",
       "    allowfullscreen\n",
       "></iframe>\n"
      ]
     },
     "metadata": {},
     "output_type": "display_data"
    },
    {
     "name": "stdout",
     "output_type": "stream",
     "text": [
      "Plotting column: pre_lactate\n"
     ]
    },
    {
     "data": {
      "text/html": [
       "<iframe\n",
       "    scrolling=\"no\"\n",
       "    width=\"100%\"\n",
       "    height=\"545px\"\n",
       "    src=\"iframe_figures/figure_15.html\"\n",
       "    frameborder=\"0\"\n",
       "    allowfullscreen\n",
       "></iframe>\n"
      ]
     },
     "metadata": {},
     "output_type": "display_data"
    },
    {
     "name": "stdout",
     "output_type": "stream",
     "text": [
      "Plotting column: pre_so2\n"
     ]
    },
    {
     "data": {
      "text/html": [
       "<iframe\n",
       "    scrolling=\"no\"\n",
       "    width=\"100%\"\n",
       "    height=\"545px\"\n",
       "    src=\"iframe_figures/figure_15.html\"\n",
       "    frameborder=\"0\"\n",
       "    allowfullscreen\n",
       "></iframe>\n"
      ]
     },
     "metadata": {},
     "output_type": "display_data"
    },
    {
     "name": "stdout",
     "output_type": "stream",
     "text": [
      "Plotting column: pre_spo2\n"
     ]
    },
    {
     "data": {
      "text/html": [
       "<iframe\n",
       "    scrolling=\"no\"\n",
       "    width=\"100%\"\n",
       "    height=\"545px\"\n",
       "    src=\"iframe_figures/figure_15.html\"\n",
       "    frameborder=\"0\"\n",
       "    allowfullscreen\n",
       "></iframe>\n"
      ]
     },
     "metadata": {},
     "output_type": "display_data"
    },
    {
     "name": "stdout",
     "output_type": "stream",
     "text": [
      "Plotting column: pre_fio2_chartevents\n"
     ]
    },
    {
     "data": {
      "text/html": [
       "<iframe\n",
       "    scrolling=\"no\"\n",
       "    width=\"100%\"\n",
       "    height=\"545px\"\n",
       "    src=\"iframe_figures/figure_15.html\"\n",
       "    frameborder=\"0\"\n",
       "    allowfullscreen\n",
       "></iframe>\n"
      ]
     },
     "metadata": {},
     "output_type": "display_data"
    },
    {
     "name": "stdout",
     "output_type": "stream",
     "text": [
      "Plotting column: pre_aado2_calc\n"
     ]
    },
    {
     "data": {
      "text/html": [
       "<iframe\n",
       "    scrolling=\"no\"\n",
       "    width=\"100%\"\n",
       "    height=\"545px\"\n",
       "    src=\"iframe_figures/figure_15.html\"\n",
       "    frameborder=\"0\"\n",
       "    allowfullscreen\n",
       "></iframe>\n"
      ]
     },
     "metadata": {},
     "output_type": "display_data"
    },
    {
     "name": "stdout",
     "output_type": "stream",
     "text": [
      "Plotting column: pre_pao2fio2\n"
     ]
    },
    {
     "data": {
      "text/html": [
       "<iframe\n",
       "    scrolling=\"no\"\n",
       "    width=\"100%\"\n",
       "    height=\"545px\"\n",
       "    src=\"iframe_figures/figure_15.html\"\n",
       "    frameborder=\"0\"\n",
       "    allowfullscreen\n",
       "></iframe>\n"
      ]
     },
     "metadata": {},
     "output_type": "display_data"
    },
    {
     "name": "stdout",
     "output_type": "stream",
     "text": [
      "Plotting column: pre_temperature\n"
     ]
    },
    {
     "data": {
      "text/html": [
       "<iframe\n",
       "    scrolling=\"no\"\n",
       "    width=\"100%\"\n",
       "    height=\"545px\"\n",
       "    src=\"iframe_figures/figure_15.html\"\n",
       "    frameborder=\"0\"\n",
       "    allowfullscreen\n",
       "></iframe>\n"
      ]
     },
     "metadata": {},
     "output_type": "display_data"
    },
    {
     "name": "stdout",
     "output_type": "stream",
     "text": [
      "Plotting column: pre_fio2\n"
     ]
    },
    {
     "data": {
      "text/html": [
       "<iframe\n",
       "    scrolling=\"no\"\n",
       "    width=\"100%\"\n",
       "    height=\"545px\"\n",
       "    src=\"iframe_figures/figure_15.html\"\n",
       "    frameborder=\"0\"\n",
       "    allowfullscreen\n",
       "></iframe>\n"
      ]
     },
     "metadata": {},
     "output_type": "display_data"
    },
    {
     "name": "stdout",
     "output_type": "stream",
     "text": [
      "Plotting column: pre_aado2\n"
     ]
    },
    {
     "data": {
      "text/html": [
       "<iframe\n",
       "    scrolling=\"no\"\n",
       "    width=\"100%\"\n",
       "    height=\"545px\"\n",
       "    src=\"iframe_figures/figure_15.html\"\n",
       "    frameborder=\"0\"\n",
       "    allowfullscreen\n",
       "></iframe>\n"
      ]
     },
     "metadata": {},
     "output_type": "display_data"
    },
    {
     "name": "stdout",
     "output_type": "stream",
     "text": [
      "Plotting column: pre_carboxyhemoglobin\n"
     ]
    },
    {
     "data": {
      "text/html": [
       "<iframe\n",
       "    scrolling=\"no\"\n",
       "    width=\"100%\"\n",
       "    height=\"545px\"\n",
       "    src=\"iframe_figures/figure_15.html\"\n",
       "    frameborder=\"0\"\n",
       "    allowfullscreen\n",
       "></iframe>\n"
      ]
     },
     "metadata": {},
     "output_type": "display_data"
    },
    {
     "name": "stdout",
     "output_type": "stream",
     "text": [
      "Plotting column: pre_methemoglobin\n"
     ]
    },
    {
     "data": {
      "text/html": [
       "<iframe\n",
       "    scrolling=\"no\"\n",
       "    width=\"100%\"\n",
       "    height=\"545px\"\n",
       "    src=\"iframe_figures/figure_15.html\"\n",
       "    frameborder=\"0\"\n",
       "    allowfullscreen\n",
       "></iframe>\n"
      ]
     },
     "metadata": {},
     "output_type": "display_data"
    },
    {
     "name": "stdout",
     "output_type": "stream",
     "text": [
      "Plotting column: pre_calcium\n"
     ]
    },
    {
     "data": {
      "text/html": [
       "<iframe\n",
       "    scrolling=\"no\"\n",
       "    width=\"100%\"\n",
       "    height=\"545px\"\n",
       "    src=\"iframe_figures/figure_15.html\"\n",
       "    frameborder=\"0\"\n",
       "    allowfullscreen\n",
       "></iframe>\n"
      ]
     },
     "metadata": {},
     "output_type": "display_data"
    },
    {
     "name": "stdout",
     "output_type": "stream",
     "text": [
      "Plotting column: pre_intubated\n"
     ]
    },
    {
     "data": {
      "text/html": [
       "<iframe\n",
       "    scrolling=\"no\"\n",
       "    width=\"100%\"\n",
       "    height=\"545px\"\n",
       "    src=\"iframe_figures/figure_15.html\"\n",
       "    frameborder=\"0\"\n",
       "    allowfullscreen\n",
       "></iframe>\n"
      ]
     },
     "metadata": {},
     "output_type": "display_data"
    },
    {
     "name": "stdout",
     "output_type": "stream",
     "text": [
      "Plotting column: post_ph\n"
     ]
    },
    {
     "data": {
      "text/html": [
       "<iframe\n",
       "    scrolling=\"no\"\n",
       "    width=\"100%\"\n",
       "    height=\"545px\"\n",
       "    src=\"iframe_figures/figure_15.html\"\n",
       "    frameborder=\"0\"\n",
       "    allowfullscreen\n",
       "></iframe>\n"
      ]
     },
     "metadata": {},
     "output_type": "display_data"
    },
    {
     "name": "stdout",
     "output_type": "stream",
     "text": [
      "Plotting column: post_pco2\n"
     ]
    },
    {
     "data": {
      "text/html": [
       "<iframe\n",
       "    scrolling=\"no\"\n",
       "    width=\"100%\"\n",
       "    height=\"545px\"\n",
       "    src=\"iframe_figures/figure_15.html\"\n",
       "    frameborder=\"0\"\n",
       "    allowfullscreen\n",
       "></iframe>\n"
      ]
     },
     "metadata": {},
     "output_type": "display_data"
    },
    {
     "name": "stdout",
     "output_type": "stream",
     "text": [
      "Plotting column: post_po2\n"
     ]
    },
    {
     "data": {
      "text/html": [
       "<iframe\n",
       "    scrolling=\"no\"\n",
       "    width=\"100%\"\n",
       "    height=\"545px\"\n",
       "    src=\"iframe_figures/figure_15.html\"\n",
       "    frameborder=\"0\"\n",
       "    allowfullscreen\n",
       "></iframe>\n"
      ]
     },
     "metadata": {},
     "output_type": "display_data"
    },
    {
     "name": "stdout",
     "output_type": "stream",
     "text": [
      "Plotting column: post_bicarbonate\n"
     ]
    },
    {
     "data": {
      "text/html": [
       "<iframe\n",
       "    scrolling=\"no\"\n",
       "    width=\"100%\"\n",
       "    height=\"545px\"\n",
       "    src=\"iframe_figures/figure_15.html\"\n",
       "    frameborder=\"0\"\n",
       "    allowfullscreen\n",
       "></iframe>\n"
      ]
     },
     "metadata": {},
     "output_type": "display_data"
    },
    {
     "name": "stdout",
     "output_type": "stream",
     "text": [
      "Plotting column: post_baseexcess\n"
     ]
    },
    {
     "data": {
      "text/html": [
       "<iframe\n",
       "    scrolling=\"no\"\n",
       "    width=\"100%\"\n",
       "    height=\"545px\"\n",
       "    src=\"iframe_figures/figure_15.html\"\n",
       "    frameborder=\"0\"\n",
       "    allowfullscreen\n",
       "></iframe>\n"
      ]
     },
     "metadata": {},
     "output_type": "display_data"
    },
    {
     "name": "stdout",
     "output_type": "stream",
     "text": [
      "Plotting column: post_totalco2\n"
     ]
    },
    {
     "data": {
      "text/html": [
       "<iframe\n",
       "    scrolling=\"no\"\n",
       "    width=\"100%\"\n",
       "    height=\"545px\"\n",
       "    src=\"iframe_figures/figure_15.html\"\n",
       "    frameborder=\"0\"\n",
       "    allowfullscreen\n",
       "></iframe>\n"
      ]
     },
     "metadata": {},
     "output_type": "display_data"
    },
    {
     "name": "stdout",
     "output_type": "stream",
     "text": [
      "Plotting column: post_hematocrit\n"
     ]
    },
    {
     "data": {
      "text/html": [
       "<iframe\n",
       "    scrolling=\"no\"\n",
       "    width=\"100%\"\n",
       "    height=\"545px\"\n",
       "    src=\"iframe_figures/figure_15.html\"\n",
       "    frameborder=\"0\"\n",
       "    allowfullscreen\n",
       "></iframe>\n"
      ]
     },
     "metadata": {},
     "output_type": "display_data"
    },
    {
     "name": "stdout",
     "output_type": "stream",
     "text": [
      "Plotting column: post_hemoglobin\n"
     ]
    },
    {
     "data": {
      "text/html": [
       "<iframe\n",
       "    scrolling=\"no\"\n",
       "    width=\"100%\"\n",
       "    height=\"545px\"\n",
       "    src=\"iframe_figures/figure_15.html\"\n",
       "    frameborder=\"0\"\n",
       "    allowfullscreen\n",
       "></iframe>\n"
      ]
     },
     "metadata": {},
     "output_type": "display_data"
    },
    {
     "name": "stdout",
     "output_type": "stream",
     "text": [
      "Plotting column: post_sodium\n"
     ]
    },
    {
     "data": {
      "text/html": [
       "<iframe\n",
       "    scrolling=\"no\"\n",
       "    width=\"100%\"\n",
       "    height=\"545px\"\n",
       "    src=\"iframe_figures/figure_15.html\"\n",
       "    frameborder=\"0\"\n",
       "    allowfullscreen\n",
       "></iframe>\n"
      ]
     },
     "metadata": {},
     "output_type": "display_data"
    },
    {
     "name": "stdout",
     "output_type": "stream",
     "text": [
      "Plotting column: post_potassium\n"
     ]
    },
    {
     "data": {
      "text/html": [
       "<iframe\n",
       "    scrolling=\"no\"\n",
       "    width=\"100%\"\n",
       "    height=\"545px\"\n",
       "    src=\"iframe_figures/figure_15.html\"\n",
       "    frameborder=\"0\"\n",
       "    allowfullscreen\n",
       "></iframe>\n"
      ]
     },
     "metadata": {},
     "output_type": "display_data"
    },
    {
     "name": "stdout",
     "output_type": "stream",
     "text": [
      "Plotting column: post_chloride\n"
     ]
    },
    {
     "data": {
      "text/html": [
       "<iframe\n",
       "    scrolling=\"no\"\n",
       "    width=\"100%\"\n",
       "    height=\"545px\"\n",
       "    src=\"iframe_figures/figure_15.html\"\n",
       "    frameborder=\"0\"\n",
       "    allowfullscreen\n",
       "></iframe>\n"
      ]
     },
     "metadata": {},
     "output_type": "display_data"
    },
    {
     "name": "stdout",
     "output_type": "stream",
     "text": [
      "Plotting column: post_glucose\n"
     ]
    },
    {
     "data": {
      "text/html": [
       "<iframe\n",
       "    scrolling=\"no\"\n",
       "    width=\"100%\"\n",
       "    height=\"545px\"\n",
       "    src=\"iframe_figures/figure_15.html\"\n",
       "    frameborder=\"0\"\n",
       "    allowfullscreen\n",
       "></iframe>\n"
      ]
     },
     "metadata": {},
     "output_type": "display_data"
    },
    {
     "name": "stdout",
     "output_type": "stream",
     "text": [
      "Plotting column: post_lactate\n"
     ]
    },
    {
     "data": {
      "text/html": [
       "<iframe\n",
       "    scrolling=\"no\"\n",
       "    width=\"100%\"\n",
       "    height=\"545px\"\n",
       "    src=\"iframe_figures/figure_15.html\"\n",
       "    frameborder=\"0\"\n",
       "    allowfullscreen\n",
       "></iframe>\n"
      ]
     },
     "metadata": {},
     "output_type": "display_data"
    },
    {
     "name": "stdout",
     "output_type": "stream",
     "text": [
      "Plotting column: post_so2\n"
     ]
    },
    {
     "data": {
      "text/html": [
       "<iframe\n",
       "    scrolling=\"no\"\n",
       "    width=\"100%\"\n",
       "    height=\"545px\"\n",
       "    src=\"iframe_figures/figure_15.html\"\n",
       "    frameborder=\"0\"\n",
       "    allowfullscreen\n",
       "></iframe>\n"
      ]
     },
     "metadata": {},
     "output_type": "display_data"
    },
    {
     "name": "stdout",
     "output_type": "stream",
     "text": [
      "Plotting column: post_spo2\n"
     ]
    },
    {
     "data": {
      "text/html": [
       "<iframe\n",
       "    scrolling=\"no\"\n",
       "    width=\"100%\"\n",
       "    height=\"545px\"\n",
       "    src=\"iframe_figures/figure_15.html\"\n",
       "    frameborder=\"0\"\n",
       "    allowfullscreen\n",
       "></iframe>\n"
      ]
     },
     "metadata": {},
     "output_type": "display_data"
    },
    {
     "name": "stdout",
     "output_type": "stream",
     "text": [
      "Plotting column: post_fio2_chartevents\n"
     ]
    },
    {
     "data": {
      "text/html": [
       "<iframe\n",
       "    scrolling=\"no\"\n",
       "    width=\"100%\"\n",
       "    height=\"545px\"\n",
       "    src=\"iframe_figures/figure_15.html\"\n",
       "    frameborder=\"0\"\n",
       "    allowfullscreen\n",
       "></iframe>\n"
      ]
     },
     "metadata": {},
     "output_type": "display_data"
    },
    {
     "name": "stdout",
     "output_type": "stream",
     "text": [
      "Plotting column: post_aado2_calc\n"
     ]
    },
    {
     "data": {
      "text/html": [
       "<iframe\n",
       "    scrolling=\"no\"\n",
       "    width=\"100%\"\n",
       "    height=\"545px\"\n",
       "    src=\"iframe_figures/figure_15.html\"\n",
       "    frameborder=\"0\"\n",
       "    allowfullscreen\n",
       "></iframe>\n"
      ]
     },
     "metadata": {},
     "output_type": "display_data"
    },
    {
     "name": "stdout",
     "output_type": "stream",
     "text": [
      "Plotting column: post_pao2fio2\n"
     ]
    },
    {
     "data": {
      "text/html": [
       "<iframe\n",
       "    scrolling=\"no\"\n",
       "    width=\"100%\"\n",
       "    height=\"545px\"\n",
       "    src=\"iframe_figures/figure_15.html\"\n",
       "    frameborder=\"0\"\n",
       "    allowfullscreen\n",
       "></iframe>\n"
      ]
     },
     "metadata": {},
     "output_type": "display_data"
    },
    {
     "name": "stdout",
     "output_type": "stream",
     "text": [
      "Plotting column: post_temperature\n"
     ]
    },
    {
     "data": {
      "text/html": [
       "<iframe\n",
       "    scrolling=\"no\"\n",
       "    width=\"100%\"\n",
       "    height=\"545px\"\n",
       "    src=\"iframe_figures/figure_15.html\"\n",
       "    frameborder=\"0\"\n",
       "    allowfullscreen\n",
       "></iframe>\n"
      ]
     },
     "metadata": {},
     "output_type": "display_data"
    },
    {
     "name": "stdout",
     "output_type": "stream",
     "text": [
      "Plotting column: post_fio2\n"
     ]
    },
    {
     "data": {
      "text/html": [
       "<iframe\n",
       "    scrolling=\"no\"\n",
       "    width=\"100%\"\n",
       "    height=\"545px\"\n",
       "    src=\"iframe_figures/figure_15.html\"\n",
       "    frameborder=\"0\"\n",
       "    allowfullscreen\n",
       "></iframe>\n"
      ]
     },
     "metadata": {},
     "output_type": "display_data"
    },
    {
     "name": "stdout",
     "output_type": "stream",
     "text": [
      "Plotting column: post_aado2\n"
     ]
    },
    {
     "data": {
      "text/html": [
       "<iframe\n",
       "    scrolling=\"no\"\n",
       "    width=\"100%\"\n",
       "    height=\"545px\"\n",
       "    src=\"iframe_figures/figure_15.html\"\n",
       "    frameborder=\"0\"\n",
       "    allowfullscreen\n",
       "></iframe>\n"
      ]
     },
     "metadata": {},
     "output_type": "display_data"
    },
    {
     "name": "stdout",
     "output_type": "stream",
     "text": [
      "Plotting column: post_carboxyhemoglobin\n"
     ]
    },
    {
     "data": {
      "text/html": [
       "<iframe\n",
       "    scrolling=\"no\"\n",
       "    width=\"100%\"\n",
       "    height=\"545px\"\n",
       "    src=\"iframe_figures/figure_15.html\"\n",
       "    frameborder=\"0\"\n",
       "    allowfullscreen\n",
       "></iframe>\n"
      ]
     },
     "metadata": {},
     "output_type": "display_data"
    },
    {
     "name": "stdout",
     "output_type": "stream",
     "text": [
      "Plotting column: post_methemoglobin\n"
     ]
    },
    {
     "data": {
      "text/html": [
       "<iframe\n",
       "    scrolling=\"no\"\n",
       "    width=\"100%\"\n",
       "    height=\"545px\"\n",
       "    src=\"iframe_figures/figure_15.html\"\n",
       "    frameborder=\"0\"\n",
       "    allowfullscreen\n",
       "></iframe>\n"
      ]
     },
     "metadata": {},
     "output_type": "display_data"
    },
    {
     "name": "stdout",
     "output_type": "stream",
     "text": [
      "Plotting column: post_calcium\n"
     ]
    },
    {
     "data": {
      "text/html": [
       "<iframe\n",
       "    scrolling=\"no\"\n",
       "    width=\"100%\"\n",
       "    height=\"545px\"\n",
       "    src=\"iframe_figures/figure_15.html\"\n",
       "    frameborder=\"0\"\n",
       "    allowfullscreen\n",
       "></iframe>\n"
      ]
     },
     "metadata": {},
     "output_type": "display_data"
    },
    {
     "name": "stdout",
     "output_type": "stream",
     "text": [
      "Plotting column: post_intubated\n"
     ]
    },
    {
     "data": {
      "text/html": [
       "<iframe\n",
       "    scrolling=\"no\"\n",
       "    width=\"100%\"\n",
       "    height=\"545px\"\n",
       "    src=\"iframe_figures/figure_15.html\"\n",
       "    frameborder=\"0\"\n",
       "    allowfullscreen\n",
       "></iframe>\n"
      ]
     },
     "metadata": {},
     "output_type": "display_data"
    },
    {
     "name": "stdout",
     "output_type": "stream",
     "text": [
      "Plotting column: P0\n"
     ]
    },
    {
     "data": {
      "text/html": [
       "<iframe\n",
       "    scrolling=\"no\"\n",
       "    width=\"100%\"\n",
       "    height=\"545px\"\n",
       "    src=\"iframe_figures/figure_15.html\"\n",
       "    frameborder=\"0\"\n",
       "    allowfullscreen\n",
       "></iframe>\n"
      ]
     },
     "metadata": {},
     "output_type": "display_data"
    },
    {
     "name": "stdout",
     "output_type": "stream",
     "text": [
      "Plotting column: P1\n"
     ]
    },
    {
     "data": {
      "text/html": [
       "<iframe\n",
       "    scrolling=\"no\"\n",
       "    width=\"100%\"\n",
       "    height=\"545px\"\n",
       "    src=\"iframe_figures/figure_15.html\"\n",
       "    frameborder=\"0\"\n",
       "    allowfullscreen\n",
       "></iframe>\n"
      ]
     },
     "metadata": {},
     "output_type": "display_data"
    },
    {
     "name": "stdout",
     "output_type": "stream",
     "text": [
      "Plotting column: P2\n"
     ]
    },
    {
     "data": {
      "text/html": [
       "<iframe\n",
       "    scrolling=\"no\"\n",
       "    width=\"100%\"\n",
       "    height=\"545px\"\n",
       "    src=\"iframe_figures/figure_15.html\"\n",
       "    frameborder=\"0\"\n",
       "    allowfullscreen\n",
       "></iframe>\n"
      ]
     },
     "metadata": {},
     "output_type": "display_data"
    },
    {
     "name": "stdout",
     "output_type": "stream",
     "text": [
      "Plotting column: P3\n"
     ]
    },
    {
     "data": {
      "text/html": [
       "<iframe\n",
       "    scrolling=\"no\"\n",
       "    width=\"100%\"\n",
       "    height=\"545px\"\n",
       "    src=\"iframe_figures/figure_15.html\"\n",
       "    frameborder=\"0\"\n",
       "    allowfullscreen\n",
       "></iframe>\n"
      ]
     },
     "metadata": {},
     "output_type": "display_data"
    },
    {
     "name": "stdout",
     "output_type": "stream",
     "text": [
      "Plotting column: P4\n"
     ]
    },
    {
     "data": {
      "text/html": [
       "<iframe\n",
       "    scrolling=\"no\"\n",
       "    width=\"100%\"\n",
       "    height=\"545px\"\n",
       "    src=\"iframe_figures/figure_15.html\"\n",
       "    frameborder=\"0\"\n",
       "    allowfullscreen\n",
       "></iframe>\n"
      ]
     },
     "metadata": {},
     "output_type": "display_data"
    },
    {
     "name": "stdout",
     "output_type": "stream",
     "text": [
      "Plotting column: P5\n"
     ]
    },
    {
     "data": {
      "text/html": [
       "<iframe\n",
       "    scrolling=\"no\"\n",
       "    width=\"100%\"\n",
       "    height=\"545px\"\n",
       "    src=\"iframe_figures/figure_15.html\"\n",
       "    frameborder=\"0\"\n",
       "    allowfullscreen\n",
       "></iframe>\n"
      ]
     },
     "metadata": {},
     "output_type": "display_data"
    },
    {
     "name": "stdout",
     "output_type": "stream",
     "text": [
      "Plotting column: P6\n"
     ]
    },
    {
     "data": {
      "text/html": [
       "<iframe\n",
       "    scrolling=\"no\"\n",
       "    width=\"100%\"\n",
       "    height=\"545px\"\n",
       "    src=\"iframe_figures/figure_15.html\"\n",
       "    frameborder=\"0\"\n",
       "    allowfullscreen\n",
       "></iframe>\n"
      ]
     },
     "metadata": {},
     "output_type": "display_data"
    },
    {
     "name": "stdout",
     "output_type": "stream",
     "text": [
      "Plotting column: P7\n"
     ]
    },
    {
     "data": {
      "text/html": [
       "<iframe\n",
       "    scrolling=\"no\"\n",
       "    width=\"100%\"\n",
       "    height=\"545px\"\n",
       "    src=\"iframe_figures/figure_15.html\"\n",
       "    frameborder=\"0\"\n",
       "    allowfullscreen\n",
       "></iframe>\n"
      ]
     },
     "metadata": {},
     "output_type": "display_data"
    },
    {
     "name": "stdout",
     "output_type": "stream",
     "text": [
      "Plotting column: P8\n"
     ]
    },
    {
     "data": {
      "text/html": [
       "<iframe\n",
       "    scrolling=\"no\"\n",
       "    width=\"100%\"\n",
       "    height=\"545px\"\n",
       "    src=\"iframe_figures/figure_15.html\"\n",
       "    frameborder=\"0\"\n",
       "    allowfullscreen\n",
       "></iframe>\n"
      ]
     },
     "metadata": {},
     "output_type": "display_data"
    },
    {
     "name": "stdout",
     "output_type": "stream",
     "text": [
      "Plotting column: P9\n"
     ]
    },
    {
     "data": {
      "text/html": [
       "<iframe\n",
       "    scrolling=\"no\"\n",
       "    width=\"100%\"\n",
       "    height=\"545px\"\n",
       "    src=\"iframe_figures/figure_15.html\"\n",
       "    frameborder=\"0\"\n",
       "    allowfullscreen\n",
       "></iframe>\n"
      ]
     },
     "metadata": {},
     "output_type": "display_data"
    },
    {
     "name": "stdout",
     "output_type": "stream",
     "text": [
      "Plotting column: P10\n"
     ]
    },
    {
     "data": {
      "text/html": [
       "<iframe\n",
       "    scrolling=\"no\"\n",
       "    width=\"100%\"\n",
       "    height=\"545px\"\n",
       "    src=\"iframe_figures/figure_15.html\"\n",
       "    frameborder=\"0\"\n",
       "    allowfullscreen\n",
       "></iframe>\n"
      ]
     },
     "metadata": {},
     "output_type": "display_data"
    },
    {
     "name": "stdout",
     "output_type": "stream",
     "text": [
      "Plotting column: P11\n"
     ]
    },
    {
     "data": {
      "text/html": [
       "<iframe\n",
       "    scrolling=\"no\"\n",
       "    width=\"100%\"\n",
       "    height=\"545px\"\n",
       "    src=\"iframe_figures/figure_15.html\"\n",
       "    frameborder=\"0\"\n",
       "    allowfullscreen\n",
       "></iframe>\n"
      ]
     },
     "metadata": {},
     "output_type": "display_data"
    },
    {
     "name": "stdout",
     "output_type": "stream",
     "text": [
      "Plotting column: P12\n"
     ]
    },
    {
     "data": {
      "text/html": [
       "<iframe\n",
       "    scrolling=\"no\"\n",
       "    width=\"100%\"\n",
       "    height=\"545px\"\n",
       "    src=\"iframe_figures/figure_15.html\"\n",
       "    frameborder=\"0\"\n",
       "    allowfullscreen\n",
       "></iframe>\n"
      ]
     },
     "metadata": {},
     "output_type": "display_data"
    },
    {
     "name": "stdout",
     "output_type": "stream",
     "text": [
      "Plotting column: P13\n"
     ]
    },
    {
     "data": {
      "text/html": [
       "<iframe\n",
       "    scrolling=\"no\"\n",
       "    width=\"100%\"\n",
       "    height=\"545px\"\n",
       "    src=\"iframe_figures/figure_15.html\"\n",
       "    frameborder=\"0\"\n",
       "    allowfullscreen\n",
       "></iframe>\n"
      ]
     },
     "metadata": {},
     "output_type": "display_data"
    },
    {
     "name": "stdout",
     "output_type": "stream",
     "text": [
      "Plotting column: P14\n"
     ]
    },
    {
     "data": {
      "text/html": [
       "<iframe\n",
       "    scrolling=\"no\"\n",
       "    width=\"100%\"\n",
       "    height=\"545px\"\n",
       "    src=\"iframe_figures/figure_15.html\"\n",
       "    frameborder=\"0\"\n",
       "    allowfullscreen\n",
       "></iframe>\n"
      ]
     },
     "metadata": {},
     "output_type": "display_data"
    },
    {
     "name": "stdout",
     "output_type": "stream",
     "text": [
      "Plotting column: P15\n"
     ]
    },
    {
     "data": {
      "text/html": [
       "<iframe\n",
       "    scrolling=\"no\"\n",
       "    width=\"100%\"\n",
       "    height=\"545px\"\n",
       "    src=\"iframe_figures/figure_15.html\"\n",
       "    frameborder=\"0\"\n",
       "    allowfullscreen\n",
       "></iframe>\n"
      ]
     },
     "metadata": {},
     "output_type": "display_data"
    },
    {
     "name": "stdout",
     "output_type": "stream",
     "text": [
      "Plotting column: P16\n"
     ]
    },
    {
     "data": {
      "text/html": [
       "<iframe\n",
       "    scrolling=\"no\"\n",
       "    width=\"100%\"\n",
       "    height=\"545px\"\n",
       "    src=\"iframe_figures/figure_15.html\"\n",
       "    frameborder=\"0\"\n",
       "    allowfullscreen\n",
       "></iframe>\n"
      ]
     },
     "metadata": {},
     "output_type": "display_data"
    },
    {
     "name": "stdout",
     "output_type": "stream",
     "text": [
      "Plotting column: P17\n"
     ]
    },
    {
     "data": {
      "text/html": [
       "<iframe\n",
       "    scrolling=\"no\"\n",
       "    width=\"100%\"\n",
       "    height=\"545px\"\n",
       "    src=\"iframe_figures/figure_15.html\"\n",
       "    frameborder=\"0\"\n",
       "    allowfullscreen\n",
       "></iframe>\n"
      ]
     },
     "metadata": {},
     "output_type": "display_data"
    },
    {
     "name": "stdout",
     "output_type": "stream",
     "text": [
      "Plotting column: P18\n"
     ]
    },
    {
     "data": {
      "text/html": [
       "<iframe\n",
       "    scrolling=\"no\"\n",
       "    width=\"100%\"\n",
       "    height=\"545px\"\n",
       "    src=\"iframe_figures/figure_15.html\"\n",
       "    frameborder=\"0\"\n",
       "    allowfullscreen\n",
       "></iframe>\n"
      ]
     },
     "metadata": {},
     "output_type": "display_data"
    },
    {
     "name": "stdout",
     "output_type": "stream",
     "text": [
      "Plotting column: P19\n"
     ]
    },
    {
     "data": {
      "text/html": [
       "<iframe\n",
       "    scrolling=\"no\"\n",
       "    width=\"100%\"\n",
       "    height=\"545px\"\n",
       "    src=\"iframe_figures/figure_15.html\"\n",
       "    frameborder=\"0\"\n",
       "    allowfullscreen\n",
       "></iframe>\n"
      ]
     },
     "metadata": {},
     "output_type": "display_data"
    },
    {
     "name": "stdout",
     "output_type": "stream",
     "text": [
      "Plotting column: P20\n"
     ]
    },
    {
     "data": {
      "text/html": [
       "<iframe\n",
       "    scrolling=\"no\"\n",
       "    width=\"100%\"\n",
       "    height=\"545px\"\n",
       "    src=\"iframe_figures/figure_15.html\"\n",
       "    frameborder=\"0\"\n",
       "    allowfullscreen\n",
       "></iframe>\n"
      ]
     },
     "metadata": {},
     "output_type": "display_data"
    },
    {
     "name": "stdout",
     "output_type": "stream",
     "text": [
      "Plotting column: P21\n"
     ]
    },
    {
     "data": {
      "text/html": [
       "<iframe\n",
       "    scrolling=\"no\"\n",
       "    width=\"100%\"\n",
       "    height=\"545px\"\n",
       "    src=\"iframe_figures/figure_15.html\"\n",
       "    frameborder=\"0\"\n",
       "    allowfullscreen\n",
       "></iframe>\n"
      ]
     },
     "metadata": {},
     "output_type": "display_data"
    },
    {
     "name": "stdout",
     "output_type": "stream",
     "text": [
      "Plotting column: P22\n"
     ]
    },
    {
     "data": {
      "text/html": [
       "<iframe\n",
       "    scrolling=\"no\"\n",
       "    width=\"100%\"\n",
       "    height=\"545px\"\n",
       "    src=\"iframe_figures/figure_15.html\"\n",
       "    frameborder=\"0\"\n",
       "    allowfullscreen\n",
       "></iframe>\n"
      ]
     },
     "metadata": {},
     "output_type": "display_data"
    },
    {
     "name": "stdout",
     "output_type": "stream",
     "text": [
      "Plotting column: P23\n"
     ]
    },
    {
     "data": {
      "text/html": [
       "<iframe\n",
       "    scrolling=\"no\"\n",
       "    width=\"100%\"\n",
       "    height=\"545px\"\n",
       "    src=\"iframe_figures/figure_15.html\"\n",
       "    frameborder=\"0\"\n",
       "    allowfullscreen\n",
       "></iframe>\n"
      ]
     },
     "metadata": {},
     "output_type": "display_data"
    },
    {
     "name": "stdout",
     "output_type": "stream",
     "text": [
      "Plotting column: P24\n"
     ]
    },
    {
     "data": {
      "text/html": [
       "<iframe\n",
       "    scrolling=\"no\"\n",
       "    width=\"100%\"\n",
       "    height=\"545px\"\n",
       "    src=\"iframe_figures/figure_15.html\"\n",
       "    frameborder=\"0\"\n",
       "    allowfullscreen\n",
       "></iframe>\n"
      ]
     },
     "metadata": {},
     "output_type": "display_data"
    },
    {
     "name": "stdout",
     "output_type": "stream",
     "text": [
      "Plotting column: P25\n"
     ]
    },
    {
     "data": {
      "text/html": [
       "<iframe\n",
       "    scrolling=\"no\"\n",
       "    width=\"100%\"\n",
       "    height=\"545px\"\n",
       "    src=\"iframe_figures/figure_15.html\"\n",
       "    frameborder=\"0\"\n",
       "    allowfullscreen\n",
       "></iframe>\n"
      ]
     },
     "metadata": {},
     "output_type": "display_data"
    },
    {
     "name": "stdout",
     "output_type": "stream",
     "text": [
      "Plotting column: P26\n"
     ]
    },
    {
     "data": {
      "text/html": [
       "<iframe\n",
       "    scrolling=\"no\"\n",
       "    width=\"100%\"\n",
       "    height=\"545px\"\n",
       "    src=\"iframe_figures/figure_15.html\"\n",
       "    frameborder=\"0\"\n",
       "    allowfullscreen\n",
       "></iframe>\n"
      ]
     },
     "metadata": {},
     "output_type": "display_data"
    },
    {
     "name": "stdout",
     "output_type": "stream",
     "text": [
      "Plotting column: P27\n"
     ]
    },
    {
     "data": {
      "text/html": [
       "<iframe\n",
       "    scrolling=\"no\"\n",
       "    width=\"100%\"\n",
       "    height=\"545px\"\n",
       "    src=\"iframe_figures/figure_15.html\"\n",
       "    frameborder=\"0\"\n",
       "    allowfullscreen\n",
       "></iframe>\n"
      ]
     },
     "metadata": {},
     "output_type": "display_data"
    },
    {
     "name": "stdout",
     "output_type": "stream",
     "text": [
      "Plotting column: P28\n"
     ]
    },
    {
     "data": {
      "text/html": [
       "<iframe\n",
       "    scrolling=\"no\"\n",
       "    width=\"100%\"\n",
       "    height=\"545px\"\n",
       "    src=\"iframe_figures/figure_15.html\"\n",
       "    frameborder=\"0\"\n",
       "    allowfullscreen\n",
       "></iframe>\n"
      ]
     },
     "metadata": {},
     "output_type": "display_data"
    },
    {
     "name": "stdout",
     "output_type": "stream",
     "text": [
      "Plotting column: P29\n"
     ]
    },
    {
     "data": {
      "text/html": [
       "<iframe\n",
       "    scrolling=\"no\"\n",
       "    width=\"100%\"\n",
       "    height=\"545px\"\n",
       "    src=\"iframe_figures/figure_15.html\"\n",
       "    frameborder=\"0\"\n",
       "    allowfullscreen\n",
       "></iframe>\n"
      ]
     },
     "metadata": {},
     "output_type": "display_data"
    },
    {
     "name": "stdout",
     "output_type": "stream",
     "text": [
      "Plotting column: P30\n"
     ]
    },
    {
     "data": {
      "text/html": [
       "<iframe\n",
       "    scrolling=\"no\"\n",
       "    width=\"100%\"\n",
       "    height=\"545px\"\n",
       "    src=\"iframe_figures/figure_15.html\"\n",
       "    frameborder=\"0\"\n",
       "    allowfullscreen\n",
       "></iframe>\n"
      ]
     },
     "metadata": {},
     "output_type": "display_data"
    },
    {
     "name": "stdout",
     "output_type": "stream",
     "text": [
      "Plotting column: P31\n"
     ]
    },
    {
     "data": {
      "text/html": [
       "<iframe\n",
       "    scrolling=\"no\"\n",
       "    width=\"100%\"\n",
       "    height=\"545px\"\n",
       "    src=\"iframe_figures/figure_15.html\"\n",
       "    frameborder=\"0\"\n",
       "    allowfullscreen\n",
       "></iframe>\n"
      ]
     },
     "metadata": {},
     "output_type": "display_data"
    },
    {
     "name": "stdout",
     "output_type": "stream",
     "text": [
      "Plotting column: P32\n"
     ]
    },
    {
     "data": {
      "text/html": [
       "<iframe\n",
       "    scrolling=\"no\"\n",
       "    width=\"100%\"\n",
       "    height=\"545px\"\n",
       "    src=\"iframe_figures/figure_15.html\"\n",
       "    frameborder=\"0\"\n",
       "    allowfullscreen\n",
       "></iframe>\n"
      ]
     },
     "metadata": {},
     "output_type": "display_data"
    },
    {
     "name": "stdout",
     "output_type": "stream",
     "text": [
      "Plotting column: P33\n"
     ]
    },
    {
     "data": {
      "text/html": [
       "<iframe\n",
       "    scrolling=\"no\"\n",
       "    width=\"100%\"\n",
       "    height=\"545px\"\n",
       "    src=\"iframe_figures/figure_15.html\"\n",
       "    frameborder=\"0\"\n",
       "    allowfullscreen\n",
       "></iframe>\n"
      ]
     },
     "metadata": {},
     "output_type": "display_data"
    },
    {
     "name": "stdout",
     "output_type": "stream",
     "text": [
      "Plotting column: P34\n"
     ]
    },
    {
     "data": {
      "text/html": [
       "<iframe\n",
       "    scrolling=\"no\"\n",
       "    width=\"100%\"\n",
       "    height=\"545px\"\n",
       "    src=\"iframe_figures/figure_15.html\"\n",
       "    frameborder=\"0\"\n",
       "    allowfullscreen\n",
       "></iframe>\n"
      ]
     },
     "metadata": {},
     "output_type": "display_data"
    },
    {
     "name": "stdout",
     "output_type": "stream",
     "text": [
      "Plotting column: P35\n"
     ]
    },
    {
     "data": {
      "text/html": [
       "<iframe\n",
       "    scrolling=\"no\"\n",
       "    width=\"100%\"\n",
       "    height=\"545px\"\n",
       "    src=\"iframe_figures/figure_15.html\"\n",
       "    frameborder=\"0\"\n",
       "    allowfullscreen\n",
       "></iframe>\n"
      ]
     },
     "metadata": {},
     "output_type": "display_data"
    },
    {
     "name": "stdout",
     "output_type": "stream",
     "text": [
      "Plotting column: P36\n"
     ]
    },
    {
     "data": {
      "text/html": [
       "<iframe\n",
       "    scrolling=\"no\"\n",
       "    width=\"100%\"\n",
       "    height=\"545px\"\n",
       "    src=\"iframe_figures/figure_15.html\"\n",
       "    frameborder=\"0\"\n",
       "    allowfullscreen\n",
       "></iframe>\n"
      ]
     },
     "metadata": {},
     "output_type": "display_data"
    },
    {
     "name": "stdout",
     "output_type": "stream",
     "text": [
      "Plotting column: P37\n"
     ]
    },
    {
     "data": {
      "text/html": [
       "<iframe\n",
       "    scrolling=\"no\"\n",
       "    width=\"100%\"\n",
       "    height=\"545px\"\n",
       "    src=\"iframe_figures/figure_15.html\"\n",
       "    frameborder=\"0\"\n",
       "    allowfullscreen\n",
       "></iframe>\n"
      ]
     },
     "metadata": {},
     "output_type": "display_data"
    },
    {
     "name": "stdout",
     "output_type": "stream",
     "text": [
      "Plotting column: P38\n"
     ]
    },
    {
     "data": {
      "text/html": [
       "<iframe\n",
       "    scrolling=\"no\"\n",
       "    width=\"100%\"\n",
       "    height=\"545px\"\n",
       "    src=\"iframe_figures/figure_15.html\"\n",
       "    frameborder=\"0\"\n",
       "    allowfullscreen\n",
       "></iframe>\n"
      ]
     },
     "metadata": {},
     "output_type": "display_data"
    },
    {
     "name": "stdout",
     "output_type": "stream",
     "text": [
      "Plotting column: P39\n"
     ]
    },
    {
     "data": {
      "text/html": [
       "<iframe\n",
       "    scrolling=\"no\"\n",
       "    width=\"100%\"\n",
       "    height=\"545px\"\n",
       "    src=\"iframe_figures/figure_15.html\"\n",
       "    frameborder=\"0\"\n",
       "    allowfullscreen\n",
       "></iframe>\n"
      ]
     },
     "metadata": {},
     "output_type": "display_data"
    },
    {
     "name": "stdout",
     "output_type": "stream",
     "text": [
      "Plotting column: P40\n"
     ]
    },
    {
     "data": {
      "text/html": [
       "<iframe\n",
       "    scrolling=\"no\"\n",
       "    width=\"100%\"\n",
       "    height=\"545px\"\n",
       "    src=\"iframe_figures/figure_15.html\"\n",
       "    frameborder=\"0\"\n",
       "    allowfullscreen\n",
       "></iframe>\n"
      ]
     },
     "metadata": {},
     "output_type": "display_data"
    },
    {
     "name": "stdout",
     "output_type": "stream",
     "text": [
      "Plotting column: P41\n"
     ]
    },
    {
     "data": {
      "text/html": [
       "<iframe\n",
       "    scrolling=\"no\"\n",
       "    width=\"100%\"\n",
       "    height=\"545px\"\n",
       "    src=\"iframe_figures/figure_15.html\"\n",
       "    frameborder=\"0\"\n",
       "    allowfullscreen\n",
       "></iframe>\n"
      ]
     },
     "metadata": {},
     "output_type": "display_data"
    },
    {
     "name": "stdout",
     "output_type": "stream",
     "text": [
      "Plotting column: P42\n"
     ]
    },
    {
     "data": {
      "text/html": [
       "<iframe\n",
       "    scrolling=\"no\"\n",
       "    width=\"100%\"\n",
       "    height=\"545px\"\n",
       "    src=\"iframe_figures/figure_15.html\"\n",
       "    frameborder=\"0\"\n",
       "    allowfullscreen\n",
       "></iframe>\n"
      ]
     },
     "metadata": {},
     "output_type": "display_data"
    },
    {
     "name": "stdout",
     "output_type": "stream",
     "text": [
      "Plotting column: P43\n"
     ]
    },
    {
     "data": {
      "text/html": [
       "<iframe\n",
       "    scrolling=\"no\"\n",
       "    width=\"100%\"\n",
       "    height=\"545px\"\n",
       "    src=\"iframe_figures/figure_15.html\"\n",
       "    frameborder=\"0\"\n",
       "    allowfullscreen\n",
       "></iframe>\n"
      ]
     },
     "metadata": {},
     "output_type": "display_data"
    },
    {
     "name": "stdout",
     "output_type": "stream",
     "text": [
      "Plotting column: P44\n"
     ]
    },
    {
     "data": {
      "text/html": [
       "<iframe\n",
       "    scrolling=\"no\"\n",
       "    width=\"100%\"\n",
       "    height=\"545px\"\n",
       "    src=\"iframe_figures/figure_15.html\"\n",
       "    frameborder=\"0\"\n",
       "    allowfullscreen\n",
       "></iframe>\n"
      ]
     },
     "metadata": {},
     "output_type": "display_data"
    },
    {
     "name": "stdout",
     "output_type": "stream",
     "text": [
      "Plotting column: P45\n"
     ]
    },
    {
     "data": {
      "text/html": [
       "<iframe\n",
       "    scrolling=\"no\"\n",
       "    width=\"100%\"\n",
       "    height=\"545px\"\n",
       "    src=\"iframe_figures/figure_15.html\"\n",
       "    frameborder=\"0\"\n",
       "    allowfullscreen\n",
       "></iframe>\n"
      ]
     },
     "metadata": {},
     "output_type": "display_data"
    },
    {
     "name": "stdout",
     "output_type": "stream",
     "text": [
      "Plotting column: P46\n"
     ]
    },
    {
     "data": {
      "text/html": [
       "<iframe\n",
       "    scrolling=\"no\"\n",
       "    width=\"100%\"\n",
       "    height=\"545px\"\n",
       "    src=\"iframe_figures/figure_15.html\"\n",
       "    frameborder=\"0\"\n",
       "    allowfullscreen\n",
       "></iframe>\n"
      ]
     },
     "metadata": {},
     "output_type": "display_data"
    },
    {
     "name": "stdout",
     "output_type": "stream",
     "text": [
      "Plotting column: P47\n"
     ]
    },
    {
     "data": {
      "text/html": [
       "<iframe\n",
       "    scrolling=\"no\"\n",
       "    width=\"100%\"\n",
       "    height=\"545px\"\n",
       "    src=\"iframe_figures/figure_15.html\"\n",
       "    frameborder=\"0\"\n",
       "    allowfullscreen\n",
       "></iframe>\n"
      ]
     },
     "metadata": {},
     "output_type": "display_data"
    },
    {
     "name": "stdout",
     "output_type": "stream",
     "text": [
      "Plotting column: P48\n"
     ]
    },
    {
     "data": {
      "text/html": [
       "<iframe\n",
       "    scrolling=\"no\"\n",
       "    width=\"100%\"\n",
       "    height=\"545px\"\n",
       "    src=\"iframe_figures/figure_15.html\"\n",
       "    frameborder=\"0\"\n",
       "    allowfullscreen\n",
       "></iframe>\n"
      ]
     },
     "metadata": {},
     "output_type": "display_data"
    },
    {
     "name": "stdout",
     "output_type": "stream",
     "text": [
      "Plotting column: P49\n"
     ]
    },
    {
     "data": {
      "text/html": [
       "<iframe\n",
       "    scrolling=\"no\"\n",
       "    width=\"100%\"\n",
       "    height=\"545px\"\n",
       "    src=\"iframe_figures/figure_15.html\"\n",
       "    frameborder=\"0\"\n",
       "    allowfullscreen\n",
       "></iframe>\n"
      ]
     },
     "metadata": {},
     "output_type": "display_data"
    },
    {
     "name": "stdout",
     "output_type": "stream",
     "text": [
      "Plotting column: P50\n"
     ]
    },
    {
     "data": {
      "text/html": [
       "<iframe\n",
       "    scrolling=\"no\"\n",
       "    width=\"100%\"\n",
       "    height=\"545px\"\n",
       "    src=\"iframe_figures/figure_15.html\"\n",
       "    frameborder=\"0\"\n",
       "    allowfullscreen\n",
       "></iframe>\n"
      ]
     },
     "metadata": {},
     "output_type": "display_data"
    },
    {
     "name": "stdout",
     "output_type": "stream",
     "text": [
      "Plotting column: P51\n"
     ]
    },
    {
     "data": {
      "text/html": [
       "<iframe\n",
       "    scrolling=\"no\"\n",
       "    width=\"100%\"\n",
       "    height=\"545px\"\n",
       "    src=\"iframe_figures/figure_15.html\"\n",
       "    frameborder=\"0\"\n",
       "    allowfullscreen\n",
       "></iframe>\n"
      ]
     },
     "metadata": {},
     "output_type": "display_data"
    },
    {
     "name": "stdout",
     "output_type": "stream",
     "text": [
      "Plotting column: P52\n"
     ]
    },
    {
     "data": {
      "text/html": [
       "<iframe\n",
       "    scrolling=\"no\"\n",
       "    width=\"100%\"\n",
       "    height=\"545px\"\n",
       "    src=\"iframe_figures/figure_15.html\"\n",
       "    frameborder=\"0\"\n",
       "    allowfullscreen\n",
       "></iframe>\n"
      ]
     },
     "metadata": {},
     "output_type": "display_data"
    },
    {
     "name": "stdout",
     "output_type": "stream",
     "text": [
      "Plotting column: P53\n"
     ]
    },
    {
     "data": {
      "text/html": [
       "<iframe\n",
       "    scrolling=\"no\"\n",
       "    width=\"100%\"\n",
       "    height=\"545px\"\n",
       "    src=\"iframe_figures/figure_15.html\"\n",
       "    frameborder=\"0\"\n",
       "    allowfullscreen\n",
       "></iframe>\n"
      ]
     },
     "metadata": {},
     "output_type": "display_data"
    },
    {
     "name": "stdout",
     "output_type": "stream",
     "text": [
      "Plotting column: P54\n"
     ]
    },
    {
     "data": {
      "text/html": [
       "<iframe\n",
       "    scrolling=\"no\"\n",
       "    width=\"100%\"\n",
       "    height=\"545px\"\n",
       "    src=\"iframe_figures/figure_15.html\"\n",
       "    frameborder=\"0\"\n",
       "    allowfullscreen\n",
       "></iframe>\n"
      ]
     },
     "metadata": {},
     "output_type": "display_data"
    },
    {
     "name": "stdout",
     "output_type": "stream",
     "text": [
      "Plotting column: P55\n"
     ]
    },
    {
     "data": {
      "text/html": [
       "<iframe\n",
       "    scrolling=\"no\"\n",
       "    width=\"100%\"\n",
       "    height=\"545px\"\n",
       "    src=\"iframe_figures/figure_15.html\"\n",
       "    frameborder=\"0\"\n",
       "    allowfullscreen\n",
       "></iframe>\n"
      ]
     },
     "metadata": {},
     "output_type": "display_data"
    },
    {
     "name": "stdout",
     "output_type": "stream",
     "text": [
      "Plotting column: P56\n"
     ]
    },
    {
     "data": {
      "text/html": [
       "<iframe\n",
       "    scrolling=\"no\"\n",
       "    width=\"100%\"\n",
       "    height=\"545px\"\n",
       "    src=\"iframe_figures/figure_15.html\"\n",
       "    frameborder=\"0\"\n",
       "    allowfullscreen\n",
       "></iframe>\n"
      ]
     },
     "metadata": {},
     "output_type": "display_data"
    },
    {
     "name": "stdout",
     "output_type": "stream",
     "text": [
      "Plotting column: P57\n"
     ]
    },
    {
     "data": {
      "text/html": [
       "<iframe\n",
       "    scrolling=\"no\"\n",
       "    width=\"100%\"\n",
       "    height=\"545px\"\n",
       "    src=\"iframe_figures/figure_15.html\"\n",
       "    frameborder=\"0\"\n",
       "    allowfullscreen\n",
       "></iframe>\n"
      ]
     },
     "metadata": {},
     "output_type": "display_data"
    },
    {
     "name": "stdout",
     "output_type": "stream",
     "text": [
      "Plotting column: P58\n"
     ]
    },
    {
     "data": {
      "text/html": [
       "<iframe\n",
       "    scrolling=\"no\"\n",
       "    width=\"100%\"\n",
       "    height=\"545px\"\n",
       "    src=\"iframe_figures/figure_15.html\"\n",
       "    frameborder=\"0\"\n",
       "    allowfullscreen\n",
       "></iframe>\n"
      ]
     },
     "metadata": {},
     "output_type": "display_data"
    },
    {
     "name": "stdout",
     "output_type": "stream",
     "text": [
      "Plotting column: P59\n"
     ]
    },
    {
     "data": {
      "text/html": [
       "<iframe\n",
       "    scrolling=\"no\"\n",
       "    width=\"100%\"\n",
       "    height=\"545px\"\n",
       "    src=\"iframe_figures/figure_15.html\"\n",
       "    frameborder=\"0\"\n",
       "    allowfullscreen\n",
       "></iframe>\n"
      ]
     },
     "metadata": {},
     "output_type": "display_data"
    },
    {
     "name": "stdout",
     "output_type": "stream",
     "text": [
      "Plotting column: P60\n"
     ]
    },
    {
     "data": {
      "text/html": [
       "<iframe\n",
       "    scrolling=\"no\"\n",
       "    width=\"100%\"\n",
       "    height=\"545px\"\n",
       "    src=\"iframe_figures/figure_15.html\"\n",
       "    frameborder=\"0\"\n",
       "    allowfullscreen\n",
       "></iframe>\n"
      ]
     },
     "metadata": {},
     "output_type": "display_data"
    },
    {
     "name": "stdout",
     "output_type": "stream",
     "text": [
      "Plotting column: P61\n"
     ]
    },
    {
     "data": {
      "text/html": [
       "<iframe\n",
       "    scrolling=\"no\"\n",
       "    width=\"100%\"\n",
       "    height=\"545px\"\n",
       "    src=\"iframe_figures/figure_15.html\"\n",
       "    frameborder=\"0\"\n",
       "    allowfullscreen\n",
       "></iframe>\n"
      ]
     },
     "metadata": {},
     "output_type": "display_data"
    },
    {
     "name": "stdout",
     "output_type": "stream",
     "text": [
      "Plotting column: P62\n"
     ]
    },
    {
     "data": {
      "text/html": [
       "<iframe\n",
       "    scrolling=\"no\"\n",
       "    width=\"100%\"\n",
       "    height=\"545px\"\n",
       "    src=\"iframe_figures/figure_15.html\"\n",
       "    frameborder=\"0\"\n",
       "    allowfullscreen\n",
       "></iframe>\n"
      ]
     },
     "metadata": {},
     "output_type": "display_data"
    },
    {
     "name": "stdout",
     "output_type": "stream",
     "text": [
      "Plotting column: P63\n"
     ]
    },
    {
     "data": {
      "text/html": [
       "<iframe\n",
       "    scrolling=\"no\"\n",
       "    width=\"100%\"\n",
       "    height=\"545px\"\n",
       "    src=\"iframe_figures/figure_15.html\"\n",
       "    frameborder=\"0\"\n",
       "    allowfullscreen\n",
       "></iframe>\n"
      ]
     },
     "metadata": {},
     "output_type": "display_data"
    },
    {
     "name": "stdout",
     "output_type": "stream",
     "text": [
      "Plotting column: P64\n"
     ]
    },
    {
     "data": {
      "text/html": [
       "<iframe\n",
       "    scrolling=\"no\"\n",
       "    width=\"100%\"\n",
       "    height=\"545px\"\n",
       "    src=\"iframe_figures/figure_15.html\"\n",
       "    frameborder=\"0\"\n",
       "    allowfullscreen\n",
       "></iframe>\n"
      ]
     },
     "metadata": {},
     "output_type": "display_data"
    },
    {
     "name": "stdout",
     "output_type": "stream",
     "text": [
      "Plotting column: P65\n"
     ]
    },
    {
     "data": {
      "text/html": [
       "<iframe\n",
       "    scrolling=\"no\"\n",
       "    width=\"100%\"\n",
       "    height=\"545px\"\n",
       "    src=\"iframe_figures/figure_15.html\"\n",
       "    frameborder=\"0\"\n",
       "    allowfullscreen\n",
       "></iframe>\n"
      ]
     },
     "metadata": {},
     "output_type": "display_data"
    },
    {
     "name": "stdout",
     "output_type": "stream",
     "text": [
      "Plotting column: P66\n"
     ]
    },
    {
     "data": {
      "text/html": [
       "<iframe\n",
       "    scrolling=\"no\"\n",
       "    width=\"100%\"\n",
       "    height=\"545px\"\n",
       "    src=\"iframe_figures/figure_15.html\"\n",
       "    frameborder=\"0\"\n",
       "    allowfullscreen\n",
       "></iframe>\n"
      ]
     },
     "metadata": {},
     "output_type": "display_data"
    },
    {
     "name": "stdout",
     "output_type": "stream",
     "text": [
      "Plotting column: P67\n"
     ]
    },
    {
     "data": {
      "text/html": [
       "<iframe\n",
       "    scrolling=\"no\"\n",
       "    width=\"100%\"\n",
       "    height=\"545px\"\n",
       "    src=\"iframe_figures/figure_15.html\"\n",
       "    frameborder=\"0\"\n",
       "    allowfullscreen\n",
       "></iframe>\n"
      ]
     },
     "metadata": {},
     "output_type": "display_data"
    },
    {
     "name": "stdout",
     "output_type": "stream",
     "text": [
      "Plotting column: P68\n"
     ]
    },
    {
     "data": {
      "text/html": [
       "<iframe\n",
       "    scrolling=\"no\"\n",
       "    width=\"100%\"\n",
       "    height=\"545px\"\n",
       "    src=\"iframe_figures/figure_15.html\"\n",
       "    frameborder=\"0\"\n",
       "    allowfullscreen\n",
       "></iframe>\n"
      ]
     },
     "metadata": {},
     "output_type": "display_data"
    },
    {
     "name": "stdout",
     "output_type": "stream",
     "text": [
      "Plotting column: P69\n"
     ]
    },
    {
     "data": {
      "text/html": [
       "<iframe\n",
       "    scrolling=\"no\"\n",
       "    width=\"100%\"\n",
       "    height=\"545px\"\n",
       "    src=\"iframe_figures/figure_15.html\"\n",
       "    frameborder=\"0\"\n",
       "    allowfullscreen\n",
       "></iframe>\n"
      ]
     },
     "metadata": {},
     "output_type": "display_data"
    },
    {
     "name": "stdout",
     "output_type": "stream",
     "text": [
      "Plotting column: P70\n"
     ]
    },
    {
     "data": {
      "text/html": [
       "<iframe\n",
       "    scrolling=\"no\"\n",
       "    width=\"100%\"\n",
       "    height=\"545px\"\n",
       "    src=\"iframe_figures/figure_15.html\"\n",
       "    frameborder=\"0\"\n",
       "    allowfullscreen\n",
       "></iframe>\n"
      ]
     },
     "metadata": {},
     "output_type": "display_data"
    },
    {
     "name": "stdout",
     "output_type": "stream",
     "text": [
      "Plotting column: P71\n"
     ]
    },
    {
     "data": {
      "text/html": [
       "<iframe\n",
       "    scrolling=\"no\"\n",
       "    width=\"100%\"\n",
       "    height=\"545px\"\n",
       "    src=\"iframe_figures/figure_15.html\"\n",
       "    frameborder=\"0\"\n",
       "    allowfullscreen\n",
       "></iframe>\n"
      ]
     },
     "metadata": {},
     "output_type": "display_data"
    },
    {
     "name": "stdout",
     "output_type": "stream",
     "text": [
      "Plotting column: P72\n"
     ]
    },
    {
     "data": {
      "text/html": [
       "<iframe\n",
       "    scrolling=\"no\"\n",
       "    width=\"100%\"\n",
       "    height=\"545px\"\n",
       "    src=\"iframe_figures/figure_15.html\"\n",
       "    frameborder=\"0\"\n",
       "    allowfullscreen\n",
       "></iframe>\n"
      ]
     },
     "metadata": {},
     "output_type": "display_data"
    },
    {
     "name": "stdout",
     "output_type": "stream",
     "text": [
      "Plotting column: P73\n"
     ]
    },
    {
     "data": {
      "text/html": [
       "<iframe\n",
       "    scrolling=\"no\"\n",
       "    width=\"100%\"\n",
       "    height=\"545px\"\n",
       "    src=\"iframe_figures/figure_15.html\"\n",
       "    frameborder=\"0\"\n",
       "    allowfullscreen\n",
       "></iframe>\n"
      ]
     },
     "metadata": {},
     "output_type": "display_data"
    },
    {
     "name": "stdout",
     "output_type": "stream",
     "text": [
      "Plotting column: P74\n"
     ]
    },
    {
     "data": {
      "text/html": [
       "<iframe\n",
       "    scrolling=\"no\"\n",
       "    width=\"100%\"\n",
       "    height=\"545px\"\n",
       "    src=\"iframe_figures/figure_15.html\"\n",
       "    frameborder=\"0\"\n",
       "    allowfullscreen\n",
       "></iframe>\n"
      ]
     },
     "metadata": {},
     "output_type": "display_data"
    },
    {
     "name": "stdout",
     "output_type": "stream",
     "text": [
      "Plotting column: P75\n"
     ]
    },
    {
     "data": {
      "text/html": [
       "<iframe\n",
       "    scrolling=\"no\"\n",
       "    width=\"100%\"\n",
       "    height=\"545px\"\n",
       "    src=\"iframe_figures/figure_15.html\"\n",
       "    frameborder=\"0\"\n",
       "    allowfullscreen\n",
       "></iframe>\n"
      ]
     },
     "metadata": {},
     "output_type": "display_data"
    },
    {
     "name": "stdout",
     "output_type": "stream",
     "text": [
      "Plotting column: P76\n"
     ]
    },
    {
     "data": {
      "text/html": [
       "<iframe\n",
       "    scrolling=\"no\"\n",
       "    width=\"100%\"\n",
       "    height=\"545px\"\n",
       "    src=\"iframe_figures/figure_15.html\"\n",
       "    frameborder=\"0\"\n",
       "    allowfullscreen\n",
       "></iframe>\n"
      ]
     },
     "metadata": {},
     "output_type": "display_data"
    },
    {
     "name": "stdout",
     "output_type": "stream",
     "text": [
      "Plotting column: P77\n"
     ]
    },
    {
     "data": {
      "text/html": [
       "<iframe\n",
       "    scrolling=\"no\"\n",
       "    width=\"100%\"\n",
       "    height=\"545px\"\n",
       "    src=\"iframe_figures/figure_15.html\"\n",
       "    frameborder=\"0\"\n",
       "    allowfullscreen\n",
       "></iframe>\n"
      ]
     },
     "metadata": {},
     "output_type": "display_data"
    },
    {
     "name": "stdout",
     "output_type": "stream",
     "text": [
      "Plotting column: P78\n"
     ]
    },
    {
     "data": {
      "text/html": [
       "<iframe\n",
       "    scrolling=\"no\"\n",
       "    width=\"100%\"\n",
       "    height=\"545px\"\n",
       "    src=\"iframe_figures/figure_15.html\"\n",
       "    frameborder=\"0\"\n",
       "    allowfullscreen\n",
       "></iframe>\n"
      ]
     },
     "metadata": {},
     "output_type": "display_data"
    },
    {
     "name": "stdout",
     "output_type": "stream",
     "text": [
      "Plotting column: P79\n"
     ]
    },
    {
     "data": {
      "text/html": [
       "<iframe\n",
       "    scrolling=\"no\"\n",
       "    width=\"100%\"\n",
       "    height=\"545px\"\n",
       "    src=\"iframe_figures/figure_15.html\"\n",
       "    frameborder=\"0\"\n",
       "    allowfullscreen\n",
       "></iframe>\n"
      ]
     },
     "metadata": {},
     "output_type": "display_data"
    },
    {
     "name": "stdout",
     "output_type": "stream",
     "text": [
      "Plotting column: P80\n"
     ]
    },
    {
     "data": {
      "text/html": [
       "<iframe\n",
       "    scrolling=\"no\"\n",
       "    width=\"100%\"\n",
       "    height=\"545px\"\n",
       "    src=\"iframe_figures/figure_15.html\"\n",
       "    frameborder=\"0\"\n",
       "    allowfullscreen\n",
       "></iframe>\n"
      ]
     },
     "metadata": {},
     "output_type": "display_data"
    },
    {
     "name": "stdout",
     "output_type": "stream",
     "text": [
      "Plotting column: P81\n"
     ]
    },
    {
     "data": {
      "text/html": [
       "<iframe\n",
       "    scrolling=\"no\"\n",
       "    width=\"100%\"\n",
       "    height=\"545px\"\n",
       "    src=\"iframe_figures/figure_15.html\"\n",
       "    frameborder=\"0\"\n",
       "    allowfullscreen\n",
       "></iframe>\n"
      ]
     },
     "metadata": {},
     "output_type": "display_data"
    },
    {
     "name": "stdout",
     "output_type": "stream",
     "text": [
      "Plotting column: P82\n"
     ]
    },
    {
     "data": {
      "text/html": [
       "<iframe\n",
       "    scrolling=\"no\"\n",
       "    width=\"100%\"\n",
       "    height=\"545px\"\n",
       "    src=\"iframe_figures/figure_15.html\"\n",
       "    frameborder=\"0\"\n",
       "    allowfullscreen\n",
       "></iframe>\n"
      ]
     },
     "metadata": {},
     "output_type": "display_data"
    },
    {
     "name": "stdout",
     "output_type": "stream",
     "text": [
      "Plotting column: P83\n"
     ]
    },
    {
     "data": {
      "text/html": [
       "<iframe\n",
       "    scrolling=\"no\"\n",
       "    width=\"100%\"\n",
       "    height=\"545px\"\n",
       "    src=\"iframe_figures/figure_15.html\"\n",
       "    frameborder=\"0\"\n",
       "    allowfullscreen\n",
       "></iframe>\n"
      ]
     },
     "metadata": {},
     "output_type": "display_data"
    },
    {
     "name": "stdout",
     "output_type": "stream",
     "text": [
      "Plotting column: P84\n"
     ]
    },
    {
     "data": {
      "text/html": [
       "<iframe\n",
       "    scrolling=\"no\"\n",
       "    width=\"100%\"\n",
       "    height=\"545px\"\n",
       "    src=\"iframe_figures/figure_15.html\"\n",
       "    frameborder=\"0\"\n",
       "    allowfullscreen\n",
       "></iframe>\n"
      ]
     },
     "metadata": {},
     "output_type": "display_data"
    },
    {
     "name": "stdout",
     "output_type": "stream",
     "text": [
      "Plotting column: P85\n"
     ]
    },
    {
     "data": {
      "text/html": [
       "<iframe\n",
       "    scrolling=\"no\"\n",
       "    width=\"100%\"\n",
       "    height=\"545px\"\n",
       "    src=\"iframe_figures/figure_15.html\"\n",
       "    frameborder=\"0\"\n",
       "    allowfullscreen\n",
       "></iframe>\n"
      ]
     },
     "metadata": {},
     "output_type": "display_data"
    },
    {
     "name": "stdout",
     "output_type": "stream",
     "text": [
      "Plotting column: P86\n"
     ]
    },
    {
     "data": {
      "text/html": [
       "<iframe\n",
       "    scrolling=\"no\"\n",
       "    width=\"100%\"\n",
       "    height=\"545px\"\n",
       "    src=\"iframe_figures/figure_15.html\"\n",
       "    frameborder=\"0\"\n",
       "    allowfullscreen\n",
       "></iframe>\n"
      ]
     },
     "metadata": {},
     "output_type": "display_data"
    },
    {
     "name": "stdout",
     "output_type": "stream",
     "text": [
      "Plotting column: P87\n"
     ]
    },
    {
     "data": {
      "text/html": [
       "<iframe\n",
       "    scrolling=\"no\"\n",
       "    width=\"100%\"\n",
       "    height=\"545px\"\n",
       "    src=\"iframe_figures/figure_15.html\"\n",
       "    frameborder=\"0\"\n",
       "    allowfullscreen\n",
       "></iframe>\n"
      ]
     },
     "metadata": {},
     "output_type": "display_data"
    },
    {
     "name": "stdout",
     "output_type": "stream",
     "text": [
      "Plotting column: P88\n"
     ]
    },
    {
     "data": {
      "text/html": [
       "<iframe\n",
       "    scrolling=\"no\"\n",
       "    width=\"100%\"\n",
       "    height=\"545px\"\n",
       "    src=\"iframe_figures/figure_15.html\"\n",
       "    frameborder=\"0\"\n",
       "    allowfullscreen\n",
       "></iframe>\n"
      ]
     },
     "metadata": {},
     "output_type": "display_data"
    },
    {
     "name": "stdout",
     "output_type": "stream",
     "text": [
      "Plotting column: P89\n"
     ]
    },
    {
     "data": {
      "text/html": [
       "<iframe\n",
       "    scrolling=\"no\"\n",
       "    width=\"100%\"\n",
       "    height=\"545px\"\n",
       "    src=\"iframe_figures/figure_15.html\"\n",
       "    frameborder=\"0\"\n",
       "    allowfullscreen\n",
       "></iframe>\n"
      ]
     },
     "metadata": {},
     "output_type": "display_data"
    },
    {
     "name": "stdout",
     "output_type": "stream",
     "text": [
      "Plotting column: P90\n"
     ]
    },
    {
     "data": {
      "text/html": [
       "<iframe\n",
       "    scrolling=\"no\"\n",
       "    width=\"100%\"\n",
       "    height=\"545px\"\n",
       "    src=\"iframe_figures/figure_15.html\"\n",
       "    frameborder=\"0\"\n",
       "    allowfullscreen\n",
       "></iframe>\n"
      ]
     },
     "metadata": {},
     "output_type": "display_data"
    },
    {
     "name": "stdout",
     "output_type": "stream",
     "text": [
      "Plotting column: P91\n"
     ]
    },
    {
     "data": {
      "text/html": [
       "<iframe\n",
       "    scrolling=\"no\"\n",
       "    width=\"100%\"\n",
       "    height=\"545px\"\n",
       "    src=\"iframe_figures/figure_15.html\"\n",
       "    frameborder=\"0\"\n",
       "    allowfullscreen\n",
       "></iframe>\n"
      ]
     },
     "metadata": {},
     "output_type": "display_data"
    },
    {
     "name": "stdout",
     "output_type": "stream",
     "text": [
      "Plotting column: P92\n"
     ]
    },
    {
     "data": {
      "text/html": [
       "<iframe\n",
       "    scrolling=\"no\"\n",
       "    width=\"100%\"\n",
       "    height=\"545px\"\n",
       "    src=\"iframe_figures/figure_15.html\"\n",
       "    frameborder=\"0\"\n",
       "    allowfullscreen\n",
       "></iframe>\n"
      ]
     },
     "metadata": {},
     "output_type": "display_data"
    },
    {
     "name": "stdout",
     "output_type": "stream",
     "text": [
      "Plotting column: P93\n"
     ]
    },
    {
     "data": {
      "text/html": [
       "<iframe\n",
       "    scrolling=\"no\"\n",
       "    width=\"100%\"\n",
       "    height=\"545px\"\n",
       "    src=\"iframe_figures/figure_15.html\"\n",
       "    frameborder=\"0\"\n",
       "    allowfullscreen\n",
       "></iframe>\n"
      ]
     },
     "metadata": {},
     "output_type": "display_data"
    },
    {
     "name": "stdout",
     "output_type": "stream",
     "text": [
      "Plotting column: P94\n"
     ]
    },
    {
     "data": {
      "text/html": [
       "<iframe\n",
       "    scrolling=\"no\"\n",
       "    width=\"100%\"\n",
       "    height=\"545px\"\n",
       "    src=\"iframe_figures/figure_15.html\"\n",
       "    frameborder=\"0\"\n",
       "    allowfullscreen\n",
       "></iframe>\n"
      ]
     },
     "metadata": {},
     "output_type": "display_data"
    },
    {
     "name": "stdout",
     "output_type": "stream",
     "text": [
      "Plotting column: P95\n"
     ]
    },
    {
     "data": {
      "text/html": [
       "<iframe\n",
       "    scrolling=\"no\"\n",
       "    width=\"100%\"\n",
       "    height=\"545px\"\n",
       "    src=\"iframe_figures/figure_15.html\"\n",
       "    frameborder=\"0\"\n",
       "    allowfullscreen\n",
       "></iframe>\n"
      ]
     },
     "metadata": {},
     "output_type": "display_data"
    },
    {
     "name": "stdout",
     "output_type": "stream",
     "text": [
      "Plotting column: P96\n"
     ]
    },
    {
     "data": {
      "text/html": [
       "<iframe\n",
       "    scrolling=\"no\"\n",
       "    width=\"100%\"\n",
       "    height=\"545px\"\n",
       "    src=\"iframe_figures/figure_15.html\"\n",
       "    frameborder=\"0\"\n",
       "    allowfullscreen\n",
       "></iframe>\n"
      ]
     },
     "metadata": {},
     "output_type": "display_data"
    },
    {
     "name": "stdout",
     "output_type": "stream",
     "text": [
      "Plotting column: P97\n"
     ]
    },
    {
     "data": {
      "text/html": [
       "<iframe\n",
       "    scrolling=\"no\"\n",
       "    width=\"100%\"\n",
       "    height=\"545px\"\n",
       "    src=\"iframe_figures/figure_15.html\"\n",
       "    frameborder=\"0\"\n",
       "    allowfullscreen\n",
       "></iframe>\n"
      ]
     },
     "metadata": {},
     "output_type": "display_data"
    },
    {
     "name": "stdout",
     "output_type": "stream",
     "text": [
      "Plotting column: P98\n"
     ]
    },
    {
     "data": {
      "text/html": [
       "<iframe\n",
       "    scrolling=\"no\"\n",
       "    width=\"100%\"\n",
       "    height=\"545px\"\n",
       "    src=\"iframe_figures/figure_15.html\"\n",
       "    frameborder=\"0\"\n",
       "    allowfullscreen\n",
       "></iframe>\n"
      ]
     },
     "metadata": {},
     "output_type": "display_data"
    },
    {
     "name": "stdout",
     "output_type": "stream",
     "text": [
      "Plotting column: P99\n"
     ]
    },
    {
     "data": {
      "text/html": [
       "<iframe\n",
       "    scrolling=\"no\"\n",
       "    width=\"100%\"\n",
       "    height=\"545px\"\n",
       "    src=\"iframe_figures/figure_15.html\"\n",
       "    frameborder=\"0\"\n",
       "    allowfullscreen\n",
       "></iframe>\n"
      ]
     },
     "metadata": {},
     "output_type": "display_data"
    },
    {
     "name": "stdout",
     "output_type": "stream",
     "text": [
      "Plotting column: P100\n"
     ]
    },
    {
     "data": {
      "text/html": [
       "<iframe\n",
       "    scrolling=\"no\"\n",
       "    width=\"100%\"\n",
       "    height=\"545px\"\n",
       "    src=\"iframe_figures/figure_15.html\"\n",
       "    frameborder=\"0\"\n",
       "    allowfullscreen\n",
       "></iframe>\n"
      ]
     },
     "metadata": {},
     "output_type": "display_data"
    },
    {
     "name": "stdout",
     "output_type": "stream",
     "text": [
      "Plotting column: P101\n"
     ]
    },
    {
     "data": {
      "text/html": [
       "<iframe\n",
       "    scrolling=\"no\"\n",
       "    width=\"100%\"\n",
       "    height=\"545px\"\n",
       "    src=\"iframe_figures/figure_15.html\"\n",
       "    frameborder=\"0\"\n",
       "    allowfullscreen\n",
       "></iframe>\n"
      ]
     },
     "metadata": {},
     "output_type": "display_data"
    },
    {
     "name": "stdout",
     "output_type": "stream",
     "text": [
      "Plotting column: P102\n"
     ]
    },
    {
     "data": {
      "text/html": [
       "<iframe\n",
       "    scrolling=\"no\"\n",
       "    width=\"100%\"\n",
       "    height=\"545px\"\n",
       "    src=\"iframe_figures/figure_15.html\"\n",
       "    frameborder=\"0\"\n",
       "    allowfullscreen\n",
       "></iframe>\n"
      ]
     },
     "metadata": {},
     "output_type": "display_data"
    },
    {
     "name": "stdout",
     "output_type": "stream",
     "text": [
      "Plotting column: P103\n"
     ]
    },
    {
     "data": {
      "text/html": [
       "<iframe\n",
       "    scrolling=\"no\"\n",
       "    width=\"100%\"\n",
       "    height=\"545px\"\n",
       "    src=\"iframe_figures/figure_15.html\"\n",
       "    frameborder=\"0\"\n",
       "    allowfullscreen\n",
       "></iframe>\n"
      ]
     },
     "metadata": {},
     "output_type": "display_data"
    },
    {
     "name": "stdout",
     "output_type": "stream",
     "text": [
      "Plotting column: P104\n"
     ]
    },
    {
     "data": {
      "text/html": [
       "<iframe\n",
       "    scrolling=\"no\"\n",
       "    width=\"100%\"\n",
       "    height=\"545px\"\n",
       "    src=\"iframe_figures/figure_15.html\"\n",
       "    frameborder=\"0\"\n",
       "    allowfullscreen\n",
       "></iframe>\n"
      ]
     },
     "metadata": {},
     "output_type": "display_data"
    },
    {
     "name": "stdout",
     "output_type": "stream",
     "text": [
      "Plotting column: P105\n"
     ]
    },
    {
     "data": {
      "text/html": [
       "<iframe\n",
       "    scrolling=\"no\"\n",
       "    width=\"100%\"\n",
       "    height=\"545px\"\n",
       "    src=\"iframe_figures/figure_15.html\"\n",
       "    frameborder=\"0\"\n",
       "    allowfullscreen\n",
       "></iframe>\n"
      ]
     },
     "metadata": {},
     "output_type": "display_data"
    },
    {
     "name": "stdout",
     "output_type": "stream",
     "text": [
      "Plotting column: P106\n"
     ]
    },
    {
     "data": {
      "text/html": [
       "<iframe\n",
       "    scrolling=\"no\"\n",
       "    width=\"100%\"\n",
       "    height=\"545px\"\n",
       "    src=\"iframe_figures/figure_15.html\"\n",
       "    frameborder=\"0\"\n",
       "    allowfullscreen\n",
       "></iframe>\n"
      ]
     },
     "metadata": {},
     "output_type": "display_data"
    },
    {
     "name": "stdout",
     "output_type": "stream",
     "text": [
      "Plotting column: P107\n"
     ]
    },
    {
     "data": {
      "text/html": [
       "<iframe\n",
       "    scrolling=\"no\"\n",
       "    width=\"100%\"\n",
       "    height=\"545px\"\n",
       "    src=\"iframe_figures/figure_15.html\"\n",
       "    frameborder=\"0\"\n",
       "    allowfullscreen\n",
       "></iframe>\n"
      ]
     },
     "metadata": {},
     "output_type": "display_data"
    },
    {
     "name": "stdout",
     "output_type": "stream",
     "text": [
      "Plotting column: P108\n"
     ]
    },
    {
     "data": {
      "text/html": [
       "<iframe\n",
       "    scrolling=\"no\"\n",
       "    width=\"100%\"\n",
       "    height=\"545px\"\n",
       "    src=\"iframe_figures/figure_15.html\"\n",
       "    frameborder=\"0\"\n",
       "    allowfullscreen\n",
       "></iframe>\n"
      ]
     },
     "metadata": {},
     "output_type": "display_data"
    },
    {
     "name": "stdout",
     "output_type": "stream",
     "text": [
      "Plotting column: P109\n"
     ]
    },
    {
     "data": {
      "text/html": [
       "<iframe\n",
       "    scrolling=\"no\"\n",
       "    width=\"100%\"\n",
       "    height=\"545px\"\n",
       "    src=\"iframe_figures/figure_15.html\"\n",
       "    frameborder=\"0\"\n",
       "    allowfullscreen\n",
       "></iframe>\n"
      ]
     },
     "metadata": {},
     "output_type": "display_data"
    },
    {
     "name": "stdout",
     "output_type": "stream",
     "text": [
      "Plotting column: P110\n"
     ]
    },
    {
     "data": {
      "text/html": [
       "<iframe\n",
       "    scrolling=\"no\"\n",
       "    width=\"100%\"\n",
       "    height=\"545px\"\n",
       "    src=\"iframe_figures/figure_15.html\"\n",
       "    frameborder=\"0\"\n",
       "    allowfullscreen\n",
       "></iframe>\n"
      ]
     },
     "metadata": {},
     "output_type": "display_data"
    },
    {
     "name": "stdout",
     "output_type": "stream",
     "text": [
      "Plotting column: P111\n"
     ]
    },
    {
     "data": {
      "text/html": [
       "<iframe\n",
       "    scrolling=\"no\"\n",
       "    width=\"100%\"\n",
       "    height=\"545px\"\n",
       "    src=\"iframe_figures/figure_15.html\"\n",
       "    frameborder=\"0\"\n",
       "    allowfullscreen\n",
       "></iframe>\n"
      ]
     },
     "metadata": {},
     "output_type": "display_data"
    },
    {
     "name": "stdout",
     "output_type": "stream",
     "text": [
      "Plotting column: P112\n"
     ]
    },
    {
     "data": {
      "text/html": [
       "<iframe\n",
       "    scrolling=\"no\"\n",
       "    width=\"100%\"\n",
       "    height=\"545px\"\n",
       "    src=\"iframe_figures/figure_15.html\"\n",
       "    frameborder=\"0\"\n",
       "    allowfullscreen\n",
       "></iframe>\n"
      ]
     },
     "metadata": {},
     "output_type": "display_data"
    },
    {
     "name": "stdout",
     "output_type": "stream",
     "text": [
      "Plotting column: P113\n"
     ]
    },
    {
     "data": {
      "text/html": [
       "<iframe\n",
       "    scrolling=\"no\"\n",
       "    width=\"100%\"\n",
       "    height=\"545px\"\n",
       "    src=\"iframe_figures/figure_15.html\"\n",
       "    frameborder=\"0\"\n",
       "    allowfullscreen\n",
       "></iframe>\n"
      ]
     },
     "metadata": {},
     "output_type": "display_data"
    },
    {
     "name": "stdout",
     "output_type": "stream",
     "text": [
      "Plotting column: P114\n"
     ]
    },
    {
     "data": {
      "text/html": [
       "<iframe\n",
       "    scrolling=\"no\"\n",
       "    width=\"100%\"\n",
       "    height=\"545px\"\n",
       "    src=\"iframe_figures/figure_15.html\"\n",
       "    frameborder=\"0\"\n",
       "    allowfullscreen\n",
       "></iframe>\n"
      ]
     },
     "metadata": {},
     "output_type": "display_data"
    },
    {
     "name": "stdout",
     "output_type": "stream",
     "text": [
      "Plotting column: P115\n"
     ]
    },
    {
     "data": {
      "text/html": [
       "<iframe\n",
       "    scrolling=\"no\"\n",
       "    width=\"100%\"\n",
       "    height=\"545px\"\n",
       "    src=\"iframe_figures/figure_15.html\"\n",
       "    frameborder=\"0\"\n",
       "    allowfullscreen\n",
       "></iframe>\n"
      ]
     },
     "metadata": {},
     "output_type": "display_data"
    },
    {
     "name": "stdout",
     "output_type": "stream",
     "text": [
      "Plotting column: P116\n"
     ]
    },
    {
     "data": {
      "text/html": [
       "<iframe\n",
       "    scrolling=\"no\"\n",
       "    width=\"100%\"\n",
       "    height=\"545px\"\n",
       "    src=\"iframe_figures/figure_15.html\"\n",
       "    frameborder=\"0\"\n",
       "    allowfullscreen\n",
       "></iframe>\n"
      ]
     },
     "metadata": {},
     "output_type": "display_data"
    },
    {
     "name": "stdout",
     "output_type": "stream",
     "text": [
      "Plotting column: P117\n"
     ]
    },
    {
     "data": {
      "text/html": [
       "<iframe\n",
       "    scrolling=\"no\"\n",
       "    width=\"100%\"\n",
       "    height=\"545px\"\n",
       "    src=\"iframe_figures/figure_15.html\"\n",
       "    frameborder=\"0\"\n",
       "    allowfullscreen\n",
       "></iframe>\n"
      ]
     },
     "metadata": {},
     "output_type": "display_data"
    },
    {
     "name": "stdout",
     "output_type": "stream",
     "text": [
      "Plotting column: P118\n"
     ]
    },
    {
     "data": {
      "text/html": [
       "<iframe\n",
       "    scrolling=\"no\"\n",
       "    width=\"100%\"\n",
       "    height=\"545px\"\n",
       "    src=\"iframe_figures/figure_15.html\"\n",
       "    frameborder=\"0\"\n",
       "    allowfullscreen\n",
       "></iframe>\n"
      ]
     },
     "metadata": {},
     "output_type": "display_data"
    },
    {
     "name": "stdout",
     "output_type": "stream",
     "text": [
      "Plotting column: P119\n"
     ]
    },
    {
     "data": {
      "text/html": [
       "<iframe\n",
       "    scrolling=\"no\"\n",
       "    width=\"100%\"\n",
       "    height=\"545px\"\n",
       "    src=\"iframe_figures/figure_15.html\"\n",
       "    frameborder=\"0\"\n",
       "    allowfullscreen\n",
       "></iframe>\n"
      ]
     },
     "metadata": {},
     "output_type": "display_data"
    },
    {
     "name": "stdout",
     "output_type": "stream",
     "text": [
      "Plotting column: P120\n"
     ]
    },
    {
     "data": {
      "text/html": [
       "<iframe\n",
       "    scrolling=\"no\"\n",
       "    width=\"100%\"\n",
       "    height=\"545px\"\n",
       "    src=\"iframe_figures/figure_15.html\"\n",
       "    frameborder=\"0\"\n",
       "    allowfullscreen\n",
       "></iframe>\n"
      ]
     },
     "metadata": {},
     "output_type": "display_data"
    },
    {
     "name": "stdout",
     "output_type": "stream",
     "text": [
      "Plotting column: P121\n"
     ]
    },
    {
     "data": {
      "text/html": [
       "<iframe\n",
       "    scrolling=\"no\"\n",
       "    width=\"100%\"\n",
       "    height=\"545px\"\n",
       "    src=\"iframe_figures/figure_15.html\"\n",
       "    frameborder=\"0\"\n",
       "    allowfullscreen\n",
       "></iframe>\n"
      ]
     },
     "metadata": {},
     "output_type": "display_data"
    },
    {
     "name": "stdout",
     "output_type": "stream",
     "text": [
      "Plotting column: P122\n"
     ]
    },
    {
     "data": {
      "text/html": [
       "<iframe\n",
       "    scrolling=\"no\"\n",
       "    width=\"100%\"\n",
       "    height=\"545px\"\n",
       "    src=\"iframe_figures/figure_15.html\"\n",
       "    frameborder=\"0\"\n",
       "    allowfullscreen\n",
       "></iframe>\n"
      ]
     },
     "metadata": {},
     "output_type": "display_data"
    },
    {
     "name": "stdout",
     "output_type": "stream",
     "text": [
      "Plotting column: P123\n"
     ]
    },
    {
     "data": {
      "text/html": [
       "<iframe\n",
       "    scrolling=\"no\"\n",
       "    width=\"100%\"\n",
       "    height=\"545px\"\n",
       "    src=\"iframe_figures/figure_15.html\"\n",
       "    frameborder=\"0\"\n",
       "    allowfullscreen\n",
       "></iframe>\n"
      ]
     },
     "metadata": {},
     "output_type": "display_data"
    },
    {
     "name": "stdout",
     "output_type": "stream",
     "text": [
      "Plotting column: P124\n"
     ]
    },
    {
     "data": {
      "text/html": [
       "<iframe\n",
       "    scrolling=\"no\"\n",
       "    width=\"100%\"\n",
       "    height=\"545px\"\n",
       "    src=\"iframe_figures/figure_15.html\"\n",
       "    frameborder=\"0\"\n",
       "    allowfullscreen\n",
       "></iframe>\n"
      ]
     },
     "metadata": {},
     "output_type": "display_data"
    },
    {
     "name": "stdout",
     "output_type": "stream",
     "text": [
      "Plotting column: P125\n"
     ]
    },
    {
     "data": {
      "text/html": [
       "<iframe\n",
       "    scrolling=\"no\"\n",
       "    width=\"100%\"\n",
       "    height=\"545px\"\n",
       "    src=\"iframe_figures/figure_15.html\"\n",
       "    frameborder=\"0\"\n",
       "    allowfullscreen\n",
       "></iframe>\n"
      ]
     },
     "metadata": {},
     "output_type": "display_data"
    },
    {
     "name": "stdout",
     "output_type": "stream",
     "text": [
      "Plotting column: P126\n"
     ]
    },
    {
     "data": {
      "text/html": [
       "<iframe\n",
       "    scrolling=\"no\"\n",
       "    width=\"100%\"\n",
       "    height=\"545px\"\n",
       "    src=\"iframe_figures/figure_15.html\"\n",
       "    frameborder=\"0\"\n",
       "    allowfullscreen\n",
       "></iframe>\n"
      ]
     },
     "metadata": {},
     "output_type": "display_data"
    },
    {
     "name": "stdout",
     "output_type": "stream",
     "text": [
      "Plotting column: P127\n"
     ]
    },
    {
     "data": {
      "text/html": [
       "<iframe\n",
       "    scrolling=\"no\"\n",
       "    width=\"100%\"\n",
       "    height=\"545px\"\n",
       "    src=\"iframe_figures/figure_15.html\"\n",
       "    frameborder=\"0\"\n",
       "    allowfullscreen\n",
       "></iframe>\n"
      ]
     },
     "metadata": {},
     "output_type": "display_data"
    }
   ],
   "source": [
    "from sdv.evaluation.single_table import get_column_plot\n",
    "import plotly.offline as py\n",
    "\n",
    "py.init_notebook_mode(connected=True)\n",
    "\n",
    "for column in original_df.columns:\n",
    "    try:\n",
    "        fig = get_column_plot(\n",
    "            real_data=original_df,\n",
    "            synthetic_data=synthetic_df,\n",
    "            column_name=column,\n",
    "            metadata=metadata\n",
    "        )\n",
    "        print(f\"Plotting column: {column}\")\n",
    "        py.iplot(fig)\n",
    "    except Exception as e:\n",
    "        print(f\"Could not plot column: {column} — Error: {e}\")\n"
   ]
  },
  {
   "cell_type": "markdown",
   "metadata": {},
   "source": [
    "Test 3"
   ]
  },
  {
   "cell_type": "code",
   "execution_count": 16,
   "metadata": {},
   "outputs": [],
   "source": [
    "from scipy.stats import chisquare\n",
    "import pandas as pd\n",
    "import numpy as np\n"
   ]
  },
  {
   "cell_type": "code",
   "execution_count": 17,
   "metadata": {},
   "outputs": [],
   "source": [
    "from scipy.stats import chisquare\n",
    "\n",
    "def chi_squared_test(real_df, synthetic_df, columns):\n",
    "    results = []\n",
    "    for col in columns:\n",
    "        try:\n",
    "            bins = np.histogram_bin_edges(real_df[col].dropna(), bins='auto')\n",
    "            real_counts, _ = np.histogram(real_df[col].dropna(), bins=bins)\n",
    "            synthetic_counts, _ = np.histogram(synthetic_df[col].dropna(), bins=bins)\n",
    "            \n",
    "            # Chi-squared test (skip bins with zero expected counts)\n",
    "            valid_bins = real_counts > 0\n",
    "            if np.any(valid_bins):\n",
    "                chi2_stat, p_val = chisquare(\n",
    "                    f_obs=synth_counts[valid_bins],\n",
    "                    f_exp=real_counts[valid_bins]\n",
    "                )\n",
    "            else:\n",
    "                chi2_stat, p_val = np.nan, np.nan\n",
    "\n",
    "\n",
    "            results.append({'column': col, 'chi2_stat': chi2_stat, 'p_value': p})\n",
    "        except Exception as e:\n",
    "            results.append({'column': col, 'error': str(e)})\n",
    "    return pd.DataFrame(results)\n"
   ]
  },
  {
   "cell_type": "code",
   "execution_count": 18,
   "metadata": {},
   "outputs": [],
   "source": [
    "import pandas as pd\n",
    "import numpy as np\n",
    "from scipy.stats import chisquare\n",
    "\n",
    "def compare_real_synthetic(real_df, synthetic_df):\n",
    "    columns = real_df.columns\n",
    "    results = []\n",
    "\n",
    "    for col in columns:\n",
    "        try:\n",
    "            # Skip non-numeric columns\n",
    "            if not np.issubdtype(real_df[col].dropna().dtype, np.number):\n",
    "                continue\n",
    "\n",
    "            # Drop NaNs\n",
    "            real_col = real_df[col].dropna()\n",
    "            synth_col = synthetic_df[col].dropna()\n",
    "\n",
    "            # Align lengths if needed (optional)\n",
    "            min_len = min(len(real_col), len(synth_col))\n",
    "            real_col = real_col[:min_len]\n",
    "            synth_col = synth_col[:min_len]\n",
    "\n",
    "            # Bin data\n",
    "            bins = np.histogram_bin_edges(real_col, bins='auto')\n",
    "            real_counts, _ = np.histogram(real_col, bins=bins)\n",
    "            synth_counts, _ = np.histogram(synth_col, bins=bins)\n",
    "\n",
    "            # Chi-squared test\n",
    "            chi2_stat, p_val = chisquare(f_obs=synth_counts, f_exp=real_counts)\n",
    "\n",
    "            # Mean and error\n",
    "            real_mean = real_col.mean()\n",
    "            synth_mean = synth_col.mean()\n",
    "            mean_error = abs(real_mean - synth_mean)\n",
    "\n",
    "            results.append({\n",
    "                'column': col,\n",
    "                'chi2_stat': chi2_stat,\n",
    "                'chi2_p_value': p_val,\n",
    "                'real_mean': real_mean,\n",
    "                'synthetic_mean': synth_mean,\n",
    "                'mean_absolute_error': mean_error\n",
    "            })\n",
    "\n",
    "        except Exception as e:\n",
    "            results.append({\n",
    "                'column': col,\n",
    "                'error': str(e)\n",
    "            })\n",
    "\n",
    "    return pd.DataFrame(results)\n"
   ]
  },
  {
   "cell_type": "code",
   "execution_count": 19,
   "metadata": {},
   "outputs": [
    {
     "name": "stderr",
     "output_type": "stream",
     "text": [
      "/Users/neha/opt/anaconda3/envs/bb_dev/lib/python3.12/site-packages/scipy/stats/_stats_py.py:7334: RuntimeWarning:\n",
      "\n",
      "divide by zero encountered in divide\n",
      "\n",
      "/Users/neha/opt/anaconda3/envs/bb_dev/lib/python3.12/site-packages/scipy/stats/_stats_py.py:7334: RuntimeWarning:\n",
      "\n",
      "invalid value encountered in divide\n",
      "\n"
     ]
    },
    {
     "data": {
      "text/html": [
       "<div>\n",
       "<style scoped>\n",
       "    .dataframe tbody tr th:only-of-type {\n",
       "        vertical-align: middle;\n",
       "    }\n",
       "\n",
       "    .dataframe tbody tr th {\n",
       "        vertical-align: top;\n",
       "    }\n",
       "\n",
       "    .dataframe thead th {\n",
       "        text-align: right;\n",
       "    }\n",
       "</style>\n",
       "<table border=\"1\" class=\"dataframe\">\n",
       "  <thead>\n",
       "    <tr style=\"text-align: right;\">\n",
       "      <th></th>\n",
       "      <th>column</th>\n",
       "      <th>error</th>\n",
       "      <th>chi2_stat</th>\n",
       "      <th>chi2_p_value</th>\n",
       "      <th>real_mean</th>\n",
       "      <th>synthetic_mean</th>\n",
       "      <th>mean_absolute_error</th>\n",
       "    </tr>\n",
       "  </thead>\n",
       "  <tbody>\n",
       "    <tr>\n",
       "      <th>23</th>\n",
       "      <td>pre_carboxyhemoglobin</td>\n",
       "      <td>NaN</td>\n",
       "      <td>0.0</td>\n",
       "      <td>NaN</td>\n",
       "      <td>0.0</td>\n",
       "      <td>-0.002933</td>\n",
       "      <td>0.002933</td>\n",
       "    </tr>\n",
       "    <tr>\n",
       "      <th>10</th>\n",
       "      <td>pre_sodium</td>\n",
       "      <td>NaN</td>\n",
       "      <td>0.0</td>\n",
       "      <td>NaN</td>\n",
       "      <td>0.0</td>\n",
       "      <td>0.001886</td>\n",
       "      <td>0.001886</td>\n",
       "    </tr>\n",
       "    <tr>\n",
       "      <th>51</th>\n",
       "      <td>post_intubated</td>\n",
       "      <td>NaN</td>\n",
       "      <td>0.0</td>\n",
       "      <td>NaN</td>\n",
       "      <td>0.0</td>\n",
       "      <td>-0.001541</td>\n",
       "      <td>0.001541</td>\n",
       "    </tr>\n",
       "    <tr>\n",
       "      <th>24</th>\n",
       "      <td>pre_methemoglobin</td>\n",
       "      <td>NaN</td>\n",
       "      <td>0.0</td>\n",
       "      <td>NaN</td>\n",
       "      <td>0.0</td>\n",
       "      <td>-0.001469</td>\n",
       "      <td>0.001469</td>\n",
       "    </tr>\n",
       "    <tr>\n",
       "      <th>26</th>\n",
       "      <td>pre_intubated</td>\n",
       "      <td>NaN</td>\n",
       "      <td>0.0</td>\n",
       "      <td>NaN</td>\n",
       "      <td>0.0</td>\n",
       "      <td>0.001205</td>\n",
       "      <td>0.001205</td>\n",
       "    </tr>\n",
       "    <tr>\n",
       "      <th>48</th>\n",
       "      <td>post_carboxyhemoglobin</td>\n",
       "      <td>NaN</td>\n",
       "      <td>0.0</td>\n",
       "      <td>NaN</td>\n",
       "      <td>0.0</td>\n",
       "      <td>-0.000913</td>\n",
       "      <td>0.000913</td>\n",
       "    </tr>\n",
       "    <tr>\n",
       "      <th>5</th>\n",
       "      <td>pre_bicarbonate</td>\n",
       "      <td>NaN</td>\n",
       "      <td>0.0</td>\n",
       "      <td>NaN</td>\n",
       "      <td>0.0</td>\n",
       "      <td>-0.000284</td>\n",
       "      <td>0.000284</td>\n",
       "    </tr>\n",
       "    <tr>\n",
       "      <th>30</th>\n",
       "      <td>post_bicarbonate</td>\n",
       "      <td>NaN</td>\n",
       "      <td>0.0</td>\n",
       "      <td>NaN</td>\n",
       "      <td>0.0</td>\n",
       "      <td>-0.000260</td>\n",
       "      <td>0.000260</td>\n",
       "    </tr>\n",
       "    <tr>\n",
       "      <th>49</th>\n",
       "      <td>post_methemoglobin</td>\n",
       "      <td>NaN</td>\n",
       "      <td>0.0</td>\n",
       "      <td>NaN</td>\n",
       "      <td>0.0</td>\n",
       "      <td>-0.000164</td>\n",
       "      <td>0.000164</td>\n",
       "    </tr>\n",
       "  </tbody>\n",
       "</table>\n",
       "</div>"
      ],
      "text/plain": [
       "                    column error  chi2_stat  chi2_p_value  real_mean  \\\n",
       "23   pre_carboxyhemoglobin   NaN        0.0           NaN        0.0   \n",
       "10              pre_sodium   NaN        0.0           NaN        0.0   \n",
       "51          post_intubated   NaN        0.0           NaN        0.0   \n",
       "24       pre_methemoglobin   NaN        0.0           NaN        0.0   \n",
       "26           pre_intubated   NaN        0.0           NaN        0.0   \n",
       "48  post_carboxyhemoglobin   NaN        0.0           NaN        0.0   \n",
       "5          pre_bicarbonate   NaN        0.0           NaN        0.0   \n",
       "30        post_bicarbonate   NaN        0.0           NaN        0.0   \n",
       "49      post_methemoglobin   NaN        0.0           NaN        0.0   \n",
       "\n",
       "    synthetic_mean  mean_absolute_error  \n",
       "23       -0.002933             0.002933  \n",
       "10        0.001886             0.001886  \n",
       "51       -0.001541             0.001541  \n",
       "24       -0.001469             0.001469  \n",
       "26        0.001205             0.001205  \n",
       "48       -0.000913             0.000913  \n",
       "5        -0.000284             0.000284  \n",
       "30       -0.000260             0.000260  \n",
       "49       -0.000164             0.000164  "
      ]
     },
     "execution_count": 19,
     "metadata": {},
     "output_type": "execute_result"
    }
   ],
   "source": [
    "results_df = compare_real_synthetic(original_df, synthetic_df)\n",
    "results_df.sort_values(by='mean_absolute_error', ascending=False, inplace=True)  # Optional\n",
    "\n",
    "clean_results = results_df.dropna(subset=['chi2_stat', 'mean_absolute_error'])\n",
    "\n",
    "\n",
    "clean_results\n"
   ]
  },
  {
   "cell_type": "code",
   "execution_count": null,
   "metadata": {},
   "outputs": [],
   "source": []
  }
 ],
 "metadata": {
  "kernelspec": {
   "display_name": "bb_dev",
   "language": "python",
   "name": "python3"
  },
  "language_info": {
   "codemirror_mode": {
    "name": "ipython",
    "version": 3
   },
   "file_extension": ".py",
   "mimetype": "text/x-python",
   "name": "python",
   "nbconvert_exporter": "python",
   "pygments_lexer": "ipython3",
   "version": "3.12.0"
  },
  "orig_nbformat": 4
 },
 "nbformat": 4,
 "nbformat_minor": 2
}
